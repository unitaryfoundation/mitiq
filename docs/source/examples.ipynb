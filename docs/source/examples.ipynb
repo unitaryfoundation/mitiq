{
 "cells": [
  {
   "cell_type": "markdown",
   "metadata": {},
   "source": [
    "# Examples\n",
    "\n",
    "Here is a list of examples using Mitiq for research.\n",
    "\n",
    "`[Example here](../../examples/qutip_notebook.ipynb)`"
   ]
  },
  {
   "cell_type": "markdown",
   "metadata": {},
   "source": [
    "You can find more tutorials on several types of front-end quantum circuit format and back-end simulators or real quantum processors in the [Users Guide](https://mitiq.readthedocs.io/en/stable/guide/guide-executors.html) (click [here](guide/guide-executors.rst) if you are reading a local html version of the documentation)."
   ]
  },
  {
   "cell_type": "code",
   "execution_count": null,
   "metadata": {},
   "outputs": [],
   "source": []
  }
 ],
 "metadata": {
  "kernelspec": {
   "display_name": "Python 3",
   "language": "python",
   "name": "python3"
  },
  "language_info": {
   "codemirror_mode": {
    "name": "ipython",
    "version": 3
   },
   "file_extension": ".py",
   "mimetype": "text/x-python",
   "name": "python",
   "nbconvert_exporter": "python",
   "pygments_lexer": "ipython3",
   "version": "3.8.5"
  }
 },
 "nbformat": 4,
 "nbformat_minor": 4
}
