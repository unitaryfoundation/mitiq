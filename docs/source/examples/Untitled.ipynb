{
 "cells": [
  {
   "cell_type": "markdown",
   "id": "b9181431",
   "metadata": {},
   "source": [
    "# How to apply probabilistic error cancellation with Mitiq"
   ]
  },
  {
   "cell_type": "code",
   "execution_count": 18,
   "id": "7afc0cbb",
   "metadata": {},
   "outputs": [
    {
     "ename": "TypeError",
     "evalue": "execute_with_pec() missing 1 required keyword-only argument: 'representations'",
     "output_type": "error",
     "traceback": [
      "\u001b[0;31m---------------------------------------------------------------------------\u001b[0m",
      "\u001b[0;31mTypeError\u001b[0m                                 Traceback (most recent call last)",
      "\u001b[0;32m<ipython-input-18-53471d6ccaf1>\u001b[0m in \u001b[0;36m<module>\u001b[0;34m\u001b[0m\n\u001b[1;32m     13\u001b[0m \u001b[0mtrue_value\u001b[0m \u001b[0;34m=\u001b[0m \u001b[0mexecute\u001b[0m\u001b[0;34m(\u001b[0m\u001b[0mcircuit\u001b[0m\u001b[0;34m,\u001b[0m \u001b[0mnoise_level\u001b[0m\u001b[0;34m=\u001b[0m\u001b[0;36m0.0\u001b[0m\u001b[0;34m)\u001b[0m       \u001b[0;31m# Ideal quantum computer.\u001b[0m\u001b[0;34m\u001b[0m\u001b[0;34m\u001b[0m\u001b[0m\n\u001b[1;32m     14\u001b[0m \u001b[0mnoisy_value\u001b[0m \u001b[0;34m=\u001b[0m \u001b[0mexecute\u001b[0m\u001b[0;34m(\u001b[0m\u001b[0mcircuit\u001b[0m\u001b[0;34m)\u001b[0m                       \u001b[0;31m# Noisy quantum computer.\u001b[0m\u001b[0;34m\u001b[0m\u001b[0;34m\u001b[0m\u001b[0m\n\u001b[0;32m---> 15\u001b[0;31m \u001b[0mpec_value\u001b[0m \u001b[0;34m=\u001b[0m \u001b[0mpec\u001b[0m\u001b[0;34m.\u001b[0m\u001b[0mexecute_with_pec\u001b[0m\u001b[0;34m(\u001b[0m\u001b[0mcircuit\u001b[0m\u001b[0;34m,\u001b[0m \u001b[0mexecute\u001b[0m\u001b[0;34m)\u001b[0m   \u001b[0;31m# Noisy quantum computer + Mitiq.\u001b[0m\u001b[0;34m\u001b[0m\u001b[0;34m\u001b[0m\u001b[0m\n\u001b[0m\u001b[1;32m     16\u001b[0m \u001b[0;34m\u001b[0m\u001b[0m\n\u001b[1;32m     17\u001b[0m \u001b[0mprint\u001b[0m\u001b[0;34m(\u001b[0m\u001b[0;34mf\"Error (w/o  Mitiq): %0.4f\"\u001b[0m \u001b[0;34m%\u001b[0m\u001b[0mabs\u001b[0m\u001b[0;34m(\u001b[0m\u001b[0;34m(\u001b[0m\u001b[0mtrue_value\u001b[0m \u001b[0;34m-\u001b[0m \u001b[0mnoisy_value\u001b[0m\u001b[0;34m)\u001b[0m \u001b[0;34m/\u001b[0m \u001b[0mtrue_value\u001b[0m\u001b[0;34m)\u001b[0m\u001b[0;34m)\u001b[0m\u001b[0;34m\u001b[0m\u001b[0;34m\u001b[0m\u001b[0m\n",
      "\u001b[0;31mTypeError\u001b[0m: execute_with_pec() missing 1 required keyword-only argument: 'representations'"
     ]
    }
   ],
   "source": [
    "import cirq\n",
    "from mitiq import zne, benchmarks, pec\n",
    "\n",
    "\n",
    "def execute(circuit: cirq.Circuit, noise_level: float = 0.01) -> float:\n",
    "    \"\"\"Returns Tr[ρ |0⟩⟨0|] where ρ is the state prepared by the circuit with depolarizing noise.\"\"\"\n",
    "    noisy_circuit = circuit.with_noise(cirq.depolarize(p=noise_level))\n",
    "    return cirq.DensityMatrixSimulator().simulate(noisy_circuit).final_density_matrix[0, 0].real\n",
    "\n",
    "\n",
    "circuit: cirq.Circuit = benchmarks.generate_rb_circuits(n_qubits=1, num_cliffords=50)[0]\n",
    "\n",
    "true_value = execute(circuit, noise_level=0.0)       # Ideal quantum computer.\n",
    "noisy_value = execute(circuit)                       # Noisy quantum computer.\n",
    "pec_value = pec.execute_with_pec(circuit, execute)   # Noisy quantum computer + Mitiq.\n",
    "\n",
    "print(f\"Error (w/o  Mitiq): %0.4f\" %abs((true_value - noisy_value) / true_value))\n",
    "print(f\"Error (with Mitiq): %0.4f\" %abs((true_value - pec_value) / true_value))"
   ]
  },
  {
   "cell_type": "code",
   "execution_count": 19,
   "id": "18d4897e",
   "metadata": {},
   "outputs": [],
   "source": [
    "from mitiq.pec import OperationRepresentation"
   ]
  },
  {
   "cell_type": "code",
   "execution_count": 30,
   "id": "1ced5736",
   "metadata": {},
   "outputs": [],
   "source": [
    "from mitiq.pec.representations.depolarizing import represent_operation_with_local_depolarizing_noise"
   ]
  },
  {
   "cell_type": "code",
   "execution_count": 21,
   "id": "715d872c",
   "metadata": {},
   "outputs": [],
   "source": [
    "reps = represent_operations_in_circuit_with_local_depolarizing_noise(circuit, noise_level=0.01)"
   ]
  },
  {
   "cell_type": "code",
   "execution_count": 22,
   "id": "2b2ce976",
   "metadata": {},
   "outputs": [
    {
     "name": "stdout",
     "output_type": "stream",
     "text": [
      "0: ───Y^0.5─── = 1.010*(0: ───Y^0.5───)-0.003*(0: ───Y^0.5───X───)-0.003*(0: ───Y^0.5───Y───)-0.003*(0: ───Y^0.5───Z───)\n"
     ]
    }
   ],
   "source": [
    "print(reps[0])"
   ]
  },
  {
   "cell_type": "code",
   "execution_count": 23,
   "id": "96cc5f89",
   "metadata": {},
   "outputs": [
    {
     "data": {
      "text/plain": [
       "1.010*0: ───Y^0.5───-0.003*0: ───Y^0.5───X───-0.003*0: ───Y^0.5───Y───-0.003*0: ───Y^0.5───Z───"
      ]
     },
     "execution_count": 23,
     "metadata": {},
     "output_type": "execute_result"
    }
   ],
   "source": [
    "reps[0].basis_expansion"
   ]
  },
  {
   "cell_type": "code",
   "execution_count": 36,
   "id": "1346e033",
   "metadata": {},
   "outputs": [],
   "source": [
    "reps = [represent_operation_with_local_depolarizing_noise(cirq.Circuit(op), noise_level=0.001) for op in set(circuit.all_operations())]"
   ]
  },
  {
   "cell_type": "code",
   "execution_count": 39,
   "id": "18235f46",
   "metadata": {},
   "outputs": [
    {
     "data": {
      "text/plain": [
       "mitiq.pec.types.types.OperationRepresentation"
      ]
     },
     "execution_count": 39,
     "metadata": {},
     "output_type": "execute_result"
    }
   ],
   "source": [
    "type(reps[0])"
   ]
  },
  {
   "cell_type": "code",
   "execution_count": null,
   "id": "51159ab5",
   "metadata": {},
   "outputs": [],
   "source": [
    "pec_"
   ]
  }
 ],
 "metadata": {
  "kernelspec": {
   "display_name": "Python 3",
   "language": "python",
   "name": "python3"
  },
  "language_info": {
   "codemirror_mode": {
    "name": "ipython",
    "version": 3
   },
   "file_extension": ".py",
   "mimetype": "text/x-python",
   "name": "python",
   "nbconvert_exporter": "python",
   "pygments_lexer": "ipython3",
   "version": "3.7.7"
  }
 },
 "nbformat": 4,
 "nbformat_minor": 5
}
