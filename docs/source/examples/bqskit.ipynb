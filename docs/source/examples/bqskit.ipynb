{
 "cells": [
  {
   "cell_type": "markdown",
   "id": "bb8bce88",
   "metadata": {},
   "source": [
    "# Improving the accuracy of BQSKit compiled circuits with error mitigation\n",
    "\n",
    "In this tutorial we describe how to use error mitigation capabilities from [Mitiq](https://mitiq.readthedocs.io/en/stable/) together with the compilation capabilities of [BQSKit](https://bqskit.lbl.gov/), a compiler for quantum circuits. BQSKit stands for Berkeley Quantum Synthesis Toolkit and it allows one \"to compile quantum programs to efficient physical circuits for any QPU\".\n",
    "\n",
    "To get started, ensure you have the requisite python packages by running the following install commands.\n",
    "- `pip install mitiq`\n",
    "- `pip install bqskit==0.3.0` (here we use an older version of `bqskit` to satisfy version requirements between the two packages)\n",
    "\n",
    "The main goal of this tutorial is to understand how to use `bqskit` together with `mitiq`.\n",
    "To do this, we will\n",
    "1. generate a random circuit,\n",
    "2. compile it with `bqskit`,\n",
    "3. use error mitigation on the compiled circuit, and\n",
    "4. compare the results obtained with and without error mitigation.\n",
    "\n",
    "After demonstrating the use of the two packages, we can then try and understand how circuit compilation with BQSKit in general interacts with error mitigation by running the process many times and comparing results.\n",
    "\n",
    "---\n",
    "\n",
    "To begin we import many of the required modules and functions."
   ]
  },
  {
   "cell_type": "code",
   "execution_count": 1,
   "id": "f510eb13",
   "metadata": {},
   "outputs": [],
   "source": [
    "import bqskit\n",
    "import mitiq\n",
    "\n",
    "import cirq\n",
    "import numpy as np\n",
    "from cirq.contrib.qasm_import import circuit_from_qasm"
   ]
  },
  {
   "cell_type": "markdown",
   "id": "71267965",
   "metadata": {},
   "source": [
    "## Random circuit generation\n",
    "\n",
    "We use `cirq`'s [`random_circuit`](https://quantumai.google/reference/python/cirq/testing/random_circuit) function to generare a random circuit with specified qubit number, depth and density (which refers to the probability of an operation occuring at a given moment).\n",
    "Here we also use a random seed for reproducibility."
   ]
  },
  {
   "cell_type": "code",
   "execution_count": 2,
   "id": "51330ce3",
   "metadata": {},
   "outputs": [],
   "source": [
    "num_qubits = 3\n",
    "depth = 10\n",
    "density = 1\n",
    "RANDOM_SEED = 479\n",
    "\n",
    "random_circuit = cirq.testing.random_circuit(\n",
    "    num_qubits, depth, density, random_state=RANDOM_SEED\n",
    ")"
   ]
  },
  {
   "cell_type": "code",
   "execution_count": 3,
   "id": "412f016e",
   "metadata": {},
   "outputs": [
    {
     "name": "stdout",
     "output_type": "stream",
     "text": [
      "                                          ┌──┐\n",
      "0: ───X───Z───Y───X───────────────iSwap─────@────H───Y───\n",
      "                  │               │         │\n",
      "1: ───S───X───────@───Y───iSwap───┼────────S┼────X───X───\n",
      "          │               │       │         │\n",
      "2: ───────@───S───Y───Y───iSwap───iSwap─────@────────────\n",
      "                                          └──┘\n"
     ]
    }
   ],
   "source": [
    "print(random_circuit)"
   ]
  },
  {
   "cell_type": "markdown",
   "id": "5b6979a5",
   "metadata": {},
   "source": [
    "Since `bqskit` uses a custom intermediate representation for circuits, we must write the circuit out to QASM for consumption by `bqskit`.\n",
    "Here we must remove the comment `// Generated from Cirq v1.0.0` at the beginning of the file to ensure `bqskit` can properly consume the operations described therein."
   ]
  },
  {
   "cell_type": "code",
   "execution_count": 4,
   "id": "9d902527",
   "metadata": {},
   "outputs": [],
   "source": [
    "qasm_code = cirq.qasm(random_circuit)\n",
    "with open(\"tmp.qasm\", \"w\") as f:\n",
    "    f.write(qasm_code[31:])  # remove google prefix"
   ]
  },
  {
   "cell_type": "markdown",
   "id": "527377ae",
   "metadata": {},
   "source": [
    "We now have a file `tmp.qasm` that contains a random circuit, ready for compilation.\n",
    "\n",
    "## Compilation\n",
    "\n",
    "The random circuit can then be read in by `bqskit`'s [`from_file`](https://bqskit.readthedocs.io/en/latest/source/autogen/bqskit.ir.Circuit.from_file.html) function in preparation for compilation.\n",
    "The workflow is then to create a [`CompilationTask`](https://bqskit.readthedocs.io/en/latest/source/autogen/bqskit.compiler.CompilationTask.html) object which completely specifies the mathematical problem of the circuit compilation problem.\n",
    "By default `bqskit` attempts to reduce the circuit depth as its primary optimization, and compiles the circuit into the following gateset: $\\{\\mathsf{U3}, \\mathsf{CNOT}, \\sqrt{X}, R_Z\\}$."
   ]
  },
  {
   "cell_type": "code",
   "execution_count": 5,
   "id": "5ff8f505",
   "metadata": {},
   "outputs": [],
   "source": [
    "bqs_circuit = bqskit.ir.Circuit.from_file(\"tmp.qasm\")\n",
    "task = bqskit.compiler.CompilationTask.optimize(bqs_circuit)\n",
    "\n",
    "with bqskit.compiler.Compiler() as compiler:\n",
    "    compiled_bqs_circuit = compiler.compile(task)"
   ]
  },
  {
   "cell_type": "markdown",
   "id": "3b1615c6",
   "metadata": {},
   "source": [
    "For further processing, we convert the compiled circuit back into a `cirq.Circuit` object.\n",
    "This can be done easily by writing the circuit to QASM, which `cirq` can then read in."
   ]
  },
  {
   "cell_type": "code",
   "execution_count": 6,
   "id": "7691c697",
   "metadata": {},
   "outputs": [],
   "source": [
    "compiled_bqs_circuit.save(\"out.qasm\")\n",
    "\n",
    "with open(\"out.qasm\") as f:\n",
    "    qasm_out = f.read()\n",
    "\n",
    "compiled_circuit = circuit_from_qasm(qasm_out)"
   ]
  },
  {
   "cell_type": "markdown",
   "id": "fdb85f8a",
   "metadata": {},
   "source": [
    "At this point we have two `cirq` circuits: `random_circuit` and `compiled_circuit`.\n",
    "Both represent the same (or very close to the same) unitary operation, but with different gatesets.\n",
    "\n",
    "## Error Mitigation\n",
    "\n",
    "Now that we have a compiled circuit, we are ready to use `mitiq`'s error mitigation capabilities.\n",
    "In this tutorial we will use one of the simplest, and easiest to use methods: [Zero Noise Extrapolation](https://mitiq.readthedocs.io/en/stable/guide/zne-1-intro.html) (ZNE), but there are multiple other techniques described in our [user guide](https://mitiq.readthedocs.io/en/stable/guide/guide.html) which could be used as well.\n",
    "In this tutorial we assume a simple error model of depolarizing noise on two-qubit gates.\n",
    "\n",
    "To use this method, we need to define a function (in `mitiq` this is often referred to as an executor) which takes as input a circuit, and returns some sort of expectation value, or probability.\n",
    "Here we will define a function `execute` which adds a tunable noise parameter, which controls the strength of the simulated noise.\n",
    "Then, a density matrix simulation is run, and we measure the probability of observing the system in the ground state(s)."
   ]
  },
  {
   "cell_type": "code",
   "execution_count": 7,
   "id": "a3917dc2",
   "metadata": {},
   "outputs": [],
   "source": [
    "def execute(circuit, noise_level=0.05):\n",
    "    noisy_circuit = cirq.Circuit()\n",
    "    for op in circuit.all_operations():\n",
    "        noisy_circuit.append(op)\n",
    "        if len(op.qubits) == 2:\n",
    "            noisy_circuit.append(\n",
    "                cirq.depolarize(p=noise_level, n_qubits=2)(*op.qubits)\n",
    "            )\n",
    "\n",
    "    rho = (\n",
    "        cirq.DensityMatrixSimulator()\n",
    "        .simulate(noisy_circuit)\n",
    "        .final_density_matrix\n",
    "    )\n",
    "    return rho[0, 0].real"
   ]
  },
  {
   "cell_type": "markdown",
   "id": "bfea61f7",
   "metadata": {},
   "source": [
    "Since we'd like to see how compilation effects error mitigation, we first simulate the ideal and noisy values using the simulator defined above."
   ]
  },
  {
   "cell_type": "code",
   "execution_count": 8,
   "id": "0a9e794c",
   "metadata": {},
   "outputs": [],
   "source": [
    "uncompiled_ideal_value = execute(random_circuit, noise_level=0.0)\n",
    "uncompiled_noisy_value = execute(random_circuit)\n",
    "\n",
    "compiled_ideal_value = execute(compiled_circuit, noise_level=0.0)\n",
    "compiled_noisy_value = execute(compiled_circuit)"
   ]
  },
  {
   "cell_type": "markdown",
   "id": "f87bc7a0",
   "metadata": {},
   "source": [
    "With these values taken, we are now ready to use ZNE --- on both the random, and compiled circuit --- to obtain mitigated expectation values."
   ]
  },
  {
   "cell_type": "code",
   "execution_count": 9,
   "id": "3d8f5cb9",
   "metadata": {},
   "outputs": [],
   "source": [
    "from mitiq import zne\n",
    "\n",
    "uncompiled_mitigated_result = zne.execute_with_zne(random_circuit, execute)\n",
    "compiled_mitigated_result = zne.execute_with_zne(compiled_circuit, execute)"
   ]
  },
  {
   "cell_type": "markdown",
   "id": "65242ae6",
   "metadata": {},
   "source": [
    "Thus we have four variables which we can compare against ideal values to see how performance varies for this circuit across compilation and mitigation.\n",
    "\n",
    "|                                | compiled | mitigated |\n",
    "| ------------------------------ | -------- | --------- |\n",
    "| `uncompiled_noisy_value`       | ❌       | ❌         |\n",
    "| `uncompiled_mitigated_result`  | ❌       | ✅         |\n",
    "| `compiled_noisy_value`         | ✅       | ❌         |\n",
    "| `compiled_mitigated_result`    | ✅       | ✅         |\n",
    "\n",
    "\n",
    "## Comparison\n",
    "\n",
    "These data are then summarized in the following table printed below."
   ]
  },
  {
   "cell_type": "code",
   "execution_count": 10,
   "id": "ef1a7b08",
   "metadata": {},
   "outputs": [
    {
     "name": "stdout",
     "output_type": "stream",
     "text": [
      "            uncompiled      compiled  \n",
      "ideal        0.50            0.50      \n",
      "noisy        0.43            0.42      \n",
      "mitigated    0.33            0.53      \n",
      "error        0.17            0.03      \n",
      "depth        10              13        \n"
     ]
    }
   ],
   "source": [
    "header = \"{:<11} {:<15} {:<10}\"\n",
    "entry = \"{:<11}  {:<15.2f} {:<10.2f}\"\n",
    "int_entry = \"{:<11}  {:<15} {:<10}\"\n",
    "print(header.format(\"\", \"uncompiled\", \"compiled\"))\n",
    "print(entry.format(\"ideal\", uncompiled_ideal_value, compiled_ideal_value))\n",
    "print(entry.format(\"noisy\", uncompiled_noisy_value, compiled_noisy_value))\n",
    "print(\n",
    "    entry.format(\n",
    "        \"mitigated\", uncompiled_mitigated_result, compiled_mitigated_result\n",
    "    )\n",
    ")\n",
    "print(\n",
    "    entry.format(\n",
    "        \"error\",\n",
    "        abs(uncompiled_ideal_value - uncompiled_mitigated_result),\n",
    "        abs(compiled_ideal_value - compiled_mitigated_result),\n",
    "    )\n",
    ")\n",
    "print(\n",
    "    int_entry.format(\n",
    "        \"depth\",\n",
    "        len(random_circuit),\n",
    "        len(compiled_circuit),\n",
    "    )\n",
    ")"
   ]
  },
  {
   "cell_type": "markdown",
   "id": "619c30fb",
   "metadata": {},
   "source": [
    "Hence for this particular random circuit we see that using both compilation _and_ error mitigation combine for the most accurate result.\n",
    "Note that despite using BQSKit to compile the circuit, the depth has actually increased. \n",
    "This can occasionally happen when the random circuit contains gates that are harder to compile into BQSKit's default gateset.\n",
    "\n",
    "## More random circuits\n",
    "\n",
    "We can now repeat the above procedure with many random circuits to get a better understanding of how these two technologies interact in a more general setting.\n",
    "To do this we execute the above code many times, each iteration using a new random circuit on 4 qubits with depth 40.\n",
    "Because compiling many large circuits is computationally expensive, we leave the code our from this notebook, but it can be accessed in our [research repository](https://github.com/unitaryfund/research/blob/main/ieee-quantum-week/compilation-with-error-mitigation-tutorial/bqskit.ipynb).\n",
    "\n",
    "Once the errors are computed for each circuit we can collect the results in a histogram to get an idea of how compilation and mitigation affects accuracy more generally."
   ]
  },
  {
   "cell_type": "markdown",
   "id": "d36d0b00",
   "metadata": {},
   "source": [
    "<img src=\"../img/bqskit.png\" alt=\"Histograms of circuit accuracy with and without compilation, and error mitigation.\" width=\"600\"/>"
   ]
  },
  {
   "cell_type": "markdown",
   "id": "39111fd8",
   "metadata": {},
   "source": [
    "These results show that using error mitigation improves the accuracy of both uncompiled, and compiled circuits.\n",
    "The [tutorial](https://github.com/unitaryfund/research/blob/main/ieee-quantum-week/compilation-with-error-mitigation-tutorial/bqskit.ipynb) in the research repository shows further that error mitigation both reduces the mean, and standard deviation of these distributions.\n",
    "\n",
    "In this tutorial we've seen how one can use error mitigation in conjunction with circuit compilation.\n",
    "For more information check out the [`bqskit`](https://bqskit.readthedocs.io/en/latest/) and [`mitiq`](https://mitiq.readthedocs.io/en/stable/) documentation."
   ]
  },
  {
   "cell_type": "markdown",
   "id": "5a45ee8a",
   "metadata": {},
   "source": [
    "### References\n",
    "\n",
    "BQSKit documentation: <https://bqskit.readthedocs.io/>\n",
    "\n",
    "BQSKit whitepaper: <https://dl.acm.org/doi/abs/10.1145/3503222.3507739/>\n",
    "\n",
    "Mitiq documentation: <https://mitiq.readthedocs.io/>\n",
    "\n",
    "Mitiq whitepaper: <https://quantum-journal.org/papers/q-2022-08-11-774/>"
   ]
  }
 ],
 "metadata": {
  "kernelspec": {
   "display_name": "Python 3 (ipykernel)",
   "language": "python",
   "name": "python3"
  },
  "language_info": {
   "codemirror_mode": {
    "name": "ipython",
    "version": 3
   },
   "file_extension": ".py",
   "mimetype": "text/x-python",
   "name": "python",
   "nbconvert_exporter": "python",
   "pygments_lexer": "ipython3",
   "version": "3.9.14"
  },
  "vscode": {
   "interpreter": {
    "hash": "10314ace593be35d5ba82a06a1780efe8943eb4328dd55d71bf34bd52a8eb1c1"
   }
  }
 },
 "nbformat": 4,
 "nbformat_minor": 5
}
