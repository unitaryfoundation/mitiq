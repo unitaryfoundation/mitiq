{
 "cells": [
  {
   "cell_type": "markdown",
   "id": "0d974763",
   "metadata": {},
   "source": [
    "# Breaking into error mitigation with Mitiq's calibration module\n",
    "\n",
    "<img src=\"../_thumbnails/calibration.png\" width=\"400\">\n",
    "\n",
    "This tutorial helps answer the question: \"What quantum error\n",
    "mitigation technique should I use for my problem?\". The newly introduced\n",
    "`mitiq.calibration` module helps answer that in an optimized way, thrhough `Benchmarks` and `Strategies`.\n",
    "\n",
    "More specifically, this tutorial covers:\n",
    "\n",
    "- Getting started with Mitiq's calibration module with ZNE\n",
    "- Use Qiskit noisy simulator with `FakeJakarta` as backend\n",
    "- Run calibration with some special settings, `RBSettings`, using the `cal.run(log=True)` option\n",
    "\n",
    "## Getting started with Mitiq"
   ]
  },
  {
   "cell_type": "code",
   "execution_count": 1,
   "id": "33a5d304",
   "metadata": {},
   "outputs": [],
   "source": [
    "from mitiq.benchmarks import generate_rb_circuits, generate_ghz_circuit\n",
    "from mitiq.zne import execute_with_zne\n",
    "from mitiq import (\n",
    "    Calibrator,\n",
    "    Settings,\n",
    "    execute_with_mitigation,\n",
    "    MeasurementResult,\n",
    ")\n",
    "\n",
    "from qiskit.providers.fake_provider import FakeJakarta  # Fake (simulated) QPU"
   ]
  },
  {
   "cell_type": "markdown",
   "id": "ffd90856",
   "metadata": {},
   "source": [
    "### Define the circuit to study\n",
    "\n",
    "#### Global variables\n",
    "\n",
    "Define global variables for the quantum circuit of interest: number of qubits, depth of the quantum circuit and number of shots."
   ]
  },
  {
   "cell_type": "code",
   "execution_count": 2,
   "id": "a5bfbb7c",
   "metadata": {},
   "outputs": [],
   "source": [
    "n_qubits = 20\n",
    "depth_circuit = 100\n",
    "shots = 10 ** 4"
   ]
  },
  {
   "cell_type": "markdown",
   "id": "a33f6329",
   "metadata": {},
   "source": [
    "#### Quantum circuit: Randomized benchmarking (RB)\n",
    "\n",
    "We now use Mitiq's built-in `generate_rb_circuits` from the `mitiq.benchmarks` module to define the quantum circuit."
   ]
  },
  {
   "cell_type": "code",
   "execution_count": 3,
   "id": "9c92a6dd",
   "metadata": {},
   "outputs": [
    {
     "name": "stdout",
     "output_type": "stream",
     "text": [
      "41\n",
      "         ┌───┐                                                                 »\n",
      "    q_0: ┤ H ├──■──────────────────────────────────────────────────────────────»\n",
      "         └───┘┌─┴─┐                                                            »\n",
      "    q_1: ─────┤ X ├──■─────────────────────────────────────────────────────────»\n",
      "              └───┘┌─┴─┐                                                       »\n",
      "    q_2: ──────────┤ X ├──■────────────────────────────────────────────────────»\n",
      "                   └───┘┌─┴─┐                                                  »\n",
      "    q_3: ───────────────┤ X ├──■───────────────────────────────────────────────»\n",
      "                        └───┘┌─┴─┐                                             »\n",
      "    q_4: ────────────────────┤ X ├──■──────────────────────────────────────────»\n",
      "                             └───┘┌─┴─┐                                        »\n",
      "    q_5: ─────────────────────────┤ X ├──■─────────────────────────────────────»\n",
      "                                  └───┘┌─┴─┐                                   »\n",
      "    q_6: ──────────────────────────────┤ X ├──■────────────────────────────────»\n",
      "                                       └───┘┌─┴─┐                              »\n",
      "    q_7: ───────────────────────────────────┤ X ├──■───────────────────────────»\n",
      "                                            └───┘┌─┴─┐                         »\n",
      "    q_8: ────────────────────────────────────────┤ X ├──■──────────────────────»\n",
      "                                                 └───┘┌─┴─┐                    »\n",
      "    q_9: ─────────────────────────────────────────────┤ X ├──■─────────────────»\n",
      "                                                      └───┘┌─┴─┐               »\n",
      "   q_10: ──────────────────────────────────────────────────┤ X ├──■────────────»\n",
      "                                                           └───┘┌─┴─┐          »\n",
      "   q_11: ───────────────────────────────────────────────────────┤ X ├──■───────»\n",
      "                                                                └───┘┌─┴─┐     »\n",
      "   q_12: ────────────────────────────────────────────────────────────┤ X ├──■──»\n",
      "                                                                     └───┘┌─┴─┐»\n",
      "   q_13: ─────────────────────────────────────────────────────────────────┤ X ├»\n",
      "                                                                          └───┘»\n",
      "   q_14: ──────────────────────────────────────────────────────────────────────»\n",
      "                                                                               »\n",
      "   q_15: ──────────────────────────────────────────────────────────────────────»\n",
      "                                                                               »\n",
      "   q_16: ──────────────────────────────────────────────────────────────────────»\n",
      "                                                                               »\n",
      "   q_17: ──────────────────────────────────────────────────────────────────────»\n",
      "                                                                               »\n",
      "   q_18: ──────────────────────────────────────────────────────────────────────»\n",
      "                                                                               »\n",
      "   q_19: ──────────────────────────────────────────────────────────────────────»\n",
      "                                                                               »\n",
      "meas: 20/══════════════════════════════════════════════════════════════════════»\n",
      "                                                                               »\n",
      "«                                        ░ ┌─┐                                 »\n",
      "«    q_0: ───────────────────────────────░─┤M├─────────────────────────────────»\n",
      "«                                        ░ └╥┘┌─┐                              »\n",
      "«    q_1: ───────────────────────────────░──╫─┤M├──────────────────────────────»\n",
      "«                                        ░  ║ └╥┘┌─┐                           »\n",
      "«    q_2: ───────────────────────────────░──╫──╫─┤M├───────────────────────────»\n",
      "«                                        ░  ║  ║ └╥┘┌─┐                        »\n",
      "«    q_3: ───────────────────────────────░──╫──╫──╫─┤M├────────────────────────»\n",
      "«                                        ░  ║  ║  ║ └╥┘┌─┐                     »\n",
      "«    q_4: ───────────────────────────────░──╫──╫──╫──╫─┤M├─────────────────────»\n",
      "«                                        ░  ║  ║  ║  ║ └╥┘┌─┐                  »\n",
      "«    q_5: ───────────────────────────────░──╫──╫──╫──╫──╫─┤M├──────────────────»\n",
      "«                                        ░  ║  ║  ║  ║  ║ └╥┘┌─┐               »\n",
      "«    q_6: ───────────────────────────────░──╫──╫──╫──╫──╫──╫─┤M├───────────────»\n",
      "«                                        ░  ║  ║  ║  ║  ║  ║ └╥┘┌─┐            »\n",
      "«    q_7: ───────────────────────────────░──╫──╫──╫──╫──╫──╫──╫─┤M├────────────»\n",
      "«                                        ░  ║  ║  ║  ║  ║  ║  ║ └╥┘┌─┐         »\n",
      "«    q_8: ───────────────────────────────░──╫──╫──╫──╫──╫──╫──╫──╫─┤M├─────────»\n",
      "«                                        ░  ║  ║  ║  ║  ║  ║  ║  ║ └╥┘┌─┐      »\n",
      "«    q_9: ───────────────────────────────░──╫──╫──╫──╫──╫──╫──╫──╫──╫─┤M├──────»\n",
      "«                                        ░  ║  ║  ║  ║  ║  ║  ║  ║  ║ └╥┘┌─┐   »\n",
      "«   q_10: ───────────────────────────────░──╫──╫──╫──╫──╫──╫──╫──╫──╫──╫─┤M├───»\n",
      "«                                        ░  ║  ║  ║  ║  ║  ║  ║  ║  ║  ║ └╥┘┌─┐»\n",
      "«   q_11: ───────────────────────────────░──╫──╫──╫──╫──╫──╫──╫──╫──╫──╫──╫─┤M├»\n",
      "«                                        ░  ║  ║  ║  ║  ║  ║  ║  ║  ║  ║  ║ └╥┘»\n",
      "«   q_12: ───────────────────────────────░──╫──╫──╫──╫──╫──╫──╫──╫──╫──╫──╫──╫─»\n",
      "«                                        ░  ║  ║  ║  ║  ║  ║  ║  ║  ║  ║  ║  ║ »\n",
      "«   q_13: ──■────────────────────────────░──╫──╫──╫──╫──╫──╫──╫──╫──╫──╫──╫──╫─»\n",
      "«         ┌─┴─┐                          ░  ║  ║  ║  ║  ║  ║  ║  ║  ║  ║  ║  ║ »\n",
      "«   q_14: ┤ X ├──■───────────────────────░──╫──╫──╫──╫──╫──╫──╫──╫──╫──╫──╫──╫─»\n",
      "«         └───┘┌─┴─┐                     ░  ║  ║  ║  ║  ║  ║  ║  ║  ║  ║  ║  ║ »\n",
      "«   q_15: ─────┤ X ├──■──────────────────░──╫──╫──╫──╫──╫──╫──╫──╫──╫──╫──╫──╫─»\n",
      "«              └───┘┌─┴─┐                ░  ║  ║  ║  ║  ║  ║  ║  ║  ║  ║  ║  ║ »\n",
      "«   q_16: ──────────┤ X ├──■─────────────░──╫──╫──╫──╫──╫──╫──╫──╫──╫──╫──╫──╫─»\n",
      "«                   └───┘┌─┴─┐           ░  ║  ║  ║  ║  ║  ║  ║  ║  ║  ║  ║  ║ »\n",
      "«   q_17: ───────────────┤ X ├──■────────░──╫──╫──╫──╫──╫──╫──╫──╫──╫──╫──╫──╫─»\n",
      "«                        └───┘┌─┴─┐      ░  ║  ║  ║  ║  ║  ║  ║  ║  ║  ║  ║  ║ »\n",
      "«   q_18: ────────────────────┤ X ├──■───░──╫──╫──╫──╫──╫──╫──╫──╫──╫──╫──╫──╫─»\n",
      "«                             └───┘┌─┴─┐ ░  ║  ║  ║  ║  ║  ║  ║  ║  ║  ║  ║  ║ »\n",
      "«   q_19: ─────────────────────────┤ X ├─░──╫──╫──╫──╫──╫──╫──╫──╫──╫──╫──╫──╫─»\n",
      "«                                  └───┘ ░  ║  ║  ║  ║  ║  ║  ║  ║  ║  ║  ║  ║ »\n",
      "«meas: 20/══════════════════════════════════╩══╩══╩══╩══╩══╩══╩══╩══╩══╩══╩══╩═»\n",
      "«                                           0  1  2  3  4  5  6  7  8  9  10 11»\n",
      "«                                 \n",
      "«    q_0: ────────────────────────\n",
      "«                                 \n",
      "«    q_1: ────────────────────────\n",
      "«                                 \n",
      "«    q_2: ────────────────────────\n",
      "«                                 \n",
      "«    q_3: ────────────────────────\n",
      "«                                 \n",
      "«    q_4: ────────────────────────\n",
      "«                                 \n",
      "«    q_5: ────────────────────────\n",
      "«                                 \n",
      "«    q_6: ────────────────────────\n",
      "«                                 \n",
      "«    q_7: ────────────────────────\n",
      "«                                 \n",
      "«    q_8: ────────────────────────\n",
      "«                                 \n",
      "«    q_9: ────────────────────────\n",
      "«                                 \n",
      "«   q_10: ────────────────────────\n",
      "«                                 \n",
      "«   q_11: ────────────────────────\n",
      "«         ┌─┐                     \n",
      "«   q_12: ┤M├─────────────────────\n",
      "«         └╥┘┌─┐                  \n",
      "«   q_13: ─╫─┤M├──────────────────\n",
      "«          ║ └╥┘┌─┐               \n",
      "«   q_14: ─╫──╫─┤M├───────────────\n",
      "«          ║  ║ └╥┘┌─┐            \n",
      "«   q_15: ─╫──╫──╫─┤M├────────────\n",
      "«          ║  ║  ║ └╥┘┌─┐         \n",
      "«   q_16: ─╫──╫──╫──╫─┤M├─────────\n",
      "«          ║  ║  ║  ║ └╥┘┌─┐      \n",
      "«   q_17: ─╫──╫──╫──╫──╫─┤M├──────\n",
      "«          ║  ║  ║  ║  ║ └╥┘┌─┐   \n",
      "«   q_18: ─╫──╫──╫──╫──╫──╫─┤M├───\n",
      "«          ║  ║  ║  ║  ║  ║ └╥┘┌─┐\n",
      "«   q_19: ─╫──╫──╫──╫──╫──╫──╫─┤M├\n",
      "«          ║  ║  ║  ║  ║  ║  ║ └╥┘\n",
      "«meas: 20/═╩══╩══╩══╩══╩══╩══╩══╩═\n",
      "«          12 13 14 15 16 17 18 19\n"
     ]
    }
   ],
   "source": [
    "circuit = generate_ghz_circuit(n_qubits, return_type=\"qiskit\")\n",
    "circuit.measure_all()\n",
    "print(len(circuit))\n",
    "print(circuit)"
   ]
  },
  {
   "cell_type": "markdown",
   "id": "f32d6c22",
   "metadata": {},
   "source": [
    "We define a function that executes the quantum circuits and returns the expectation value. This is consumed by Mitiq's `execute_with_zne`. In this example, the expectation value is the probability of measuring the ground state, which is what one would expect from an ideal randomized benchmarking circuit."
   ]
  },
  {
   "cell_type": "code",
   "execution_count": 4,
   "id": "4d69dcaa",
   "metadata": {},
   "outputs": [],
   "source": [
    "def execute_circuit(circuit):\n",
    "    \"\"\"Execute the input circuit and return the expectation value of |00..0><00..0|\"\"\"\n",
    "    noisy_backend = FakeJakarta()\n",
    "    noisy_result = noisy_backend.run(circuit, shots=shots).result()\n",
    "    noisy_counts = noisy_result.get_counts(circuit)\n",
    "    noisy_expectation_value = noisy_counts[n_qubits * \"0\"] / shots\n",
    "    return noisy_expectation_value"
   ]
  },
  {
   "cell_type": "code",
   "execution_count": 5,
   "id": "e4d4e272",
   "metadata": {},
   "outputs": [
    {
     "name": "stdout",
     "output_type": "stream",
     "text": [
      "ideal = \t \t 0.5\n",
      "unmitigated = \t \t 0.4511\n",
      "mitigated = \t \t 0.47609999999999975\n"
     ]
    }
   ],
   "source": [
    "mitigated = execute_with_zne(circuit, execute_circuit)\n",
    "unmitigated = execute_circuit(circuit)\n",
    "ideal = 0.5 #property of GHZ circuits\n",
    "\n",
    "print(\"ideal = \\t \\t\",ideal)\n",
    "print(\"unmitigated = \\t \\t\",unmitigated)\n",
    "print(\"mitigated = \\t \\t\",mitigated)"
   ]
  },
  {
   "cell_type": "markdown",
   "id": "1b1bb079",
   "metadata": {},
   "source": [
    "## Using calibration to improve the results\n",
    "\n",
    "Let's consider a noisy backend using the Qiskit noisy simulator, `FakeJakarta`. Note that the executor passed to the `Calibrator` object must return counts, as opposed to expectation values."
   ]
  },
  {
   "cell_type": "code",
   "execution_count": 6,
   "id": "58d6cf4e",
   "metadata": {},
   "outputs": [],
   "source": [
    "def execute_calibration(qiskit_circuit):\n",
    "    \"\"\"Execute the input circuits and return the measurement results.\"\"\"\n",
    "    noisy_backend = FakeJakarta()\n",
    "    noisy_result = noisy_backend.run(qiskit_circuit, shots=shots).result()\n",
    "    noisy_counts = noisy_result.get_counts(qiskit_circuit)\n",
    "    noisy_counts = { k.replace(\" \",\"\"):v for k, v in noisy_counts.items()}\n",
    "    measurements = MeasurementResult.from_counts(noisy_counts)\n",
    "    return measurements"
   ]
  },
  {
   "cell_type": "markdown",
   "id": "6af2291f",
   "metadata": {},
   "source": [
    "We import from the calibration module the key ingredients to use `mitiq.calibration`: the `Calibrator` class, the `mitiq.calibration.settings.Settings` class and the `execute_with_mitigation` function.\n",
    "\n",
    "Currently `mitiq.calibration` supports ZNE as a technique to calibrate from, tuning different scale factors, extrapolation methods and circuit scaling methods.\n",
    "\n",
    "Let's run the calibration using an ad-hoc RBSettings and using the `log=True` option in order to print the list of experiments run.\n",
    "\n",
    "- benchmarks: Circuit type: \"rb\"\n",
    "- strategies: use various \"zne\" strategies, testing various \"scale_noise\" methods (such as `mitiq.zne.scaling.folding.fold_global` and `mitiq.zne.scaling.folding.fold_gates_at_random`), and ZNE factories for extrapolation (such as `mitiq.zne.inference.RichardsonFactory` and `mitiq.zne.inference.LinearFactory`)"
   ]
  },
  {
   "cell_type": "code",
   "execution_count": 7,
   "id": "3f10908d",
   "metadata": {},
   "outputs": [],
   "source": [
    "from mitiq.zne.inference import LinearFactory, RichardsonFactory\n",
    "from mitiq.zne.scaling import (\n",
    "    fold_gates_at_random,\n",
    "    fold_global,\n",
    ")\n",
    "\n",
    "test_qubits = n_qubits // 2\n",
    "\n",
    "GHZSettings = Settings(\n",
    "    benchmarks=[\n",
    "        {\n",
    "            \"circuit_type\": \"ghz\",\n",
    "            \"num_qubits\": test_qubits,\n",
    "        },\n",
    "    ],\n",
    "    strategies=[\n",
    "        {\n",
    "            \"technique\": \"zne\",\n",
    "            \"scale_noise\": fold_global,\n",
    "            \"factory\": RichardsonFactory([1.0, 2.0, 3.0]),\n",
    "        },\n",
    "        {\n",
    "            \"technique\": \"zne\",\n",
    "            \"scale_noise\": fold_global,\n",
    "            \"factory\": RichardsonFactory([1.0, 3.0, 5.0]),\n",
    "        },\n",
    "        {\n",
    "            \"technique\": \"zne\",\n",
    "            \"scale_noise\": fold_global,\n",
    "            \"factory\": LinearFactory([1.0, 2.0, 3.0]),\n",
    "        },\n",
    "        {\n",
    "            \"technique\": \"zne\",\n",
    "            \"scale_noise\": fold_global,\n",
    "            \"factory\": LinearFactory([1.0, 3.0, 5.0]),\n",
    "        },\n",
    "        {\n",
    "            \"technique\": \"zne\",\n",
    "            \"scale_noise\": fold_gates_at_random,\n",
    "            \"factory\": RichardsonFactory([1.0, 2.0, 3.0]),\n",
    "        },\n",
    "        {\n",
    "            \"technique\": \"zne\",\n",
    "            \"scale_noise\": fold_gates_at_random,\n",
    "            \"factory\": RichardsonFactory([1.0, 3.0, 5.0]),\n",
    "        },\n",
    "        {\n",
    "            \"technique\": \"zne\",\n",
    "            \"scale_noise\": fold_gates_at_random,\n",
    "            \"factory\": LinearFactory([1.0, 2.0, 3.0]),\n",
    "        },\n",
    "        {\n",
    "            \"technique\": \"zne\",\n",
    "            \"scale_noise\": fold_gates_at_random,\n",
    "            \"factory\": LinearFactory([1.0, 3.0, 5.0]),\n",
    "        },\n",
    "    ],\n",
    ")"
   ]
  },
  {
   "cell_type": "code",
   "execution_count": 8,
   "id": "5894d651",
   "metadata": {},
   "outputs": [
    {
     "name": "stdout",
     "output_type": "stream",
     "text": [
      "Ran ghz circuit using: ['ZNE', 'RichardsonFactory', [1.0, 2.0, 3.0], 'fold_global']\n",
      "✅ ideal: 0.50\tnoisy: 0.45\tmitigated: 0.46\n",
      "Ran ghz circuit using: ['ZNE', 'RichardsonFactory', [1.0, 3.0, 5.0], 'fold_global']\n",
      "✅ ideal: 0.50\tnoisy: 0.45\tmitigated: 0.47\n",
      "Ran ghz circuit using: ['ZNE', 'LinearFactory', [1.0, 2.0, 3.0], 'fold_global']\n",
      "✅ ideal: 0.50\tnoisy: 0.45\tmitigated: 0.46\n",
      "Ran ghz circuit using: ['ZNE', 'LinearFactory', [1.0, 3.0, 5.0], 'fold_global']\n",
      "✅ ideal: 0.50\tnoisy: 0.45\tmitigated: 0.45\n",
      "Ran ghz circuit using: ['ZNE', 'RichardsonFactory', [1.0, 2.0, 3.0], 'fold_gates_at_random']\n",
      "✅ ideal: 0.50\tnoisy: 0.45\tmitigated: 0.45\n",
      "Ran ghz circuit using: ['ZNE', 'RichardsonFactory', [1.0, 3.0, 5.0], 'fold_gates_at_random']\n",
      "✅ ideal: 0.50\tnoisy: 0.45\tmitigated: 0.47\n",
      "Ran ghz circuit using: ['ZNE', 'LinearFactory', [1.0, 2.0, 3.0], 'fold_gates_at_random']\n",
      "✅ ideal: 0.50\tnoisy: 0.45\tmitigated: 0.46\n",
      "Ran ghz circuit using: ['ZNE', 'LinearFactory', [1.0, 3.0, 5.0], 'fold_gates_at_random']\n",
      "✅ ideal: 0.50\tnoisy: 0.45\tmitigated: 0.45\n"
     ]
    }
   ],
   "source": [
    "cal = Calibrator(execute_calibration, frontend=\"qiskit\", settings=GHZSettings)\n",
    "cal.run(log=True)"
   ]
  },
  {
   "cell_type": "markdown",
   "id": "2b8f81a3",
   "metadata": {},
   "source": [
    "As you can see above, several experiments were run, and each one has either a red cross (❌) or a green check (✅) to signal whether the error mitigation experiment obtained an expectation value that is better than the non-mitigated one."
   ]
  },
  {
   "cell_type": "code",
   "execution_count": 9,
   "id": "2092f2f6",
   "metadata": {},
   "outputs": [
    {
     "name": "stdout",
     "output_type": "stream",
     "text": [
      "ideal = \t \t 0.5\n",
      "unmitigated = \t \t 0.4463\n",
      "mitigated = \t \t 0.46539999999999954\n",
      "calibrated_mitigated = \t 0.45008749999999975\n"
     ]
    }
   ],
   "source": [
    "calibrated_mitigated=execute_with_mitigation(circuit, execute_circuit, calibrator=cal)\n",
    "mitigated=execute_with_zne(circuit, execute_circuit)\n",
    "unmitigated=execute_circuit(circuit)\n",
    "\n",
    "print(\"ideal = \\t \\t\",ideal)\n",
    "print(\"unmitigated = \\t \\t\",unmitigated)\n",
    "print(\"mitigated = \\t \\t\",mitigated)\n",
    "print(\"calibrated_mitigated = \\t\",calibrated_mitigated)"
   ]
  },
  {
   "cell_type": "markdown",
   "id": "40d41d92",
   "metadata": {},
   "source": [
    "1. Make sure `Settings` object has the default `ZNE Settings`. Still some randomness -> yes\n",
    "2. Try different folding technique \n",
    "3. Try identity insertion - need to implement identity insertion settings\n",
    "4. Modify noise model that the default is bad\n",
    "5. Modify  number of shots - make results more deterministic\n",
    "6. Add seeds\n",
    "7. Exponential extrapolation\n"
   ]
  }
 ],
 "metadata": {
  "jupytext": {
   "formats": "ipynb,md:myst"
  },
  "kernelspec": {
   "display_name": "Python 3 (ipykernel)",
   "language": "python",
   "name": "python3"
  },
  "language_info": {
   "codemirror_mode": {
    "name": "ipython",
    "version": 3
   },
   "file_extension": ".py",
   "mimetype": "text/x-python",
   "name": "python",
   "nbconvert_exporter": "python",
   "pygments_lexer": "ipython3",
   "version": "3.8.13"
  }
 },
 "nbformat": 4,
 "nbformat_minor": 5
}
