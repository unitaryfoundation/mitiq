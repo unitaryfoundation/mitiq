{
 "cells": [
  {
   "cell_type": "markdown",
   "id": "1035ec11",
   "metadata": {},
   "source": [
    "# Breaking into error mitigation with Mitiq's calibration module\n",
    "\n",
    "Things that this tutorial covers:\n",
    "- Getting started with Mitiq's calibration module  \n",
    "- Use Qiskit noisy simulatro with FakeJakarta\n",
    "- Run calibration with RBSettings  \n",
    "- Conclusion"
   ]
  },
  {
   "cell_type": "markdown",
   "id": "c1ee2298",
   "metadata": {},
   "source": [
    "## Getting started with Mitiq"
   ]
  },
  {
   "cell_type": "code",
   "execution_count": 1,
   "id": "d6db1844",
   "metadata": {},
   "outputs": [],
   "source": [
    "import numpy as np \n",
    "from mitiq import MeasurementResult\n",
    "from mitiq.interface.mitiq_qiskit.conversions import to_qiskit, from_qiskit\n",
    "import mitiq"
   ]
  },
  {
   "cell_type": "code",
   "execution_count": 2,
   "id": "6d97aaff",
   "metadata": {},
   "outputs": [],
   "source": [
    "from mitiq.benchmarks import generate_rb_circuits\n",
    "from mitiq.zne import execute_with_zne\n",
    "from mitiq.zne.inference import LinearFactory, RichardsonFactory\n",
    "from mitiq.zne.scaling import (\n",
    "    fold_gates_at_random,\n",
    "    fold_global,\n",
    ")\n",
    "\n",
    "from mitiq.calibration import Calibrator, ZNESettings, execute_with_mitigation\n",
    "from mitiq.calibration.settings import Settings"
   ]
  },
  {
   "cell_type": "code",
   "execution_count": 3,
   "id": "e2f856f2",
   "metadata": {},
   "outputs": [],
   "source": [
    "from qiskit.providers.fake_provider import FakeJakarta  # Fake (simulated) QPU"
   ]
  },
  {
   "cell_type": "markdown",
   "id": "0558a775",
   "metadata": {},
   "source": [
    "### Define the circuit to study\n",
    "\n",
    "#### Global variables\n",
    "Define global variables for the quantum circuit of interest: number of qubits, depth of the quantum circuit and number of shots."
   ]
  },
  {
   "cell_type": "code",
   "execution_count": 4,
   "id": "794f6842",
   "metadata": {},
   "outputs": [],
   "source": [
    "n_qubits = 2\n",
    "depth_circuit= 20\n",
    "shots = 10 ** 3"
   ]
  },
  {
   "cell_type": "markdown",
   "id": "4f1c7dce",
   "metadata": {},
   "source": [
    "#### Quantum circuit: Randomized benchmarking (RB)\n",
    "We now use Mitiq's built-in `generate_rb_circuits` from the `mitiq.benchmarks` module to define the quantum circuit."
   ]
  },
  {
   "cell_type": "code",
   "execution_count": 5,
   "id": "c13ce17c",
   "metadata": {
    "scrolled": true
   },
   "outputs": [
    {
     "name": "stdout",
     "output_type": "stream",
     "text": [
      "218\n",
      "        ┌──────────┐ ┌────┐ ┌─────────┐   ┌───────┐┌───┐    ┌────┐            »\n",
      "   q_0: ┤ Ry(-π/2) ├─┤ √X ├─┤ Ry(π/2) ├─■─┤ Rx(0) ├┤ Y ├────┤ √X ├──────────■─»\n",
      "        ├──────────┤┌┴────┴┐└─────────┘ │ └─┬───┬─┘├───┴┐┌──┴────┴──┐┌────┐ │ »\n",
      "   q_1: ┤ Ry(-π/2) ├┤ √Xdg ├────────────■───┤ Y ├──┤ √X ├┤ Ry(-π/2) ├┤ √X ├─■─»\n",
      "        └──────────┘└──────┘                └───┘  └────┘└──────────┘└────┘   »\n",
      "meas: 2/══════════════════════════════════════════════════════════════════════»\n",
      "                                                                              »\n",
      "«         ┌───────┐    ┌───┐   ┌────┐   ┌─────────┐   ┌───┐    ┌────┐  »\n",
      "«   q_0: ─┤ Rx(0) ├────┤ Y ├───┤ √X ├─■─┤ Ry(π/2) ├─■─┤ Y ├────┤ √X ├──»\n",
      "«        ┌┴───────┴┐┌──┴───┴──┐├────┤ │ └─┬──────┬┘ │ ├───┴┐┌──┴────┴─┐»\n",
      "«   q_1: ┤ Ry(π/2) ├┤ Ry(π/2) ├┤ √X ├─■───┤ √Xdg ├──■─┤ √X ├┤ Ry(π/2) ├»\n",
      "«        └─────────┘└─────────┘└────┘     └──────┘    └────┘└─────────┘»\n",
      "«meas: 2/══════════════════════════════════════════════════════════════»\n",
      "«                                                                      »\n",
      "«        ┌──────────┐┌──────┐┌─────────┐   ┌─────────┐      ┌───┐    ┌────┐»\n",
      "«   q_0: ┤ Ry(-π/2) ├┤ √Xdg ├┤ Ry(π/2) ├─■─┤ Ry(π/2) ├─■────┤ Y ├────┤ √X ├»\n",
      "«        └──┬────┬──┘└──────┘└─────────┘ │ └─┬──────┬┘ │ ┌──┴───┴───┐├────┤»\n",
      "«   q_1: ───┤ √X ├───────────────────────■───┤ √Xdg ├──■─┤ Ry(-π/2) ├┤ √X ├»\n",
      "«           └────┘                           └──────┘    └──────────┘└────┘»\n",
      "«meas: 2/══════════════════════════════════════════════════════════════════»\n",
      "«                                                                          »\n",
      "«          ┌──────┐ ┌──────────┐   ┌─────────┐   ┌─────────┐┌──────────┐┌────┐»\n",
      "«   q_0: ──┤ √Xdg ├─┤ Ry(-π/2) ├─■─┤ Ry(π/2) ├─■─┤ Ry(π/2) ├┤ Ry(-π/2) ├┤ √X ├»\n",
      "«        ┌─┴──────┴┐└──────────┘ │ └─┬──────┬┘ │ └──┬────┬─┘├──────────┤├────┤»\n",
      "«   q_1: ┤ Ry(π/2) ├─────────────■───┤ √Xdg ├──■────┤ √X ├──┤ Ry(-π/2) ├┤ √X ├»\n",
      "«        └─────────┘                 └──────┘       └────┘  └──────────┘└────┘»\n",
      "«meas: 2/═════════════════════════════════════════════════════════════════════»\n",
      "«                                                                             »\n",
      "«        ┌─────────┐   ┌─────────┐   ┌─────────┐┌──────────┐┌──────┐»\n",
      "«   q_0: ┤ Ry(π/2) ├─■─┤ Ry(π/2) ├─■─┤ Ry(π/2) ├┤ Ry(-π/2) ├┤ √Xdg ├»\n",
      "«        └─────────┘ │ └─┬──────┬┘ │ └──┬────┬─┘├─────────┬┘└┬────┬┘»\n",
      "«   q_1: ────────────■───┤ √Xdg ├──■────┤ √X ├──┤ Ry(π/2) ├──┤ √X ├─»\n",
      "«                        └──────┘       └────┘  └─────────┘  └────┘ »\n",
      "«meas: 2/═══════════════════════════════════════════════════════════»\n",
      "«                                                                   »\n",
      "«        ┌─────────┐             ┌──────────┐   ┌─────────┐      ┌──────┐ »\n",
      "«   q_0: ┤ Ry(π/2) ├───────────■─┤ Ry(-π/2) ├─■─┤ Ry(π/2) ├──■───┤ √Xdg ├─»\n",
      "«        ├─────────┴┐┌───────┐ │ ├─────────┬┘ │ ├─────────┴┐ │ ┌─┴──────┴┐»\n",
      "«   q_1: ┤ Ry(-π/2) ├┤ Rx(0) ├─■─┤ Ry(π/2) ├──■─┤ Ry(-π/2) ├─■─┤ Ry(π/2) ├»\n",
      "«        └──────────┘└───────┘   └─────────┘    └──────────┘   └─────────┘»\n",
      "«meas: 2/═════════════════════════════════════════════════════════════════»\n",
      "«                                                                         »\n",
      "«         ┌───────┐                        ┌─────────┐      ┌───┐    ┌────┐»\n",
      "«   q_0: ─┤ Ry(0) ├──────────────────────■─┤ Ry(π/2) ├─■────┤ Y ├────┤ √X ├»\n",
      "«        ┌┴───────┴─┐┌──────┐┌─────────┐ │ └─┬──────┬┘ │ ┌──┴───┴───┐├───┬┘»\n",
      "«   q_1: ┤ Ry(-π/2) ├┤ √Xdg ├┤ Ry(π/2) ├─■───┤ √Xdg ├──■─┤ Ry(-π/2) ├┤ X ├─»\n",
      "«        └──────────┘└──────┘└─────────┘     └──────┘    └──────────┘└───┘ »\n",
      "«meas: 2/══════════════════════════════════════════════════════════════════»\n",
      "«                                                                          »\n",
      "«          ┌──────┐  ┌─────────┐   ┌─────────┐      ┌───┐       ┌────┐   »\n",
      "«   q_0: ──┤ √Xdg ├──┤ Ry(π/2) ├─■─┤ Ry(π/2) ├─■────┤ Y ├───────┤ √X ├───»\n",
      "«        ┌─┴──────┴─┐└─────────┘ │ └─┬──────┬┘ │ ┌──┴───┴───┐┌──┴────┴──┐»\n",
      "«   q_1: ┤ Ry(-π/2) ├────────────■───┤ √Xdg ├──■─┤ Ry(-π/2) ├┤ Ry(-π/2) ├»\n",
      "«        └──────────┘                └──────┘    └──────────┘└──────────┘»\n",
      "«meas: 2/════════════════════════════════════════════════════════════════»\n",
      "«                                                                        »\n",
      "«        ┌───────┐                ┌───────┐    ┌───┐    ┌────┐               »\n",
      "«   q_0: ┤ Rx(0) ├─────────────■──┤ Rx(0) ├────┤ Y ├────┤ √X ├─────────────■─»\n",
      "«        └─┬────┬┘┌──────────┐ │ ┌┴───────┴┐┌──┴───┴───┐├────┤┌──────────┐ │ »\n",
      "«   q_1: ──┤ √X ├─┤ Ry(-π/2) ├─■─┤ Ry(π/2) ├┤ Ry(-π/2) ├┤ √X ├┤ Ry(-π/2) ├─■─»\n",
      "«          └────┘ └──────────┘   └─────────┘└──────────┘└────┘└──────────┘   »\n",
      "«meas: 2/════════════════════════════════════════════════════════════════════»\n",
      "«                                                                            »\n",
      "«        ┌──────┐┌──────────┐┌──────────┐┌────┐              ┌─────────┐   »\n",
      "«   q_0: ┤ √Xdg ├┤ Ry(-π/2) ├┤ Ry(-π/2) ├┤ √X ├────────────■─┤ Ry(π/2) ├─■─»\n",
      "«        └┬───┬─┘└──┬────┬──┘├─────────┬┘├────┤┌─────────┐ │ └─┬──────┬┘ │ »\n",
      "«   q_1: ─┤ Y ├─────┤ √X ├───┤ Ry(π/2) ├─┤ √X ├┤ Ry(π/2) ├─■───┤ √Xdg ├──■─»\n",
      "«         └───┘     └────┘   └─────────┘ └────┘└─────────┘     └──────┘    »\n",
      "«meas: 2/══════════════════════════════════════════════════════════════════»\n",
      "«                                                                          »\n",
      "«          ┌──────┐  ┌──────────┐┌────┐┌─────────┐ ┌────┐┌─────────┐   »\n",
      "«   q_0: ──┤ √Xdg ├──┤ Ry(-π/2) ├┤ √X ├┤ Ry(π/2) ├─┤ √X ├┤ Ry(π/2) ├─■─»\n",
      "«        ┌─┴──────┴─┐├──────────┤├────┤├─────────┴┐└────┘└─────────┘ │ »\n",
      "«   q_1: ┤ Ry(-π/2) ├┤ Ry(-π/2) ├┤ √X ├┤ Ry(-π/2) ├──────────────────■─»\n",
      "«        └──────────┘└──────────┘└────┘└──────────┘                    »\n",
      "«meas: 2/══════════════════════════════════════════════════════════════»\n",
      "«                                                                      »\n",
      "«          ┌──────┐ ┌──────────┐  ┌───┐  ┌─────────┐   ┌──────┐┌──────────┐»\n",
      "«   q_0: ──┤ √Xdg ├─┤ Ry(-π/2) ├──┤ X ├──┤ Ry(π/2) ├─■─┤ √Xdg ├┤ Ry(-π/2) ├»\n",
      "«        ┌─┴──────┴┐├─────────┬┘┌─┴───┴─┐└─────────┘ │ └┬───┬─┘└──┬────┬──┘»\n",
      "«   q_1: ┤ Ry(π/2) ├┤ Ry(π/2) ├─┤ Rx(0) ├────────────■──┤ Y ├─────┤ √X ├───»\n",
      "«        └─────────┘└─────────┘ └───────┘               └───┘     └────┘   »\n",
      "«meas: 2/══════════════════════════════════════════════════════════════════»\n",
      "«                                                                          »\n",
      "«           ┌───┐     ┌───┐                ┌─────────┐   ┌────┐   ┌──────┐»\n",
      "«   q_0: ───┤ Y ├─────┤ X ├──────────────■─┤ Ry(π/2) ├───┤ √X ├───┤ √Xdg ├»\n",
      "«        ┌──┴───┴───┐┌┴───┴─┐┌─────────┐ │ ├─────────┤┌──┴────┴──┐└┬────┬┘»\n",
      "«   q_1: ┤ Ry(-π/2) ├┤ √Xdg ├┤ Ry(π/2) ├─■─┤ Ry(π/2) ├┤ Ry(-π/2) ├─┤ √X ├─»\n",
      "«        └──────────┘└──────┘└─────────┘   └─────────┘└──────────┘ └────┘ »\n",
      "«meas: 2/═════════════════════════════════════════════════════════════════»\n",
      "«                                                                         »\n",
      "«        ┌──────────┐   ┌──────┐┌──────────┐┌────┐┌──────────┐   ┌─────────┐»\n",
      "«   q_0: ┤ Ry(-π/2) ├─■─┤ √Xdg ├┤ Ry(-π/2) ├┤ √X ├┤ Ry(-π/2) ├─■─┤ Ry(π/2) ├»\n",
      "«        └──────────┘ │ └┬───┬─┘└──┬────┬──┘├───┬┘└┬───────┬─┘ │ └─┬──────┬┘»\n",
      "«   q_1: ─────────────■──┤ Y ├─────┤ √X ├───┤ Y ├──┤ Rx(0) ├───■───┤ √Xdg ├─»\n",
      "«                        └───┘     └────┘   └───┘  └───────┘       └──────┘ »\n",
      "«meas: 2/═══════════════════════════════════════════════════════════════════»\n",
      "«                                                                           »\n",
      "«           ┌────┐   ┌──────────┐┌──────┐┌─────────┐   ┌─────────┐   ┌───┐ »\n",
      "«   q_0: ───┤ √X ├───┤ Ry(-π/2) ├┤ √Xdg ├┤ Ry(π/2) ├─■─┤ Ry(π/2) ├─■─┤ Y ├─»\n",
      "«        ┌──┴────┴──┐└──┬────┬──┘└┬───┬─┘├─────────┤ │ └─┬──────┬┘ │ ├───┴┐»\n",
      "«   q_1: ┤ Ry(-π/2) ├───┤ √X ├────┤ X ├──┤ Ry(π/2) ├─■───┤ √Xdg ├──■─┤ √X ├»\n",
      "«        └──────────┘   └────┘    └───┘  └─────────┘     └──────┘    └────┘»\n",
      "«meas: 2/══════════════════════════════════════════════════════════════════»\n",
      "«                                                                          »\n",
      "«         ┌────┐ ┌─────────┐┌───────┐   ┌──────────┐   ┌─────────┐    »\n",
      "«   q_0: ─┤ √X ├─┤ Ry(π/2) ├┤ Rx(0) ├─■─┤ Ry(-π/2) ├─■─┤ Ry(π/2) ├──■─»\n",
      "«        ┌┴────┴┐├─────────┤└───────┘ │ ├─────────┬┘ │ ├─────────┴┐ │ »\n",
      "«   q_1: ┤ √Xdg ├┤ Ry(π/2) ├──────────■─┤ Ry(π/2) ├──■─┤ Ry(-π/2) ├─■─»\n",
      "«        └──────┘└─────────┘            └─────────┘    └──────────┘   »\n",
      "«meas: 2/═════════════════════════════════════════════════════════════»\n",
      "«                                                                     »\n",
      "«           ┌───┐   ┌─────────┐             ┌─────────┐   ┌────┐   ┌──────┐»\n",
      "«   q_0: ───┤ X ├───┤ Ry(π/2) ├───────────■─┤ Ry(π/2) ├───┤ √X ├───┤ √Xdg ├»\n",
      "«        ┌──┴───┴──┐├─────────┴┐┌───────┐ │ ├─────────┤┌──┴────┴──┐├──────┤»\n",
      "«   q_1: ┤ Ry(π/2) ├┤ Ry(-π/2) ├┤ Rx(0) ├─■─┤ Ry(π/2) ├┤ Ry(-π/2) ├┤ √Xdg ├»\n",
      "«        └─────────┘└──────────┘└───────┘   └─────────┘└──────────┘└──────┘»\n",
      "«meas: 2/══════════════════════════════════════════════════════════════════»\n",
      "«                                                                          »\n",
      "«        ┌──────────┐   ┌───────┐       ░ ┌─┐   \n",
      "«   q_0: ┤ Ry(-π/2) ├─■─┤ Rx(0) ├───────░─┤M├───\n",
      "«        └──────────┘ │ └─┬───┬─┘┌────┐ ░ └╥┘┌─┐\n",
      "«   q_1: ─────────────■───┤ Y ├──┤ √X ├─░──╫─┤M├\n",
      "«                         └───┘  └────┘ ░  ║ └╥┘\n",
      "«meas: 2/══════════════════════════════════╩══╩═\n",
      "«                                          0  1 \n"
     ]
    }
   ],
   "source": [
    "circuit = generate_rb_circuits(n_qubits, depth_circuit,return_type=\"qiskit\")[0]#,trials=3)#[0]\n",
    "circuit.measure_all()\n",
    "print(len(circuit))\n",
    "print(circuit)"
   ]
  },
  {
   "cell_type": "markdown",
   "id": "ce001e92",
   "metadata": {},
   "source": [
    "We define a function that executes the quantum circuits and returns the expectation value. This is consumed by Mitiq's `execute_with_zne`. "
   ]
  },
  {
   "cell_type": "code",
   "execution_count": 6,
   "id": "534f6f1f",
   "metadata": {},
   "outputs": [],
   "source": [
    "def execute_circuit(circuit):\n",
    "    \"\"\"Execute the input circuit and return the expectation value of |00..0><00..0|\"\"\"\n",
    "    noisy_backend = FakeJakarta()\n",
    "    noisy_result = noisy_backend.run(circuit, shots=shots).result()\n",
    "    noisy_counts = noisy_result.get_counts(circuit)\n",
    "    noisy_expectation_value = noisy_counts[n_qubits * \"0\"] / shots\n",
    "    return noisy_expectation_value"
   ]
  },
  {
   "cell_type": "code",
   "execution_count": 7,
   "id": "4afede57",
   "metadata": {},
   "outputs": [
    {
     "name": "stdout",
     "output_type": "stream",
     "text": [
      "ideal = \t \t 1\n",
      "unmitigated = \t \t 0.95\n",
      "mitigated = \t \t 0.9699999999999993\n"
     ]
    }
   ],
   "source": [
    "mitigated = execute_with_zne(circuit, execute_circuit)\n",
    "unmitigated = execute_circuit(circuit)\n",
    "ideal = 1 #property of RB circuits \n",
    "\n",
    "print(\"ideal = \\t \\t\",ideal)\n",
    "print(\"unmitigated = \\t \\t\",unmitigated)\n",
    "print(\"mitigated = \\t \\t\",mitigated)"
   ]
  },
  {
   "cell_type": "markdown",
   "id": "3d583e50",
   "metadata": {},
   "source": [
    "## Using calibration to improve the results"
   ]
  },
  {
   "cell_type": "markdown",
   "id": "2453afab",
   "metadata": {},
   "source": [
    " Let's consider as executor a noisy quantum circuit using Qiskit noisy backend simulators, `FakeJakarta`. Right now the calibration module does not natively support Qiskit circuits, so in the executor, we use Mitiq's conversion functions to convert the Qiskit circuit with `mitiq.interface.mitiq_qiskit.conversions.to_qiskit`. "
   ]
  },
  {
   "cell_type": "code",
   "execution_count": 8,
   "id": "4ada801e",
   "metadata": {},
   "outputs": [],
   "source": [
    "def execute_calibration(cirq_circuit):\n",
    "    \"\"\"Execute the input circuits and return the measurement results.\"\"\"\n",
    "    qiskit_circuit = to_qiskit(cirq_circuit)\n",
    "    noisy_backend = FakeJakarta()\n",
    "    noisy_result = noisy_backend.run(qiskit_circuit, shots=shots).result()\n",
    "    noisy_counts = noisy_result.get_counts(qiskit_circuit)\n",
    "    measurements = MeasurementResult.from_counts(noisy_counts)\n",
    "    return measurements"
   ]
  },
  {
   "cell_type": "markdown",
   "id": "63e6d60e",
   "metadata": {},
   "source": [
    "We import from the calibration module the key ingredients to use `mitiq.calibration`: the `Calibrator` class, the `mitiq.calibration.settings.Settings` class and the `execute_with_mitigation` function. \n",
    "\n",
    "Currently `mitiq.calibration` supports ZNE as a technique to calibrate from, tuning different scale factors, extrapolation methods and circuit scaling methods. "
   ]
  },
  {
   "cell_type": "markdown",
   "id": "85507ede",
   "metadata": {},
   "source": [
    "Let's run the calibration using an ad-hoc RBSettings and using the `log=True` option in order to print the list of experiments run. "
   ]
  },
  {
   "cell_type": "markdown",
   "id": "8f78ada1",
   "metadata": {},
   "source": [
    "- benchmarks: Circuit type: \"rb\"\n",
    "- strategies: use various \"zne\" strategies, testing various \"scale_noise\" methods, and ZNE factories for extrapolation\n"
   ]
  },
  {
   "cell_type": "code",
   "execution_count": 9,
   "id": "917e5141",
   "metadata": {},
   "outputs": [],
   "source": [
    "RBSettings = Settings(\n",
    "    benchmarks=[\n",
    "        {\n",
    "            \"circuit_type\": \"rb\",\n",
    "            \"num_qubits\": n_qubits,\n",
    "            \"circuit_depth\": depth_circuit,\n",
    "        },\n",
    "    ],\n",
    "    strategies=[\n",
    "        {\n",
    "            \"technique\": \"zne\",\n",
    "            \"scale_noise\": fold_global,\n",
    "            \"factory\": RichardsonFactory([1.0, 2.0, 3.0]),\n",
    "        },\n",
    "        {\n",
    "            \"technique\": \"zne\",\n",
    "            \"scale_noise\": fold_global,\n",
    "            \"factory\": RichardsonFactory([1.0, 3.0, 5.0]),\n",
    "        },\n",
    "        {\n",
    "            \"technique\": \"zne\",\n",
    "            \"scale_noise\": fold_global,\n",
    "            \"factory\": LinearFactory([1.0, 2.0, 3.0]),\n",
    "        },\n",
    "        {\n",
    "            \"technique\": \"zne\",\n",
    "            \"scale_noise\": fold_global,\n",
    "            \"factory\": LinearFactory([1.0, 3.0, 5.0]),\n",
    "        },\n",
    "        {\n",
    "            \"technique\": \"zne\",\n",
    "            \"scale_noise\": fold_gates_at_random,\n",
    "            \"factory\": RichardsonFactory([1.0, 2.0, 3.0]),\n",
    "        },\n",
    "        {\n",
    "            \"technique\": \"zne\",\n",
    "            \"scale_noise\": fold_gates_at_random,\n",
    "            \"factory\": RichardsonFactory([1.0, 3.0, 5.0]),\n",
    "        },\n",
    "        {\n",
    "            \"technique\": \"zne\",\n",
    "            \"scale_noise\": fold_gates_at_random,\n",
    "            \"factory\": LinearFactory([1.0, 2.0, 3.0]),\n",
    "        },\n",
    "        {\n",
    "            \"technique\": \"zne\",\n",
    "            \"scale_noise\": fold_gates_at_random,\n",
    "            \"factory\": LinearFactory([1.0, 3.0, 5.0]),\n",
    "        },\n",
    "    ],\n",
    ")"
   ]
  },
  {
   "cell_type": "code",
   "execution_count": 10,
   "id": "a8f3474a",
   "metadata": {},
   "outputs": [
    {
     "name": "stdout",
     "output_type": "stream",
     "text": [
      "{'noisy_executions': 8, 'ideal_executions': 0}\n",
      "Ran rb circuit using: ['ZNE', 'RichardsonFactory', [1.0, 2.0, 3.0], 'fold_global']\n",
      "✅ ideal: 1.00\tnoisy: 0.94\tmitigated: 1.02\n",
      "Ran rb circuit using: ['ZNE', 'RichardsonFactory', [1.0, 3.0, 5.0], 'fold_global']\n",
      "✅ ideal: 1.00\tnoisy: 0.94\tmitigated: 0.98\n",
      "Ran rb circuit using: ['ZNE', 'LinearFactory', [1.0, 2.0, 3.0], 'fold_global']\n",
      "✅ ideal: 1.00\tnoisy: 0.94\tmitigated: 0.98\n",
      "Ran rb circuit using: ['ZNE', 'LinearFactory', [1.0, 3.0, 5.0], 'fold_global']\n",
      "✅ ideal: 1.00\tnoisy: 0.94\tmitigated: 0.97\n",
      "Ran rb circuit using: ['ZNE', 'RichardsonFactory', [1.0, 2.0, 3.0], 'fold_gates_at_random']\n",
      "✅ ideal: 1.00\tnoisy: 0.94\tmitigated: 0.94\n",
      "Ran rb circuit using: ['ZNE', 'RichardsonFactory', [1.0, 3.0, 5.0], 'fold_gates_at_random']\n",
      "✅ ideal: 1.00\tnoisy: 0.94\tmitigated: 0.99\n",
      "Ran rb circuit using: ['ZNE', 'LinearFactory', [1.0, 2.0, 3.0], 'fold_gates_at_random']\n",
      "✅ ideal: 1.00\tnoisy: 0.94\tmitigated: 0.97\n",
      "Ran rb circuit using: ['ZNE', 'LinearFactory', [1.0, 3.0, 5.0], 'fold_gates_at_random']\n",
      "✅ ideal: 1.00\tnoisy: 0.94\tmitigated: 0.96\n"
     ]
    }
   ],
   "source": [
    "cal = Calibrator(execute_calibration, RBSettings)\n",
    "print(cal.get_cost())\n",
    "cal.run(log=True)"
   ]
  },
  {
   "cell_type": "markdown",
   "id": "baa10c0e",
   "metadata": {},
   "source": [
    "As you can see above, several experiments were run, and each one has either a red cross (❌) or a green check (✅) to signal whether the error mitigation experiment obtained an expectation value that is better than the non-mitigated one. "
   ]
  },
  {
   "cell_type": "code",
   "execution_count": 11,
   "id": "f969700a",
   "metadata": {},
   "outputs": [
    {
     "name": "stdout",
     "output_type": "stream",
     "text": [
      "ideal = \t \t 1\n",
      "unmitigated = \t \t 0.96\n",
      "mitigated = \t \t 0.9699999999999982\n",
      "calibrated_mitigated = \t 0.9843749999999991\n"
     ]
    }
   ],
   "source": [
    "calibrated_mitigated=execute_with_mitigation(circuit, execute_circuit, calibrator=cal)\n",
    "mitigated=execute_with_zne(circuit, execute_circuit)\n",
    "unmitigated=execute_circuit(circuit)\n",
    "\n",
    "print(\"ideal = \\t \\t\",ideal)\n",
    "print(\"unmitigated = \\t \\t\",unmitigated)\n",
    "print(\"mitigated = \\t \\t\",mitigated)\n",
    "print(\"calibrated_mitigated = \\t\",calibrated_mitigated)\n"
   ]
  },
  {
   "cell_type": "code",
   "execution_count": null,
   "id": "bfa9537c",
   "metadata": {},
   "outputs": [],
   "source": []
  }
 ],
 "metadata": {
  "jupytext": {
   "formats": "ipynb,md:myst"
  },
  "kernelspec": {
   "display_name": "Python 3 (ipykernel)",
   "language": "python",
   "name": "python3"
  },
  "language_info": {
   "codemirror_mode": {
    "name": "ipython",
    "version": 3
   },
   "file_extension": ".py",
   "mimetype": "text/x-python",
   "name": "python",
   "nbconvert_exporter": "python",
   "pygments_lexer": "ipython3",
   "version": "3.9.12"
  }
 },
 "nbformat": 4,
 "nbformat_minor": 5
}
