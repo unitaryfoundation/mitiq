{
 "cells": [
  {
   "cell_type": "markdown",
   "id": "b70197d6",
   "metadata": {},
   "source": [
    "# Breaking into error mitigation with Mitiq's calibration module"
   ]
  },
  {
   "cell_type": "markdown",
   "id": "7a2c15c6",
   "metadata": {},
   "source": [
    "<img src=\"../_thumbnails/calibration.png\" width=\"400\">"
   ]
  },
  {
   "cell_type": "markdown",
   "id": "522338af",
   "metadata": {},
   "source": [
    "This tutorial helps answer the question: \"What quantum error\n",
    "mitigation technique should I use for my problem?\". The newly introduced\n",
    "`mitiq.calibration` module helps answer that in an optimized way, thrhough `Benchmarks` and `Strategies`.\n",
    "\n",
    "More specifically, this tutorial covers:\n",
    "- Getting started with Mitiq's calibration module with ZNE\n",
    "- Use Qiskit noisy simulator with `FakeJakarta` as backend\n",
    "- Run calibration with some special settings, `RBSettings`, using the `cal.run(log=True)` option"
   ]
  },
  {
   "cell_type": "markdown",
   "id": "6ee02f57",
   "metadata": {},
   "source": [
    "## Getting started with Mitiq"
   ]
  },
  {
   "cell_type": "code",
   "execution_count": 1,
   "id": "cf175295",
   "metadata": {},
   "outputs": [],
   "source": [
    "from mitiq.benchmarks import generate_rb_circuits\n",
    "from mitiq.zne import execute_with_zne\n",
    "from mitiq.zne.inference import LinearFactory, RichardsonFactory\n",
    "from mitiq.zne.scaling import (\n",
    "    fold_gates_at_random,\n",
    "    fold_global,\n",
    ")\n",
    "\n",
    "from mitiq.calibration import Calibrator, ZNESettings, execute_with_mitigation\n",
    "from mitiq.calibration.settings import Settings"
   ]
  },
  {
   "cell_type": "code",
   "execution_count": 2,
   "id": "02183291",
   "metadata": {},
   "outputs": [],
   "source": [
    "from qiskit.providers.fake_provider import FakeJakarta  # Fake (simulated) QPU"
   ]
  },
  {
   "cell_type": "markdown",
   "id": "5aad7e15",
   "metadata": {},
   "source": [
    "### Define the circuit to study\n",
    "\n",
    "#### Global variables\n",
    "Define global variables for the quantum circuit of interest: number of qubits, depth of the quantum circuit and number of shots."
   ]
  },
  {
   "cell_type": "code",
   "execution_count": 3,
   "id": "aacfcc63",
   "metadata": {},
   "outputs": [],
   "source": [
    "n_qubits = 2\n",
    "depth_circuit= 20\n",
    "shots = 10 ** 3"
   ]
  },
  {
   "cell_type": "markdown",
   "id": "f96c44f2",
   "metadata": {},
   "source": [
    "#### Quantum circuit: Randomized benchmarking (RB)\n",
    "We now use Mitiq's built-in `generate_rb_circuits` from the `mitiq.benchmarks` module to define the quantum circuit."
   ]
  },
  {
   "cell_type": "code",
   "execution_count": 7,
   "id": "c6aef4b1",
   "metadata": {
    "scrolled": false
   },
   "outputs": [
    {
     "name": "stdout",
     "output_type": "stream",
     "text": [
      "215\n",
      "        ┌──────────┐  ┌──────┐  ┌─────────┐   ┌─────────┐┌────┐┌───┐»\n",
      "   q_0: ┤ Ry(-π/2) ├──┤ √Xdg ├──┤ Ry(π/2) ├─■─┤ Ry(π/2) ├┤ √X ├┤ X ├»\n",
      "        └──┬───┬───┘┌─┴──────┴─┐└─────────┘ │ └──┬───┬──┘├────┤├───┤»\n",
      "   q_1: ───┤ X ├────┤ Ry(-π/2) ├────────────■────┤ Y ├───┤ √X ├┤ Y ├»\n",
      "           └───┘    └──────────┘                 └───┘   └────┘└───┘»\n",
      "meas: 2/════════════════════════════════════════════════════════════»\n",
      "                                                                    »\n",
      "«        ┌──────────┐   ┌───────┐   ┌───┐    ┌───────┐                  »\n",
      "«   q_0: ┤ Ry(-π/2) ├─■─┤ Rx(0) ├───┤ Y ├────┤ Rx(0) ├────────────────■─»\n",
      "«        └┬───────┬─┘ │ └┬──────┤┌──┴───┴───┐└─┬────┬┘┌────┐┌───────┐ │ »\n",
      "«   q_1: ─┤ Rx(0) ├───■──┤ √Xdg ├┤ Ry(-π/2) ├──┤ √X ├─┤ √X ├┤ Ry(0) ├─■─»\n",
      "«         └───────┘      └──────┘└──────────┘  └────┘ └────┘└───────┘   »\n",
      "«meas: 2/═══════════════════════════════════════════════════════════════»\n",
      "«                                                                       »\n",
      "«        ┌───────┐   ┌────┐   ┌──────────┐                               »\n",
      "«   q_0: ┤ Rx(0) ├───┤ √X ├───┤ Ry(-π/2) ├─────────────────────────────■─»\n",
      "«        └┬──────┤┌──┴────┴──┐└──┬────┬──┘┌─────────┐┌────┐┌─────────┐ │ »\n",
      "«   q_1: ─┤ √Xdg ├┤ Ry(-π/2) ├───┤ √X ├───┤ Ry(π/2) ├┤ √X ├┤ Ry(π/2) ├─■─»\n",
      "«         └──────┘└──────────┘   └────┘   └─────────┘└────┘└─────────┘   »\n",
      "«meas: 2/════════════════════════════════════════════════════════════════»\n",
      "«                                                                        »\n",
      "«        ┌─────────┐   ┌───┐ ┌────┐  ┌──────┐ ┌─────────┐   ┌─────────┐   »\n",
      "«   q_0: ┤ Ry(π/2) ├─■─┤ Y ├─┤ √X ├──┤ √Xdg ├─┤ Ry(π/2) ├─■─┤ Ry(π/2) ├─■─»\n",
      "«        └─┬──────┬┘ │ ├───┴┐├───┬┘┌─┴──────┴┐└─────────┘ │ └─┬──────┬┘ │ »\n",
      "«   q_1: ──┤ √Xdg ├──■─┤ √X ├┤ X ├─┤ Ry(π/2) ├────────────■───┤ √Xdg ├──■─»\n",
      "«          └──────┘    └────┘└───┘ └─────────┘                └──────┘    »\n",
      "«meas: 2/═════════════════════════════════════════════════════════════════»\n",
      "«                                                                         »\n",
      "«        ┌───┐    ┌────┐  ┌───┐ ┌───────┐              ┌───────┐   ┌───┐    »\n",
      "«   q_0: ┤ Y ├────┤ √X ├──┤ Y ├─┤ Rx(0) ├────────────■─┤ Rx(0) ├───┤ Y ├────»\n",
      "«        ├───┴┐┌──┴────┴─┐├───┴┐└┬──────┤┌─────────┐ │ └┬──────┤┌──┴───┴───┐»\n",
      "«   q_1: ┤ √X ├┤ Ry(π/2) ├┤ √X ├─┤ √Xdg ├┤ Ry(π/2) ├─■──┤ √Xdg ├┤ Ry(-π/2) ├»\n",
      "«        └────┘└─────────┘└────┘ └──────┘└─────────┘    └──────┘└──────────┘»\n",
      "«meas: 2/═══════════════════════════════════════════════════════════════════»\n",
      "«                                                                           »\n",
      "«        ┌────┐                    ┌─────────┐   ┌─────────┐    ┌───┐    »\n",
      "«   q_0: ┤ √X ├──────────────────■─┤ Ry(π/2) ├─■─┤ Ry(π/2) ├────┤ X ├────»\n",
      "«        ├────┤┌──────┐┌───────┐ │ └─┬──────┬┘ │ ├─────────┴┐┌──┴───┴───┐»\n",
      "«   q_1: ┤ √X ├┤ √Xdg ├┤ Ry(0) ├─■───┤ √Xdg ├──■─┤ Ry(-π/2) ├┤ Ry(-π/2) ├»\n",
      "«        └────┘└──────┘└───────┘     └──────┘    └──────────┘└──────────┘»\n",
      "«meas: 2/════════════════════════════════════════════════════════════════»\n",
      "«                                                                        »\n",
      "«        ┌──────────┐              ┌─────────┐   ┌────┐  ┌──────────┐»\n",
      "«   q_0: ┤ Ry(-π/2) ├────────────■─┤ Ry(π/2) ├───┤ √X ├──┤ Ry(-π/2) ├»\n",
      "«        └──┬────┬──┘┌─────────┐ │ ├─────────┤┌──┴────┴─┐└──┬────┬──┘»\n",
      "«   q_1: ───┤ √X ├───┤ Ry(π/2) ├─■─┤ Ry(π/2) ├┤ Ry(π/2) ├───┤ √X ├───»\n",
      "«           └────┘   └─────────┘   └─────────┘└─────────┘   └────┘   »\n",
      "«meas: 2/════════════════════════════════════════════════════════════»\n",
      "«                                                                    »\n",
      "«          ┌──────┐ ┌─────────┐   ┌──────┐┌──────────┐┌────┐┌──────────┐      »\n",
      "«   q_0: ──┤ √Xdg ├─┤ Ry(π/2) ├─■─┤ √Xdg ├┤ Ry(-π/2) ├┤ √X ├┤ Ry(-π/2) ├──────»\n",
      "«        ┌─┴──────┴┐└─────────┘ │ ├──────┤├──────────┤├────┤└──┬───┬───┘┌────┐»\n",
      "«   q_1: ┤ Ry(π/2) ├────────────■─┤ √Xdg ├┤ Ry(-π/2) ├┤ √X ├───┤ Y ├────┤ √X ├»\n",
      "«        └─────────┘              └──────┘└──────────┘└────┘   └───┘    └────┘»\n",
      "«meas: 2/═════════════════════════════════════════════════════════════════════»\n",
      "«                                                                             »\n",
      "«           ┌─────────┐   ┌──────┐┌──────────┐  ┌────┐ ┌─────────┐┌────┐   »\n",
      "«   q_0: ─■─┤ Ry(π/2) ├─■─┤ √Xdg ├┤ Ry(-π/2) ├──┤ √X ├─┤ Ry(π/2) ├┤ √X ├─■─»\n",
      "«         │ └─┬──────┬┘ │ └┬────┬┘├─────────┬┘┌─┴────┴┐└─────────┘└────┘ │ »\n",
      "«   q_1: ─■───┤ √Xdg ├──■──┤ √X ├─┤ Ry(π/2) ├─┤ Rx(0) ├──────────────────■─»\n",
      "«             └──────┘     └────┘ └─────────┘ └───────┘                    »\n",
      "«meas: 2/══════════════════════════════════════════════════════════════════»\n",
      "«                                                                          »\n",
      "«        ┌─────────┐┌────┐┌───┐┌──────────┐┌──────────┐┌───────┐              »\n",
      "«   q_0: ┤ Ry(π/2) ├┤ √X ├┤ X ├┤ Ry(-π/2) ├┤ Ry(-π/2) ├┤ Rx(0) ├────────────■─»\n",
      "«        └──┬───┬──┘├────┤├───┤└┬───────┬─┘├─────────┬┘└─┬────┬┘┌─────────┐ │ »\n",
      "«   q_1: ───┤ Y ├───┤ √X ├┤ X ├─┤ Ry(0) ├──┤ Ry(π/2) ├───┤ √X ├─┤ Ry(π/2) ├─■─»\n",
      "«           └───┘   └────┘└───┘ └───────┘  └─────────┘   └────┘ └─────────┘   »\n",
      "«meas: 2/═════════════════════════════════════════════════════════════════════»\n",
      "«                                                                             »\n",
      "«        ┌──────────┐   ┌─────────┐       ┌───┐   ┌─────────┐            »\n",
      "«   q_0: ┤ Ry(-π/2) ├─■─┤ Ry(π/2) ├──■────┤ X ├───┤ Ry(π/2) ├──────────■─»\n",
      "«        ├─────────┬┘ │ ├─────────┴┐ │ ┌──┴───┴──┐└─┬──────┬┘┌───────┐ │ »\n",
      "«   q_1: ┤ Ry(π/2) ├──■─┤ Ry(-π/2) ├─■─┤ Ry(π/2) ├──┤ √Xdg ├─┤ Ry(0) ├─■─»\n",
      "«        └─────────┘    └──────────┘   └─────────┘  └──────┘ └───────┘   »\n",
      "«meas: 2/════════════════════════════════════════════════════════════════»\n",
      "«                                                                        »\n",
      "«        ┌─────────┐   ┌────┐   ┌────┐┌──────────┐         ┌─────────┐┌────┐»\n",
      "«   q_0: ┤ Ry(π/2) ├───┤ √X ├───┤ √X ├┤ Ry(-π/2) ├───────■─┤ Ry(π/2) ├┤ √X ├»\n",
      "«        └─┬──────┬┘┌──┴────┴──┐├────┤├──────────┤┌────┐ │ └──┬───┬──┘├────┤»\n",
      "«   q_1: ──┤ √Xdg ├─┤ Ry(-π/2) ├┤ √X ├┤ Ry(-π/2) ├┤ √X ├─■────┤ Y ├───┤ √X ├»\n",
      "«          └──────┘ └──────────┘└────┘└──────────┘└────┘      └───┘   └────┘»\n",
      "«meas: 2/═══════════════════════════════════════════════════════════════════»\n",
      "«                                                                           »\n",
      "«        ┌──────────┐┌───────┐  ┌──────┐  ┌──────────┐   ┌─────────┐»\n",
      "«   q_0: ┤ Ry(-π/2) ├┤ Rx(0) ├──┤ √Xdg ├──┤ Ry(-π/2) ├─■─┤ Ry(π/2) ├»\n",
      "«        └──┬───┬───┘└─┬───┬─┘┌─┴──────┴─┐└┬───────┬─┘ │ └─┬──────┬┘»\n",
      "«   q_1: ───┤ Y ├──────┤ X ├──┤ Ry(-π/2) ├─┤ Rx(0) ├───■───┤ √Xdg ├─»\n",
      "«           └───┘      └───┘  └──────────┘ └───────┘       └──────┘ »\n",
      "«meas: 2/═══════════════════════════════════════════════════════════»\n",
      "«                                                                   »\n",
      "«           ┌────┐   ┌──────────┐┌────┐               ┌─────────┐   ┌──────┐»\n",
      "«   q_0: ───┤ √X ├───┤ Ry(-π/2) ├┤ √X ├─────────────■─┤ Ry(π/2) ├─■─┤ √Xdg ├»\n",
      "«        ┌──┴────┴──┐└──┬────┬──┘├────┤┌──────────┐ │ └─┬──────┬┘ │ └┬────┬┘»\n",
      "«   q_1: ┤ Ry(-π/2) ├───┤ √X ├───┤ √X ├┤ Ry(-π/2) ├─■───┤ √Xdg ├──■──┤ √X ├─»\n",
      "«        └──────────┘   └────┘   └────┘└──────────┘     └──────┘     └────┘ »\n",
      "«meas: 2/═══════════════════════════════════════════════════════════════════»\n",
      "«                                                                           »\n",
      "«        ┌──────────┐┌────┐┌──────┐┌─────────┐   ┌─────────┐   ┌──────┐»\n",
      "«   q_0: ┤ Ry(-π/2) ├┤ √X ├┤ √Xdg ├┤ Ry(π/2) ├─■─┤ Ry(π/2) ├─■─┤ √Xdg ├»\n",
      "«        ├─────────┬┘├────┤└┬───┬─┘└──┬───┬──┘ │ └─┬──────┬┘ │ └┬────┬┘»\n",
      "«   q_1: ┤ Ry(π/2) ├─┤ √X ├─┤ Y ├─────┤ X ├────■───┤ √Xdg ├──■──┤ √X ├─»\n",
      "«        └─────────┘ └────┘ └───┘     └───┘        └──────┘     └────┘ »\n",
      "«meas: 2/══════════════════════════════════════════════════════════════»\n",
      "«                                                                      »\n",
      "«        ┌──────────┐   ┌────┐   ┌──────────┐┌────┐┌─────────┐   ┌─────────┐   »\n",
      "«   q_0: ┤ Ry(-π/2) ├───┤ √X ├───┤ Ry(-π/2) ├┤ √X ├┤ Ry(π/2) ├─■─┤ Ry(π/2) ├─■─»\n",
      "«        └─┬──────┬─┘┌──┴────┴──┐└──────────┘└────┘└─────────┘ │ └─┬──────┬┘ │ »\n",
      "«   q_1: ──┤ √Xdg ├──┤ Ry(-π/2) ├──────────────────────────────■───┤ √Xdg ├──■─»\n",
      "«          └──────┘  └──────────┘                                  └──────┘    »\n",
      "«meas: 2/══════════════════════════════════════════════════════════════════════»\n",
      "«                                                                              »\n",
      "«        ┌─────────┐   ┌───┐   ┌────┐                    ┌──────┐┌──────────┐»\n",
      "«   q_0: ┤ Ry(π/2) ├───┤ Y ├───┤ √X ├──────────────────■─┤ √Xdg ├┤ Ry(-π/2) ├»\n",
      "«        └──┬────┬─┘┌──┴───┴──┐├────┤┌───┐┌──────────┐ │ └┬───┬─┘└──┬────┬──┘»\n",
      "«   q_1: ───┤ √X ├──┤ Ry(π/2) ├┤ √X ├┤ X ├┤ Ry(-π/2) ├─■──┤ Y ├─────┤ √X ├───»\n",
      "«           └────┘  └─────────┘└────┘└───┘└──────────┘    └───┘     └────┘   »\n",
      "«meas: 2/════════════════════════════════════════════════════════════════════»\n",
      "«                                                                            »\n",
      "«         ░ ┌─┐   \n",
      "«   q_0: ─░─┤M├───\n",
      "«         ░ └╥┘┌─┐\n",
      "«   q_1: ─░──╫─┤M├\n",
      "«         ░  ║ └╥┘\n",
      "«meas: 2/════╩══╩═\n",
      "«            0  1 \n"
     ]
    }
   ],
   "source": [
    "circuit = generate_rb_circuits(n_qubits, depth_circuit,return_type=\"qiskit\")[0]\n",
    "circuit.measure_all()\n",
    "print(len(circuit))\n",
    "print(circuit)"
   ]
  },
  {
   "cell_type": "markdown",
   "id": "f0f9e40d",
   "metadata": {},
   "source": [
    "We define a function that executes the quantum circuits and returns the expectation value. This is consumed by Mitiq's `execute_with_zne`. In this example, the expectation value is the probability of measuring the ground state, which is what one would expect from an ideal randomized benchmarking circuit."
   ]
  },
  {
   "cell_type": "code",
   "execution_count": 8,
   "id": "7d089582",
   "metadata": {},
   "outputs": [],
   "source": [
    "def execute_circuit(circuit):\n",
    "    \"\"\"Execute the input circuit and return the expectation value of |00..0><00..0|\"\"\"\n",
    "    noisy_backend = FakeJakarta()\n",
    "    noisy_result = noisy_backend.run(circuit, shots=shots).result()\n",
    "    noisy_counts = noisy_result.get_counts(circuit)\n",
    "    noisy_expectation_value = noisy_counts[n_qubits * \"0\"] / shots\n",
    "    return noisy_expectation_value"
   ]
  },
  {
   "cell_type": "code",
   "execution_count": 11,
   "id": "e08c3d1b",
   "metadata": {},
   "outputs": [
    {
     "name": "stdout",
     "output_type": "stream",
     "text": [
      "ideal = \t \t 1\n",
      "unmitigated = \t \t 0.919\n",
      "mitigated = \t \t 0.933999999999999\n"
     ]
    }
   ],
   "source": [
    "mitigated = execute_with_zne(circuit, execute_circuit)\n",
    "unmitigated = execute_circuit(circuit)\n",
    "ideal = 1 #property of RB circuits\n",
    "\n",
    "print(\"ideal = \\t \\t\",ideal)\n",
    "print(\"unmitigated = \\t \\t\",unmitigated)\n",
    "print(\"mitigated = \\t \\t\",mitigated)"
   ]
  },
  {
   "cell_type": "markdown",
   "id": "e802b530",
   "metadata": {},
   "source": [
    "## Using calibration to improve the results"
   ]
  },
  {
   "cell_type": "markdown",
   "id": "f60a75bb",
   "metadata": {},
   "source": [
    "Let's consider a noisy backend using the Qiskit noisy simulator, `FakeJakarta`. Note that the executor passed to the `Calibrator` object must return counts, as opposed to expectation values."
   ]
  },
  {
   "cell_type": "code",
   "execution_count": 12,
   "id": "e127d4f8",
   "metadata": {},
   "outputs": [],
   "source": [
    "def execute_calibration(qiskit_circuit):\n",
    "    \"\"\"Execute the input circuits and return the measurement results.\"\"\"\n",
    "    noisy_backend = FakeJakarta()\n",
    "    noisy_result = noisy_backend.run(qiskit_circuit, shots=shots).result()\n",
    "    noisy_counts = noisy_result.get_counts(qiskit_circuit)\n",
    "    measurements = MeasurementResult.from_counts(noisy_counts)\n",
    "    return measurements"
   ]
  },
  {
   "cell_type": "markdown",
   "id": "1c92bf1b",
   "metadata": {},
   "source": [
    "We import from the calibration module the key ingredients to use `mitiq.calibration`: the `Calibrator` class, the `mitiq.calibration.settings.Settings` class and the `execute_with_mitigation` function.\n",
    "\n",
    "Currently `mitiq.calibration` supports ZNE as a technique to calibrate from, tuning different scale factors, extrapolation methods and circuit scaling methods."
   ]
  },
  {
   "cell_type": "markdown",
   "id": "b512557c",
   "metadata": {},
   "source": [
    "Let's run the calibration using an ad-hoc RBSettings and using the `log=True` option in order to print the list of experiments run."
   ]
  },
  {
   "cell_type": "markdown",
   "id": "8672fc0f",
   "metadata": {},
   "source": [
    "- benchmarks: Circuit type: \"rb\"\n",
    "- strategies: use various \"zne\" strategies, testing various \"scale_noise\" methods (such as `mitiq.zne.scaling.folding.fold_global` and `mitiq.zne.scaling.folding.fold_gates_at_random`), and ZNE factories for extrapolation (such as `mitiq.zne.inference.RichardsonFactory` and `mitiq.zne.inference.LinearFactory`)"
   ]
  },
  {
   "cell_type": "code",
   "execution_count": 13,
   "id": "c48b0d64",
   "metadata": {},
   "outputs": [],
   "source": [
    "RBSettings = Settings(\n",
    "    benchmarks=[\n",
    "        {\n",
    "            \"circuit_type\": \"rb\",\n",
    "            \"num_qubits\": n_qubits,\n",
    "            \"circuit_depth\": depth_circuit,\n",
    "        },\n",
    "    ],\n",
    "    strategies=[\n",
    "        {\n",
    "            \"technique\": \"zne\",\n",
    "            \"scale_noise\": fold_global,\n",
    "            \"factory\": RichardsonFactory([1.0, 2.0, 3.0]),\n",
    "        },\n",
    "        {\n",
    "            \"technique\": \"zne\",\n",
    "            \"scale_noise\": fold_global,\n",
    "            \"factory\": RichardsonFactory([1.0, 3.0, 5.0]),\n",
    "        },\n",
    "        {\n",
    "            \"technique\": \"zne\",\n",
    "            \"scale_noise\": fold_global,\n",
    "            \"factory\": LinearFactory([1.0, 2.0, 3.0]),\n",
    "        },\n",
    "        {\n",
    "            \"technique\": \"zne\",\n",
    "            \"scale_noise\": fold_global,\n",
    "            \"factory\": LinearFactory([1.0, 3.0, 5.0]),\n",
    "        },\n",
    "        {\n",
    "            \"technique\": \"zne\",\n",
    "            \"scale_noise\": fold_gates_at_random,\n",
    "            \"factory\": RichardsonFactory([1.0, 2.0, 3.0]),\n",
    "        },\n",
    "        {\n",
    "            \"technique\": \"zne\",\n",
    "            \"scale_noise\": fold_gates_at_random,\n",
    "            \"factory\": RichardsonFactory([1.0, 3.0, 5.0]),\n",
    "        },\n",
    "        {\n",
    "            \"technique\": \"zne\",\n",
    "            \"scale_noise\": fold_gates_at_random,\n",
    "            \"factory\": LinearFactory([1.0, 2.0, 3.0]),\n",
    "        },\n",
    "        {\n",
    "            \"technique\": \"zne\",\n",
    "            \"scale_noise\": fold_gates_at_random,\n",
    "            \"factory\": LinearFactory([1.0, 3.0, 5.0]),\n",
    "        },\n",
    "    ],\n",
    ")"
   ]
  },
  {
   "cell_type": "code",
   "execution_count": 14,
   "id": "f1ec8ffe",
   "metadata": {
    "scrolled": false
   },
   "outputs": [
    {
     "name": "stdout",
     "output_type": "stream",
     "text": [
      "{'noisy_executions': 8, 'ideal_executions': 0}\n"
     ]
    },
    {
     "ename": "QiskitError",
     "evalue": "'Invalid input object 0: ───Y^0.5───X^0───@───Y^0.5───X^0.5───Y^-0.5───X^0.5───@───Y^0.5───X^0.5───X^0.5───Y^-0.5───@───X^-0.5───Y^-0.5───Y───────X^0───────────@───X^0──────Y^-0.5───X^0─────────────────────@───Y^0.5────@───Y────────X^0.5────Y────────X^0.5───@───Y^0.5────@───Y───────X^0.5───X^-0.5───Y^0─────────────@───Y^0.5────@───Y────────X^0.5───Y^-0.5───X^0.5───@───Y^0.5────@───Y^0.5───Y───X───────@───Y^0.5────@───Y^0.5───Y───────X───────────────────────@───X^-0.5───Y^-0.5───X^0.5───Y^-0.5────────────@───Y^0.5────@───X^-0.5───Y^-0.5───X^0.5───Y^-0.5───X^0.5───@───Y^0.5────@───Y───────X^0.5────X^0.5───Y^0──────@───X^-0.5───Y^-0.5───Y^0.5────X^0.5───Y^0.5───@───Y^0.5────@───X^-0.5───Y^-0.5───X^0.5───X^0───@───X^0──────Y^-0.5───X^0───────────────────────@───Y^0.5───X^0.5───Y^0.5───X^0.5───Y^0.5───@───Y^0.5───X^0.5────Y─────X^-0.5───@───Y^0.5────@───Y^0.5───X^-0.5───Y^0.5────@───Y^0.5────@───X^-0.5───Y^-0.5───X^0.5────X───Y^-0.5───@───X^-0.5───Y^-0.5───Y^-0.5───X^0.5───Y^-0.5───@───Y^0.5───X^0.5───M───\\n                    │                                    │                                    │                                           │                                             │            │                                      │            │                                            │            │                                     │            │                       │            │                                           │                                               │            │                                              │            │                                     │                                              │            │                                   │                                               │                                           │                                   │            │                             │            │                                           │                                               │                   │\\n1: ───Y───────X^0───@───Y^0.5───X───────Y^0──────────────@───Y───────X^0.5───X───────Y^0.5────@───X^-0.5───Y^-0.5───X^0.5───Y^0.5───X^0───@───X^-0.5───Y^-0.5───X^0.5───X^0.5───Y^0.5───@───X^-0.5───@───Y^-0.5───Y^-0.5───X^-0.5───────────@───X^-0.5───@───X^0.5───Y^0.5───X^0.5────Y^0.5───X^0.5───@───X^-0.5───@───Y^-0.5───Y^0.5───X^0──────────────@───X^-0.5───@───X^0.5───X───Y^0.5───@───X^-0.5───@───X^0.5───Y^0.5───X^0.5───X^0.5───Y^0.5───@───X^-0.5───Y^-0.5───X^0.5───Y^0.5────X^-0.5───@───X^-0.5───@───X^0.5────Y^0.5────X^0.5───X^0.5────Y^0─────@───X^-0.5───@───X^0.5───Y^-0.5───X^0.5───Y^-0.5───@───Y────────X^0.5────X^-0.5───Y^0.5───────────@───X^-0.5───@───Y^-0.5───Y^0.5────X^0.5─────────@───X^-0.5───Y^-0.5───X^0.5───Y^-0.5───X^-0.5───@───Y───────X^0.5───X^0.5───Y^0.5───────────@───Y^0.5───X^-0.5───Y^0────────────@───X^-0.5───@───X^0.5───Y^-0.5───X^-0.5───@───X^-0.5───@───X^0.5────X^0.5────Y^-0.5────────────────@───X^-0.5───Y^-0.5───X^0.5────X^0──────────────@───Y───────X^0.5───M───, must be either a QuantumCircuit, Schedule, or a list of either'",
     "output_type": "error",
     "traceback": [
      "\u001b[0;31m---------------------------------------------------------------------------\u001b[0m",
      "\u001b[0;31mQiskitError\u001b[0m                               Traceback (most recent call last)",
      "Input \u001b[0;32mIn [14]\u001b[0m, in \u001b[0;36m<cell line: 3>\u001b[0;34m()\u001b[0m\n\u001b[1;32m      1\u001b[0m cal \u001b[38;5;241m=\u001b[39m Calibrator(execute_calibration, RBSettings)\n\u001b[1;32m      2\u001b[0m \u001b[38;5;28mprint\u001b[39m(cal\u001b[38;5;241m.\u001b[39mget_cost())\n\u001b[0;32m----> 3\u001b[0m \u001b[43mcal\u001b[49m\u001b[38;5;241;43m.\u001b[39;49m\u001b[43mrun\u001b[49m\u001b[43m(\u001b[49m\u001b[43mlog\u001b[49m\u001b[38;5;241;43m=\u001b[39;49m\u001b[38;5;28;43;01mTrue\u001b[39;49;00m\u001b[43m)\u001b[49m\n",
      "File \u001b[0;32m/opt/miniconda3/envs/mitiq14/lib/python3.9/site-packages/mitiq/calibration/calibrator.py:188\u001b[0m, in \u001b[0;36mCalibrator.run\u001b[0;34m(self, log)\u001b[0m\n\u001b[1;32m    183\u001b[0m bitstring_to_measure \u001b[38;5;241m=\u001b[39m problem\u001b[38;5;241m.\u001b[39mmost_likely_bitstring()\n\u001b[1;32m    184\u001b[0m expval_executor \u001b[38;5;241m=\u001b[39m convert_to_expval_executor(\n\u001b[1;32m    185\u001b[0m     \u001b[38;5;28mself\u001b[39m\u001b[38;5;241m.\u001b[39mexecutor, bitstring_to_measure\n\u001b[1;32m    186\u001b[0m )\n\u001b[0;32m--> 188\u001b[0m noisy_value \u001b[38;5;241m=\u001b[39m \u001b[43mexpval_executor\u001b[49m\u001b[38;5;241;43m.\u001b[39;49m\u001b[43mevaluate\u001b[49m\u001b[43m(\u001b[49m\u001b[43mcircuit\u001b[49m\u001b[43m)\u001b[49m[\u001b[38;5;241m0\u001b[39m]\n\u001b[1;32m    190\u001b[0m \u001b[38;5;28;01mfor\u001b[39;00m strategy \u001b[38;5;129;01min\u001b[39;00m \u001b[38;5;28mself\u001b[39m\u001b[38;5;241m.\u001b[39mstrategies:\n\u001b[1;32m    191\u001b[0m     \u001b[38;5;28;01mwith\u001b[39;00m warnings\u001b[38;5;241m.\u001b[39mcatch_warnings():\n",
      "File \u001b[0;32m/opt/miniconda3/envs/mitiq14/lib/python3.9/site-packages/mitiq/executor/executor.py:190\u001b[0m, in \u001b[0;36mExecutor.evaluate\u001b[0;34m(self, circuits, observable, force_run_all, **kwargs)\u001b[0m\n\u001b[1;32m    187\u001b[0m     result_step \u001b[38;5;241m=\u001b[39m \u001b[38;5;241m1\u001b[39m\n\u001b[1;32m    189\u001b[0m \u001b[38;5;66;03m# Run all required circuits.\u001b[39;00m\n\u001b[0;32m--> 190\u001b[0m all_results \u001b[38;5;241m=\u001b[39m \u001b[38;5;28;43mself\u001b[39;49m\u001b[38;5;241;43m.\u001b[39;49m\u001b[43mrun\u001b[49m\u001b[43m(\u001b[49m\u001b[43mall_circuits\u001b[49m\u001b[43m,\u001b[49m\u001b[43m \u001b[49m\u001b[43mforce_run_all\u001b[49m\u001b[43m,\u001b[49m\u001b[43m \u001b[49m\u001b[38;5;241;43m*\u001b[39;49m\u001b[38;5;241;43m*\u001b[39;49m\u001b[43mkwargs\u001b[49m\u001b[43m)\u001b[49m\n\u001b[1;32m    192\u001b[0m \u001b[38;5;66;03m# Parse the results.\u001b[39;00m\n\u001b[1;32m    193\u001b[0m \u001b[38;5;28;01mif\u001b[39;00m \u001b[38;5;28mself\u001b[39m\u001b[38;5;241m.\u001b[39m_executor_return_type \u001b[38;5;129;01min\u001b[39;00m FloatLike:\n",
      "File \u001b[0;32m/opt/miniconda3/envs/mitiq14/lib/python3.9/site-packages/mitiq/executor/executor.py:265\u001b[0m, in \u001b[0;36mExecutor.run\u001b[0;34m(self, circuits, force_run_all, **kwargs)\u001b[0m\n\u001b[1;32m    263\u001b[0m \u001b[38;5;28;01mif\u001b[39;00m \u001b[38;5;129;01mnot\u001b[39;00m \u001b[38;5;28mself\u001b[39m\u001b[38;5;241m.\u001b[39mcan_batch:\n\u001b[1;32m    264\u001b[0m     \u001b[38;5;28;01mfor\u001b[39;00m circuit \u001b[38;5;129;01min\u001b[39;00m to_run:\n\u001b[0;32m--> 265\u001b[0m         \u001b[38;5;28;43mself\u001b[39;49m\u001b[38;5;241;43m.\u001b[39;49m\u001b[43m_call_executor\u001b[49m\u001b[43m(\u001b[49m\u001b[43mcircuit\u001b[49m\u001b[43m,\u001b[49m\u001b[43m \u001b[49m\u001b[38;5;241;43m*\u001b[39;49m\u001b[38;5;241;43m*\u001b[39;49m\u001b[43mkwargs\u001b[49m\u001b[43m)\u001b[49m\n\u001b[1;32m    267\u001b[0m \u001b[38;5;28;01melse\u001b[39;00m:\n\u001b[1;32m    268\u001b[0m     stop \u001b[38;5;241m=\u001b[39m \u001b[38;5;28mlen\u001b[39m(to_run)\n",
      "File \u001b[0;32m/opt/miniconda3/envs/mitiq14/lib/python3.9/site-packages/mitiq/executor/executor.py:304\u001b[0m, in \u001b[0;36mExecutor._call_executor\u001b[0;34m(self, to_run, **kwargs)\u001b[0m\n\u001b[1;32m    294\u001b[0m \u001b[38;5;28;01mdef\u001b[39;00m \u001b[38;5;21m_call_executor\u001b[39m(\n\u001b[1;32m    295\u001b[0m     \u001b[38;5;28mself\u001b[39m, to_run: Union[QPROGRAM, Sequence[QPROGRAM]], \u001b[38;5;241m*\u001b[39m\u001b[38;5;241m*\u001b[39mkwargs: Any\n\u001b[1;32m    296\u001b[0m ) \u001b[38;5;241m-\u001b[39m\u001b[38;5;241m>\u001b[39m \u001b[38;5;28;01mNone\u001b[39;00m:\n\u001b[1;32m    297\u001b[0m     \u001b[38;5;124;03m\"\"\"Calls the executor on the input circuit(s) to run. Stores the\u001b[39;00m\n\u001b[1;32m    298\u001b[0m \u001b[38;5;124;03m    executed circuits in ``self._executed_circuits`` and the quantum\u001b[39;00m\n\u001b[1;32m    299\u001b[0m \u001b[38;5;124;03m    results in ``self._quantum_results``.\u001b[39;00m\n\u001b[0;32m   (...)\u001b[0m\n\u001b[1;32m    302\u001b[0m \u001b[38;5;124;03m        to_run: Circuit(s) to run.\u001b[39;00m\n\u001b[1;32m    303\u001b[0m \u001b[38;5;124;03m    \"\"\"\u001b[39;00m\n\u001b[0;32m--> 304\u001b[0m     result \u001b[38;5;241m=\u001b[39m \u001b[38;5;28;43mself\u001b[39;49m\u001b[38;5;241;43m.\u001b[39;49m\u001b[43m_executor\u001b[49m\u001b[43m(\u001b[49m\u001b[43mto_run\u001b[49m\u001b[43m,\u001b[49m\u001b[43m \u001b[49m\u001b[38;5;241;43m*\u001b[39;49m\u001b[38;5;241;43m*\u001b[39;49m\u001b[43mkwargs\u001b[49m\u001b[43m)\u001b[49m  \u001b[38;5;66;03m# type: ignore\u001b[39;00m\n\u001b[1;32m    305\u001b[0m     \u001b[38;5;28mself\u001b[39m\u001b[38;5;241m.\u001b[39m_calls_to_executor \u001b[38;5;241m+\u001b[39m\u001b[38;5;241m=\u001b[39m \u001b[38;5;241m1\u001b[39m\n\u001b[1;32m    307\u001b[0m     \u001b[38;5;28;01mif\u001b[39;00m \u001b[38;5;28mself\u001b[39m\u001b[38;5;241m.\u001b[39mcan_batch:\n",
      "File \u001b[0;32m/opt/miniconda3/envs/mitiq14/lib/python3.9/site-packages/mitiq/calibration/calibrator.py:240\u001b[0m, in \u001b[0;36mconvert_to_expval_executor.<locals>.expval_executor\u001b[0;34m(circuit)\u001b[0m\n\u001b[1;32m    239\u001b[0m \u001b[38;5;28;01mdef\u001b[39;00m \u001b[38;5;21mexpval_executor\u001b[39m(circuit: cirq\u001b[38;5;241m.\u001b[39mCircuit) \u001b[38;5;241m-\u001b[39m\u001b[38;5;241m>\u001b[39m \u001b[38;5;28mfloat\u001b[39m:\n\u001b[0;32m--> 240\u001b[0m     raw \u001b[38;5;241m=\u001b[39m cast(MeasurementResult, \u001b[43mexecutor\u001b[49m\u001b[38;5;241;43m.\u001b[39;49m\u001b[43mrun\u001b[49m\u001b[43m(\u001b[49m\u001b[43m[\u001b[49m\u001b[43mcircuit\u001b[49m\u001b[43m]\u001b[49m\u001b[43m)\u001b[49m[\u001b[38;5;241m0\u001b[39m])\n\u001b[1;32m    241\u001b[0m     distribution \u001b[38;5;241m=\u001b[39m raw\u001b[38;5;241m.\u001b[39mprob_distribution()\n\u001b[1;32m    242\u001b[0m     \u001b[38;5;28;01mreturn\u001b[39;00m distribution\u001b[38;5;241m.\u001b[39mget(bitstring, \u001b[38;5;241m0.0\u001b[39m)\n",
      "File \u001b[0;32m/opt/miniconda3/envs/mitiq14/lib/python3.9/site-packages/mitiq/executor/executor.py:265\u001b[0m, in \u001b[0;36mExecutor.run\u001b[0;34m(self, circuits, force_run_all, **kwargs)\u001b[0m\n\u001b[1;32m    263\u001b[0m \u001b[38;5;28;01mif\u001b[39;00m \u001b[38;5;129;01mnot\u001b[39;00m \u001b[38;5;28mself\u001b[39m\u001b[38;5;241m.\u001b[39mcan_batch:\n\u001b[1;32m    264\u001b[0m     \u001b[38;5;28;01mfor\u001b[39;00m circuit \u001b[38;5;129;01min\u001b[39;00m to_run:\n\u001b[0;32m--> 265\u001b[0m         \u001b[38;5;28;43mself\u001b[39;49m\u001b[38;5;241;43m.\u001b[39;49m\u001b[43m_call_executor\u001b[49m\u001b[43m(\u001b[49m\u001b[43mcircuit\u001b[49m\u001b[43m,\u001b[49m\u001b[43m \u001b[49m\u001b[38;5;241;43m*\u001b[39;49m\u001b[38;5;241;43m*\u001b[39;49m\u001b[43mkwargs\u001b[49m\u001b[43m)\u001b[49m\n\u001b[1;32m    267\u001b[0m \u001b[38;5;28;01melse\u001b[39;00m:\n\u001b[1;32m    268\u001b[0m     stop \u001b[38;5;241m=\u001b[39m \u001b[38;5;28mlen\u001b[39m(to_run)\n",
      "File \u001b[0;32m/opt/miniconda3/envs/mitiq14/lib/python3.9/site-packages/mitiq/executor/executor.py:304\u001b[0m, in \u001b[0;36mExecutor._call_executor\u001b[0;34m(self, to_run, **kwargs)\u001b[0m\n\u001b[1;32m    294\u001b[0m \u001b[38;5;28;01mdef\u001b[39;00m \u001b[38;5;21m_call_executor\u001b[39m(\n\u001b[1;32m    295\u001b[0m     \u001b[38;5;28mself\u001b[39m, to_run: Union[QPROGRAM, Sequence[QPROGRAM]], \u001b[38;5;241m*\u001b[39m\u001b[38;5;241m*\u001b[39mkwargs: Any\n\u001b[1;32m    296\u001b[0m ) \u001b[38;5;241m-\u001b[39m\u001b[38;5;241m>\u001b[39m \u001b[38;5;28;01mNone\u001b[39;00m:\n\u001b[1;32m    297\u001b[0m     \u001b[38;5;124;03m\"\"\"Calls the executor on the input circuit(s) to run. Stores the\u001b[39;00m\n\u001b[1;32m    298\u001b[0m \u001b[38;5;124;03m    executed circuits in ``self._executed_circuits`` and the quantum\u001b[39;00m\n\u001b[1;32m    299\u001b[0m \u001b[38;5;124;03m    results in ``self._quantum_results``.\u001b[39;00m\n\u001b[0;32m   (...)\u001b[0m\n\u001b[1;32m    302\u001b[0m \u001b[38;5;124;03m        to_run: Circuit(s) to run.\u001b[39;00m\n\u001b[1;32m    303\u001b[0m \u001b[38;5;124;03m    \"\"\"\u001b[39;00m\n\u001b[0;32m--> 304\u001b[0m     result \u001b[38;5;241m=\u001b[39m \u001b[38;5;28;43mself\u001b[39;49m\u001b[38;5;241;43m.\u001b[39;49m\u001b[43m_executor\u001b[49m\u001b[43m(\u001b[49m\u001b[43mto_run\u001b[49m\u001b[43m,\u001b[49m\u001b[43m \u001b[49m\u001b[38;5;241;43m*\u001b[39;49m\u001b[38;5;241;43m*\u001b[39;49m\u001b[43mkwargs\u001b[49m\u001b[43m)\u001b[49m  \u001b[38;5;66;03m# type: ignore\u001b[39;00m\n\u001b[1;32m    305\u001b[0m     \u001b[38;5;28mself\u001b[39m\u001b[38;5;241m.\u001b[39m_calls_to_executor \u001b[38;5;241m+\u001b[39m\u001b[38;5;241m=\u001b[39m \u001b[38;5;241m1\u001b[39m\n\u001b[1;32m    307\u001b[0m     \u001b[38;5;28;01mif\u001b[39;00m \u001b[38;5;28mself\u001b[39m\u001b[38;5;241m.\u001b[39mcan_batch:\n",
      "Input \u001b[0;32mIn [12]\u001b[0m, in \u001b[0;36mexecute_calibration\u001b[0;34m(qiskit_circuit)\u001b[0m\n\u001b[1;32m      2\u001b[0m \u001b[38;5;124;03m\"\"\"Execute the input circuits and return the measurement results.\"\"\"\u001b[39;00m\n\u001b[1;32m      3\u001b[0m noisy_backend \u001b[38;5;241m=\u001b[39m FakeJakarta()\n\u001b[0;32m----> 4\u001b[0m noisy_result \u001b[38;5;241m=\u001b[39m \u001b[43mnoisy_backend\u001b[49m\u001b[38;5;241;43m.\u001b[39;49m\u001b[43mrun\u001b[49m\u001b[43m(\u001b[49m\u001b[43mqiskit_circuit\u001b[49m\u001b[43m,\u001b[49m\u001b[43m \u001b[49m\u001b[43mshots\u001b[49m\u001b[38;5;241;43m=\u001b[39;49m\u001b[43mshots\u001b[49m\u001b[43m)\u001b[49m\u001b[38;5;241m.\u001b[39mresult()\n\u001b[1;32m      5\u001b[0m noisy_counts \u001b[38;5;241m=\u001b[39m noisy_result\u001b[38;5;241m.\u001b[39mget_counts(qiskit_circuit)\n\u001b[1;32m      6\u001b[0m measurements \u001b[38;5;241m=\u001b[39m MeasurementResult\u001b[38;5;241m.\u001b[39mfrom_counts(noisy_counts)\n",
      "File \u001b[0;32m/opt/miniconda3/envs/mitiq14/lib/python3.9/site-packages/qiskit/providers/fake_provider/fake_backend.py:542\u001b[0m, in \u001b[0;36mFakeBackend.run\u001b[0;34m(self, run_input, **kwargs)\u001b[0m\n\u001b[1;32m    540\u001b[0m             pulse_job \u001b[38;5;241m=\u001b[39m \u001b[38;5;28;01mFalse\u001b[39;00m\n\u001b[1;32m    541\u001b[0m \u001b[38;5;28;01mif\u001b[39;00m pulse_job \u001b[38;5;129;01mis\u001b[39;00m \u001b[38;5;28;01mNone\u001b[39;00m:\n\u001b[0;32m--> 542\u001b[0m     \u001b[38;5;28;01mraise\u001b[39;00m QiskitError(\n\u001b[1;32m    543\u001b[0m         \u001b[38;5;124m\"\u001b[39m\u001b[38;5;124mInvalid input object \u001b[39m\u001b[38;5;132;01m%s\u001b[39;00m\u001b[38;5;124m, must be either a \u001b[39m\u001b[38;5;124m\"\u001b[39m\n\u001b[1;32m    544\u001b[0m         \u001b[38;5;124m\"\u001b[39m\u001b[38;5;124mQuantumCircuit, Schedule, or a list of either\u001b[39m\u001b[38;5;124m\"\u001b[39m \u001b[38;5;241m%\u001b[39m circuits\n\u001b[1;32m    545\u001b[0m     )\n\u001b[1;32m    546\u001b[0m \u001b[38;5;28;01mif\u001b[39;00m pulse_job:\n\u001b[1;32m    547\u001b[0m     \u001b[38;5;28;01mif\u001b[39;00m _optionals\u001b[38;5;241m.\u001b[39mHAS_AER:\n",
      "\u001b[0;31mQiskitError\u001b[0m: 'Invalid input object 0: ───Y^0.5───X^0───@───Y^0.5───X^0.5───Y^-0.5───X^0.5───@───Y^0.5───X^0.5───X^0.5───Y^-0.5───@───X^-0.5───Y^-0.5───Y───────X^0───────────@───X^0──────Y^-0.5───X^0─────────────────────@───Y^0.5────@───Y────────X^0.5────Y────────X^0.5───@───Y^0.5────@───Y───────X^0.5───X^-0.5───Y^0─────────────@───Y^0.5────@───Y────────X^0.5───Y^-0.5───X^0.5───@───Y^0.5────@───Y^0.5───Y───X───────@───Y^0.5────@───Y^0.5───Y───────X───────────────────────@───X^-0.5───Y^-0.5───X^0.5───Y^-0.5────────────@───Y^0.5────@───X^-0.5───Y^-0.5───X^0.5───Y^-0.5───X^0.5───@───Y^0.5────@───Y───────X^0.5────X^0.5───Y^0──────@───X^-0.5───Y^-0.5───Y^0.5────X^0.5───Y^0.5───@───Y^0.5────@───X^-0.5───Y^-0.5───X^0.5───X^0───@───X^0──────Y^-0.5───X^0───────────────────────@───Y^0.5───X^0.5───Y^0.5───X^0.5───Y^0.5───@───Y^0.5───X^0.5────Y─────X^-0.5───@───Y^0.5────@───Y^0.5───X^-0.5───Y^0.5────@───Y^0.5────@───X^-0.5───Y^-0.5───X^0.5────X───Y^-0.5───@───X^-0.5───Y^-0.5───Y^-0.5───X^0.5───Y^-0.5───@───Y^0.5───X^0.5───M───\\n                    │                                    │                                    │                                           │                                             │            │                                      │            │                                            │            │                                     │            │                       │            │                                           │                                               │            │                                              │            │                                     │                                              │            │                                   │                                               │                                           │                                   │            │                             │            │                                           │                                               │                   │\\n1: ───Y───────X^0───@───Y^0.5───X───────Y^0──────────────@───Y───────X^0.5───X───────Y^0.5────@───X^-0.5───Y^-0.5───X^0.5───Y^0.5───X^0───@───X^-0.5───Y^-0.5───X^0.5───X^0.5───Y^0.5───@───X^-0.5───@───Y^-0.5───Y^-0.5───X^-0.5───────────@───X^-0.5───@───X^0.5───Y^0.5───X^0.5────Y^0.5───X^0.5───@───X^-0.5───@───Y^-0.5───Y^0.5───X^0──────────────@───X^-0.5───@───X^0.5───X───Y^0.5───@───X^-0.5───@───X^0.5───Y^0.5───X^0.5───X^0.5───Y^0.5───@───X^-0.5───Y^-0.5───X^0.5───Y^0.5────X^-0.5───@───X^-0.5───@───X^0.5────Y^0.5────X^0.5───X^0.5────Y^0─────@───X^-0.5───@───X^0.5───Y^-0.5───X^0.5───Y^-0.5───@───Y────────X^0.5────X^-0.5───Y^0.5───────────@───X^-0.5───@───Y^-0.5───Y^0.5────X^0.5─────────@───X^-0.5───Y^-0.5───X^0.5───Y^-0.5───X^-0.5───@───Y───────X^0.5───X^0.5───Y^0.5───────────@───Y^0.5───X^-0.5───Y^0────────────@───X^-0.5───@───X^0.5───Y^-0.5───X^-0.5───@───X^-0.5───@───X^0.5────X^0.5────Y^-0.5────────────────@───X^-0.5───Y^-0.5───X^0.5────X^0──────────────@───Y───────X^0.5───M───, must be either a QuantumCircuit, Schedule, or a list of either'"
     ]
    }
   ],
   "source": [
    "cal = Calibrator(execute_calibration, RBSettings)\n",
    "print(cal.get_cost())\n",
    "cal.run(log=True)"
   ]
  },
  {
   "cell_type": "markdown",
   "id": "eb74d849",
   "metadata": {},
   "source": [
    "As you can see above, several experiments were run, and each one has either a red cross (❌) or a green check (✅) to signal whether the error mitigation experiment obtained an expectation value that is better than the non-mitigated one."
   ]
  },
  {
   "cell_type": "code",
   "execution_count": 40,
   "id": "67891fe3",
   "metadata": {},
   "outputs": [
    {
     "name": "stdout",
     "output_type": "stream",
     "text": [
      "Calibration experiments have not yet been run. You can run the experiments manually by calling `calibrator.run()`, or they can be run now. The potential cost is:\n",
      "{'noisy_executions': 8, 'ideal_executions': 0}\n",
      "Would you like the experiments to be run automatically? (yes/no)n\n",
      "ideal = \t \t 1\n",
      "unmitigated = \t \t 0.932\n",
      "mitigated = \t \t 0.9529999999999992\n",
      "calibrated_mitigated = \t None\n"
     ]
    }
   ],
   "source": [
    "calibrated_mitigated=execute_with_mitigation(circuit, execute_circuit, calibrator=cal)\n",
    "mitigated=execute_with_zne(circuit, execute_circuit)\n",
    "unmitigated=execute_circuit(circuit)\n",
    "\n",
    "print(\"ideal = \\t \\t\",ideal)\n",
    "print(\"unmitigated = \\t \\t\",unmitigated)\n",
    "print(\"mitigated = \\t \\t\",mitigated)\n",
    "print(\"calibrated_mitigated = \\t\",calibrated_mitigated)"
   ]
  },
  {
   "cell_type": "code",
   "execution_count": null,
   "id": "2e82270e",
   "metadata": {},
   "outputs": [],
   "source": []
  }
 ],
 "metadata": {
  "jupytext": {
   "formats": "ipynb,md:myst"
  },
  "kernelspec": {
   "display_name": "Python 3 (ipykernel)",
   "language": "python",
   "name": "python3"
  },
  "language_info": {
   "codemirror_mode": {
    "name": "ipython",
    "version": 3
   },
   "file_extension": ".py",
   "mimetype": "text/x-python",
   "name": "python",
   "nbconvert_exporter": "python",
   "pygments_lexer": "ipython3",
   "version": "3.9.12"
  }
 },
 "nbformat": 4,
 "nbformat_minor": 5
}
