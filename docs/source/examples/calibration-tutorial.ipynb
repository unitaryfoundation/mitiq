{
 "cells": [
  {
   "cell_type": "markdown",
   "id": "596c1991",
   "metadata": {},
   "source": [
    "# Breaking into error mitigation with Mitiq's calibration module\n",
    "\n",
    "<img src=\"../_thumbnails/calibration.png\" width=\"400\">\n",
    "\n",
    "This tutorial helps answer the question: \"What quantum error\n",
    "mitigation technique should I use for my problem?\". The newly introduced\n",
    "`mitiq.calibration` module helps answer that in an optimized way, thrhough `Benchmarks` and `Strategies`.\n",
    "\n",
    "More specifically, this tutorial covers:\n",
    "\n",
    "- Getting started with Mitiq's calibration module with ZNE\n",
    "- Use Qiskit noisy simulator with `FakeJakarta` as backend\n",
    "- Run calibration with some special settings, `RBSettings`, using the `cal.run(log=True)` option\n",
    "\n",
    "## Getting started with Mitiq"
   ]
  },
  {
   "cell_type": "code",
   "execution_count": 1,
   "id": "ba27dcbd",
   "metadata": {},
   "outputs": [],
   "source": [
    "from mitiq.benchmarks import generate_rb_circuits\n",
    "from mitiq.zne import execute_with_zne\n",
    "from mitiq.zne.scaling import (\n",
    "    fold_gates_at_random,\n",
    "    fold_global,\n",
    "    fold_all\n",
    ")\n",
    "from mitiq.zne.inference import LinearFactory, RichardsonFactory\n",
    "from mitiq import (\n",
    "    Calibrator,\n",
    "    Settings,\n",
    "    execute_with_mitigation,\n",
    "    MeasurementResult,\n",
    ")\n",
    "\n",
    "from qiskit.providers.fake_provider import FakeJakarta  # Fake (simulated) QPU"
   ]
  },
  {
   "cell_type": "markdown",
   "id": "c0a4bf6e",
   "metadata": {},
   "source": [
    "### Define the circuit to study\n",
    "\n",
    "#### Global variables\n",
    "\n",
    "Define global variables for the quantum circuit of interest: number of qubits, depth of the quantum circuit and number of shots."
   ]
  },
  {
   "cell_type": "code",
   "execution_count": 2,
   "id": "de190306",
   "metadata": {},
   "outputs": [],
   "source": [
    "n_qubits = 2\n",
    "depth_circuit = 100\n",
    "shots = 10 ** 4"
   ]
  },
  {
   "cell_type": "markdown",
   "id": "b1b76024",
   "metadata": {},
   "source": [
    "#### Quantum circuit: Randomized benchmarking (RB)\n",
    "\n",
    "We now use Mitiq's built-in `generate_rb_circuits` from the `mitiq.benchmarks` module to define the quantum circuit."
   ]
  },
  {
   "cell_type": "code",
   "execution_count": 3,
   "id": "fc7032e2",
   "metadata": {},
   "outputs": [
    {
     "name": "stdout",
     "output_type": "stream",
     "text": [
      "1014\n"
     ]
    }
   ],
   "source": [
    "circuit = generate_rb_circuits(n_qubits, depth_circuit,return_type=\"qiskit\")[0]\n",
    "circuit.measure_all()\n",
    "print(len(circuit))"
   ]
  },
  {
   "cell_type": "markdown",
   "id": "5a748efb",
   "metadata": {},
   "source": [
    "We define a function that executes the quantum circuits and returns the expectation value. This is consumed by Mitiq's `execute_with_zne`. In this example, the expectation value is the probability of measuring the ground state, which is what one would expect from an ideal randomized benchmarking circuit."
   ]
  },
  {
   "cell_type": "code",
   "execution_count": 4,
   "id": "ac1ab5a9",
   "metadata": {},
   "outputs": [],
   "source": [
    "def execute_circuit(circuit):\n",
    "    \"\"\"Execute the input circuit and return the expectation value of |00..0><00..0|\"\"\"\n",
    "    noisy_backend = FakeJakarta()\n",
    "    noisy_result = noisy_backend.run(circuit, shots=shots).result()\n",
    "    noisy_counts = noisy_result.get_counts(circuit)\n",
    "    noisy_expectation_value = noisy_counts[n_qubits * \"0\"] / shots\n",
    "    return noisy_expectation_value"
   ]
  },
  {
   "cell_type": "code",
   "execution_count": 5,
   "id": "609bcf4b",
   "metadata": {},
   "outputs": [
    {
     "name": "stdout",
     "output_type": "stream",
     "text": [
      "ideal = \t \t 1\n",
      "unmitigated = \t \t 0.83140\n",
      "mitigated = \t \t 0.89887\n"
     ]
    }
   ],
   "source": [
    "mitigated = execute_with_zne(circuit, execute_circuit, scale_noise=fold_all, factory=LinearFactory([1, 3, 5]))\n",
    "unmitigated = execute_circuit(circuit)\n",
    "ideal = 1 #property of RB circuits\n",
    "\n",
    "print(\"ideal = \\t \\t\",ideal)\n",
    "print(\"unmitigated = \\t \\t\", \"{:.5f}\".format(unmitigated))\n",
    "print(\"mitigated = \\t \\t\", \"{:.5f}\".format(mitigated))"
   ]
  },
  {
   "cell_type": "markdown",
   "id": "e62c80ea",
   "metadata": {},
   "source": [
    "## Using calibration to improve the results\n",
    "\n",
    "Let's consider a noisy backend using the Qiskit noisy simulator, `FakeJakarta`. Note that the executor passed to the `Calibrator` object must return counts, as opposed to expectation values."
   ]
  },
  {
   "cell_type": "code",
   "execution_count": 6,
   "id": "8ac723aa",
   "metadata": {},
   "outputs": [],
   "source": [
    "def execute_calibration(qiskit_circuit):\n",
    "    \"\"\"Execute the input circuits and return the measurement results.\"\"\"\n",
    "    noisy_backend = FakeJakarta()\n",
    "    noisy_result = noisy_backend.run(qiskit_circuit, shots=shots).result()\n",
    "    noisy_counts = noisy_result.get_counts(qiskit_circuit)\n",
    "    noisy_counts = { k.replace(\" \",\"\"):v for k, v in noisy_counts.items()}\n",
    "    measurements = MeasurementResult.from_counts(noisy_counts)\n",
    "    return measurements"
   ]
  },
  {
   "cell_type": "markdown",
   "id": "ccab0b8c",
   "metadata": {},
   "source": [
    "We import from the calibration module the key ingredients to use `mitiq.calibration`: the `Calibrator` class, the `mitiq.calibration.settings.Settings` class and the `execute_with_mitigation` function.\n",
    "\n",
    "Currently `mitiq.calibration` supports ZNE as a technique to calibrate from, tuning different scale factors, extrapolation methods and circuit scaling methods.\n",
    "\n",
    "Let's run the calibration using an ad-hoc RBSettings and using the `log=True` option in order to print the list of experiments run.\n",
    "\n",
    "- benchmarks: Circuit type: \"rb\"\n",
    "- strategies: use various \"zne\" strategies, testing various \"scale_noise\" methods\n",
    "(such as `mitiq.zne.scaling.folding.fold_global`, `mitiq.zne.scaling.folding.fold_gates_at_random`, and `mitiq.zne.scaling.folding.fold_all`), \n",
    "and ZNE factories for extrapolation (such as `mitiq.zne.inference.RichardsonFactory` and `mitiq.zne.inference.LinearFactory`)"
   ]
  },
  {
   "cell_type": "code",
   "execution_count": 7,
   "id": "f9cf7e56",
   "metadata": {},
   "outputs": [],
   "source": [
    "RBSettings = Settings(\n",
    "    benchmarks=[\n",
    "        {\n",
    "            \"circuit_type\": \"rb\",\n",
    "            \"num_qubits\": 2,\n",
    "            \"circuit_depth\": int(depth_circuit / 2),\n",
    "        },\n",
    "    ],\n",
    "    strategies=[\n",
    "        {\n",
    "            \"technique\": \"zne\",\n",
    "            \"scale_noise\": fold_global,\n",
    "            \"factory\": RichardsonFactory([1.0, 2.0, 3.0]),\n",
    "        },\n",
    "        {\n",
    "            \"technique\": \"zne\",\n",
    "            \"scale_noise\": fold_global,\n",
    "            \"factory\": RichardsonFactory([1.0, 3.0, 5.0]),\n",
    "        },\n",
    "        {\n",
    "            \"technique\": \"zne\",\n",
    "            \"scale_noise\": fold_global,\n",
    "            \"factory\": LinearFactory([1.0, 2.0, 3.0]),\n",
    "        },\n",
    "        {\n",
    "            \"technique\": \"zne\",\n",
    "            \"scale_noise\": fold_global,\n",
    "            \"factory\": LinearFactory([1.0, 3.0, 5.0]),\n",
    "        },\n",
    "\n",
    "        {\n",
    "            \"technique\": \"zne\",\n",
    "            \"scale_noise\": fold_gates_at_random,\n",
    "            \"factory\": RichardsonFactory([1.0, 2.0, 3.0]),\n",
    "        },\n",
    "        {\n",
    "            \"technique\": \"zne\",\n",
    "            \"scale_noise\": fold_gates_at_random,\n",
    "            \"factory\": RichardsonFactory([1.0, 3.0, 5.0]),\n",
    "        },\n",
    "        {\n",
    "            \"technique\": \"zne\",\n",
    "            \"scale_noise\": fold_gates_at_random,\n",
    "            \"factory\": LinearFactory([1.0, 2.0, 3.0]),\n",
    "        },\n",
    "        {\n",
    "            \"technique\": \"zne\",\n",
    "            \"scale_noise\": fold_gates_at_random,\n",
    "            \"factory\": LinearFactory([1.0, 3.0, 5.0]),\n",
    "        },\n",
    "\n",
    "        {\n",
    "            \"technique\": \"zne\",\n",
    "            \"scale_noise\": fold_all,\n",
    "            \"factory\": RichardsonFactory([1.0, 2.0, 3.0]),\n",
    "        },\n",
    "        {\n",
    "            \"technique\": \"zne\",\n",
    "            \"scale_noise\": fold_all,\n",
    "            \"factory\": RichardsonFactory([1.0, 3.0, 5.0]),\n",
    "        },\n",
    "        {\n",
    "            \"technique\": \"zne\",\n",
    "            \"scale_noise\": fold_all,\n",
    "            \"factory\": LinearFactory([1.0, 2.0, 3.0]),\n",
    "        },\n",
    "        {\n",
    "            \"technique\": \"zne\",\n",
    "            \"scale_noise\": fold_all,\n",
    "            \"factory\": LinearFactory([1.0, 3.0, 5.0]),\n",
    "        },\n",
    "        \n",
    "    ],\n",
    ")"
   ]
  },
  {
   "cell_type": "code",
   "execution_count": 8,
   "id": "6b1127f5",
   "metadata": {
    "scrolled": true
   },
   "outputs": [
    {
     "name": "stdout",
     "output_type": "stream",
     "text": [
      "| performance | circuit | method | extrapolation | scale factors | scale_method         |\n",
      "| ----------- | ------- | ------ | ------------- | ------------- | -------------------- |\n",
      "|     ✅      |   rb    |  ZNE   | Richardson    | 1.0, 2.0, 3.0 | fold_global          |\n",
      "|     ✅      |   rb    |  ZNE   | Richardson    | 1.0, 3.0, 5.0 | fold_global          |\n",
      "|     ✅      |   rb    |  ZNE   | Linear        | 1.0, 2.0, 3.0 | fold_global          |\n",
      "|     ✅      |   rb    |  ZNE   | Linear        | 1.0, 3.0, 5.0 | fold_global          |\n",
      "|     ✅      |   rb    |  ZNE   | Richardson    | 1.0, 2.0, 3.0 | fold_gates_at_random |\n",
      "|     ✅      |   rb    |  ZNE   | Richardson    | 1.0, 3.0, 5.0 | fold_gates_at_random |\n",
      "|     ✅      |   rb    |  ZNE   | Linear        | 1.0, 2.0, 3.0 | fold_gates_at_random |\n",
      "|     ✅      |   rb    |  ZNE   | Linear        | 1.0, 3.0, 5.0 | fold_gates_at_random |\n",
      "|     ❌      |   rb    |  ZNE   | Richardson    | 1.0, 2.0, 3.0 | fold_all             |\n",
      "|     ✅      |   rb    |  ZNE   | Richardson    | 1.0, 3.0, 5.0 | fold_all             |\n",
      "|     ✅      |   rb    |  ZNE   | Linear        | 1.0, 2.0, 3.0 | fold_all             |\n",
      "|     ✅      |   rb    |  ZNE   | Linear        | 1.0, 3.0, 5.0 | fold_all             |\n"
     ]
    }
   ],
   "source": [
    "cal = Calibrator(execute_calibration, frontend=\"qiskit\", settings=RBSettings)\n",
    "cal.run(log=True)"
   ]
  },
  {
   "cell_type": "markdown",
   "id": "0eb7bc47",
   "metadata": {},
   "source": [
    "As you can see above, several experiments were run, and each one has either a red cross (❌) or a green check (✅) to signal whether the error mitigation experiment obtained an expectation value that is better than the non-mitigated one."
   ]
  },
  {
   "cell_type": "code",
   "execution_count": 9,
   "id": "0b64c199",
   "metadata": {},
   "outputs": [
    {
     "name": "stdout",
     "output_type": "stream",
     "text": [
      "ideal = \t \t 1\n",
      "unmitigated = \t \t 0.84220\n",
      "mitigated = \t \t 0.90774\n",
      "calibrated_mitigated = \t 0.96590\n"
     ]
    }
   ],
   "source": [
    "calibrated_mitigated=execute_with_mitigation(circuit, execute_circuit, calibrator=cal)\n",
    "mitigated=execute_with_zne(circuit, execute_circuit, scale_noise=fold_all, factory=LinearFactory([1, 3, 5]))\n",
    "unmitigated=execute_circuit(circuit)\n",
    "\n",
    "print(\"ideal = \\t \\t\",ideal)\n",
    "print(\"unmitigated = \\t \\t\", \"{:.5f}\".format(unmitigated))\n",
    "print(\"mitigated = \\t \\t\", \"{:.5f}\".format(mitigated))\n",
    "print(\"calibrated_mitigated = \\t\", \"{:.5f}\".format(calibrated_mitigated))"
   ]
  },
  {
   "cell_type": "markdown",
   "id": "473fad70",
   "metadata": {},
   "source": [
    "We can see that the mitigated and calibrated-mitigated values show improvement over the unmitigated value, and that the calibrated value shows a larger improvement, achieving the objective of the calibration process."
   ]
  }
 ],
 "metadata": {
  "jupytext": {
   "formats": "ipynb,md:myst"
  },
  "kernelspec": {
   "display_name": "Python 3 (ipykernel)",
   "language": "python",
   "name": "python3"
  },
  "language_info": {
   "codemirror_mode": {
    "name": "ipython",
    "version": 3
   },
   "file_extension": ".py",
   "mimetype": "text/x-python",
   "name": "python",
   "nbconvert_exporter": "python",
   "pygments_lexer": "ipython3",
   "version": "3.8.13"
  }
 },
 "nbformat": 4,
 "nbformat_minor": 5
}
