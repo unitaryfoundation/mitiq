{
 "cells": [
  {
   "cell_type": "markdown",
   "id": "9507f0ac",
   "metadata": {},
   "source": [
    "# Breaking into error mitigation with Mitiq's calibration module"
   ]
  },
  {
   "cell_type": "markdown",
   "id": "1d973265",
   "metadata": {},
   "source": [
    "<img src=\"../_thumbnails/calibration.png\" width=\"400\">"
   ]
  },
  {
   "cell_type": "markdown",
   "id": "b2cbb845",
   "metadata": {},
   "source": [
    "This tutorial helps answer the question: \"What quantum error\n",
    "mitigation technique should I use for my problem?\". The newly introduced\n",
    "`mitiq.calibration` module helps answer that in an optimized way, thrhough `Benchmarks` and `Strategies`.\n",
    "\n",
    "More specifically, this tutorial covers:\n",
    "- Getting started with Mitiq's calibration module with ZNE\n",
    "- Use Qiskit noisy simulator with `FakeJakarta` as backend\n",
    "- Run calibration with some special settings, `RBSettings`, using the `cal.run(log=True)` option"
   ]
  },
  {
   "cell_type": "markdown",
   "id": "d1b83599",
   "metadata": {},
   "source": [
    "## Getting started with Mitiq"
   ]
  },
  {
   "cell_type": "code",
   "execution_count": null,
   "id": "23a0b07a",
   "metadata": {},
   "outputs": [],
   "source": [
    "import numpy as np\n",
    "from mitiq import MeasurementResult\n",
    "from mitiq.interface.mitiq_qiskit.conversions import to_qiskit, from_qiskit\n",
    "import mitiq"
   ]
  },
  {
   "cell_type": "code",
   "execution_count": null,
   "id": "30750096",
   "metadata": {},
   "outputs": [],
   "source": [
    "from mitiq.benchmarks import generate_rb_circuits\n",
    "from mitiq.zne import execute_with_zne\n",
    "from mitiq.zne.inference import LinearFactory, RichardsonFactory\n",
    "from mitiq.zne.scaling import (\n",
    "    fold_gates_at_random,\n",
    "    fold_global,\n",
    ")\n",
    "\n",
    "from mitiq.calibration import Calibrator, ZNESettings, execute_with_mitigation\n",
    "from mitiq.calibration.settings import Settings"
   ]
  },
  {
   "cell_type": "code",
   "execution_count": null,
   "id": "64266a11",
   "metadata": {},
   "outputs": [],
   "source": [
    "from qiskit.providers.fake_provider import FakeJakarta  # Fake (simulated) QPU"
   ]
  },
  {
   "cell_type": "markdown",
   "id": "941def11",
   "metadata": {},
   "source": [
    "### Define the circuit to study\n",
    "\n",
    "#### Global variables\n",
    "Define global variables for the quantum circuit of interest: number of qubits, depth of the quantum circuit and number of shots."
   ]
  },
  {
   "cell_type": "code",
   "execution_count": null,
   "id": "4e96d4b4",
   "metadata": {},
   "outputs": [],
   "source": [
    "n_qubits = 2\n",
    "depth_circuit= 20\n",
    "shots = 10 ** 3"
   ]
  },
  {
   "cell_type": "markdown",
   "id": "7a1abb3c",
   "metadata": {},
   "source": [
    "#### Quantum circuit: Randomized benchmarking (RB)\n",
    "We now use Mitiq's built-in `generate_rb_circuits` from the `mitiq.benchmarks` module to define the quantum circuit."
   ]
  },
  {
   "cell_type": "code",
   "execution_count": null,
   "id": "663e1907",
   "metadata": {},
   "outputs": [],
   "source": [
    "circuit = generate_rb_circuits(n_qubits, depth_circuit,return_type=\"qiskit\")[0]#,trials=3)#[0]\n",
    "circuit.measure_all()\n",
    "print(len(circuit))\n",
    "print(circuit)"
   ]
  },
  {
   "cell_type": "markdown",
   "id": "0bbee354",
   "metadata": {},
   "source": [
    "We define a function that executes the quantum circuits and returns the expectation value. This is consumed by Mitiq's `execute_with_zne`."
   ]
  },
  {
   "cell_type": "code",
   "execution_count": null,
   "id": "c73dd60e",
   "metadata": {},
   "outputs": [],
   "source": [
    "def execute_circuit(circuit):\n",
    "    \"\"\"Execute the input circuit and return the expectation value of |00..0><00..0|\"\"\"\n",
    "    noisy_backend = FakeJakarta()\n",
    "    noisy_result = noisy_backend.run(circuit, shots=shots).result()\n",
    "    noisy_counts = noisy_result.get_counts(circuit)\n",
    "    noisy_expectation_value = noisy_counts[n_qubits * \"0\"] / shots\n",
    "    return noisy_expectation_value"
   ]
  },
  {
   "cell_type": "code",
   "execution_count": null,
   "id": "7f5e4f41",
   "metadata": {},
   "outputs": [],
   "source": [
    "mitigated = execute_with_zne(circuit, execute_circuit)\n",
    "unmitigated = execute_circuit(circuit)\n",
    "ideal = 1 #property of RB circuits\n",
    "\n",
    "print(\"ideal = \\t \\t\",ideal)\n",
    "print(\"unmitigated = \\t \\t\",unmitigated)\n",
    "print(\"mitigated = \\t \\t\",mitigated)"
   ]
  },
  {
   "cell_type": "markdown",
   "id": "008a3d80",
   "metadata": {},
   "source": [
    "## Using calibration to improve the results"
   ]
  },
  {
   "cell_type": "markdown",
   "id": "94e3726b",
   "metadata": {},
   "source": [
    "Let's consider a noisy backend using the Qiskit noisy simulator, `FakeJakarta`."
   ]
  },
  {
   "cell_type": "code",
   "execution_count": null,
   "id": "3f1a0523",
   "metadata": {},
   "outputs": [],
   "source": [
    "def execute_calibration(cirq_circuit):\n",
    "    \"\"\"Execute the input circuits and return the measurement results.\"\"\"\n",
    "    qiskit_circuit = to_qiskit(cirq_circuit)\n",
    "    noisy_backend = FakeJakarta()\n",
    "    noisy_result = noisy_backend.run(qiskit_circuit, shots=shots).result()\n",
    "    noisy_counts = noisy_result.get_counts(qiskit_circuit)\n",
    "    measurements = MeasurementResult.from_counts(noisy_counts)\n",
    "    return measurements"
   ]
  },
  {
   "cell_type": "markdown",
   "id": "e3d87359",
   "metadata": {},
   "source": [
    "We import from the calibration module the key ingredients to use `mitiq.calibration`: the `Calibrator` class, the `mitiq.calibration.settings.Settings` class and the `execute_with_mitigation` function.\n",
    "\n",
    "Currently `mitiq.calibration` supports ZNE as a technique to calibrate from, tuning different scale factors, extrapolation methods and circuit scaling methods."
   ]
  },
  {
   "cell_type": "markdown",
   "id": "eb709a59",
   "metadata": {},
   "source": [
    "Let's run the calibration using an ad-hoc RBSettings and using the `log=True` option in order to print the list of experiments run."
   ]
  },
  {
   "cell_type": "markdown",
   "id": "09309cda",
   "metadata": {},
   "source": [
    "- benchmarks: Circuit type: \"rb\"\n",
    "- strategies: use various \"zne\" strategies, testing various \"scale_noise\" methods, and ZNE factories for extrapolation"
   ]
  },
  {
   "cell_type": "code",
   "execution_count": null,
   "id": "3dfac691",
   "metadata": {},
   "outputs": [],
   "source": [
    "RBSettings = Settings(\n",
    "    benchmarks=[\n",
    "        {\n",
    "            \"circuit_type\": \"rb\",\n",
    "            \"num_qubits\": n_qubits,\n",
    "            \"circuit_depth\": depth_circuit,\n",
    "        },\n",
    "    ],\n",
    "    strategies=[\n",
    "        {\n",
    "            \"technique\": \"zne\",\n",
    "            \"scale_noise\": fold_global,\n",
    "            \"factory\": RichardsonFactory([1.0, 2.0, 3.0]),\n",
    "        },\n",
    "        {\n",
    "            \"technique\": \"zne\",\n",
    "            \"scale_noise\": fold_global,\n",
    "            \"factory\": RichardsonFactory([1.0, 3.0, 5.0]),\n",
    "        },\n",
    "        {\n",
    "            \"technique\": \"zne\",\n",
    "            \"scale_noise\": fold_global,\n",
    "            \"factory\": LinearFactory([1.0, 2.0, 3.0]),\n",
    "        },\n",
    "        {\n",
    "            \"technique\": \"zne\",\n",
    "            \"scale_noise\": fold_global,\n",
    "            \"factory\": LinearFactory([1.0, 3.0, 5.0]),\n",
    "        },\n",
    "        {\n",
    "            \"technique\": \"zne\",\n",
    "            \"scale_noise\": fold_gates_at_random,\n",
    "            \"factory\": RichardsonFactory([1.0, 2.0, 3.0]),\n",
    "        },\n",
    "        {\n",
    "            \"technique\": \"zne\",\n",
    "            \"scale_noise\": fold_gates_at_random,\n",
    "            \"factory\": RichardsonFactory([1.0, 3.0, 5.0]),\n",
    "        },\n",
    "        {\n",
    "            \"technique\": \"zne\",\n",
    "            \"scale_noise\": fold_gates_at_random,\n",
    "            \"factory\": LinearFactory([1.0, 2.0, 3.0]),\n",
    "        },\n",
    "        {\n",
    "            \"technique\": \"zne\",\n",
    "            \"scale_noise\": fold_gates_at_random,\n",
    "            \"factory\": LinearFactory([1.0, 3.0, 5.0]),\n",
    "        },\n",
    "    ],\n",
    ")"
   ]
  },
  {
   "cell_type": "code",
   "execution_count": null,
   "id": "a49505d8",
   "metadata": {},
   "outputs": [],
   "source": [
    "cal = Calibrator(execute_calibration, RBSettings)\n",
    "print(cal.get_cost())\n",
    "cal.run(log=True)"
   ]
  },
  {
   "cell_type": "markdown",
   "id": "c651b0b4",
   "metadata": {},
   "source": [
    "As you can see above, several experiments were run, and each one has either a red cross (❌) or a green check (✅) to signal whether the error mitigation experiment obtained an expectation value that is better than the non-mitigated one."
   ]
  },
  {
   "cell_type": "code",
   "execution_count": null,
   "id": "80538c35",
   "metadata": {},
   "outputs": [],
   "source": [
    "calibrated_mitigated=execute_with_mitigation(circuit, execute_circuit, calibrator=cal)\n",
    "mitigated=execute_with_zne(circuit, execute_circuit)\n",
    "unmitigated=execute_circuit(circuit)\n",
    "\n",
    "print(\"ideal = \\t \\t\",ideal)\n",
    "print(\"unmitigated = \\t \\t\",unmitigated)\n",
    "print(\"mitigated = \\t \\t\",mitigated)\n",
    "print(\"calibrated_mitigated = \\t\",calibrated_mitigated)"
   ]
  }
 ],
 "metadata": {
  "jupytext": {
   "formats": "ipynb,md:myst"
  },
  "kernelspec": {
   "display_name": "Python 3 (ipykernel)",
   "language": "python",
   "name": "python3"
  },
  "language_info": {
   "codemirror_mode": {
    "name": "ipython",
    "version": 3
   },
   "file_extension": ".py",
   "mimetype": "text/x-python",
   "name": "python",
   "nbconvert_exporter": "python",
   "pygments_lexer": "ipython3",
   "version": "3.9.12"
  }
 },
 "nbformat": 4,
 "nbformat_minor": 5
}
