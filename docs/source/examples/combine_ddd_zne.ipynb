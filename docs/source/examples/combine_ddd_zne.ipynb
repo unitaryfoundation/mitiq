{
 "cells": [
  {
   "cell_type": "markdown",
   "id": "13b6ddba",
   "metadata": {},
   "source": [
    "# Composing techniques: Digital Dynamical Decoupling and Zero Noise Extrapolation\n",
    "\n",
    "Noise in quantum computers can arise from a variety of sources, and sometimes applying multiple error mitigation techniques can be more beneficial than applying a single technique alone. \n",
    "\n",
    "Here we apply a combination of Digital Dynamical Decoupling (DDD) and Zero Noise Extrapolation (ZNE) to a randomized benchmarking (RB) task.\n",
    "\n",
    "In [DDD](../guide/ddd.md), the input quantum circuit is modified by adding in gate sequences at regular intervals designed to reduce interaction between (i.e., decouple) the qubits from their environment. \n",
    "\n",
    "In [ZNE](../guide/zne.md), the expectation value of the observable of interest is computed at different noise levels, and subsequently the ideal expectation value is inferred by extrapolating the measured results to the zero-noise\n",
    "limit. \n",
    "More information on the DDD and ZNE techniques can be found in the corresponding sections of the user guide (linked\n",
    "above)."
   ]
  },
  {
   "cell_type": "markdown",
   "id": "4c5133af",
   "metadata": {},
   "source": [
    "## Setup\n",
    "\n",
    "We begin by importing the relevant modules and libraries required for the rest of this tutorial."
   ]
  },
  {
   "cell_type": "code",
   "execution_count": null,
   "id": "fcd76178",
   "metadata": {},
   "outputs": [],
   "source": [
    "import cirq\n",
    "import numpy as np\n",
    "from mitiq.benchmarks import generate_rb_circuits\n",
    "from mitiq import MeasurementResult, Observable, PauliString"
   ]
  },
  {
   "cell_type": "markdown",
   "id": "efdb5e58",
   "metadata": {},
   "source": [
    "## Task\n",
    "\n",
    "We will demonstrate using DDD + ZNE on RB circuits, which are generated using Mitiq's built-in benchmarking circuit generation function, `generate_rb_circuits()`. \n",
    "More information on the RB protocol is available in the [Randomized Benchmarking section](https://qiskit.org/ecosystem/experiments/manuals/verification/randomized_benchmarking.html) of the [Qiskit Experiments Manual](https://qiskit.org/ecosystem/experiments/manuals). \n",
    "In this example we use a two-qubit RB circuit with a Clifford depth (number of Clifford groups) of 10."
   ]
  },
  {
   "cell_type": "code",
   "execution_count": null,
   "id": "8decee5d",
   "metadata": {},
   "outputs": [],
   "source": [
    "# Perhaps better to use something with more structure, e.g. GHZ\n",
    "circuit = generate_rb_circuits(2, 10)[0]"
   ]
  },
  {
   "cell_type": "markdown",
   "id": "1fc4687f",
   "metadata": {},
   "source": [
    "## Noise model and executor\n",
    "\n",
    "The noise in this example is a combination of depolarizing and readout errors, the latter of which are modeled as bit flips immediately prior to measurement. We use an [executor function](../guide/executors.md) to run the quantum circuit with the noise model applied."
   ]
  },
  {
   "cell_type": "code",
   "execution_count": null,
   "id": "2515d7b4",
   "metadata": {},
   "outputs": [],
   "source": [
    "def execute(circuit: cirq.Circuit, noise_level: float = 0.002, p0: float = 0.05) -> MeasurementResult:\n",
    "    \"\"\"\n",
    "    TO-DO: change noise models between non-Markovian noise and Markovian noise.\n",
    "\n",
    "    Execute a circuit with depolarizing noise of strength ``noise_level`` and readout errors ...\n",
    "    \"\"\"\n",
    "    measurements = circuit[-1] # Last operation in circuit\n",
    "    circuit =  circuit[:-1] # Everything before the mmt\n",
    "    circuit = circuit.with_noise(cirq.depolarize(noise_level))\n",
    "\n",
    "    # \"Readout noise\" (applied to all qubits just before mmt)\n",
    "    circuit.append(cirq.bit_flip(p0).on_each(circuit.all_qubits()))\n",
    "    circuit.append(measurements)\n",
    "\n",
    "    simulator = cirq.DensityMatrixSimulator()\n",
    "\n",
    "    result = simulator.run(circuit, repetitions=10000)\n",
    "    bitstrings = np.column_stack(list(result.measurements.values()))\n",
    "    return MeasurementResult(bitstrings)"
   ]
  },
  {
   "cell_type": "markdown",
   "id": "d7f71056",
   "metadata": {},
   "source": [
    "## Observable\n",
    "\n",
    "In this example, the observable of interest is $ZI + IZ$."
   ]
  },
  {
   "cell_type": "code",
   "execution_count": null,
   "id": "e34510ce",
   "metadata": {},
   "outputs": [],
   "source": [
    "obs = Observable(PauliString(\"ZI\"), PauliString(\"IZ\"))"
   ]
  },
  {
   "cell_type": "markdown",
   "id": "22cdd7f0",
   "metadata": {},
   "source": [
    "For the circuit defined above, the ideal (noiseless) expectation value of the $ZI + IZ$ observable is 2, but as we will see, the unmitigated (noisy) result is impacted by depolarizing and readout errors."
   ]
  },
  {
   "cell_type": "code",
   "execution_count": null,
   "id": "b4b71c37",
   "metadata": {},
   "outputs": [],
   "source": [
    "from functools import partial\n",
    "\n",
    "ideal_exec = partial(execute, noise_level=0, p0=0)\n",
    "\n",
    "ideal = obs.expectation(circuit, ideal_exec)\n",
    "print(\"Ideal value:\", \"{:.5f}\".format(ideal.real))\n",
    "\n",
    "noisy = obs.expectation(circuit, execute)\n",
    "print(\"Unmitigated noisy value:\", \"{:.5f}\".format(noisy.real))"
   ]
  },
  {
   "cell_type": "markdown",
   "id": "0ac14328",
   "metadata": {},
   "source": [
    "Next we choose our gate sequences to be used in the digital dynamical decoupling routine (DDD). \n",
    "More information on choosing appropriate sequences can be found in the [DDD theory](../guide/ddd-5-theory.md#common-examples-of-ddd-sequences) section of the user guide."
   ]
  },
  {
   "cell_type": "code",
   "execution_count": null,
   "id": "85e6a97d",
   "metadata": {},
   "outputs": [],
   "source": [
    "# Double check that the circuit actually gets updated with the control sequences"
   ]
  },
  {
   "cell_type": "code",
   "execution_count": null,
   "id": "cf6011d7",
   "metadata": {},
   "outputs": [],
   "source": [
    "from mitiq import ddd\n",
    "\n",
    "rule = ddd.rules.xyxy\n",
    "\n",
    "# Pretty sure I need something like batched_executor or serial executor. \n",
    "#\n",
    "ddd_executor = ddd.mitigate_executor(execute, rule=rule)\n",
    "\n",
    "ddd_result = obs.expectation(circuit, ddd_executor) # Currently not supported?\n",
    "print(\"Mitigated value obtained with DDD:\", \"{:.5f}\".format(ddd_result.real))"
   ]
  },
  {
   "cell_type": "markdown",
   "id": "48e4c19d",
   "metadata": {},
   "source": [
    "We can see that REM improves the results, but errors remain.\n",
    "For comparison, we then apply ZNE without REM."
   ]
  },
  {
   "cell_type": "code",
   "execution_count": null,
   "id": "9a416297",
   "metadata": {},
   "outputs": [],
   "source": [
    "from mitiq import zne\n",
    "\n",
    "zne_executor = zne.mitigate_executor(execute, observable=obs, scale_noise=zne.scaling.folding.fold_global)\n",
    "zne_result = zne_executor(circuit)\n",
    "print(\"Mitigated value obtained with ZNE:\", \"{:.5f}\".format(zne_result.real))"
   ]
  },
  {
   "cell_type": "markdown",
   "id": "16efff77",
   "metadata": {},
   "source": [
    "Finally, we apply a combination of REM and ZNE.\n",
    "REM is applied first to minimize the impact of measurement errors on the extrapolated result in ZNE."
   ]
  },
  {
   "cell_type": "code",
   "execution_count": null,
   "id": "7c66ccb4",
   "metadata": {},
   "outputs": [],
   "source": [
    "combined_executor = zne.mitigate_executor(ddd_executor, observable=obs, scale_noise=zne.scaling.folding.fold_global)\n",
    "\n",
    "combined_result = combined_executor(circuit)\n",
    "print(\"Mitigated value obtained with REM + ZNE:\", \"{:.5f}\".format(combined_result.real))"
   ]
  },
  {
   "cell_type": "markdown",
   "id": "0e6d91a6",
   "metadata": {},
   "source": [
    "From this example we can see that each technique affords some improvement, and the combination of REM and ZNE is more effective in mitigating errors than either technique alone."
   ]
  }
 ],
 "metadata": {
  "kernelspec": {
   "display_name": "Python 3 (ipykernel)",
   "language": "python",
   "name": "python3"
  },
  "language_info": {
   "codemirror_mode": {
    "name": "ipython",
    "version": 3
   },
   "file_extension": ".py",
   "mimetype": "text/x-python",
   "name": "python",
   "nbconvert_exporter": "python",
   "pygments_lexer": "ipython3",
   "version": "3.10.14"
  }
 },
 "nbformat": 4,
 "nbformat_minor": 5
}
