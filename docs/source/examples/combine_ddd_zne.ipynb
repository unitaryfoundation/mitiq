{
 "cells": [
  {
   "cell_type": "markdown",
   "id": "13b6ddba",
   "metadata": {},
   "source": [
    "# Composing techniques: Digital Dynamical Decoupling and Zero Noise Extrapolation\n",
    "\n",
    "Noise in quantum computers can arise from a variety of sources, and sometimes applying multiple error mitigation techniques can be more beneficial than applying a single technique alone. \n",
    "\n",
    "Here we apply a combination of Digital Dynamical Decoupling (DDD) and Zero Noise Extrapolation (ZNE) to a randomized benchmarking (RB) task.\n",
    "\n",
    "In [DDD](../guide/ddd.md), the input quantum circuit is modified by adding in gate sequences at regular intervals designed to reduce interaction between (i.e., decouple) the qubits from their environment. \n",
    "\n",
    "In [ZNE](../guide/zne.md), the expectation value of the observable of interest is computed at different noise levels, and subsequently the ideal expectation value is inferred by extrapolating the measured results to the zero-noise\n",
    "limit. \n",
    "More information on the DDD and ZNE techniques can be found in the corresponding sections of the user guide (linked\n",
    "above)."
   ]
  },
  {
   "cell_type": "markdown",
   "id": "4c5133af",
   "metadata": {},
   "source": [
    "## Setup\n",
    "\n",
    "We begin by importing the relevant modules and libraries required for the rest of this tutorial."
   ]
  },
  {
   "cell_type": "code",
   "execution_count": 116,
   "id": "fcd76178",
   "metadata": {},
   "outputs": [],
   "source": [
    "import cirq\n",
    "import numpy as np\n",
    "from mitiq.benchmarks import generate_rb_circuits\n",
    "from mitiq import MeasurementResult, Observable, PauliString"
   ]
  },
  {
   "cell_type": "markdown",
   "id": "efdb5e58",
   "metadata": {},
   "source": [
    "## Task\n",
    "\n",
    "We will demonstrate using DDD + ZNE on RB circuits, which are generated using Mitiq's built-in benchmarking circuit generation function, `generate_rb_circuits()`. \n",
    "More information on the RB protocol is available in the [Randomized Benchmarking section](https://qiskit.org/ecosystem/experiments/manuals/verification/randomized_benchmarking.html) of the [Qiskit Experiments Manual](https://qiskit.org/ecosystem/experiments/manuals). \n",
    "In this example we use a two-qubit RB circuit with a Clifford depth (number of Clifford groups) of 10."
   ]
  },
  {
   "cell_type": "code",
   "execution_count": 117,
   "id": "8decee5d",
   "metadata": {},
   "outputs": [],
   "source": [
    "# TODO Perhaps better to use something with more structure, e.g. GHZ\n",
    "circuit = generate_rb_circuits(2, 10)[0]"
   ]
  },
  {
   "cell_type": "markdown",
   "id": "1fc4687f",
   "metadata": {},
   "source": [
    "## Noise model and executor\n",
    "\n",
    "**Importantly**, since DDD is designed to mitigate time-correlated (non-Markovian) noise, we simulate systematic $R_z$ rotations and depolarising noise applied to each qubit after each time step. This corresponds to noise which is strongly time-correlated and, therefore, likely to be mitigated by DDD.\n",
    "\n",
    "We use an [executor function](../guide/executors.md) to run the quantum circuit with the noise model applied."
   ]
  },
  {
   "cell_type": "code",
   "execution_count": 118,
   "id": "2515d7b4",
   "metadata": {},
   "outputs": [],
   "source": [
    "def execute(\n",
    "    circuit: cirq.Circuit, \n",
    "    rz_noise: float = 0.05,\n",
    "    depolar_noise: float = 0.001\n",
    "    ) -> MeasurementResult:\n",
    "    \"\"\"\n",
    "    Execute a circuit with R_z dephasing noise of strength ``rz_noise`` and \n",
    "    depolarizing noise ``depolar_noise``\n",
    "    \"\"\"\n",
    "    # Simulate systematic dephasing (coherent RZ) on each qubit for each moment.\n",
    "    circuit = circuit.with_noise(cirq.rz(rz_noise))\n",
    "\n",
    "    # Simulate systematic depolarizing on each qubit for each moment.\n",
    "    circuit = circuit.with_noise(cirq.bit_flip(depolar_noise))\n",
    "\n",
    "    simulator = cirq.DensityMatrixSimulator()\n",
    "\n",
    "    result = simulator.run(circuit, repetitions=1000)\n",
    "    \n",
    "    bitstrings = np.column_stack(list(result.measurements.values()))\n",
    "    return MeasurementResult(bitstrings)"
   ]
  },
  {
   "cell_type": "markdown",
   "id": "d7f71056",
   "metadata": {},
   "source": [
    "## Observable\n",
    "\n",
    "In this example, the observable of interest is $ZI + IZ$."
   ]
  },
  {
   "cell_type": "code",
   "execution_count": 119,
   "id": "e34510ce",
   "metadata": {},
   "outputs": [],
   "source": [
    "obs = Observable(PauliString(\"ZI\"), PauliString(\"IZ\"))"
   ]
  },
  {
   "cell_type": "markdown",
   "id": "22cdd7f0",
   "metadata": {},
   "source": [
    "For the circuit defined above, the ideal (noiseless) expectation value of the $ZI + IZ$ observable is 2, but as we will see, the unmitigated (noisy) result is impacted by depolarizing and readout errors."
   ]
  },
  {
   "cell_type": "code",
   "execution_count": 120,
   "id": "b4b71c37",
   "metadata": {},
   "outputs": [
    {
     "name": "stdout",
     "output_type": "stream",
     "text": [
      "Ideal value: 2.00000\n"
     ]
    }
   ],
   "source": [
    "from functools import partial\n",
    "\n",
    "ideal_exec = partial(execute, rz_noise = 0.0, depolar_noise = 0.0)\n",
    "\n",
    "ideal = obs.expectation(circuit, ideal_exec)\n",
    "print(\"Ideal value:\", \"{:.5f}\".format(ideal.real))"
   ]
  },
  {
   "cell_type": "code",
   "execution_count": 121,
   "id": "04c222b3",
   "metadata": {},
   "outputs": [
    {
     "name": "stdout",
     "output_type": "stream",
     "text": [
      "Unmitigated noisy value: 1.85000\n"
     ]
    }
   ],
   "source": [
    "noisy_exec = partial(execute, rz_noise = 0.0, depolar_noise = 0.0005)\n",
    "noisy = obs.expectation(circuit, noisy_exec)\n",
    "print(\"Unmitigated noisy value:\", \"{:.5f}\".format(noisy.real))"
   ]
  },
  {
   "cell_type": "markdown",
   "id": "0ac14328",
   "metadata": {},
   "source": [
    "Next we choose our gate sequences to be used in the digital dynamical decoupling routine (DDD). \n",
    "More information on choosing appropriate sequences can be found in the [DDD theory](../guide/ddd-5-theory.md#common-examples-of-ddd-sequences) section of the user guide."
   ]
  },
  {
   "cell_type": "code",
   "execution_count": 122,
   "id": "cf6011d7",
   "metadata": {},
   "outputs": [
    {
     "name": "stdout",
     "output_type": "stream",
     "text": [
      "Mitigated value obtained with DDD: 1.88400\n"
     ]
    }
   ],
   "source": [
    "from mitiq import ddd\n",
    "\n",
    "rule = ddd.rules.yy\n",
    "\n",
    "# Pretty sure I need something like batched_executor or serial executor. \n",
    "#\n",
    "ddd_executor = ddd.mitigate_executor(noisy_exec, observable=obs, rule=rule)\n",
    "\n",
    "ddd_result = ddd_executor(circuit)\n",
    "print(\"Mitigated value obtained with DDD:\", \"{:.5f}\".format(ddd_result.real))"
   ]
  },
  {
   "cell_type": "markdown",
   "id": "48e4c19d",
   "metadata": {},
   "source": [
    "We can see that REM improves the results, but errors remain.\n",
    "For comparison, we then apply ZNE without DDD."
   ]
  },
  {
   "cell_type": "code",
   "execution_count": 123,
   "id": "9a416297",
   "metadata": {},
   "outputs": [
    {
     "name": "stdout",
     "output_type": "stream",
     "text": [
      "Mitigated value obtained with ZNE: 2.11000\n"
     ]
    }
   ],
   "source": [
    "from mitiq import zne\n",
    "\n",
    "zne_executor = zne.mitigate_executor(noisy_exec, observable=obs, scale_noise=zne.scaling.folding.fold_global)\n",
    "zne_result = zne_executor(circuit)\n",
    "print(\"Mitigated value obtained with ZNE:\", \"{:.5f}\".format(zne_result.real))"
   ]
  },
  {
   "cell_type": "markdown",
   "id": "16efff77",
   "metadata": {},
   "source": [
    "Finally, we apply a combination of DDD and ZNE.\n",
    "DDD is applied first to apply the control pulses to each circuit which ZNE runs to do its extrapolation."
   ]
  },
  {
   "cell_type": "code",
   "execution_count": 129,
   "id": "7c66ccb4",
   "metadata": {},
   "outputs": [
    {
     "ename": "ValueError",
     "evalue": "Could not parse executed results from executor with type typing.Union[float, typing.Tuple[float, typing.Dict[str, typing.Any]]].",
     "output_type": "error",
     "traceback": [
      "\u001b[0;31m---------------------------------------------------------------------------\u001b[0m",
      "\u001b[0;31mValueError\u001b[0m                                Traceback (most recent call last)",
      "Cell \u001b[0;32mIn[129], line 3\u001b[0m\n\u001b[1;32m      1\u001b[0m combined_executor \u001b[38;5;241m=\u001b[39m zne\u001b[38;5;241m.\u001b[39mmitigate_executor(ddd_executor, scale_noise\u001b[38;5;241m=\u001b[39mzne\u001b[38;5;241m.\u001b[39mscaling\u001b[38;5;241m.\u001b[39mfolding\u001b[38;5;241m.\u001b[39mfold_global)\n\u001b[0;32m----> 3\u001b[0m combined_result \u001b[38;5;241m=\u001b[39m \u001b[43mcombined_executor\u001b[49m\u001b[43m(\u001b[49m\u001b[43mcircuit\u001b[49m\u001b[43m)\u001b[49m\n\u001b[1;32m      4\u001b[0m \u001b[38;5;28mprint\u001b[39m(\u001b[38;5;124m\"\u001b[39m\u001b[38;5;124mMitigated value obtained with DDD + ZNE:\u001b[39m\u001b[38;5;124m\"\u001b[39m, \u001b[38;5;124m\"\u001b[39m\u001b[38;5;132;01m{:.5f}\u001b[39;00m\u001b[38;5;124m\"\u001b[39m\u001b[38;5;241m.\u001b[39mformat(combined_result\u001b[38;5;241m.\u001b[39mreal))\n",
      "File \u001b[0;32m~/UnitaryFund/mitiq/mitiq/zne/zne.py:98\u001b[0m, in \u001b[0;36mmitigate_executor.<locals>.new_executor\u001b[0;34m(circuit)\u001b[0m\n\u001b[1;32m     96\u001b[0m \u001b[38;5;129m@wraps\u001b[39m(executor)\n\u001b[1;32m     97\u001b[0m \u001b[38;5;28;01mdef\u001b[39;00m \u001b[38;5;21mnew_executor\u001b[39m(circuit: QPROGRAM) \u001b[38;5;241m-\u001b[39m\u001b[38;5;241m>\u001b[39m \u001b[38;5;28mfloat\u001b[39m:\n\u001b[0;32m---> 98\u001b[0m     \u001b[38;5;28;01mreturn\u001b[39;00m \u001b[43mexecute_with_zne\u001b[49m\u001b[43m(\u001b[49m\n\u001b[1;32m     99\u001b[0m \u001b[43m        \u001b[49m\u001b[43mcircuit\u001b[49m\u001b[43m,\u001b[49m\n\u001b[1;32m    100\u001b[0m \u001b[43m        \u001b[49m\u001b[43mexecutor\u001b[49m\u001b[43m,\u001b[49m\n\u001b[1;32m    101\u001b[0m \u001b[43m        \u001b[49m\u001b[43mobservable\u001b[49m\u001b[43m,\u001b[49m\n\u001b[1;32m    102\u001b[0m \u001b[43m        \u001b[49m\u001b[43mfactory\u001b[49m\u001b[38;5;241;43m=\u001b[39;49m\u001b[43mfactory\u001b[49m\u001b[43m,\u001b[49m\n\u001b[1;32m    103\u001b[0m \u001b[43m        \u001b[49m\u001b[43mscale_noise\u001b[49m\u001b[38;5;241;43m=\u001b[39;49m\u001b[43mscale_noise\u001b[49m\u001b[43m,\u001b[49m\n\u001b[1;32m    104\u001b[0m \u001b[43m        \u001b[49m\u001b[43mnum_to_average\u001b[49m\u001b[38;5;241;43m=\u001b[39;49m\u001b[43mnum_to_average\u001b[49m\u001b[43m,\u001b[49m\n\u001b[1;32m    105\u001b[0m \u001b[43m    \u001b[49m\u001b[43m)\u001b[49m\n",
      "File \u001b[0;32m~/UnitaryFund/mitiq/mitiq/zne/zne.py:61\u001b[0m, in \u001b[0;36mexecute_with_zne\u001b[0;34m(circuit, executor, observable, factory, scale_noise, num_to_average)\u001b[0m\n\u001b[1;32m     58\u001b[0m \u001b[38;5;28;01mif\u001b[39;00m num_to_average \u001b[38;5;241m<\u001b[39m \u001b[38;5;241m1\u001b[39m:\n\u001b[1;32m     59\u001b[0m     \u001b[38;5;28;01mraise\u001b[39;00m \u001b[38;5;167;01mValueError\u001b[39;00m(\u001b[38;5;124m\"\u001b[39m\u001b[38;5;124mArgument `num_to_average` must be a positive int.\u001b[39m\u001b[38;5;124m\"\u001b[39m)\n\u001b[0;32m---> 61\u001b[0m \u001b[38;5;28;01mreturn\u001b[39;00m \u001b[43mfactory\u001b[49m\u001b[38;5;241;43m.\u001b[39;49m\u001b[43mrun\u001b[49m\u001b[43m(\u001b[49m\n\u001b[1;32m     62\u001b[0m \u001b[43m    \u001b[49m\u001b[43mcircuit\u001b[49m\u001b[43m,\u001b[49m\u001b[43m \u001b[49m\u001b[43mexecutor\u001b[49m\u001b[43m,\u001b[49m\u001b[43m \u001b[49m\u001b[43mobservable\u001b[49m\u001b[43m,\u001b[49m\u001b[43m \u001b[49m\u001b[43mscale_noise\u001b[49m\u001b[43m,\u001b[49m\u001b[43m \u001b[49m\u001b[38;5;28;43mint\u001b[39;49m\u001b[43m(\u001b[49m\u001b[43mnum_to_average\u001b[49m\u001b[43m)\u001b[49m\n\u001b[1;32m     63\u001b[0m \u001b[43m\u001b[49m\u001b[43m)\u001b[49m\u001b[38;5;241m.\u001b[39mreduce()\n",
      "File \u001b[0;32m~/UnitaryFund/mitiq/mitiq/zne/inference.py:568\u001b[0m, in \u001b[0;36mBatchedFactory.run\u001b[0;34m(self, qp, executor, observable, scale_noise, num_to_average)\u001b[0m\n\u001b[1;32m    561\u001b[0m         res\u001b[38;5;241m.\u001b[39mextend(\n\u001b[1;32m    562\u001b[0m             executor\u001b[38;5;241m.\u001b[39mevaluate(\n\u001b[1;32m    563\u001b[0m                 circuit, observable, force_run_all\u001b[38;5;241m=\u001b[39m\u001b[38;5;28;01mTrue\u001b[39;00m, \u001b[38;5;241m*\u001b[39m\u001b[38;5;241m*\u001b[39mkwargs\n\u001b[1;32m    564\u001b[0m             )\n\u001b[1;32m    565\u001b[0m         )\n\u001b[1;32m    566\u001b[0m \u001b[38;5;28;01melse\u001b[39;00m:\n\u001b[1;32m    567\u001b[0m     \u001b[38;5;66;03m# Else, run all circuits.\u001b[39;00m\n\u001b[0;32m--> 568\u001b[0m     res \u001b[38;5;241m=\u001b[39m \u001b[43mexecutor\u001b[49m\u001b[38;5;241;43m.\u001b[39;49m\u001b[43mevaluate\u001b[49m\u001b[43m(\u001b[49m\n\u001b[1;32m    569\u001b[0m \u001b[43m        \u001b[49m\u001b[43mto_run\u001b[49m\u001b[43m,\u001b[49m\u001b[43m \u001b[49m\u001b[43mobservable\u001b[49m\u001b[43m,\u001b[49m\u001b[43m \u001b[49m\u001b[43mforce_run_all\u001b[49m\u001b[38;5;241;43m=\u001b[39;49m\u001b[38;5;28;43;01mTrue\u001b[39;49;00m\u001b[43m,\u001b[49m\u001b[43m \u001b[49m\u001b[38;5;241;43m*\u001b[39;49m\u001b[38;5;241;43m*\u001b[39;49m\u001b[43mkwargs_list\u001b[49m\u001b[43m[\u001b[49m\u001b[38;5;241;43m0\u001b[39;49m\u001b[43m]\u001b[49m\n\u001b[1;32m    570\u001b[0m \u001b[43m    \u001b[49m\u001b[43m)\u001b[49m\n\u001b[1;32m    572\u001b[0m \u001b[38;5;66;03m# Reshape \"res\" to have \"num_to_average\" columns\u001b[39;00m\n\u001b[1;32m    573\u001b[0m reshaped \u001b[38;5;241m=\u001b[39m np\u001b[38;5;241m.\u001b[39marray(res)\u001b[38;5;241m.\u001b[39mreshape((\u001b[38;5;241m-\u001b[39m\u001b[38;5;241m1\u001b[39m, num_to_average))\n",
      "File \u001b[0;32m~/UnitaryFund/mitiq/mitiq/executor/executor.py:205\u001b[0m, in \u001b[0;36mExecutor.evaluate\u001b[0;34m(self, circuits, observable, force_run_all, **kwargs)\u001b[0m\n\u001b[1;32m    197\u001b[0m     results \u001b[38;5;241m=\u001b[39m [\n\u001b[1;32m    198\u001b[0m         observable\u001b[38;5;241m.\u001b[39m_expectation_from_measurements(\n\u001b[1;32m    199\u001b[0m             all_results[i : i \u001b[38;5;241m+\u001b[39m result_step]\n\u001b[1;32m    200\u001b[0m         )\n\u001b[1;32m    201\u001b[0m         \u001b[38;5;28;01mfor\u001b[39;00m i \u001b[38;5;129;01min\u001b[39;00m \u001b[38;5;28mrange\u001b[39m(\u001b[38;5;28mlen\u001b[39m(all_results) \u001b[38;5;241m/\u001b[39m\u001b[38;5;241m/\u001b[39m result_step)\n\u001b[1;32m    202\u001b[0m     ]\n\u001b[1;32m    204\u001b[0m \u001b[38;5;28;01melse\u001b[39;00m:\n\u001b[0;32m--> 205\u001b[0m     \u001b[38;5;28;01mraise\u001b[39;00m \u001b[38;5;167;01mValueError\u001b[39;00m(\n\u001b[1;32m    206\u001b[0m         \u001b[38;5;124mf\u001b[39m\u001b[38;5;124m\"\u001b[39m\u001b[38;5;124mCould not parse executed results from executor with type\u001b[39m\u001b[38;5;124m\"\u001b[39m\n\u001b[1;32m    207\u001b[0m         \u001b[38;5;124mf\u001b[39m\u001b[38;5;124m\"\u001b[39m\u001b[38;5;124m \u001b[39m\u001b[38;5;132;01m{\u001b[39;00m\u001b[38;5;28mself\u001b[39m\u001b[38;5;241m.\u001b[39m_executor_return_type\u001b[38;5;132;01m}\u001b[39;00m\u001b[38;5;124m.\u001b[39m\u001b[38;5;124m\"\u001b[39m\n\u001b[1;32m    208\u001b[0m     )\n\u001b[1;32m    210\u001b[0m \u001b[38;5;28;01mreturn\u001b[39;00m results\n",
      "\u001b[0;31mValueError\u001b[0m: Could not parse executed results from executor with type typing.Union[float, typing.Tuple[float, typing.Dict[str, typing.Any]]]."
     ]
    }
   ],
   "source": [
    "combined_executor = zne.mitigate_executor(ddd_executor, scale_noise=zne.scaling.folding.fold_global)\n",
    "\n",
    "combined_result = combined_executor(circuit)\n",
    "print(\"Mitigated value obtained with DDD + ZNE:\", \"{:.5f}\".format(combined_result.real))"
   ]
  },
  {
   "cell_type": "markdown",
   "id": "18a82d4c",
   "metadata": {},
   "source": []
  },
  {
   "cell_type": "markdown",
   "id": "0e6d91a6",
   "metadata": {},
   "source": [
    "From this example we can see that each technique affords some improvement, and for this specific noise model, the combination of DDD and ZNE is more effective in mitigating errors than either technique alone."
   ]
  }
 ],
 "metadata": {
  "kernelspec": {
   "display_name": "Python 3 (ipykernel)",
   "language": "python",
   "name": "python3"
  },
  "language_info": {
   "codemirror_mode": {
    "name": "ipython",
    "version": 3
   },
   "file_extension": ".py",
   "mimetype": "text/x-python",
   "name": "python",
   "nbconvert_exporter": "python",
   "pygments_lexer": "ipython3",
   "version": "3.10.14"
  }
 },
 "nbformat": 4,
 "nbformat_minor": 5
}
