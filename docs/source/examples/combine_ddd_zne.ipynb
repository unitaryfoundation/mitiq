{
 "cells": [
  {
   "cell_type": "markdown",
   "id": "13b6ddba",
   "metadata": {},
   "source": [
    "# Composing techniques: Digital Dynamical Decoupling and Zero Noise Extrapolation\n",
    "\n",
    "Noise in quantum computers can arise from a variety of sources, and sometimes applying multiple error mitigation techniques can be more beneficial than applying a single technique alone. \n",
    "\n",
    "Here we apply a combination of Digital Dynamical Decoupling (DDD) and Zero Noise Extrapolation (ZNE) on a GHZ state.\n",
    "\n",
    "In [DDD](../guide/ddd.md), the input quantum circuit is modified by adding in gate sequences at regular intervals designed to reduce interaction between (i.e., decouple) the qubits from their environment. \n",
    "\n",
    "In [ZNE](../guide/zne.md), the expectation value of the observable of interest is computed at different noise levels, and subsequently the ideal expectation value is inferred by extrapolating the measured results to the zero-noise\n",
    "limit. \n",
    "More information on the DDD and ZNE techniques can be found in the corresponding sections of the user guide (linked\n",
    "above)."
   ]
  },
  {
   "cell_type": "markdown",
   "id": "4c5133af",
   "metadata": {},
   "source": [
    "## Setup\n",
    "\n",
    "We begin by importing the relevant modules and libraries required for the rest of this tutorial."
   ]
  },
  {
   "cell_type": "code",
   "execution_count": null,
   "id": "fcd76178",
   "metadata": {},
   "outputs": [],
   "source": [
    "import cirq\n",
    "import numpy as np\n",
    "from mitiq import MeasurementResult, Observable, PauliString"
   ]
  },
  {
   "cell_type": "markdown",
   "id": "efdb5e58",
   "metadata": {},
   "source": [
    "## Task\n",
    "\n",
    "We will demonstrate using DDD + ZNE on on a GHZ state."
   ]
  },
  {
   "cell_type": "code",
   "execution_count": null,
   "id": "8decee5d",
   "metadata": {},
   "outputs": [],
   "source": [
    "# TODO: Does this circuit include measurements by default?\n",
    "def ghz(num_qubits):\n",
    "    # Create  qubit registers\n",
    "    qubits = cirq.LineQubit.range(num_qubits)\n",
    "\n",
    "    # Create a quantum circuit\n",
    "    circuit = cirq.Circuit()\n",
    "    # Add a Hadamard gate to the first qubit\n",
    "    circuit.append(cirq.H(qubits[0]))\n",
    "\n",
    "    # Add CNOT gates to entangle the first qubit with each of the other qubits\n",
    "    for i in range(1, num_qubits):\n",
    "        circuit.append(cirq.CNOT(qubits[0], qubits[i]))\n",
    "\n",
    "    return circuit"
   ]
  },
  {
   "cell_type": "code",
   "execution_count": null,
   "id": "c98946c5",
   "metadata": {},
   "outputs": [],
   "source": [
    "num_qubits = 6\n",
    "circuit = ghz(num_qubits)\n",
    "print(circuit)"
   ]
  },
  {
   "cell_type": "markdown",
   "id": "1fc4687f",
   "metadata": {},
   "source": [
    "## Noise model and executor\n",
    "\n",
    "**Importantly**, since DDD is designed to mitigate time-correlated (non-Markovian) noise, we simulate systematic $R_z$ rotations and depolarising noise applied to each qubit after each time step. This corresponds to noise which is strongly time-correlated and, therefore, likely to be mitigated by DDD.\n",
    "\n",
    "We use an [executor function](../guide/executors.md) to run the quantum circuit with the noise model applied."
   ]
  },
  {
   "cell_type": "code",
   "execution_count": null,
   "id": "2515d7b4",
   "metadata": {},
   "outputs": [],
   "source": [
    "# TODO: does this executor include measurements? No. What does `with_noise` do?\n",
    "def execute(\n",
    "    circuit: cirq.Circuit, \n",
    "    rz_noise: float = 0.01,\n",
    "    depolar_noise: float = 0.0005\n",
    "    ) -> MeasurementResult:\n",
    "    \"\"\"\n",
    "    Execute a circuit with R_z dephasing noise of strength ``rz_noise`` and \n",
    "    depolarizing noise ``depolar_noise``\n",
    "    \"\"\"\n",
    "    # Simulate systematic dephasing (coherent RZ) on each qubit for each moment.\n",
    "    #measurements = circuit[-1]\n",
    "\n",
    "    #circuit = circuit[:-1]\n",
    "    circuit = circuit.with_noise(cirq.rz(rz_noise))\n",
    "\n",
    "    # Simulate systematic depolarizing on each qubit for each moment.\n",
    "    circuit = circuit.with_noise(cirq.bit_flip(depolar_noise))\n",
    "\n",
    "    circuit += cirq.measure(*sorted(circuit.all_qubits()), key=\"m\")\n",
    "\n",
    "    #circuit.append(measurements)\n",
    "    simulator = cirq.DensityMatrixSimulator()\n",
    "\n",
    "    result = simulator.run(circuit, repetitions=1000)\n",
    "    # print(result.measurements[\"m\"])\n",
    "    bitstrings = result.measurements[\"m\"]\n",
    "    # print(bitstrings)\n",
    "    return MeasurementResult(bitstrings)"
   ]
  },
  {
   "cell_type": "code",
   "execution_count": null,
   "id": "e8619bab",
   "metadata": {},
   "outputs": [],
   "source": [
    "execute(circuit)"
   ]
  },
  {
   "cell_type": "markdown",
   "id": "d7f71056",
   "metadata": {},
   "source": [
    "## Observable\n",
    "\n",
    "In this example, we just want to check if we have achieved entanglement across all qubits. In this case, we will measure the observable $⨂_{i=1}^n​X_i$ or measuring `X` on all qubits. \n",
    "\n",
    "This corresponds to projecting the state onto either the $∣+⟩^{⊗n}$ or $∣−⟩^{⊗n}$ basis. For a perfect GHZ state, this observable will have an expectation value of 1, which corresponds to all qubits being in the same state."
   ]
  },
  {
   "cell_type": "code",
   "execution_count": null,
   "id": "e34510ce",
   "metadata": {},
   "outputs": [],
   "source": [
    "obs = Observable(PauliString(\"X\" * num_qubits))\n",
    "print(obs)"
   ]
  },
  {
   "cell_type": "markdown",
   "id": "22cdd7f0",
   "metadata": {},
   "source": [
    "For the circuit defined above, the ideal (noiseless) expectation value of the observable is 1, as we will see though, the unmitigated (noisy) result is impacted by depolarizing and readout errors."
   ]
  },
  {
   "cell_type": "code",
   "execution_count": null,
   "id": "b4b71c37",
   "metadata": {},
   "outputs": [],
   "source": [
    "from functools import partial\n",
    "\n",
    "ideal_exec = partial(execute, rz_noise = 0.0, depolar_noise = 0.0)\n",
    "\n",
    "ideal = obs.expectation(circuit, ideal_exec)\n",
    "print(\"Ideal value:\", \"{:.5f}\".format(ideal.real))"
   ]
  },
  {
   "cell_type": "code",
   "execution_count": null,
   "id": "04c222b3",
   "metadata": {},
   "outputs": [],
   "source": [
    "noisy_exec = execute #partial(execute, rz_noise = 0.05, depolar_noise = 0.00)\n",
    "noisy = obs.expectation(circuit, noisy_exec) # TO-DO is this an in-place operation?\n",
    "print(\"Unmitigated noisy value:\", \"{:.5f}\".format(noisy.real))"
   ]
  },
  {
   "cell_type": "markdown",
   "id": "0ac14328",
   "metadata": {},
   "source": [
    "Next we choose our gate sequences to be used in the digital dynamical decoupling routine (DDD). \n",
    "More information on choosing appropriate sequences can be found in the [DDD theory](../guide/ddd-5-theory.md#common-examples-of-ddd-sequences) section of the user guide."
   ]
  },
  {
   "cell_type": "code",
   "execution_count": null,
   "id": "cf6011d7",
   "metadata": {},
   "outputs": [],
   "source": [
    "from mitiq import ddd\n",
    "\n",
    "rule = ddd.rules.xyxy\n",
    "\n",
    "# TODO: Try deeper circuit? Add artificially long idle window. \n",
    "ddd_executor = ddd.mitigate_executor(noisy_exec, observable=obs, rule=rule)\n",
    "\n",
    "ddd_result = ddd_executor(circuit)\n",
    "print(\"Mitigated value obtained with DDD:\", \"{:.5f}\".format(ddd_result.real))"
   ]
  },
  {
   "cell_type": "markdown",
   "id": "48e4c19d",
   "metadata": {},
   "source": [
    "For comparison, we then apply ZNE without DDD."
   ]
  },
  {
   "cell_type": "code",
   "execution_count": null,
   "id": "9a416297",
   "metadata": {},
   "outputs": [],
   "source": [
    "from mitiq import zne\n",
    "\n",
    "zne_executor = zne.mitigate_executor(noisy_exec, observable=obs, scale_noise=zne.scaling.folding.fold_global)\n",
    "zne_result = zne_executor(circuit)\n",
    "print(\"Mitigated value obtained with ZNE:\", \"{:.5f}\".format(zne_result.real))"
   ]
  },
  {
   "cell_type": "markdown",
   "id": "16efff77",
   "metadata": {},
   "source": [
    "Finally, we apply a combination of DDD and ZNE.\n",
    "DDD is applied first to apply the control pulses to each circuit which ZNE runs to do its extrapolation."
   ]
  },
  {
   "cell_type": "code",
   "execution_count": null,
   "id": "7c66ccb4",
   "metadata": {},
   "outputs": [],
   "source": [
    "combined_executor = zne.mitigate_executor(ddd_executor, observable=obs, scale_noise=zne.scaling.folding.fold_global)\n",
    "\n",
    "combined_result = combined_executor(circuit)\n",
    "print(\"Mitigated value obtained with DDD + ZNE:\", \"{:.5f}\".format(combined_result.real))"
   ]
  },
  {
   "cell_type": "markdown",
   "id": "18a82d4c",
   "metadata": {},
   "source": []
  },
  {
   "cell_type": "markdown",
   "id": "0e6d91a6",
   "metadata": {},
   "source": [
    "From this example we can see that each technique affords some improvement, and for this specific noise model, the combination of DDD and ZNE is more effective in mitigating errors than either technique alone."
   ]
  }
 ],
 "metadata": {
  "kernelspec": {
   "display_name": "Python 3 (ipykernel)",
   "language": "python",
   "name": "python3"
  },
  "language_info": {
   "codemirror_mode": {
    "name": "ipython",
    "version": 3
   },
   "file_extension": ".py",
   "mimetype": "text/x-python",
   "name": "python",
   "nbconvert_exporter": "python",
   "pygments_lexer": "ipython3",
   "version": "3.10.14"
  }
 },
 "nbformat": 4,
 "nbformat_minor": 5
}
