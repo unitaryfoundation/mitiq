{
 "cells": [
  {
   "cell_type": "markdown",
   "id": "13b6ddba",
   "metadata": {},
   "source": [
    "# Composing techniques: Digital Dynamical Decoupling and Zero Noise Extrapolation\n",
    "\n",
    "Noise in quantum computers can arise from a variety of sources, and sometimes applying multiple error mitigation techniques can be more beneficial than applying a single technique alone. \n",
    "\n",
    "Here we apply a combination of Digital Dynamical Decoupling (DDD) and Zero Noise Extrapolation (ZNE) on a GHZ state.\n",
    "\n",
    "In [DDD](../guide/ddd.md), the input quantum circuit is modified by inserting gate sequences at regular intervals designed to reduce interaction between (i.e., decouple) the qubits from their environment. \n",
    "\n",
    "In [ZNE](../guide/zne.md), the expectation value of the observable of interest is computed at different noise levels, and subsequently the ideal expectation value is inferred by extrapolating the measured results to the zero-noise\n",
    "limit. "
   ]
  },
  {
   "cell_type": "markdown",
   "id": "4c5133af",
   "metadata": {},
   "source": [
    "## Setup\n",
    "\n",
    "We begin by importing the relevant modules and libraries required for the rest of this tutorial."
   ]
  },
  {
   "cell_type": "code",
   "execution_count": 23,
   "id": "fcd76178",
   "metadata": {},
   "outputs": [],
   "source": [
    "import cirq\n",
    "import numpy as np\n",
    "from mitiq import MeasurementResult, Observable, PauliString"
   ]
  },
  {
   "cell_type": "markdown",
   "id": "efdb5e58",
   "metadata": {},
   "source": [
    "## Task\n",
    "\n",
    "We will demonstrate quantum error mitigation on a [GHZ state](https://en.wikipedia.org/wiki/Greenberger%E2%80%93Horne%E2%80%93Zeilinger_state), entangling multiple qubits together. We can create a short function to do this for convenience, including an optional argument `idle_steps` which will give us a way to insert additional time steps in which to let our qubits idle. This is to more clearly simulate the effect of time correlated noise."
   ]
  },
  {
   "cell_type": "code",
   "execution_count": 24,
   "id": "8decee5d",
   "metadata": {},
   "outputs": [],
   "source": [
    "def ghz(num_qubits, idle_steps=0):\n",
    "    # Create  qubit registers\n",
    "    qubits = cirq.LineQubit.range(num_qubits)\n",
    "\n",
    "    # Create a quantum circuit\n",
    "    circuit = cirq.Circuit()\n",
    "    # Add a Hadamard gate to the first qubit\n",
    "    circuit.append(cirq.H(qubits[0]))\n",
    "\n",
    "    # Add CNOT gates to entangle the first qubit with each of the other qubits\n",
    "    for i in range(1, num_qubits):\n",
    "        circuit.append(cirq.CNOT(qubits[0], qubits[i]))\n",
    "        # Set qubits to idle for specfied number of steps\n",
    "        # in the form of Identity gates\n",
    "        for step in range(idle_steps):\n",
    "            circuit.append(cirq.I(q) for q in qubits)\n",
    "\n",
    "    return circuit"
   ]
  },
  {
   "cell_type": "code",
   "execution_count": 25,
   "id": "c98946c5",
   "metadata": {},
   "outputs": [
    {
     "name": "stdout",
     "output_type": "stream",
     "text": [
      "                      ┌──┐           ┌──┐           ┌──┐           ┌──┐\n",
      "0: ───H───@───I───I────@─────I───I────@─────I───I────@─────I───I────@─────I───I───\n",
      "          │            │              │              │              │\n",
      "1: ───────X───I───I────┼I────I───I────┼I────I───I────┼I────I────────┼─────────────\n",
      "                       │              │              │              │\n",
      "2: ───I───I────────────X─────I───I────┼I────I───I────┼I────I───I────┼─────────────\n",
      "                                      │              │              │\n",
      "3: ───I───I───I───I───────────────────X─────I───I────┼I────I───I────┼I────────────\n",
      "                                                     │              │\n",
      "4: ───I───I───I───I────I─────I───────────────────────X─────I───I────┼I────I───────\n",
      "                                                                    │\n",
      "5: ───I───I───I───I────I─────I───I────I─────────────────────────────X─────I───I───\n",
      "                      └──┘           └──┘           └──┘           └──┘\n"
     ]
    }
   ],
   "source": [
    "num_qubits = 6\n",
    "circuit = ghz(num_qubits, 2)\n",
    "print(circuit)"
   ]
  },
  {
   "cell_type": "markdown",
   "id": "1fc4687f",
   "metadata": {},
   "source": [
    "## Noise model and executor\n",
    "\n",
    "**Importantly**, since DDD is designed to mitigate time-correlated (non-Markovian) noise, we simulate systematic $R_z$ rotations and depolarising noise applied to each qubit after each time step. This corresponds to noise which is strongly time-correlated and, therefore, likely to be mitigated by DDD.\n",
    "\n",
    "We use an [executor function](../guide/executors.md) to run the quantum circuit with the noise model applied."
   ]
  },
  {
   "cell_type": "code",
   "execution_count": 26,
   "id": "2515d7b4",
   "metadata": {},
   "outputs": [],
   "source": [
    "def execute(\n",
    "    circuit: cirq.Circuit, \n",
    "    rz_noise: float = 0.01,\n",
    "    depolar_noise: float = 0.0005\n",
    "    ) -> MeasurementResult:\n",
    "    \"\"\"\n",
    "    Execute a circuit with R_z dephasing noise of strength ``rz_noise`` and depolarizing noise ``depolar_noise``\n",
    "    \"\"\"\n",
    "    # Simulate systematic dephasing (coherent RZ) on each qubit for each moment.\n",
    "    circuit = circuit.with_noise(cirq.rz(rz_noise))\n",
    "\n",
    "    # Simulate systematic depolarizing on each qubit for each moment.\n",
    "    circuit = circuit.with_noise(cirq.bit_flip(depolar_noise))\n",
    "\n",
    "    # Measure out all qubits\n",
    "    circuit += cirq.measure(*sorted(circuit.all_qubits()), key=\"m\")\n",
    "\n",
    "    # Use a noise simulator\n",
    "    simulator = cirq.DensityMatrixSimulator()\n",
    "\n",
    "    # Run the circuit 1000 times\n",
    "    result = simulator.run(circuit, repetitions=1000)\n",
    "\n",
    "    # Retrieve the measurement results in bitstring form\n",
    "    bitstrings = result.measurements[\"m\"]\n",
    "\n",
    "    return MeasurementResult(bitstrings)"
   ]
  },
  {
   "cell_type": "markdown",
   "id": "5ff9b0d0",
   "metadata": {},
   "source": [
    "Let's see what the execute function returns when we call it on our GHZ circuit, just leaving the default noise levels:"
   ]
  },
  {
   "cell_type": "code",
   "execution_count": 27,
   "id": "e8619bab",
   "metadata": {},
   "outputs": [
    {
     "data": {
      "text/plain": [
       "{'nqubits': 6,\n",
       " 'qubit_indices': (0, 1, 2, 3, 4, 5),\n",
       " 'shots': 1000,\n",
       " 'counts': {'111111': 502,\n",
       "  '000000': 454,\n",
       "  '000010': 3,\n",
       "  '011100': 1,\n",
       "  '111011': 3,\n",
       "  '011110': 1,\n",
       "  '100001': 2,\n",
       "  '100000': 1,\n",
       "  '111110': 7,\n",
       "  '010000': 7,\n",
       "  '110111': 4,\n",
       "  '011000': 1,\n",
       "  '100111': 1,\n",
       "  '101111': 3,\n",
       "  '000001': 2,\n",
       "  '001000': 4,\n",
       "  '000100': 3,\n",
       "  '100011': 1}}"
      ]
     },
     "execution_count": 27,
     "metadata": {},
     "output_type": "execute_result"
    }
   ],
   "source": [
    "res = execute(circuit)\n",
    "res.to_dict() # Dictionary for more convenient visualization"
   ]
  },
  {
   "cell_type": "markdown",
   "id": "d63da1df",
   "metadata": {},
   "source": [
    "The `'counts'` key represents the number of times a particular measurement bitstring occurred. \n",
    "\n",
    "Since the default execute function includes noise in this case, we see that most of the results are all ones or all zeros, corresponding to perfect entanglement between all qubits.\n",
    "\n",
    "A few others however are one or more bitflips away from either of these states. It is these types of errors we want to mitigate. "
   ]
  },
  {
   "cell_type": "markdown",
   "id": "d7f71056",
   "metadata": {},
   "source": [
    "## Observable\n",
    "\n",
    "In this example, we just want to check if we have achieved entanglement across all qubits. In this case, we will measure the observable $⨂_{i=1}^n​X_i$ or measuring `X` on all qubits. \n",
    "\n",
    "This corresponds to projecting the state onto either the $∣+⟩^{⊗n}$ or $∣−⟩^{⊗n}$ basis. For a perfect GHZ state, this observable will have an expectation value of 1, which corresponds to all qubits being in the same state."
   ]
  },
  {
   "cell_type": "code",
   "execution_count": 28,
   "id": "e34510ce",
   "metadata": {},
   "outputs": [
    {
     "name": "stdout",
     "output_type": "stream",
     "text": [
      "X(q(0))*X(q(1))*X(q(2))*X(q(3))*X(q(4))*X(q(5))\n"
     ]
    }
   ],
   "source": [
    "obs = Observable(PauliString(\"X\" * num_qubits))\n",
    "print(obs)"
   ]
  },
  {
   "cell_type": "markdown",
   "id": "22cdd7f0",
   "metadata": {},
   "source": [
    "For the circuit defined above, the ideal (noiseless) expectation value of the observable is 1, as we will see though, the unmitigated (noisy) result is impacted by depolarizing and readout errors."
   ]
  },
  {
   "cell_type": "code",
   "execution_count": 29,
   "id": "b4b71c37",
   "metadata": {},
   "outputs": [
    {
     "name": "stdout",
     "output_type": "stream",
     "text": [
      "Ideal value: 1.00000\n"
     ]
    }
   ],
   "source": [
    "from functools import partial\n",
    "\n",
    "ideal_exec = partial(execute, rz_noise = 0.0, depolar_noise = 0.0)\n",
    "\n",
    "ideal = obs.expectation(circuit, ideal_exec)\n",
    "print(\"Ideal value:\", \"{:.5f}\".format(ideal.real))"
   ]
  },
  {
   "cell_type": "code",
   "execution_count": 30,
   "id": "04c222b3",
   "metadata": {},
   "outputs": [
    {
     "name": "stdout",
     "output_type": "stream",
     "text": [
      "Unmitigated noisy value: 0.83000\n"
     ]
    }
   ],
   "source": [
    "noisy_exec = partial(execute, rz_noise = 0.01, depolar_noise = 0.001)\n",
    "noisy = obs.expectation(circuit, noisy_exec) \n",
    "print(\"Unmitigated noisy value:\", \"{:.5f}\".format(noisy.real))"
   ]
  },
  {
   "cell_type": "markdown",
   "id": "0ac14328",
   "metadata": {},
   "source": [
    "Next we choose our gate sequences to be used in the digital dynamical decoupling routine (DDD). \n",
    "More information on choosing appropriate sequences can be found in the [DDD theory](../guide/ddd-5-theory.md#common-examples-of-ddd-sequences) section of the user guide.\n",
    "\n",
    "To do this, we will insert DDD sequences into our circuit itself and then compare the original circuit with the modified one."
   ]
  },
  {
   "cell_type": "code",
   "execution_count": 31,
   "id": "cf6011d7",
   "metadata": {},
   "outputs": [
    {
     "name": "stdout",
     "output_type": "stream",
     "text": [
      "Original circuit \n",
      "                       ┌──┐           ┌──┐           ┌──┐           ┌──┐\n",
      "0: ───H───@───I───I────@─────I───I────@─────I───I────@─────I───I────@─────I───I───\n",
      "          │            │              │              │              │\n",
      "1: ───────X───I───I────┼I────I───I────┼I────I───I────┼I────I────────┼─────────────\n",
      "                       │              │              │              │\n",
      "2: ───I───I────────────X─────I───I────┼I────I───I────┼I────I───I────┼─────────────\n",
      "                                      │              │              │\n",
      "3: ───I───I───I───I───────────────────X─────I───I────┼I────I───I────┼I────────────\n",
      "                                                     │              │\n",
      "4: ───I───I───I───I────I─────I───────────────────────X─────I───I────┼I────I───────\n",
      "                                                                    │\n",
      "5: ───I───I───I───I────I─────I───I────I─────────────────────────────X─────I───I───\n",
      "                      └──┘           └──┘           └──┘           └──┘\n",
      "DDD modified circuit \n",
      "                       ┌──┐           ┌──┐           ┌──┐           ┌──┐\n",
      "0: ───H───@───Y───Y────@─────Y───Y────@─────Y───Y────@─────Y───Y────@─────Y───Y───\n",
      "          │            │              │              │              │\n",
      "1: ───────X───I───I────┼I────I───Y────┼I────I───I────┼I────Y───I────┼I────I───I───\n",
      "                       │              │              │              │\n",
      "2: ───I───Y───Y───I────X─────I───I────┼I────Y───I────┼I────I───Y────┼I────I───I───\n",
      "                                      │              │              │\n",
      "3: ───I───I───Y───I────Y─────I───I────X─────I───I────┼Y────I───I────┼Y────I───I───\n",
      "                                                     │              │\n",
      "4: ───I───I───I───Y────I─────I───Y────I─────I───I────X─────I───Y────┼I────Y───I───\n",
      "                                                                    │\n",
      "5: ───I───I───I───I────Y─────I───I────I─────Y───I────I─────I───I────X─────Y───Y───\n",
      "                      └──┘           └──┘           └──┘           └──┘\n"
     ]
    }
   ],
   "source": [
    "from mitiq.ddd import rules, insert_ddd_sequences\n",
    "\n",
    "print(\"Original circuit \\n\", circuit)\n",
    "\n",
    "rule = rules.yy\n",
    "\n",
    "ddd_circuit = insert_ddd_sequences(circuit, rule)\n",
    "print(\"DDD modified circuit \\n\", ddd_circuit)"
   ]
  },
  {
   "cell_type": "markdown",
   "id": "d06233d7",
   "metadata": {},
   "source": [
    "Now we execute our function on the `ddd_circuit`:"
   ]
  },
  {
   "cell_type": "code",
   "execution_count": 32,
   "id": "f3667451",
   "metadata": {},
   "outputs": [
    {
     "name": "stdout",
     "output_type": "stream",
     "text": [
      "Unmitigated expectation value: 0.83000\n",
      "Expectation value with DDD: 0.95800\n"
     ]
    }
   ],
   "source": [
    "ddd_noisy = obs.expectation(ddd_circuit, noisy_exec)\n",
    "\n",
    "print(\"Unmitigated expectation value:\", \"{:.5f}\".format(noisy.real))\n",
    "\n",
    "print(\"Expectation value with DDD:\", \"{:.5f}\".format(ddd_noisy.real))"
   ]
  },
  {
   "cell_type": "markdown",
   "id": "48e4c19d",
   "metadata": {},
   "source": [
    "For comparison, we then apply ZNE one our original circuit (without DDD sequences inserted)."
   ]
  },
  {
   "cell_type": "code",
   "execution_count": 33,
   "id": "9a416297",
   "metadata": {},
   "outputs": [
    {
     "name": "stdout",
     "output_type": "stream",
     "text": [
      "Mitigated value obtained with ZNE: 1.78200\n"
     ]
    }
   ],
   "source": [
    "from mitiq import zne\n",
    "\n",
    "zne_executor = zne.mitigate_executor(noisy_exec, observable=obs, scale_noise=zne.scaling.folding.fold_global)\n",
    "zne_result = zne_executor(circuit)\n",
    "print(\"Mitigated value obtained with ZNE:\", \"{:.5f}\".format(zne_result.real))"
   ]
  },
  {
   "cell_type": "markdown",
   "id": "16efff77",
   "metadata": {},
   "source": [
    "Finally, we apply a combination of DDD and ZNE.\n",
    "DDD is applied first to apply the control pulses to each circuit which ZNE runs to do its extrapolation."
   ]
  },
  {
   "cell_type": "code",
   "execution_count": 34,
   "id": "7c66ccb4",
   "metadata": {},
   "outputs": [
    {
     "name": "stdout",
     "output_type": "stream",
     "text": [
      "Mitigated value obtained with DDD + ZNE: 0.97800\n"
     ]
    }
   ],
   "source": [
    "combined_executor = zne.mitigate_executor(execute, observable=obs, scale_noise=zne.scaling.folding.fold_global)\n",
    "\n",
    "combined_result = combined_executor(ddd_circuit)\n",
    "print(\"Mitigated value obtained with DDD + ZNE:\", \"{:.5f}\".format(combined_result.real))"
   ]
  },
  {
   "cell_type": "markdown",
   "id": "0e6d91a6",
   "metadata": {},
   "source": [
    "From this example we can see that each technique affords some improvement, and for this specific noise model, the combination of DDD and ZNE is more effective in mitigating errors than either technique alone."
   ]
  }
 ],
 "metadata": {
  "kernelspec": {
   "display_name": "Python 3 (ipykernel)",
   "language": "python",
   "name": "python3"
  },
  "language_info": {
   "codemirror_mode": {
    "name": "ipython",
    "version": 3
   },
   "file_extension": ".py",
   "mimetype": "text/x-python",
   "name": "python",
   "nbconvert_exporter": "python",
   "pygments_lexer": "ipython3",
   "version": "3.10.14"
  }
 },
 "nbformat": 4,
 "nbformat_minor": 5
}
