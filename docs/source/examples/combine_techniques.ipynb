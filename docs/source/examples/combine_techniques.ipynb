{
 "cells": [
  {
   "attachments": {},
   "cell_type": "markdown",
   "metadata": {},
   "source": [
    "## Final Tutorial outline\n",
    "\n",
    "1. Define unmitigated executor\n",
    "2. compute unmitigated expval\n",
    "3. mitigate with REM\n",
    "4. mitigate with ZNE\n",
    "5. mitigate with REM + ZNE\n",
    "6. compare results"
   ]
  },
  {
   "cell_type": "code",
   "execution_count": 75,
   "metadata": {},
   "outputs": [
    {
     "name": "stdout",
     "output_type": "stream",
     "text": [
      "(1.244+0j)\n"
     ]
    }
   ],
   "source": [
    "# step 1\n",
    "import cirq\n",
    "import numpy as np\n",
    "from mitiq.benchmarks import generate_rb_circuits\n",
    "from mitiq import MeasurementResult, Observable, PauliString, raw\n",
    "\n",
    "circuit = generate_rb_circuits(2, 5)[0]\n",
    "\n",
    "p0 = 0.05\n",
    "p1 = p0\n",
    "\n",
    "def execute(circuit: cirq.Circuit, noise_level=0.005) -> MeasurementResult:\n",
    "    measurements = circuit[-1]\n",
    "    circuit =  circuit[:-1]\n",
    "    circuit = circuit.with_noise(cirq.depolarize(noise_level))\n",
    "    circuit.append(cirq.bit_flip(p0).on_each(circuit.all_qubits()))\n",
    "    circuit.append(measurements)\n",
    "\n",
    "    simulator = cirq.DensityMatrixSimulator()\n",
    "\n",
    "    result = simulator.run(circuit, repetitions=10000)\n",
    "    bitstrings = np.column_stack(list(result.measurements.values()))\n",
    "    return MeasurementResult(bitstrings)\n",
    "\n",
    "\n",
    "# step 2\n",
    "obs = Observable(PauliString(\"ZI\"), PauliString(\"IZ\"))\n",
    "result = raw.execute(circuit, execute, obs)\n",
    "print(result)"
   ]
  },
  {
   "cell_type": "code",
   "execution_count": 76,
   "metadata": {},
   "outputs": [
    {
     "data": {
      "text/plain": [
       "(1.3766+0j)"
      ]
     },
     "execution_count": 76,
     "metadata": {},
     "output_type": "execute_result"
    }
   ],
   "source": [
    "# step 3 (REM)\n",
    "from mitiq import rem\n",
    "\n",
    "icm = rem.generate_inverse_confusion_matrix(2, p0, p1)\n",
    "rem_executor = rem.mitigate_executor(execute, inverse_confusion_matrix=icm)\n",
    "\n",
    "obs.expectation(circuit, rem_executor)"
   ]
  },
  {
   "cell_type": "code",
   "execution_count": 77,
   "metadata": {},
   "outputs": [
    {
     "data": {
      "text/plain": [
       "(1.7842+0j)"
      ]
     },
     "execution_count": 77,
     "metadata": {},
     "output_type": "execute_result"
    }
   ],
   "source": [
    "# step 4 (ZNE)\n",
    "from mitiq import zne\n",
    "\n",
    "zne_executor = zne.mitigate_executor(execute, observable=obs)\n",
    "\n",
    "zne_executor(circuit)"
   ]
  },
  {
   "cell_type": "code",
   "execution_count": 78,
   "metadata": {},
   "outputs": [
    {
     "data": {
      "text/plain": [
       "(1.9557999999999998+0j)"
      ]
     },
     "execution_count": 78,
     "metadata": {},
     "output_type": "execute_result"
    }
   ],
   "source": [
    "# step 5 (REM + ZNE)\n",
    "\n",
    "both_executor = zne.mitigate_executor(rem_executor, observable=obs)\n",
    "\n",
    "both_executor(circuit)"
   ]
  }
 ],
 "metadata": {
  "kernelspec": {
   "display_name": "dev",
   "language": "python",
   "name": "python3"
  },
  "language_info": {
   "codemirror_mode": {
    "name": "ipython",
    "version": 3
   },
   "file_extension": ".py",
   "mimetype": "text/x-python",
   "name": "python",
   "nbconvert_exporter": "python",
   "pygments_lexer": "ipython3",
   "version": "3.8.13"
  },
  "orig_nbformat": 4,
  "vscode": {
   "interpreter": {
    "hash": "476253e59e65943f63347f07b9cde9e6998ced5a0f745ea85ba02156ab78e294"
   }
  }
 },
 "nbformat": 4,
 "nbformat_minor": 2
}
