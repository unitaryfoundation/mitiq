{
 "cells": [
  {
   "cell_type": "markdown",
   "metadata": {
    "id": "wjnIQWX8d5UY"
   },
   "source": [
    "# Mitiq paper codeblocks\n",
    "\n",
    "Codeblocks from the main text of the [Mitiq paper](https://arxiv.org/abs/2009.04417) [1]."
   ]
  },
  {
   "cell_type": "markdown",
   "metadata": {
    "id": "DRplhovffVfk"
   },
   "source": [
    "**Codeblock 1**"
   ]
  },
  {
   "cell_type": "code",
   "execution_count": 1,
   "metadata": {
    "colab": {
     "base_uri": "https://localhost:8080/"
    },
    "id": "YTOaB_3tdymW",
    "outputId": "38c2ce43-463f-4ab8-e402-fbc1d5877ce3"
   },
   "outputs": [],
   "source": [
    "# !pip install mitiq --quiet"
   ]
  },
  {
   "cell_type": "markdown",
   "metadata": {
    "id": "Pghlsxv0fXA2"
   },
   "source": [
    "**Codeblock 2**"
   ]
  },
  {
   "cell_type": "code",
   "execution_count": null,
   "metadata": {
    "colab": {
     "base_uri": "https://localhost:8080/"
    },
    "id": "Qi1qvROzd0nT",
    "outputId": "b0419328-2fba-42eb-b27b-a8b20ed24f13"
   },
   "outputs": [
    {
     "name": "stdout",
     "output_type": "stream",
     "text": [
      "\n",
      "Mitiq: A Python toolkit for implementing error mitigation on quantum computers\n",
      "==============================================================================\n",
      "Authored by: Mitiq team, 2020 & later (https://github.com/unitaryfund/mitiq)\n",
      "\n",
      "Mitiq Version:\t0.9.2\n",
      "\n",
      "Core Dependencies\n",
      "-----------------\n",
      "Cirq Version:\t0.10.0\n",
      "NumPy Version:\t1.19.5\n",
      "SciPy Version:\t1.4.1\n",
      "\n",
      "Optional Dependencies\n",
      "---------------------\n",
      "PyQuil Version:\tNot installed\n",
      "Qiskit Version:\tNot installed\n",
      "Braket Version:\tNot installed\n",
      "\n",
      "Python Version:\t3.7.10\n",
      "Platform Info:\tLinux (x86_64)\n"
     ]
    }
   ],
   "source": [
    "import mitiq\n",
    "\n",
    "\n",
    "mitiq.about()"
   ]
  },
  {
   "cell_type": "markdown",
   "metadata": {
    "id": "lK7iAVVShWu3"
   },
   "source": [
    "**Codeblock 4**"
   ]
  },
  {
   "cell_type": "markdown",
   "metadata": {
    "id": "IXykFfZ6hYW7"
   },
   "source": [
    "> Note: The paper just shows the signature of an executor function, but here we explicitly define one to use in examples."
   ]
  },
  {
   "cell_type": "code",
   "execution_count": null,
   "metadata": {
    "id": "PyPWG95HhYfj"
   },
   "outputs": [],
   "source": [
    "import cirq\n",
    "from mitiq.interface import accept_any_qprogram_as_input\n",
    "\n",
    "\n",
    "@accept_any_qprogram_as_input\n",
    "def executor(circuit: mitiq.QPROGRAM) -> float:\n",
    "    return cirq.DensityMatrixSimulator().simulate(\n",
    "        circuit.with_noise(cirq.depolarize(p=0.01))\n",
    "    ).final_density_matrix[0, 0].real"
   ]
  },
  {
   "cell_type": "markdown",
   "metadata": {
    "id": "LxQh9Vehh_2Q"
   },
   "source": [
    "**Codeblock 5**"
   ]
  },
  {
   "cell_type": "code",
   "execution_count": null,
   "metadata": {
    "colab": {
     "base_uri": "https://localhost:8080/"
    },
    "id": "eLIxAhYwiC0m",
    "outputId": "e9f253a9-0777-46c7-b586-48bef61db5d2"
   },
   "outputs": [
    {
     "name": "stdout",
     "output_type": "stream",
     "text": [
      "ZNE value: 0.9415782690048214\n"
     ]
    }
   ],
   "source": [
    "from mitiq import zne\n",
    "\n",
    "\n",
    "circuit = cirq.Circuit([cirq.X.on(cirq.LineQubit(0))] * 50)\n",
    "\n",
    "zne_value = zne.execute_with_zne(circuit, executor)\n",
    "print(\"ZNE value:\", zne_value)"
   ]
  },
  {
   "cell_type": "markdown",
   "metadata": {
    "id": "3Q2MyAxBiW0C"
   },
   "source": [
    "**Codeblock 6**"
   ]
  },
  {
   "cell_type": "markdown",
   "metadata": {
    "id": "CqiFB4q0ib06"
   },
   "source": [
    "> Note: The paper shows pseudocode; here we show an example."
   ]
  },
  {
   "cell_type": "code",
   "execution_count": null,
   "metadata": {
    "colab": {
     "base_uri": "https://localhost:8080/"
    },
    "id": "aHvZAKymicS4",
    "outputId": "1e89cdf9-e7ba-416c-9d4c-16f6f5a7ccf5"
   },
   "outputs": [
    {
     "name": "stdout",
     "output_type": "stream",
     "text": [
      "ZNE value: 0.9999961467128782\n"
     ]
    }
   ],
   "source": [
    "zne_value = zne.execute_with_zne(\n",
    "    circuit,\n",
    "    executor,\n",
    "    scale_noise=zne.scaling.fold_global,\n",
    "    factory=zne.inference.ExpFactory(scale_factors=[1.0, 3.0, 5.0, 7.0, 9.0])    \n",
    ")\n",
    "print(\"ZNE value:\", zne_value)"
   ]
  },
  {
   "cell_type": "markdown",
   "metadata": {
    "id": "VAGU7qZAjKzD"
   },
   "source": [
    "**Codeblock 7**"
   ]
  },
  {
   "cell_type": "markdown",
   "metadata": {
    "id": "-jbnFbQkjN5J"
   },
   "source": [
    "> Note: The paper shows pseudocode; here we show an example."
   ]
  },
  {
   "cell_type": "code",
   "execution_count": null,
   "metadata": {
    "colab": {
     "base_uri": "https://localhost:8080/"
    },
    "id": "kMS4r4iAjNL3",
    "outputId": "461f6d11-b45a-4f99-e8e4-d74f20651e9e"
   },
   "outputs": [
    {
     "name": "stdout",
     "output_type": "stream",
     "text": [
      "Representation of ideal operation:\n",
      "\n",
      "0: ───X─── = 1.010*0: ───X───-0.003*0: ───X───X───-0.003*0: ───X───Y───-0.003*0: ───X───Z───\n",
      "\n",
      "\n",
      "PEC value: 0.9646452903041853\n"
     ]
    }
   ],
   "source": [
    "from mitiq import pec\n",
    "\n",
    "representation = pec.represent_operation_with_local_depolarizing_noise(\n",
    "    ideal_operation=cirq.Circuit(circuit[0]), noise_level=0.01\n",
    ")\n",
    "print(\"Representation of ideal operation:\", representation, sep=\"\\n\\n\")\n",
    "\n",
    "pec_value = pec.execute_with_pec(\n",
    "    circuit,\n",
    "    executor,\n",
    "    representations=[representation],\n",
    "    num_samples=10,  # Remove argument or increase for better accuracy.\n",
    ")\n",
    "print(\"\\n\\nPEC value:\", pec_value)"
   ]
  },
  {
   "cell_type": "markdown",
   "metadata": {
    "id": "UvTIzr0ZfYuI"
   },
   "source": [
    "**Codeblock 8**"
   ]
  },
  {
   "cell_type": "code",
   "execution_count": null,
   "metadata": {
    "colab": {
     "base_uri": "https://localhost:8080/"
    },
    "id": "ULlw67NGecNd",
    "outputId": "bc1dd527-4e32-4252-e2cd-3496a46387f7"
   },
   "outputs": [
    {
     "name": "stdout",
     "output_type": "stream",
     "text": [
      "Original circuit:\n",
      "0: ───H───@───\n",
      "          │\n",
      "1: ───────X───\n"
     ]
    }
   ],
   "source": [
    "qreg = cirq.LineQubit.range(2)\n",
    "circ = cirq.Circuit(\n",
    "    cirq.ops.H.on(qreg[0]),\n",
    "    cirq.ops.CNOT.on(qreg[0] , qreg[1])\n",
    ")\n",
    "print(\"Original circuit:\", circ, sep=\"\\n\")"
   ]
  },
  {
   "cell_type": "markdown",
   "metadata": {
    "id": "_5Q3P1DJfcar"
   },
   "source": [
    "**Codeblock 9**"
   ]
  },
  {
   "cell_type": "code",
   "execution_count": null,
   "metadata": {
    "colab": {
     "base_uri": "https://localhost:8080/"
    },
    "id": "tSWVDcJIeuck",
    "outputId": "e9d0c874-8814-4da0-c54b-a6881d3e614a"
   },
   "outputs": [
    {
     "name": "stdout",
     "output_type": "stream",
     "text": [
      "Folded circuit:\n",
      "0: ───H───H───H───@───\n",
      "                  │\n",
      "1: ───────────────X───\n"
     ]
    }
   ],
   "source": [
    "folded = zne.scaling.fold_gates_from_left(\n",
    "    circ, scale_factor=2\n",
    ")\n",
    "print(\"Folded circuit:\", folded, sep=\"\\n\")"
   ]
  },
  {
   "cell_type": "markdown",
   "metadata": {
    "id": "4ocoSlNIfnV0"
   },
   "source": [
    "**Codeblock 10**"
   ]
  },
  {
   "cell_type": "code",
   "execution_count": null,
   "metadata": {
    "colab": {
     "base_uri": "https://localhost:8080/"
    },
    "id": "k8gLF_fPfneX",
    "outputId": "ac0ee6c0-4ad4-4524-dc3d-7c9a413fe2ba"
   },
   "outputs": [
    {
     "name": "stdout",
     "output_type": "stream",
     "text": [
      "Folded circuit:\n",
      "0: ───H───@───@───@───\n",
      "          │   │   │\n",
      "1: ───────X───X───X───\n"
     ]
    }
   ],
   "source": [
    "folded = zne.scaling.fold_gates_from_right(\n",
    "    circ, scale_factor=2\n",
    ")\n",
    "print(\"Folded circuit:\", folded, sep=\"\\n\")"
   ]
  },
  {
   "cell_type": "markdown",
   "metadata": {
    "id": "4vZ5JMpVfnyO"
   },
   "source": [
    "**Codeblock 11**"
   ]
  },
  {
   "cell_type": "code",
   "execution_count": null,
   "metadata": {
    "colab": {
     "base_uri": "https://localhost:8080/"
    },
    "id": "Nsb4lxglfn4W",
    "outputId": "162b8dda-3473-44d0-eae3-0cc7a70e146a"
   },
   "outputs": [
    {
     "name": "stdout",
     "output_type": "stream",
     "text": [
      "Folded circuit:\n",
      "0: ───H───@───@───H───H───@───\n",
      "          │   │           │\n",
      "1: ───────X───X───────────X───\n"
     ]
    }
   ],
   "source": [
    "folded = zne.scaling.fold_global(circ, scale_factor=3.)\n",
    "print(\"Folded circuit:\", folded, sep=\"\\n\")"
   ]
  },
  {
   "cell_type": "markdown",
   "metadata": {
    "id": "97Jtd6hNk2cg"
   },
   "source": [
    "**Codeblock 12**"
   ]
  },
  {
   "cell_type": "markdown",
   "metadata": {
    "id": "FYJbOqK3k3zT"
   },
   "source": [
    "> Note: The paper shows pseudocode; here we show an example."
   ]
  },
  {
   "cell_type": "code",
   "execution_count": null,
   "metadata": {
    "colab": {
     "base_uri": "https://localhost:8080/"
    },
    "id": "Ey4vYYR1k4ul",
    "outputId": "d8cea421-0902-442e-e4c6-02cb24b9fd9a"
   },
   "outputs": [
    {
     "name": "stdout",
     "output_type": "stream",
     "text": [
      "Circuit:\n",
      "0: ───X^0.6───Z^0.8───\n",
      "\n",
      "Scaled circuit:\n",
      "0: ───X^0.618───Z^(9/11)───\n"
     ]
    }
   ],
   "source": [
    "q = cirq.LineQubit(0)\n",
    "circuit2 = cirq.Circuit(cirq.X.on(q) ** (3 / 5), cirq.Z.on(q) ** (4 / 5))\n",
    "print(\"Circuit:\", circuit2, sep=\"\\n\")\n",
    "\n",
    "scaled = zne.scaling.scale_parameters(circuit2, scale_factor=2.0, base_variance=0.01)\n",
    "print(\"\\nScaled circuit:\", scaled, sep=\"\\n\")"
   ]
  },
  {
   "cell_type": "markdown",
   "metadata": {
    "id": "ye9I9WLNrGxU"
   },
   "source": [
    "**Codeblock 13**"
   ]
  },
  {
   "cell_type": "code",
   "execution_count": null,
   "metadata": {
    "colab": {
     "base_uri": "https://localhost:8080/"
    },
    "id": "1cOf4CCHrG8t",
    "outputId": "3798e296-070c-4410-d3af-c54dc2756f36"
   },
   "outputs": [
    {
     "name": "stdout",
     "output_type": "stream",
     "text": [
      "ZNE value: 0.9415782690048214\n"
     ]
    }
   ],
   "source": [
    "zne_value = zne.execute_with_zne(\n",
    "    circuit,\n",
    "    executor,\n",
    "    scale_noise=zne.scaling.fold_global,\n",
    ")\n",
    "print(\"ZNE value:\", zne_value)"
   ]
  },
  {
   "cell_type": "markdown",
   "metadata": {
    "id": "vm3EwufPfn_B"
   },
   "source": [
    "**Codeblock 14**"
   ]
  },
  {
   "cell_type": "code",
   "execution_count": null,
   "metadata": {
    "id": "AhnilvXffoF2"
   },
   "outputs": [],
   "source": [
    "linear_factory = zne.inference.LinearFactory(scale_factors=[1.0, 2.0, 3.0])"
   ]
  },
  {
   "cell_type": "markdown",
   "metadata": {
    "id": "3ubB9KrvfoLo"
   },
   "source": [
    "**Codeblock 15**"
   ]
  },
  {
   "cell_type": "code",
   "execution_count": null,
   "metadata": {
    "colab": {
     "base_uri": "https://localhost:8080/"
    },
    "id": "BFGHYLfHfoRT",
    "outputId": "db11bbc7-9ac3-4e93-a4cf-3613145f70bc"
   },
   "outputs": [
    {
     "name": "stdout",
     "output_type": "stream",
     "text": [
      "ZNE value: 0.8397777080535891\n"
     ]
    }
   ],
   "source": [
    "zne_value = zne.execute_with_zne(\n",
    "    circuit,\n",
    "    executor,\n",
    "    factory=linear_factory,\n",
    ")\n",
    "print(\"ZNE value:\", zne_value)"
   ]
  },
  {
   "cell_type": "markdown",
   "metadata": {
    "id": "doyAREdJfoWC"
   },
   "source": [
    "**Codeblock 16**"
   ]
  },
  {
   "cell_type": "code",
   "execution_count": null,
   "metadata": {
    "colab": {
     "base_uri": "https://localhost:8080/"
    },
    "id": "PI5NPdolfob1",
    "outputId": "d9616b42-d25b-4e96-fe4e-116f78901d04"
   },
   "outputs": [
    {
     "name": "stdout",
     "output_type": "stream",
     "text": [
      "ZNE value: 0.9415782690048214\n"
     ]
    }
   ],
   "source": [
    "zne_value = zne.execute_with_zne(\n",
    "    circuit,\n",
    "    executor,\n",
    "    factory=zne.inference.PolyFactory(\n",
    "        scale_factors=[1.0, 2.0, 3.0], order=2\n",
    "    ),\n",
    ")\n",
    "print(\"ZNE value:\", zne_value)"
   ]
  },
  {
   "cell_type": "markdown",
   "metadata": {
    "id": "zvIc-aLuGAut"
   },
   "source": [
    "**Codeblock 17**"
   ]
  },
  {
   "cell_type": "code",
   "execution_count": null,
   "metadata": {
    "colab": {
     "base_uri": "https://localhost:8080/"
    },
    "id": "TdquccfPGB3Z",
    "outputId": "2c86fd20-67a9-451d-b8b9-d835d3b3a511"
   },
   "outputs": [
    {
     "name": "stdout",
     "output_type": "stream",
     "text": [
      "ZNE value: 0.9998500777120343\n"
     ]
    }
   ],
   "source": [
    "zne_value = zne.execute_with_zne(\n",
    "    circuit,\n",
    "    executor,\n",
    "    factory=zne.inference.AdaExpFactory(\n",
    "        scale_factor=2.0, steps=5\n",
    "    ),\n",
    ")\n",
    "print(\"ZNE value:\", zne_value)"
   ]
  },
  {
   "cell_type": "markdown",
   "metadata": {
    "id": "bbaOzdc-GLeM"
   },
   "source": [
    "**Codeblock 18**"
   ]
  },
  {
   "cell_type": "code",
   "execution_count": null,
   "metadata": {
    "colab": {
     "base_uri": "https://localhost:8080/"
    },
    "id": "rh5iUFPNGLmU",
    "outputId": "8de68b02-8c79-46d0-d384-2331de29658a"
   },
   "outputs": [
    {
     "name": "stdout",
     "output_type": "stream",
     "text": [
      "ZNE value: 0.9022606164216984\n"
     ]
    }
   ],
   "source": [
    "from mitiq.zne.inference import BatchedFactory, PolyFactory\n",
    "import numpy as np\n",
    "\n",
    "\n",
    "class MyFactory(BatchedFactory):\n",
    "    @staticmethod\n",
    "    def extrapolate(scale_factors, exp_values, full_output):\n",
    "        zne_result, *extras = PolyFactory.extrapolate(\n",
    "            scale_factors, exp_values, order=2, full_output=True\n",
    "        )\n",
    "        zne_result = np.clip(zne_result, -1.0, 1.0)\n",
    "        return zne_result if not full_output else (zne_result, *extras)\n",
    "\n",
    "\n",
    "# Example usage.\n",
    "zne_value = zne.execute_with_zne(\n",
    "    circuit,\n",
    "    executor,\n",
    "    factory=MyFactory(scale_factors=[1, 3, 5])\n",
    ")\n",
    "print(\"ZNE value:\", zne_value)"
   ]
  },
  {
   "cell_type": "markdown",
   "metadata": {
    "id": "t3o-Xc5rGLsR"
   },
   "source": [
    "**Codeblock 19**"
   ]
  },
  {
   "cell_type": "code",
   "execution_count": null,
   "metadata": {
    "id": "qqndfKFIGLy6"
   },
   "outputs": [],
   "source": [
    "from mitiq import pec\n",
    "\n",
    "\n",
    "noisy_x = pec.NoisyOperation(\n",
    "    circuit=cirq.Circuit(cirq.X.on(q)),\n",
    "    channel_matrix=np.random.randn(4, 4),\n",
    ")\n",
    "\n",
    "noisy_z = pec.NoisyOperation(\n",
    "    circuit=cirq.Circuit(cirq.Z.on(q)),\n",
    "    channel_matrix=np.random.randn(4, 4),\n",
    ")"
   ]
  },
  {
   "cell_type": "markdown",
   "metadata": {
    "id": "J0rb6P6XGL42"
   },
   "source": [
    "**Codeblock 20 & 21** "
   ]
  },
  {
   "cell_type": "code",
   "execution_count": null,
   "metadata": {
    "id": "UsxGtCrAGL-h"
   },
   "outputs": [],
   "source": [
    "h_rep = pec.OperationRepresentation(\n",
    "    ideal=cirq.Circuit(cirq.H.on(q)),\n",
    "    basis_expansion = {noisy_x: 0.52, noisy_z: -0.48}\n",
    ")"
   ]
  },
  {
   "cell_type": "markdown",
   "metadata": {
    "id": "D2NVsYKVGMJ-"
   },
   "source": [
    "**Codeblock 22**"
   ]
  },
  {
   "cell_type": "code",
   "execution_count": null,
   "metadata": {
    "id": "Civ6U2OSGMQV"
   },
   "outputs": [],
   "source": [
    "noisy_op, sign, coeff = h_rep.sample()"
   ]
  },
  {
   "cell_type": "markdown",
   "metadata": {
    "id": "F8Ryo8cGGMWu"
   },
   "source": [
    "**Codeblock 23**"
   ]
  },
  {
   "cell_type": "code",
   "execution_count": null,
   "metadata": {
    "colab": {
     "base_uri": "https://localhost:8080/"
    },
    "id": "JY2lL4jXGMce",
    "outputId": "9c7227f6-9a4e-4028-a932-a892542062b2"
   },
   "outputs": [
    {
     "name": "stdout",
     "output_type": "stream",
     "text": [
      "Sampled circuit:\n",
      "0: ───Z───X───X───Z───X───\n"
     ]
    }
   ],
   "source": [
    "circuit3 = cirq.Circuit([cirq.H.on(q)] * 5)\n",
    "\n",
    "sampled, sign, norm = pec.sample_circuit(circuit3, representations=[h_rep])\n",
    "print(\"Sampled circuit:\", sampled, sep=\"\\n\")  # Run many times to see different sampled circuits!"
   ]
  },
  {
   "cell_type": "markdown",
   "metadata": {
    "id": "RYh92EfKGMix"
   },
   "source": [
    "**Codeblock 24 & 25**"
   ]
  },
  {
   "cell_type": "markdown",
   "metadata": {
    "id": "C6K0VzUCLkcw"
   },
   "source": [
    "See https://mitiq.readthedocs.io/en/stable/examples/cdr_api.html."
   ]
  },
  {
   "cell_type": "markdown",
   "metadata": {
    "id": "T73iRSXLGMud"
   },
   "source": [
    "**Codeblock 26**"
   ]
  },
  {
   "cell_type": "code",
   "execution_count": null,
   "metadata": {
    "colab": {
     "base_uri": "https://localhost:8080/"
    },
    "id": "r0yT4jI7GM05",
    "outputId": "59a2f5c0-ec34-4591-cdcb-b50198e95b39"
   },
   "outputs": [
    {
     "name": "stdout",
     "output_type": "stream",
     "text": [
      "ZNE value: 0.9999972208991856\n"
     ]
    }
   ],
   "source": [
    "mitigated_executor = zne.mitigate_executor(\n",
    "    executor, scale_noise=zne.scaling.fold_global, factory=zne.inference.ExpFactory(scale_factors=[1, 3, 5, 7])\n",
    ")\n",
    "zne_value = mitigated_executor(circuit)\n",
    "print(\"ZNE value:\", zne_value)"
   ]
  },
  {
   "cell_type": "markdown",
   "metadata": {
    "id": "042uqn-fMiYj"
   },
   "source": [
    "**Codeblock 27**"
   ]
  },
  {
   "cell_type": "code",
   "execution_count": null,
   "metadata": {
    "colab": {
     "base_uri": "https://localhost:8080/"
    },
    "id": "2tHbd1x7MiiX",
    "outputId": "007938cd-10ea-40d1-cd26-b6bc1f7b0ea6"
   },
   "outputs": [
    {
     "name": "stdout",
     "output_type": "stream",
     "text": [
      "ZNE value: 0.9999972208991856\n"
     ]
    }
   ],
   "source": [
    "@zne.zne_decorator(factory=zne.inference.ExpFactory(scale_factors=[1, 3, 5, 7]), scale_noise=zne.scaling.fold_gates_at_random)\n",
    "def execute(circuit: cirq.Circuit) -> float:\n",
    "    return cirq.DensityMatrixSimulator().simulate(\n",
    "        circuit.with_noise(cirq.depolarize(p=0.01))\n",
    "    ).final_density_matrix[0, 0].real\n",
    "\n",
    "\n",
    "zne_value = execute(circuit)\n",
    "print(\"ZNE value:\", zne_value)"
   ]
  },
  {
   "cell_type": "markdown",
   "metadata": {
    "id": "P5HEyCXwMio8"
   },
   "source": [
    "**Codeblock 28**"
   ]
  },
  {
   "cell_type": "code",
   "execution_count": null,
   "metadata": {
    "colab": {
     "base_uri": "https://localhost:8080/"
    },
    "id": "-AHS0pcLMixV",
    "outputId": "0c26b4a3-77d0-4668-c799-efbd746f00fc"
   },
   "outputs": [
    {
     "name": "stdout",
     "output_type": "stream",
     "text": [
      "ZNE then PEC value: -0.6000000797979894\n"
     ]
    }
   ],
   "source": [
    "@pec.pec_decorator(representations=[h_rep], num_samples=10)\n",
    "@zne.zne_decorator(\n",
    "    factory=zne.inference.ExpFactory(scale_factors=[1, 3, 5, 7]), \n",
    "    scale_noise=zne.scaling.fold_gates_at_random\n",
    ")\n",
    "def execute(circuit: cirq.Circuit) -> float:\n",
    "    return cirq.DensityMatrixSimulator().simulate(\n",
    "        circuit.with_noise(cirq.depolarize(p=0.01))\n",
    "    ).final_density_matrix[0, 0].real\n",
    "\n",
    "\n",
    "zne_then_pec_value = execute(circuit3)\n",
    "print(\"ZNE then PEC value:\", zne_then_pec_value)  # Note this is not accurate (bad representation)."
   ]
  },
  {
   "cell_type": "markdown",
   "metadata": {
    "id": "LQYPqUazMi3b"
   },
   "source": [
    "**Codeblock 29**"
   ]
  },
  {
   "cell_type": "code",
   "execution_count": null,
   "metadata": {
    "colab": {
     "base_uri": "https://localhost:8080/"
    },
    "id": "vWUzgR6EMi9n",
    "outputId": "f2f56f66-9d37-4a17-f923-18c47a12ac5e"
   },
   "outputs": [],
   "source": [
    "\n",
    "!pip install qiskit==0.24.0 --quiet\n"
   ]
  },
  {
   "cell_type": "code",
   "execution_count": null,
   "metadata": {
    "id": "dyk7Hj1nPB48"
   },
   "outputs": [],
   "source": [
    "\n",
    "import qiskit\n",
    "\n",
    "\n",
    "provider = qiskit.BasicAer  # Use of a simulator as backend.\n",
    "# provider = qiskit.IBMQ.load_account()  # Alternative way to run the blocks, with saved credentials.\n",
    "\n",
    "def execute(\n",
    "    circuit: qiskit.QuantumCircuit, \n",
    "    backend_name: str = \"qasm_simulator\", \n",
    "    shots: int = 1024\n",
    ") -> float:\n",
    "    job = qiskit.execute(\n",
    "        experiments=circuit,\n",
    "        backend=provider.get_backend(backend_name),\n",
    "        optimization_level=0,\n",
    "        shots=shots,\n",
    "    )\n",
    "\n",
    "    counts = job.result().get_counts()\n",
    "    return counts.get(\"00\", 0.0) / shots\n"
   ]
  },
  {
   "cell_type": "code",
   "execution_count": null,
   "metadata": {
    "colab": {
     "base_uri": "https://localhost:8080/"
    },
    "id": "BJHEuASKQp4T",
    "outputId": "3e5597ec-470f-48a9-cf3a-9e6fe551a06d"
   },
   "outputs": [],
   "source": [
    "\n",
    "# Example usage.\n",
    "qreg = qiskit.QuantumRegister(2)\n",
    "creg = qiskit.ClassicalRegister(2)\n",
    "circ = qiskit.QuantumCircuit(qreg, creg)\n",
    "circ.h(qreg[0])\n",
    "circ.cx(*qreg)\n",
    "circ.measure(qreg, creg)\n",
    "print(\"Circuit:\")\n",
    "print(circ)\n",
    "\n",
    "execute(circ)\n"
   ]
  },
  {
   "cell_type": "markdown",
   "metadata": {},
   "source": [
    "## References\n",
    "[1] *Mitiq: A software package for error mitigation on noisy quantum computers*, \n",
    "Ryan  LaRose, Andrea  Mari, Sarah  Kaiser, Peter  J.  Karalekas, Andre  A. Alves, Piotr Czarnik, Mohamed El Mandouh, Max H. Gordon, Yousef Hindy, Aaron Robertson, Purva Thakre, Nathan Shammah, and William J. Zeng, [https://arxiv.org/abs/2009.04417](https://arxiv.org/abs/2009.04417)"
   ]
  },
  {
   "cell_type": "code",
   "execution_count": null,
   "metadata": {},
   "outputs": [],
   "source": []
  },
  {
   "cell_type": "code",
   "execution_count": null,
   "metadata": {},
   "outputs": [],
   "source": []
  }
 ],
 "metadata": {
  "colab": {
   "name": "mitiq_paper_codeblocks.ipynb",
   "provenance": []
  },
  "kernelspec": {
   "display_name": "Python 3",
   "language": "python",
   "name": "python3"
  },
  "language_info": {
   "codemirror_mode": {
    "name": "ipython",
    "version": 3
   },
   "file_extension": ".py",
   "mimetype": "text/x-python",
   "name": "python",
   "nbconvert_exporter": "python",
   "pygments_lexer": "ipython3",
   "version": "3.8.0"
  }
 },
 "nbformat": 4,
 "nbformat_minor": 1
}
