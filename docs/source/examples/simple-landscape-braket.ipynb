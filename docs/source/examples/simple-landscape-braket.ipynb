{
 "cells": [
  {
   "cell_type": "markdown",
   "metadata": {
    "tags": []
   },
   "source": [
    "# Using ZNE to compute the energy landscape of a variational circuit with INSERT-FRONTEND"
   ]
  },
  {
   "cell_type": "markdown",
   "metadata": {},
   "source": [
    "This tutorial shows an example in which the energy landscape for a two-qubit variational circuit is explored with and without error mitigation, using INSERT-FRONTEND as our frontend."
   ]
  },
  {
   "cell_type": "code",
   "execution_count": null,
   "metadata": {},
   "outputs": [],
   "source": [
    "import matplotlib.pyplot as plt\n",
    "import numpy as np\n",
    "#TODO # from cirq import Circuit, rx, CNOT, DensityMatrixSimulator, LineQubit, depolarize\n",
    "\n",
    "from mitiq.zne import mitigate_executor\n",
    "from mitiq.zne.inference import RichardsonFactory\n",
    "\n",
    "SIMULATOR = #TODO #DensityMatrixSimulator()"
   ]
  },
  {
   "cell_type": "markdown",
   "metadata": {},
   "source": [
    "## Defining the ideal variational circuit in INSERT-FRONTEND "
   ]
  },
  {
   "cell_type": "markdown",
   "metadata": {},
   "source": [
    "We define a function which returns a simple two-qubit variational circuit depending on a single parameter  $\\gamma$."
   ]
  },
  {
   "cell_type": "code",
   "execution_count": null,
   "metadata": {},
   "outputs": [],
   "source": [
    "def variational_circuit(gamma: float) -> INSERT_FRONTEND_TYPE:\n",
    "    \"\"\"Returns a two-qubit circuit for a given variational parameter.\n",
    "\n",
    "    Args:\n",
    "        gamma: The variational parameter.\n",
    "\n",
    "    Returns:\n",
    "        The two-qubit circuit with a fixed gamma.\n",
    "    \"\"\"\n",
    "    #TODO\n",
    "   # q0, q1 = LineQubit.range(2)\n",
    "   #     \n",
    "   # return Circuit([rx(gamma)(q0), CNOT(q0, q1), rx(gamma)(q1), CNOT(q0, q1), rx(gamma)(q0)])"
   ]
  },
  {
   "cell_type": "markdown",
   "metadata": {},
   "source": [
    "We can visualize the circuit for a particular $\\gamma$ as follows."
   ]
  },
  {
   "cell_type": "code",
   "execution_count": null,
   "metadata": {},
   "outputs": [],
   "source": [
    "print(variational_circuit(gamma=np.pi))"
   ]
  },
  {
   "cell_type": "markdown",
   "metadata": {},
   "source": [
    "## Defining the executor functions with and without noise\n",
    "To use error mitigation methods in Mitiq, we define an executor function which computes the expectation value of a simple Hamiltonian $H=Z \\otimes Z$, i.e., Pauli-$Z$ on each qubit. To compare to the noiseless result, we define both a noiseless and a noisy executor below."
   ]
  },
  {
   "cell_type": "code",
   "execution_count": null,
   "metadata": {},
   "outputs": [],
   "source": [
    "# Observable to measure\n",
    "\n",
    "\n",
    "\n",
    "#z = np.diag([1, -1])\n",
    "#hamiltonian = np.kron(z, z)\n",
    "\n",
    "#def noiseless_executor(circ: Circuit) -> float:\n",
    "    \"\"\"Simulates the execution of a circuit without noise.\n",
    "\n",
    "    Args:\n",
    "        circ: The input circuit.\n",
    "\n",
    "    Returns:\n",
    "        The expectation value of the ZZ observable.\n",
    "    \"\"\"\n",
    "#    # Get the final density matrix of the circuit\n",
    "#    SIMULATOR = DensityMatrixSimulator()\n",
    "#    rho = SIMULATOR.simulate(circ).final_density_matrix\n",
    "#    # Evaluate the ZZ expectation value\n",
    "#    expectation = np.real(np.trace(rho @ hamiltonian))\n",
    "#    return expectation\n",
    "\n",
    "# Strength of noise channel\n",
    "p = 0.04\n",
    "\n",
    "#def executor_with_noise(circ: Circuit) -> float:\n",
    "    \"\"\"Simulates the execution of a circuit with depolarizing noise.\n",
    "\n",
    "    Args:\n",
    "        circ: The input circuit.\n",
    "\n",
    "    Returns:\n",
    "        The expectation value of the ZZ observable.\n",
    "    \"\"\"\n",
    "#    # Add depolarizing noise to the circuit\n",
    "#    noisy_circuit = circ.with_noise(depolarize(p))\n",
    "#    # Use the noiseless_executor function to return the expectation value of the ZZ observable for the noisy circuit\n",
    "#    return noiseless_executor(noisy_circuit)"
   ]
  },
  {
   "cell_type": "markdown",
   "metadata": {},
   "source": [
    ":::{note}\n",
    "The above code block uses depolarizing noise, but any INSERT-FRONTEND channel can be substituted in.\n",
    ":::\n"
   ]
  },
  {
   "cell_type": "markdown",
   "metadata": {},
   "source": [
    "## Computing the unmitigated landscape\n",
    "We now compute the unmitigated energy landscape $\\langle H \\rangle(\\gamma) =\\langle Z \\otimes Z \\rangle(\\gamma)$\n",
    "in the following code block."
   ]
  },
  {
   "cell_type": "markdown",
   "metadata": {},
   "source": [
    ":::{note}\n",
    "All the code that follows is generic and does not depend on a particular frontend.\n",
    ":::"
   ]
  },
  {
   "cell_type": "code",
   "execution_count": null,
   "metadata": {},
   "outputs": [],
   "source": [
    "gammas = np.linspace(0, 2 * np.pi, 50)\n",
    "expectations = [executor_with_noise(variational_circuit(g)) for g in gammas]"
   ]
  },
  {
   "cell_type": "markdown",
   "metadata": {},
   "source": [
    "The following code plots these values for visualization along with the noiseless landscape."
   ]
  },
  {
   "cell_type": "code",
   "execution_count": null,
   "metadata": {},
   "outputs": [],
   "source": [
    "plt.figure(figsize=(8, 6))\n",
    "plt.plot(gammas, noiseless_expectations, color=\"g\", linewidth=3, label=\"Noiseless\")\n",
    "plt.scatter(gammas, expectations, color=\"r\", label=\"Unmitigated\")\n",
    "plt.title(rf\"Energy landscape\", fontsize=16)\n",
    "plt.xlabel(r\"Ansatz angle $\\gamma$\", fontsize=16)\n",
    "plt.ylabel(r\"$\\langle H \\rangle(\\gamma)$\", fontsize=16)\n",
    "plt.legend(fontsize=14)\n",
    "plt.ylim(-1, 1);\n",
    "plt.show()"
   ]
  },
  {
   "cell_type": "markdown",
   "metadata": {},
   "source": [
    "## Computing the mitigated landscape\n",
    "We now repeat the same task but use Mitiq to mitigate errors.\n",
    "We initialize a RichardsonFactory with scale factors `[1, 3, 5]` and we get a mitigated executor as follows."
   ]
  },
  {
   "cell_type": "code",
   "execution_count": null,
   "metadata": {},
   "outputs": [],
   "source": [
    "fac = RichardsonFactory(scale_factors=[1, 3, 5])\n",
    "mitigated_executor = mitigate_executor(executor_with_noise, factory=fac)"
   ]
  },
  {
   "cell_type": "markdown",
   "metadata": {},
   "source": [
    "We then run the same code above to compute the energy landscape, but this time use the ``mitigated_executor`` instead of just the executor."
   ]
  },
  {
   "cell_type": "code",
   "execution_count": null,
   "metadata": {},
   "outputs": [],
   "source": [
    "mitigated_expectations = [mitigated_executor(variational_circuit(g)) for g in gammas]"
   ]
  },
  {
   "cell_type": "markdown",
   "metadata": {},
   "source": [
    "Let us visualize the mitigated landscape alongside the unmitigated and noiseless landscapes."
   ]
  },
  {
   "cell_type": "code",
   "execution_count": null,
   "metadata": {},
   "outputs": [],
   "source": [
    "plt.figure(figsize=(8, 6))\n",
    "plt.plot(gammas, noiseless_expectations, color=\"g\", linewidth=3, label=\"Noiseless\")\n",
    "plt.scatter(gammas, expectations, color=\"r\", label=\"Unmitigated\")\n",
    "plt.scatter(gammas, mitigated_expectations, color=\"b\", label=\"Mitigated\")\n",
    "plt.title(rf\"Energy landscape\", fontsize=16)\n",
    "plt.xlabel(r\"Variational angle $\\gamma$\", fontsize=16)\n",
    "plt.ylabel(r\"$\\langle H \\rangle(\\gamma)$\", fontsize=16)\n",
    "plt.legend(fontsize=14)\n",
    "plt.ylim(-1.5, 1.5);\n",
    "plt.show()"
   ]
  },
  {
   "cell_type": "markdown",
   "metadata": {},
   "source": [
    "Noise usually tends to flatten expectation values towards a constant. Therefore error mitigation \n",
    "can be used to increase the visibility the landscape and this fact can simplify the energy minimization \n",
    "which is required in most variational algorithms such as VQE or QAOA.\n",
    "\n",
    "We also observe that the minimum of mitigated energy approximates well the theoretical ground state which is equal to $-1$. Indeed:"
   ]
  },
  {
   "cell_type": "code",
   "execution_count": null,
   "metadata": {},
   "outputs": [],
   "source": [
    "print(f\"Minimum of the noisy landscape: {round(min(expectations), 3)}\")\n",
    "print(f\"Minimum of the mitigated landscape: {round(min(mitigated_expectations), 3)}\")\n",
    "print(f\"Theoretical groud state energy: {min(np.linalg.eigvals(hamiltonian))}\")"
   ]
  }
 ],
 "metadata": {
  "jupytext": {
   "formats": "md:myst,ipynb"
  },
  "kernelspec": {
   "display_name": "Python 3 (ipykernel)",
   "language": "python",
   "name": "python3"
  },
  "language_info": {
   "codemirror_mode": {
    "name": "ipython",
    "version": 3
   },
   "file_extension": ".py",
   "mimetype": "text/x-python",
   "name": "python",
   "nbconvert_exporter": "python",
   "pygments_lexer": "ipython3",
   "version": "3.8.13"
  }
 },
 "nbformat": 4,
 "nbformat_minor": 4
}
