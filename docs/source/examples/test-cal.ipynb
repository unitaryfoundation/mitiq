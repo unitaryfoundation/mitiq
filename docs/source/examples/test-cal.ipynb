{
 "cells": [
  {
   "cell_type": "markdown",
   "id": "3099d889",
   "metadata": {},
   "source": [
    "# Breaking into error mitigation with Mitiq's calibration module\n",
    "\n",
    "<img src=\"../_thumbnails/calibration.png\" width=\"400\">\n",
    "\n",
    "This tutorial helps answer the question: \"What quantum error\n",
    "mitigation technique should I use for my problem?\". The newly introduced\n",
    "`mitiq.calibration` module helps answer that in an optimized way, thrhough `Benchmarks` and `Strategies`.\n",
    "\n",
    "More specifically, this tutorial covers:\n",
    "\n",
    "- Getting started with Mitiq's calibration module with ZNE\n",
    "- Use Qiskit noisy simulator with `FakeJakarta` as backend\n",
    "- Run calibration with some special settings, `RBSettings`, using the `cal.run(log=True)` option\n",
    "\n",
    "## Getting started with Mitiq"
   ]
  },
  {
   "cell_type": "code",
   "execution_count": 1,
   "id": "2f0e8453",
   "metadata": {},
   "outputs": [],
   "source": [
    "from mitiq.benchmarks import generate_rb_circuits, generate_ghz_circuit, generate_w_circuit\n",
    "from mitiq.zne import execute_with_zne\n",
    "from mitiq.zne.scaling import (\n",
    "    fold_gates_at_random,\n",
    "    fold_global,\n",
    ")\n",
    "from mitiq import (\n",
    "    Calibrator,\n",
    "    Settings,\n",
    "    execute_with_mitigation,\n",
    "    MeasurementResult,\n",
    ")\n",
    "from mitiq.interface.mitiq_qiskit.qiskit_utils import initialized_depolarizing_noise\n",
    "import qiskit"
   ]
  },
  {
   "cell_type": "markdown",
   "id": "01f3e6ee",
   "metadata": {},
   "source": [
    "### Define the circuit to study\n",
    "\n",
    "#### Global variables\n",
    "\n",
    "Define global variables for the quantum circuit of interest: number of qubits, depth of the quantum circuit and number of shots."
   ]
  },
  {
   "cell_type": "code",
   "execution_count": 2,
   "id": "833ef151",
   "metadata": {},
   "outputs": [],
   "source": [
    "n_qubits = 12\n",
    "shots = 10 ** 4"
   ]
  },
  {
   "cell_type": "markdown",
   "id": "e4203b3c",
   "metadata": {},
   "source": [
    "#### Quantum circuit: Randomized benchmarking (RB)\n",
    "\n",
    "We now use Mitiq's built-in `generate_rb_circuits` from the `mitiq.benchmarks` module to define the quantum circuit."
   ]
  },
  {
   "cell_type": "code",
   "execution_count": 3,
   "id": "ba4f8b67",
   "metadata": {},
   "outputs": [
    {
     "name": "stdout",
     "output_type": "stream",
     "text": [
      "         ┌───┐                                                        ░ ┌─┐   »\n",
      "    q_0: ┤ H ├──■─────────────────────────────────────────────────────░─┤M├───»\n",
      "         └───┘┌─┴─┐                                                   ░ └╥┘┌─┐»\n",
      "    q_1: ─────┤ X ├──■────────────────────────────────────────────────░──╫─┤M├»\n",
      "              └───┘┌─┴─┐                                              ░  ║ └╥┘»\n",
      "    q_2: ──────────┤ X ├──■───────────────────────────────────────────░──╫──╫─»\n",
      "                   └───┘┌─┴─┐                                         ░  ║  ║ »\n",
      "    q_3: ───────────────┤ X ├──■──────────────────────────────────────░──╫──╫─»\n",
      "                        └───┘┌─┴─┐                                    ░  ║  ║ »\n",
      "    q_4: ────────────────────┤ X ├──■─────────────────────────────────░──╫──╫─»\n",
      "                             └───┘┌─┴─┐                               ░  ║  ║ »\n",
      "    q_5: ─────────────────────────┤ X ├──■────────────────────────────░──╫──╫─»\n",
      "                                  └───┘┌─┴─┐                          ░  ║  ║ »\n",
      "    q_6: ──────────────────────────────┤ X ├──■───────────────────────░──╫──╫─»\n",
      "                                       └───┘┌─┴─┐                     ░  ║  ║ »\n",
      "    q_7: ───────────────────────────────────┤ X ├──■──────────────────░──╫──╫─»\n",
      "                                            └───┘┌─┴─┐                ░  ║  ║ »\n",
      "    q_8: ────────────────────────────────────────┤ X ├──■─────────────░──╫──╫─»\n",
      "                                                 └───┘┌─┴─┐           ░  ║  ║ »\n",
      "    q_9: ─────────────────────────────────────────────┤ X ├──■────────░──╫──╫─»\n",
      "                                                      └───┘┌─┴─┐      ░  ║  ║ »\n",
      "   q_10: ──────────────────────────────────────────────────┤ X ├──■───░──╫──╫─»\n",
      "                                                           └───┘┌─┴─┐ ░  ║  ║ »\n",
      "   q_11: ───────────────────────────────────────────────────────┤ X ├─░──╫──╫─»\n",
      "                                                                └───┘ ░  ║  ║ »\n",
      "meas: 12/════════════════════════════════════════════════════════════════╩══╩═»\n",
      "                                                                         0  1 »\n",
      "«                                       \n",
      "«    q_0: ──────────────────────────────\n",
      "«                                       \n",
      "«    q_1: ──────────────────────────────\n",
      "«         ┌─┐                           \n",
      "«    q_2: ┤M├───────────────────────────\n",
      "«         └╥┘┌─┐                        \n",
      "«    q_3: ─╫─┤M├────────────────────────\n",
      "«          ║ └╥┘┌─┐                     \n",
      "«    q_4: ─╫──╫─┤M├─────────────────────\n",
      "«          ║  ║ └╥┘┌─┐                  \n",
      "«    q_5: ─╫──╫──╫─┤M├──────────────────\n",
      "«          ║  ║  ║ └╥┘┌─┐               \n",
      "«    q_6: ─╫──╫──╫──╫─┤M├───────────────\n",
      "«          ║  ║  ║  ║ └╥┘┌─┐            \n",
      "«    q_7: ─╫──╫──╫──╫──╫─┤M├────────────\n",
      "«          ║  ║  ║  ║  ║ └╥┘┌─┐         \n",
      "«    q_8: ─╫──╫──╫──╫──╫──╫─┤M├─────────\n",
      "«          ║  ║  ║  ║  ║  ║ └╥┘┌─┐      \n",
      "«    q_9: ─╫──╫──╫──╫──╫──╫──╫─┤M├──────\n",
      "«          ║  ║  ║  ║  ║  ║  ║ └╥┘┌─┐   \n",
      "«   q_10: ─╫──╫──╫──╫──╫──╫──╫──╫─┤M├───\n",
      "«          ║  ║  ║  ║  ║  ║  ║  ║ └╥┘┌─┐\n",
      "«   q_11: ─╫──╫──╫──╫──╫──╫──╫──╫──╫─┤M├\n",
      "«          ║  ║  ║  ║  ║  ║  ║  ║  ║ └╥┘\n",
      "«meas: 12/═╩══╩══╩══╩══╩══╩══╩══╩══╩══╩═\n",
      "«          2  3  4  5  6  7  8  9  10 11\n"
     ]
    }
   ],
   "source": [
    "# circuit = generate_rb_circuits(n_qubits, depth_circuit,return_type=\"qiskit\")[0]\n",
    "# circuit.measure_all()\n",
    "# print(len(circuit))\n",
    "circuit = generate_ghz_circuit(n_qubits, return_type=\"qiskit\")\n",
    "# circuit = sequence.compose(sequence.inverse())\n",
    "# circuit = circuit.compose(circuit)\n",
    "circuit.measure_all()\n",
    "print(circuit)"
   ]
  },
  {
   "cell_type": "markdown",
   "id": "390f2af8",
   "metadata": {},
   "source": [
    "We define a function that executes the quantum circuits and returns the expectation value. This is consumed by Mitiq's `execute_with_zne`. In this example, the expectation value is the probability of measuring the ground state, which is what one would expect from an ideal randomized benchmarking circuit."
   ]
  },
  {
   "cell_type": "code",
   "execution_count": 4,
   "id": "2bad2f09",
   "metadata": {},
   "outputs": [],
   "source": [
    "def execute_circuit(circuit):\n",
    "    \"\"\"Execute the input circuit and return the expectation value of |00..0><00..0|\"\"\"\n",
    "    noise_model = initialized_depolarizing_noise(noise_level=0.05) \n",
    "    job = qiskit.execute(\n",
    "            experiments=circuit,\n",
    "            backend=qiskit.Aer.get_backend(\"qasm_simulator\"),\n",
    "            noise_model=noise_model,\n",
    "            basis_gates=noise_model.basis_gates,\n",
    "            optimization_level=0,  # Important to preserve folded gates.\n",
    "            shots=shots,\n",
    "        )\n",
    "\n",
    "    # Convert from raw measurement counts to the expectation value\n",
    "    counts = job.result().get_counts()\n",
    "    if counts.get(n_qubits * \"0\") is None:\n",
    "        noisy_expectation_value = 0.\n",
    "    else:\n",
    "        noisy_expectation_value = counts.get(n_qubits * \"0\") / shots\n",
    "    return noisy_expectation_value"
   ]
  },
  {
   "cell_type": "code",
   "execution_count": 5,
   "id": "e526ad48",
   "metadata": {},
   "outputs": [
    {
     "name": "stdout",
     "output_type": "stream",
     "text": [
      "ideal = \t \t 1\n",
      "unmitigated = \t \t 0.3286\n",
      "mitigated = \t \t 0.46649999999999997\n"
     ]
    }
   ],
   "source": [
    "mitigated = execute_with_zne(circuit, execute_circuit, scale_noise=fold_global)\n",
    "unmitigated = execute_circuit(circuit)\n",
    "ideal = 1 #property of W circuits\n",
    "\n",
    "print(\"ideal = \\t \\t\",ideal)\n",
    "print(\"unmitigated = \\t \\t\", unmitigated)\n",
    "print(\"mitigated = \\t \\t\", mitigated)"
   ]
  },
  {
   "cell_type": "markdown",
   "id": "713e48e8",
   "metadata": {},
   "source": [
    "## Using calibration to improve the results\n",
    "\n",
    "Let's consider a noisy backend using the Qiskit noisy simulator, `FakeJakarta`. Note that the executor passed to the `Calibrator` object must return counts, as opposed to expectation values."
   ]
  },
  {
   "cell_type": "code",
   "execution_count": 6,
   "id": "c7ae474e",
   "metadata": {},
   "outputs": [],
   "source": [
    "def execute_calibration(qiskit_circuit):\n",
    "    \"\"\"Execute the input circuits and return the measurement results.\"\"\"\n",
    "    noise_model = initialized_depolarizing_noise(noise_level=0.02) \n",
    "    job = qiskit.execute(\n",
    "            experiments=circuit,\n",
    "            backend=qiskit.Aer.get_backend(\"qasm_simulator\"),\n",
    "            noise_model=noise_model,\n",
    "            basis_gates=noise_model.basis_gates,\n",
    "            optimization_level=0,  # Important to preserve folded gates.\n",
    "            shots=shots,\n",
    "        )\n",
    "    # Convert from raw measurement counts to the expectation value\n",
    "    noisy_counts = job.result().get_counts()\n",
    "    noisy_counts = { k.replace(\" \",\"\"):v for k, v in noisy_counts.items()}\n",
    "    measurements = MeasurementResult.from_counts(noisy_counts)\n",
    "    return measurements"
   ]
  },
  {
   "cell_type": "markdown",
   "id": "e348a543",
   "metadata": {},
   "source": [
    "We import from the calibration module the key ingredients to use `mitiq.calibration`: the `Calibrator` class, the `mitiq.calibration.settings.Settings` class and the `execute_with_mitigation` function.\n",
    "\n",
    "Currently `mitiq.calibration` supports ZNE as a technique to calibrate from, tuning different scale factors, extrapolation methods and circuit scaling methods.\n",
    "\n",
    "Let's run the calibration using an ad-hoc RBSettings and using the `log=True` option in order to print the list of experiments run.\n",
    "\n",
    "- benchmarks: Circuit type: \"rb\"\n",
    "- strategies: use various \"zne\" strategies, testing various \"scale_noise\" methods (such as `mitiq.zne.scaling.folding.fold_global` and `mitiq.zne.scaling.folding.fold_gates_at_random`), and ZNE factories for extrapolation (such as `mitiq.zne.inference.RichardsonFactory` and `mitiq.zne.inference.LinearFactory`)"
   ]
  },
  {
   "cell_type": "code",
   "execution_count": 7,
   "id": "4fa90f40",
   "metadata": {},
   "outputs": [],
   "source": [
    "from mitiq.zne.inference import LinearFactory, RichardsonFactory, ExpFactory, PolyFactory\n",
    "\n",
    "GHZSettings = Settings(\n",
    "    benchmarks=[\n",
    "        {\n",
    "            \"circuit_type\": \"ghz\",\n",
    "            \"num_qubits\": 10,\n",
    "        },\n",
    "    ],\n",
    "   strategies=[\n",
    "        {\n",
    "            \"technique\": \"zne\",\n",
    "            \"scale_noise\": fold_global,\n",
    "            \"factory\": RichardsonFactory([1.0, 2.0, 3.0]),\n",
    "        },\n",
    "        {\n",
    "            \"technique\": \"zne\",\n",
    "            \"scale_noise\": fold_global,\n",
    "            \"factory\": RichardsonFactory([1.0, 3.0, 5.0]),\n",
    "        },\n",
    "        {\n",
    "            \"technique\": \"zne\",\n",
    "            \"scale_noise\": fold_global,\n",
    "            \"factory\": LinearFactory([1.0, 2.0, 3.0]),\n",
    "        },\n",
    "        {\n",
    "            \"technique\": \"zne\",\n",
    "            \"scale_noise\": fold_global,\n",
    "            \"factory\": LinearFactory([1.0, 3.0, 5.0]),\n",
    "        },\n",
    "        {\n",
    "            \"technique\": \"zne\",\n",
    "            \"scale_noise\": fold_gates_at_random,\n",
    "            \"factory\": RichardsonFactory([1.0, 2.0, 3.0]),\n",
    "        },\n",
    "        {\n",
    "            \"technique\": \"zne\",\n",
    "            \"scale_noise\": fold_gates_at_random,\n",
    "            \"factory\": RichardsonFactory([1.0, 3.0, 5.0]),\n",
    "        },\n",
    "        {\n",
    "            \"technique\": \"zne\",\n",
    "            \"scale_noise\": fold_gates_at_random,\n",
    "            \"factory\": LinearFactory([1.0, 2.0, 3.0]),\n",
    "        },\n",
    "        {\n",
    "            \"technique\": \"zne\",\n",
    "            \"scale_noise\": fold_gates_at_random,\n",
    "            \"factory\": LinearFactory([1.0, 3.0, 5.0]),\n",
    "        },\n",
    "    ],\n",
    ")"
   ]
  },
  {
   "cell_type": "code",
   "execution_count": 8,
   "id": "f9c88a7b",
   "metadata": {},
   "outputs": [
    {
     "name": "stdout",
     "output_type": "stream",
     "text": [
      "| performance | circuit | method | extrapolation | scale factors | scale_method         |\n",
      "| ----------- | ------- | ------ | ------------- | ------------- | -------------------- |\n",
      "|     ❌      |   ghz   |  ZNE   | Richardson    | 1.0, 2.0, 3.0 | fold_global          |\n",
      "|     ❌      |   ghz   |  ZNE   | Richardson    | 1.0, 3.0, 5.0 | fold_global          |\n",
      "|     ❌      |   ghz   |  ZNE   | Linear        | 1.0, 2.0, 3.0 | fold_global          |\n",
      "|     ❌      |   ghz   |  ZNE   | Linear        | 1.0, 3.0, 5.0 | fold_global          |\n",
      "|     ❌      |   ghz   |  ZNE   | Richardson    | 1.0, 2.0, 3.0 | fold_gates_at_random |\n",
      "|     ❌      |   ghz   |  ZNE   | Richardson    | 1.0, 3.0, 5.0 | fold_gates_at_random |\n",
      "|     ❌      |   ghz   |  ZNE   | Linear        | 1.0, 2.0, 3.0 | fold_gates_at_random |\n",
      "|     ❌      |   ghz   |  ZNE   | Linear        | 1.0, 3.0, 5.0 | fold_gates_at_random |\n"
     ]
    }
   ],
   "source": [
    "cal = Calibrator(execute_calibration, frontend=\"qiskit\", settings=GHZSettings)\n",
    "cal.run(log=True)"
   ]
  },
  {
   "cell_type": "markdown",
   "id": "d78fc93a",
   "metadata": {},
   "source": [
    "As you can see above, several experiments were run, and each one has either a red cross (❌) or a green check (✅) to signal whether the error mitigation experiment obtained an expectation value that is better than the non-mitigated one."
   ]
  },
  {
   "cell_type": "code",
   "execution_count": 9,
   "id": "355e16b5",
   "metadata": {},
   "outputs": [
    {
     "name": "stdout",
     "output_type": "stream",
     "text": [
      "ideal = \t \t 1\n",
      "unmitigated = \t \t 0.3341\n",
      "mitigated = \t \t 0.4959999999999998\n",
      "calibrated_mitigated = \t 0.5175000000000002\n"
     ]
    }
   ],
   "source": [
    "calibrated_mitigated=execute_with_mitigation(circuit, execute_circuit, calibrator=cal)\n",
    "mitigated=execute_with_zne(circuit, execute_circuit, scale_noise=fold_global)\n",
    "unmitigated=execute_circuit(circuit)\n",
    "\n",
    "print(\"ideal = \\t \\t\",ideal)\n",
    "print(\"unmitigated = \\t \\t\",unmitigated)\n",
    "print(\"mitigated = \\t \\t\",mitigated)\n",
    "print(\"calibrated_mitigated = \\t\",calibrated_mitigated)"
   ]
  },
  {
   "cell_type": "code",
   "execution_count": null,
   "id": "1afce905",
   "metadata": {},
   "outputs": [],
   "source": []
  }
 ],
 "metadata": {
  "jupytext": {
   "formats": "ipynb,md:myst"
  },
  "kernelspec": {
   "display_name": "Python 3 (ipykernel)",
   "language": "python",
   "name": "python3"
  },
  "language_info": {
   "codemirror_mode": {
    "name": "ipython",
    "version": 3
   },
   "file_extension": ".py",
   "mimetype": "text/x-python",
   "name": "python",
   "nbconvert_exporter": "python",
   "pygments_lexer": "ipython3",
   "version": "3.8.13"
  }
 },
 "nbformat": 4,
 "nbformat_minor": 5
}
