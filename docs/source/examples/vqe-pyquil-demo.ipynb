{
 "cells": [
  {
   "cell_type": "markdown",
   "id": "576260b7",
   "metadata": {},
   "source": [
    "# Variational Quantum Eigensolver improved with Zero Noise Extrapolation \n",
    "\n",
    "In this example we investigate how Zero Noise Extrapolation (ZNE) can improve \n",
    "convergence when applied to a variational problem. ZNE works by computing the \n",
    "observable of interest at increased noise levels, i.e. beyond the minimum noise \n",
    "strength in the computer, and then extrapolating back to the zero-noise limit. \n",
    "The two main components of ZNE are noise scaling and extrapolation. You can read more about \n",
    "ZNE in the Mitiq Users Guide.\n",
    "\n",
    "\n",
    "The Variational Quantum Eigensolver (VQE) is a hybrid quantum-classical algorithm used to\n",
    "solve eigenvalue and optimization problems. The VQE algorithm consists of a quantum \n",
    "subroutine run inside of a classical optimization loop. In this example, the goal of the \n",
    "optimization is to find the smallest eigenvalue of a matrix H, which is the Hamiltonian \n",
    "of a simple quantum system. The quantum subroutine prepares the quantum state \n",
    "|Ψ(vec(θ))⟩ and measures the expectation value ⟨Ψ(vec(θ))|H|Ψ(vec(θ))⟩. By the \n",
    "variational principle, ⟨Ψ(vec(θ))|H|Ψ(vec(θ))⟩ is always greater than the smallest \n",
    "eigenvalue of H, which means a classical optimization loop can be used to find this \n",
    "eigenvalue. \n",
    "\n",
    "\n",
    "The VQE example shown here is adapted from the `VQE` function in Grove \n",
    "[[1]](#References) and the pyQuil / Grove VQE tutorial [[2]](#References). \n",
    "\n",
    "\n",
    "## Defining the quantum system using pyQuil"
   ]
  },
  {
   "cell_type": "code",
   "execution_count": 1,
   "id": "826a27ab",
   "metadata": {},
   "outputs": [],
   "source": [
    "import numpy as np\n",
    "from pyquil import get_qc, Program\n",
    "from pyquil.gates import RX, RY, S, T, Z, CNOT, MEASURE\n",
    "from pyquil.paulis import PauliTerm, PauliSum, sZ\n",
    "from pyquil.noise import pauli_kraus_map, append_kraus_to_gate\n",
    "from typing import List, Union\n",
    "from collections import Counter\n",
    "from matplotlib import pyplot as plt\n",
    "from scipy import optimize\n",
    "import mitiq\n",
    "from mitiq import zne\n",
    "from mitiq.zne.scaling.folding import fold_gates_from_right"
   ]
  },
  {
   "cell_type": "markdown",
   "id": "b376fe37",
   "metadata": {},
   "source": [
    "Use the `get_qc` command to initialize the simulated backend \n",
    "where the pyQuil program will run"
   ]
  },
  {
   "cell_type": "code",
   "execution_count": 2,
   "id": "b6edbe45",
   "metadata": {},
   "outputs": [],
   "source": [
    "backend = get_qc(\"2q-qvm\")"
   ]
  },
  {
   "cell_type": "markdown",
   "id": "477be8fb",
   "metadata": {},
   "source": [
    "Define example ansatz, consisting of a rotation by angle `theta` and a layer of static gates:"
   ]
  },
  {
   "cell_type": "code",
   "execution_count": 3,
   "id": "df13534d",
   "metadata": {},
   "outputs": [],
   "source": [
    "program = Program()\n",
    "theta = program.declare(\"theta\", memory_type=\"REAL\")\n",
    "program += RX(theta, 0)\n",
    "program += T(0)\n",
    "program += CNOT(1, 0)\n",
    "program += S(0)\n",
    "program += Z(0)"
   ]
  },
  {
   "cell_type": "markdown",
   "id": "deb0c6bc",
   "metadata": {},
   "source": [
    "Simulate depolarizing noise on the static gates:"
   ]
  },
  {
   "cell_type": "code",
   "execution_count": 4,
   "id": "8bfd9336",
   "metadata": {},
   "outputs": [],
   "source": [
    "def add_noise_to_circuit(quil_prog):\n",
    "    \"\"\"Define pyQuil gates with a custom noise model via Kraus operators:\n",
    "        1. Generate Kraus operators at given survival probability\n",
    "        2. Append Kraus operators to the gate matrices\n",
    "        3. Add custom gates to circuit\n",
    "\n",
    "    Args:\n",
    "      quil_prog: the pyQuil quantum program to which the noise model will be added\n",
    "      \n",
    "    Returns:\n",
    "      A quantum program with depolarizing noise on the static gates.\n",
    "    \"\"\"\n",
    "    prob = 0.8\n",
    "    num_qubits = 1\n",
    "    d = 4 ** num_qubits\n",
    "    d_sq = d ** 2\n",
    "    \n",
    "    kraus_list = [(1 - prob) / d] * d\n",
    "    kraus_list[0] += prob\n",
    "    kraus_ops = pauli_kraus_map(kraus_list)\n",
    "    \n",
    "    k_list = [(1 - prob) / d_sq] * d_sq\n",
    "    k_list[0] += prob\n",
    "    k_ops = pauli_kraus_map(k_list)\n",
    "    \n",
    "    T_gate = np.array([[1, 0], [0, np.exp(1j * np.pi / 4)]])\n",
    "    CNOT_gate = np.block(\n",
    "        [[np.eye(2), np.zeros((2, 2))], [np.zeros((2, 2)), np.flip(np.eye(2), 1)]]\n",
    "    )\n",
    "    S_gate = np.array([[1, 0], [0, 1j]])\n",
    "    Z_gate = np.array([[1, 0], [0, -1]])\n",
    "    \n",
    "    quil_prog.define_noisy_gate(\"T\", [0], append_kraus_to_gate(kraus_ops, T_gate))\n",
    "    quil_prog.define_noisy_gate(\"CNOT\", [1, 0], append_kraus_to_gate(k_ops, CNOT_gate))\n",
    "    quil_prog.define_noisy_gate(\"S\", [0], append_kraus_to_gate(kraus_ops, S_gate))\n",
    "    quil_prog.define_noisy_gate(\"Z\", [0], append_kraus_to_gate(kraus_ops, Z_gate))\n",
    "    \n",
    "    return quil_prog"
   ]
  },
  {
   "cell_type": "markdown",
   "id": "265a65ba",
   "metadata": {},
   "source": [
    "## Set up VQE: define Hamiltonian and energy expectation functions\n",
    "\n",
    "\n",
    " Hamiltonian in this example is just `sigma_z` on the zeroth qubit"
   ]
  },
  {
   "cell_type": "code",
   "execution_count": 5,
   "id": "d27e21fc",
   "metadata": {},
   "outputs": [
    {
     "data": {
      "text/plain": [
       "<pyquil.quil.Program at 0x7fa796f19f90>"
      ]
     },
     "execution_count": 5,
     "metadata": {},
     "output_type": "execute_result"
    }
   ],
   "source": [
    "hamiltonian = sZ(0)\n",
    "pauli_sum = PauliSum([hamiltonian])\n",
    "\n",
    "for j, term in enumerate(pauli_sum.terms):\n",
    "    meas_basis_change = Program()\n",
    "    marked_qubits = []\n",
    "    for index, gate in term:\n",
    "        marked_qubits.append(index)\n",
    "        if gate == \"X\":\n",
    "            meas_basis_change.inst(RY(-np.pi / 2, index))\n",
    "        elif gate == \"Y\":\n",
    "            meas_basis_change.inst(RX(np.pi / 2, index))\n",
    "        program += meas_basis_change\n",
    "    readout_qubit = program.declare(\"ro\", \"BIT\", max(marked_qubits) + 1)\n",
    "\n",
    "samples = 3000\n",
    "program.wrap_in_numshots_loop(samples)"
   ]
  },
  {
   "cell_type": "markdown",
   "id": "4d510176",
   "metadata": {},
   "source": [
    "Compute expectation value of the Hamiltonian over the over the distribution \n",
    "generated from the quantum program. The following function is a modified version \n",
    "of `expectation` from the `VQE` function in Grove [[1]](#References). Here the noisy \n",
    "gates are defined inside the executor function via `add_noise_to_circuit`, since \n",
    "pyQuil custom gates cannot be folded in Mitiq."
   ]
  },
  {
   "cell_type": "code",
   "execution_count": 6,
   "id": "790a342c",
   "metadata": {},
   "outputs": [],
   "source": [
    "def executor(\n",
    "    theta,\n",
    "    backend,\n",
    "    readout_qubit,\n",
    "    samples: int,\n",
    "    pauli_sum: Union[PauliSum, PauliTerm, np.ndarray],\n",
    "    pyquil_prog: Program,\n",
    ") -> float:\n",
    "    \"\"\"\n",
    "    Compute the expectation value of pauli_sum over the distribution generated from \n",
    "    pyquil_prog.\n",
    "    \"\"\"\n",
    "    noisy = pyquil_prog.copy()\n",
    "    noisy += [\n",
    "        MEASURE(qubit, r) for qubit, r in zip(list(range(max(marked_qubits) + 1)), readout_qubit)\n",
    "    ]\n",
    "    noisy = add_noise_to_circuit(noisy)\n",
    "    expectation = 0.0\n",
    "    pauli_sum = PauliSum([pauli_sum])\n",
    "    for j, term in enumerate(pauli_sum.terms):\n",
    "        qubits_to_measure = []\n",
    "        for index, gate in term:\n",
    "            qubits_to_measure.append(index)\n",
    "            meas_outcome = expectation_from_sampling(\n",
    "                theta, noisy, qubits_to_measure, backend, samples\n",
    "            )\n",
    "            expectation += term.coefficient * meas_outcome\n",
    "    return expectation.real"
   ]
  },
  {
   "cell_type": "markdown",
   "id": "06b44329",
   "metadata": {},
   "source": [
    "The following function is a modified version of `expectation_from_sampling` \n",
    "from the `VQE` function in Grove [[1]](#References). It is modified to follow pyQuil \n",
    "conventions for defining custom gates."
   ]
  },
  {
   "cell_type": "code",
   "execution_count": 7,
   "id": "ac3330cd",
   "metadata": {},
   "outputs": [],
   "source": [
    "def expectation_from_sampling(\n",
    "    theta, executable: Program, marked_qubits: List[int], backend, samples: int\n",
    ") -> float:\n",
    "    \"\"\"Calculate the expectation value of the Zi operator where i ranges over all \n",
    "    qubits given in marked_qubits.\n",
    "    \"\"\"\n",
    "    bitstring_samples = backend.run(\n",
    "        executable.write_memory(region_name=\"theta\", value=theta)\n",
    "    ).readout_data.get(\"ro\")\n",
    "    bitstring_tuples = list(map(tuple, bitstring_samples))\n",
    "\n",
    "    freq = Counter(bitstring_tuples)\n",
    "\n",
    "    \n",
    "    exp_val = 0\n",
    "    for bitstring, count in freq.items():\n",
    "        bitstring_int = int(\"\".join([str(x) for x in bitstring[::-1]]), 2)\n",
    "        if parity_even_p(bitstring_int, marked_qubits):\n",
    "            exp_val += float(count) / samples\n",
    "        else:\n",
    "            exp_val -= float(count) / samples\n",
    "    return exp_val"
   ]
  },
  {
   "cell_type": "markdown",
   "id": "44cc3833",
   "metadata": {},
   "source": [
    "Calculate the parity of elements at indexes in marked_qubits. The function is a \n",
    "modified version of `parity_even_p` from the `VQE` function in Grove [[1]](#References)."
   ]
  },
  {
   "cell_type": "code",
   "execution_count": 8,
   "id": "4aa4dba8",
   "metadata": {},
   "outputs": [],
   "source": [
    "def parity_even_p(state, marked_qubits):\n",
    "    mask = 0\n",
    "    for q in marked_qubits:\n",
    "        mask |= 1 << q\n",
    "    return bin(mask & state).count(\"1\") % 2 == 0"
   ]
  },
  {
   "cell_type": "markdown",
   "id": "09c420e0",
   "metadata": {},
   "source": [
    "## Run VQE first without error mitigation and then with ZNE, and compare results\n",
    "\n",
    "Scan over the parameter `theta` and calculate energy expectation, without mitigation. \n",
    "In a later section we will plot these results and compare them with the results from \n",
    "ZNE."
   ]
  },
  {
   "cell_type": "code",
   "execution_count": 9,
   "id": "aa174530",
   "metadata": {},
   "outputs": [],
   "source": [
    "thetas = np.linspace(0, 2 * np.pi, 51)\n",
    "results = []\n",
    "\n",
    "for theta in thetas:\n",
    "    results.append(executor(theta, backend, readout_qubit, samples, hamiltonian, program))"
   ]
  },
  {
   "cell_type": "markdown",
   "id": "5c729c9e",
   "metadata": {},
   "source": [
    "Optimization routine without mitigation:"
   ]
  },
  {
   "cell_type": "code",
   "execution_count": 10,
   "id": "94f260a3",
   "metadata": {},
   "outputs": [
    {
     "name": "stdout",
     "output_type": "stream",
     "text": [
      " final_simplex: (array([[2.9953125 ],\n",
      "       [2.99560547]]), array([-0.432     , -0.42733333]))\n",
      "           fun: -0.432\n",
      "       message: 'Optimization terminated successfully.'\n",
      "          nfev: 31\n",
      "           nit: 11\n",
      "        status: 0\n",
      "       success: True\n",
      "             x: array([2.9953125])\n"
     ]
    }
   ],
   "source": [
    "init_angle = [3.0]\n",
    "\n",
    "res = optimize.minimize(\n",
    "    executor,\n",
    "    init_angle,\n",
    "    args=(backend, readout_qubit, samples, hamiltonian, program),\n",
    "    method=\"Nelder-Mead\",\n",
    "    options={\"xatol\": 1.0e-3, \"fatol\": 1.0e-2},\n",
    ")\n",
    "print(res)"
   ]
  },
  {
   "cell_type": "markdown",
   "id": "606cbbe3",
   "metadata": {},
   "source": [
    "The result on the unmitigated noisy circuit result in loss of accuracy (relative to \n",
    "the ideal expectation value of -1.0) and additional iterations required to reach \n",
    "convergence. \n",
    "\n",
    "\n",
    "### Now we introduce ZNE and compare results.\n",
    "\n",
    "This is done by wrapping the noisy executor into a mitigated executor. \n",
    "We will fold the gates from the right and apply a linear inference (using a Linear \n",
    "Factory object) to implement ZNE. You can read more about noise scaling by unitary folding in the Mitiq user guide."
   ]
  },
  {
   "cell_type": "code",
   "execution_count": 11,
   "id": "cd551693",
   "metadata": {},
   "outputs": [],
   "source": [
    "def mitigated_expectation(\n",
    "    thetas, backend, readout_qubit, samples, pauli_sum, executable: Program, factory\n",
    ") -> float:\n",
    "    \"\"\"\n",
    "    This function is the ZNE-wrapped executor, which outputs the error-mitigated \n",
    "    expectation value. \n",
    "\n",
    "    Args:\n",
    "      thetas: the input parameter for the optimization\n",
    "      backend: the quantum computer that runs the quantum program\n",
    "      readout_qubit: declared memory for the readout\n",
    "      samples: number of times the experiment (or simulation) will be run\n",
    "      pauli_sum: the Hamiltonian expressed as \n",
    "      executable: the pyQuil quantum program\n",
    "      factory: factory object containing the type of inference and scaling parameters\n",
    "\n",
    "    Returns:\n",
    "      The error-mitigated expectation value as a float.\n",
    "    \"\"\"\n",
    "    mitigated_exp = zne.execute_with_zne(\n",
    "        executable,\n",
    "        lambda p: executor(thetas, backend, readout_qubit, samples, pauli_sum, p),\n",
    "        factory=factory,\n",
    "        scale_noise=fold_gates_from_right,\n",
    "    )\n",
    "    return mitigated_exp"
   ]
  },
  {
   "cell_type": "markdown",
   "id": "b0a4f3bc",
   "metadata": {},
   "source": [
    "Here we use a linear inference for the extrapolation. \n",
    "See the section on [Factory Objects](../guide/zne-3-options.myst#extrapolation-methods-factory-objects) \n",
    "in the Mitiq user guide for more information:"
   ]
  },
  {
   "cell_type": "code",
   "execution_count": 12,
   "id": "f6fe2457",
   "metadata": {},
   "outputs": [],
   "source": [
    "fac = mitiq.zne.inference.LinearFactory(scale_factors=[1.0, 3.0])"
   ]
  },
  {
   "cell_type": "markdown",
   "id": "c8d2628f",
   "metadata": {},
   "source": [
    "Scan over the parameter `theta` and plot the energy expectation with error mitigation"
   ]
  },
  {
   "cell_type": "code",
   "execution_count": 13,
   "id": "1b9658c5",
   "metadata": {},
   "outputs": [
    {
     "data": {
      "image/png": "[encoded data removed]",
      "text/plain": [
       "<Figure size 432x288 with 1 Axes>"
      ]
     },
     "metadata": {
      "needs_background": "light"
     },
     "output_type": "display_data"
    }
   ],
   "source": [
    "results_zne = []\n",
    "for theta in thetas:\n",
    "    results_zne.append(\n",
    "        mitigated_expectation(theta, backend, readout_qubit, samples, hamiltonian, program, fac)\n",
    "    )\n",
    "\n",
    "_ = plt.figure()\n",
    "_ = plt.plot(thetas, np.cos(thetas), \"o-\", label=\"Ideal landscape\")\n",
    "_ = plt.plot(thetas, results, \"o-\", label=\"Noisy landscape\")\n",
    "_ = plt.plot(thetas, results_zne, \"o-\", label=\"Mitigated landscape\")\n",
    "_ = plt.xlabel(r\"$\\theta$\", fontsize=18)\n",
    "_ = plt.ylabel(r\"$\\langle \\Psi(\\theta) | Z | \\Psi(\\theta) \\rangle$\", fontsize=18)\n",
    "_ = plt.legend()\n",
    "_ = plt.title(\"Mitigated Energy Landscape\")\n",
    "plt.show()"
   ]
  },
  {
   "cell_type": "markdown",
   "id": "10c88eff",
   "metadata": {},
   "source": [
    "In the energy landscape plot, we can see that the noise has flattened the unmitigated \n",
    "landscape and with error mitigation it has become peaked again. Therefore, we expect \n",
    "the optimization loop to have better convergence with ZNE applied.\n",
    "\n",
    "Run VQE routine with ZNE"
   ]
  },
  {
   "cell_type": "code",
   "execution_count": 14,
   "id": "d87720c2",
   "metadata": {},
   "outputs": [
    {
     "name": "stdout",
     "output_type": "stream",
     "text": [
      " final_simplex: (array([[3.08437042],\n",
      "       [3.084375  ]]), array([-0.79566667, -0.79533333]))\n",
      "           fun: -0.7956666666666666\n",
      "       message: 'Optimization terminated successfully.'\n",
      "          nfev: 45\n",
      "           nit: 16\n",
      "        status: 0\n",
      "       success: True\n",
      "             x: array([3.08437042])\n"
     ]
    }
   ],
   "source": [
    "res_zne = optimize.minimize(\n",
    "    mitigated_expectation,\n",
    "    init_angle,\n",
    "    args=(backend, readout_qubit, samples, hamiltonian, program, fac),\n",
    "    method=\"Nelder-Mead\",\n",
    "    options={\"xatol\": 1.0e-3, \"fatol\": 1.0e-2},\n",
    ")\n",
    "print(res_zne)"
   ]
  },
  {
   "cell_type": "markdown",
   "id": "c331fd0c",
   "metadata": {},
   "source": [
    "We can see that the convergence to the minimum energy is enhanced by applying ZNE.\n",
    "\n",
    "\n",
    "## Conclusion\n",
    "\n",
    "While the VQE algorithm is generally considered to be robust to noise \n",
    "[[2]](#References), at the noise level modeled in this example, the \n",
    "accumulation of errors results in loss of accuracy and additional iterations \n",
    "required to reach convergence. Adding ZNE then improves the convergence of the \n",
    "algorithm to the minimum energy. The result is also demonstrated in the energy \n",
    "landscape plot, where the noisy landscape is noticeably flatter than the landscape \n",
    "generated with ZNE.\n",
    "\n",
    "Note: In this example, a small ansatz was used to keep the runtime within acceptable \n",
    "limits. ZNE generally performs better on longer circuits, but there is a tradeoff with \n",
    "execution time.\n",
    "\n",
    "\n",
    "## References\n",
    "[1] Rigetti Computing (2018) Grove (Version 1.7.0) \n",
    "[[Source code].](https://github.com/rigetti/grove/blob/master/grove/pyvqe/vqe.py)\n",
    "\n",
    "[2] [[VQE tutorial in pyQuil / Grove].](https://grove-docs.readthedocs.io/en/latest/vqe.html)"
   ]
  },
  {
   "cell_type": "markdown",
   "id": "f18a18b2",
   "metadata": {},
   "source": [
    "This final block displays information about Mitiq, installed packages, and Python version/platform"
   ]
  },
  {
   "cell_type": "code",
   "execution_count": 16,
   "id": "4533412f",
   "metadata": {},
   "outputs": [
    {
     "name": "stdout",
     "output_type": "stream",
     "text": [
      "\n",
      "Mitiq: A Python toolkit for implementing error mitigation on quantum computers\n",
      "==============================================================================\n",
      "Authored by: Mitiq team, 2020 & later (https://github.com/unitaryfund/mitiq)\n",
      "\n",
      "Mitiq Version:\t0.13.0dev\n",
      "\n",
      "Core Dependencies\n",
      "-----------------\n",
      "Cirq Version:\t0.13.1\n",
      "NumPy Version:\t1.20.3\n",
      "SciPy Version:\t1.7.3\n",
      "\n",
      "Optional Dependencies\n",
      "---------------------\n",
      "PyQuil Version:\t3.0.1\n",
      "Qiskit Version:\t0.32.1\n",
      "Braket Version:\t1.14.0\n",
      "\n",
      "Python Version:\t3.7.7\n",
      "Platform Info:\tLinux (x86_64)\n"
     ]
    }
   ],
   "source": [
    "mitiq.about()"
   ]
  }
 ],
 "metadata": {
  "jupytext": {
   "text_representation": {
    "extension": ".myst",
    "format_name": "myst",
    "format_version": 0.13,
    "jupytext_version": "1.10.3"
   }
  },
  "kernelspec": {
   "display_name": "Python 3",
   "language": "python",
   "name": "python3"
  },
  "language_info": {
   "codemirror_mode": {
    "name": "ipython",
    "version": 3
   },
   "file_extension": ".py",
   "mimetype": "text/x-python",
   "name": "python",
   "nbconvert_exporter": "python",
   "pygments_lexer": "ipython3",
   "version": "3.7.7"
  }
 },
 "nbformat": 4,
 "nbformat_minor": 5
}
