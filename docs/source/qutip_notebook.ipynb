{
 "cells": [
  {
   "cell_type": "markdown",
   "metadata": {},
   "source": [
    "## Zero-noise extrapolation of QuTiP circuits with the Cirq simulator"
   ]
  },
  {
   "cell_type": "code",
   "execution_count": 1,
   "metadata": {},
   "outputs": [],
   "source": [
    "import numpy as np\n",
    "import mitiq\n",
    "import cirq\n",
    "from cirq import Circuit, LineQubit, X\n",
    "import qutip"
   ]
  },
  {
   "cell_type": "code",
   "execution_count": 4,
   "metadata": {},
   "outputs": [],
   "source": [
    "depth = 8\n",
    "qbit = LineQubit(0)\n",
    "circ = Circuit(X(qbit) for _ in range(depth))"
   ]
  },
  {
   "cell_type": "markdown",
   "metadata": {},
   "source": [
    "### 1. Transforming a quantum circuit from Cirq to QuTiP (Cirq $\\rightarrow$ QASM  $\\rightarrow$ QuTiP)"
   ]
  },
  {
   "cell_type": "markdown",
   "metadata": {},
   "source": [
    "Showing it in an example:"
   ]
  },
  {
   "cell_type": "code",
   "execution_count": 5,
   "metadata": {},
   "outputs": [
    {
     "data": {
      "image/png": "[encoded data removed]",
      "text/plain": [
       "<qutip.qip.circuit.QubitCircuit at 0x1303a98e0>"
      ]
     },
     "execution_count": 5,
     "metadata": {},
     "output_type": "execute_result"
    }
   ],
   "source": [
    "from cirq import Circuit, LineQubit, X\n",
    "from qutip.qip.qasm import *\n",
    "\n",
    "# create the quantum circuit in Cirq \n",
    "qbit = LineQubit(0)\n",
    "circ = Circuit(X(qbit) for _ in range(8))\n",
    "\n",
    "# export the quantum circuit to QASM format\n",
    "qasm_circuit = cirq.qasm(circ)\n",
    "\n",
    "# import to qutip (`qutip.qip.QubitCircuit()` object)\n",
    "qutip_circuit = read_qasm(qasm_circuit,strmode=True)\n",
    "\n",
    "qutip_circuit"
   ]
  },
  {
   "cell_type": "markdown",
   "metadata": {},
   "source": [
    "Defining a simple conversion function:"
   ]
  },
  {
   "cell_type": "code",
   "execution_count": 6,
   "metadata": {},
   "outputs": [],
   "source": [
    "from qutip.qip.circuit import QubitCircuit\n",
    "\n",
    "def cirq_to_qutip(circ: cirq.Circuit) -> QubitCircuit:\n",
    "    \"\"\"Transform a cirq circuit into qutip's, using qasm.\n",
    "\n",
    "    Args:\n",
    "        circ: The quantum program as a cirq circuit.\n",
    "\n",
    "    Returns:\n",
    "        qutip_circ: The quantum program as a qutip circuit, `QubitCircuit`.\n",
    "    \"\"\"\n",
    "    from qutip.qip.qasm import read_qasm\n",
    "    \n",
    "    qasm_circuit = cirq.qasm(circ)\n",
    "    qutip_circuit = read_qasm(qasm_circuit,strmode=True)\n",
    "    return qutip_circuit"
   ]
  },
  {
   "cell_type": "markdown",
   "metadata": {},
   "source": [
    "Testing the function:"
   ]
  },
  {
   "cell_type": "code",
   "execution_count": 7,
   "metadata": {},
   "outputs": [
    {
     "data": {
      "image/png": "[encoded data removed]",
      "text/plain": [
       "<qutip.qip.circuit.QubitCircuit at 0x1303a9e80>"
      ]
     },
     "execution_count": 7,
     "metadata": {},
     "output_type": "execute_result"
    }
   ],
   "source": [
    "cirq_to_qutip(circ=circ)"
   ]
  },
  {
   "cell_type": "code",
   "execution_count": 8,
   "metadata": {},
   "outputs": [
    {
     "data": {
      "text/plain": [
       "qutip.qip.circuit.QubitCircuit"
      ]
     },
     "execution_count": 8,
     "metadata": {},
     "output_type": "execute_result"
    }
   ],
   "source": [
    "type(cirq_to_qutip(circ=circ))"
   ]
  },
  {
   "cell_type": "markdown",
   "metadata": {},
   "source": [
    "### 2. Transforming a quantum circuit from QuTiP to Cirq using Mitiq (QuTiP $\\rightarrow$ QASM  $\\rightarrow$ Cirq)"
   ]
  },
  {
   "cell_type": "code",
   "execution_count": 9,
   "metadata": {},
   "outputs": [],
   "source": [
    "from qutip.qip.circuit import QubitCircuit\n",
    "from mitiq.mitiq_qiskit.conversions import from_qasm"
   ]
  },
  {
   "cell_type": "markdown",
   "metadata": {},
   "source": [
    "Showing it in an example:"
   ]
  },
  {
   "cell_type": "code",
   "execution_count": 10,
   "metadata": {},
   "outputs": [
    {
     "data": {
      "image/png": "[encoded data removed]",
      "text/plain": [
       "<qutip.qip.circuit.QubitCircuit at 0x130457c70>"
      ]
     },
     "execution_count": 10,
     "metadata": {},
     "output_type": "execute_result"
    }
   ],
   "source": [
    "depth = 8\n",
    "circuit_qutip = QubitCircuit(N=1)\n",
    "for i in range(0,depth):\n",
    "    circuit_qutip.add_gate(\"X\", targets=0)\n",
    "circuit_qutip"
   ]
  },
  {
   "cell_type": "code",
   "execution_count": 11,
   "metadata": {},
   "outputs": [
    {
     "data": {
      "text/html": [
       "<pre style=\"overflow: auto; white-space: pre;\">q_0: ───X───X───X───X───X───X───X───X───</pre>"
      ],
      "text/plain": [
       "q_0: ───X───X───X───X───X───X───X───X───"
      ]
     },
     "execution_count": 11,
     "metadata": {},
     "output_type": "execute_result"
    }
   ],
   "source": [
    "qasm_circuit2 = circuit_to_qasm_str(circuit_qutip)\n",
    "cirq_circuit2 = from_qasm(qasm_circuit2)\n",
    "cirq_circuit2"
   ]
  },
  {
   "cell_type": "code",
   "execution_count": 12,
   "metadata": {},
   "outputs": [
    {
     "name": "stdout",
     "output_type": "stream",
     "text": [
      "// QASM 2.0 file generated by QuTiP\n",
      "\n",
      "OPENQASM 2.0;\n",
      "include \"qelib1.inc\";\n",
      "\n",
      "qreg q[1];\n",
      "\n",
      "x q[0];\n",
      "x q[0];\n",
      "x q[0];\n",
      "x q[0];\n",
      "x q[0];\n",
      "x q[0];\n",
      "x q[0];\n",
      "x q[0];\n"
     ]
    }
   ],
   "source": [
    "print_qasm(circuit_qutip)"
   ]
  },
  {
   "cell_type": "code",
   "execution_count": 13,
   "metadata": {},
   "outputs": [],
   "source": [
    "from qutip.qip.circuit import QubitCircuit\n",
    "from cirq import Circuit"
   ]
  },
  {
   "cell_type": "markdown",
   "metadata": {},
   "source": [
    "Defining a simple conversion function:"
   ]
  },
  {
   "cell_type": "code",
   "execution_count": 14,
   "metadata": {},
   "outputs": [],
   "source": [
    "def qutip_to_cirq(circ: QubitCircuit) -> cirq.Circuit:\n",
    "    \"\"\"Transform a QuTiP circuit into Cirq's, using Mitiq's QASM converter.\n",
    "\n",
    "    Args:\n",
    "        circ: The quantum program as a qutip circuit, `QubitCircuit`.\n",
    "    Returns:\n",
    "        cirq_circ: The quantum program as a cirq circuit.\n",
    "    \"\"\"\n",
    "    from qutip.qip.qasm import circuit_to_qasm_str\n",
    "    from mitiq.mitiq_qiskit.conversions import from_qasm\n",
    "    qasm_circ = circuit_to_qasm_str(circ)\n",
    "    cirq_circ = from_qasm(qasm_circ)\n",
    "    return cirq_circ"
   ]
  },
  {
   "cell_type": "code",
   "execution_count": 15,
   "metadata": {},
   "outputs": [
    {
     "data": {
      "text/html": [
       "<pre style=\"overflow: auto; white-space: pre;\">q_0: ───X───X───X───X───X───X───X───X───</pre>"
      ],
      "text/plain": [
       "q_0: ───X───X───X───X───X───X───X───X───"
      ]
     },
     "execution_count": 15,
     "metadata": {},
     "output_type": "execute_result"
    }
   ],
   "source": [
    "qutip_to_cirq(cirq_to_qutip(circ=circ))"
   ]
  },
  {
   "cell_type": "code",
   "execution_count": 16,
   "metadata": {},
   "outputs": [
    {
     "data": {
      "text/html": [
       "<pre style=\"overflow: auto; white-space: pre;\">0: ───X───X───X───X───X───X───X───X───</pre>"
      ],
      "text/plain": [
       "0: ───X───X───X───X───X───X───X───X───"
      ]
     },
     "execution_count": 16,
     "metadata": {},
     "output_type": "execute_result"
    }
   ],
   "source": [
    "circ"
   ]
  },
  {
   "cell_type": "code",
   "execution_count": 17,
   "metadata": {},
   "outputs": [],
   "source": [
    "# Testing the function"
   ]
  },
  {
   "cell_type": "markdown",
   "metadata": {},
   "source": [
    "### 3. Using Mitiq on a QuTiP circuit\n",
    "We use Mitiq to mitigate the noisy execution of a QuTiP circuit. We use ``qutip.QubitCircuit`` as input, and then run the simulation on Cirq's simulator. "
   ]
  },
  {
   "cell_type": "code",
   "execution_count": 18,
   "metadata": {},
   "outputs": [],
   "source": [
    "from cirq import Circuit, depolarize\n",
    "from cirq import DensityMatrixSimulator\n",
    "from mitiq import execute_with_zne"
   ]
  },
  {
   "cell_type": "code",
   "execution_count": 19,
   "metadata": {},
   "outputs": [
    {
     "data": {
      "text/plain": [
       "0.9236830621957784"
      ]
     },
     "execution_count": 19,
     "metadata": {},
     "output_type": "execute_result"
    }
   ],
   "source": [
    "# Observable to measure\n",
    "z = np.diag([1, -1])\n",
    "#zz = np.kron(z, z)\n",
    "\n",
    "# Strength of noise channel\n",
    "p = 0.05\n",
    "\n",
    "\n",
    "def executor(circ: Circuit) -> float:\n",
    "    \"\"\"\n",
    "    Simulates the execution of a circuit with depolarizing noise.\n",
    "\n",
    "    Args:\n",
    "        circ: The input circuit.\n",
    "\n",
    "    Returns:\n",
    "        The expectation value of the ZZ observable.\n",
    "    \"\"\"\n",
    "    # Add depolarizing noise to the circuit\n",
    "    circuit = circ.with_noise(depolarize(p))\n",
    "\n",
    "    # Get the final density matrix of the circuit\n",
    "    rho = SIMULATOR.simulate(circuit).final_density_matrix\n",
    "\n",
    "    # Evaluate the ZZ expectation value\n",
    "    expectation = np.real(np.trace(rho @ z))\n",
    "    return expectation\n",
    "\n",
    "from cirq import Circuit, CNOT, DensityMatrixSimulator, H, LineQubit, depolarize, rz\n",
    "from mitiq.zne import mitigate_executor\n",
    "\n",
    "SIMULATOR = DensityMatrixSimulator()\n",
    "\n",
    "execute_with_zne(circ,executor)"
   ]
  },
  {
   "cell_type": "code",
   "execution_count": 44,
   "metadata": {},
   "outputs": [
    {
     "name": "stdout",
     "output_type": "stream",
     "text": [
      "\n",
      "Mitiq: A Python toolkit for implementing error mitigation on quantum computers\n",
      "==============================================================================\n",
      "Authored by: Mitiq team, 2020 & later (https://github.com/unitaryfund/mitiq)\n",
      "\n",
      "Mitiq Version:\t0.1.0\n",
      "\n",
      "Cirq Version:\t0.9.0.dev\n",
      "NumPy Version:\t1.18.5\n",
      "SciPy Version:\t1.4.1\n",
      "PyQuil Version:\t2.18.0\n",
      "Qiskit Version:\t0.12.0\n",
      "\n",
      "Python Version:\t3.8.5\n",
      "Platform Info:\tDarwin (x86_64)\n",
      "Install Path:\t/Users/nathanshammah/github/mitiq/mitiq\n",
      "\n",
      "QuTiP: Quantum Toolbox in Python\n",
      "================================\n",
      "Copyright (c) QuTiP team 2011 and later.\n",
      "Original developers: R. J. Johansson & P. D. Nation.\n",
      "Previous lead developers: Chris Granade & A. Grimsmo.\n",
      "Current admin team: Alexander Pitchford, Paul D. Nation, Nathan Shammah, Shahnawaz Ahmed, Neill Lambert, Eric Giguère, and Boxi Li\n",
      "Project Manager: Franco Nori.\n",
      "Currently developed through wide collaboration. See https://github.com/qutip for details.\n",
      "\n",
      "QuTiP Version:      4.6.0.dev0+6941e402\n",
      "Numpy Version:      1.18.5\n",
      "Scipy Version:      1.4.1\n",
      "Cython Version:     0.29.21\n",
      "Matplotlib Version: 3.2.2\n",
      "Python Version:     3.8.5\n",
      "Number of CPUs:     2\n",
      "BLAS Info:          OPENBLAS\n",
      "OPENMP Installed:   False\n",
      "INTEL MKL Ext:      False\n",
      "Platform Info:      Darwin (x86_64)\n",
      "Installation path:  /miniconda3/envs/mit3i/lib/python3.8/site-packages/qutip-4.6.0.dev0+6941e402-py3.8-macosx-10.9-x86_64.egg/qutip\n",
      "==============================================================================\n",
      "Please cite QuTiP in your publication.\n",
      "==============================================================================\n",
      "For your convenience a bibtex reference can be easily generated using `qutip.cite()`\n"
     ]
    },
    {
     "name": "stderr",
     "output_type": "stream",
     "text": [
      "/miniconda3/envs/mit3i/lib/python3.8/site-packages/ipykernel/ipkernel.py:287: DeprecationWarning: `should_run_async` will not call `transform_cell` automatically in the future. Please pass the result to `transformed_cell` argument and any exception that happen during thetransform in `preprocessing_exc_tuple` in IPython 7.17 and above.\n",
      "  and should_run_async(code)\n"
     ]
    }
   ],
   "source": [
    "mitiq.about()\n",
    "qutip.about()"
   ]
  }
 ],
 "metadata": {
  "kernelspec": {
   "display_name": "Python 3",
   "language": "python",
   "name": "python3"
  },
  "language_info": {
   "codemirror_mode": {
    "name": "ipython",
    "version": 3
   },
   "file_extension": ".py",
   "mimetype": "text/x-python",
   "name": "python",
   "nbconvert_exporter": "python",
   "pygments_lexer": "ipython3",
   "version": "3.8.5"
  }
 },
 "nbformat": 4,
 "nbformat_minor": 4
}
