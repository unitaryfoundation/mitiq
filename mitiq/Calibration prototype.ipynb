{
 "cells": [
  {
   "cell_type": "code",
   "execution_count": 1,
   "id": "54a810eb",
   "metadata": {
    "collapsed": true
   },
   "outputs": [],
   "source": [
    "from functools import partial\n",
    "\n",
    "import cirq\n",
    "\n",
    "from mitiq.calibration import Calibration, ZNESettings\n",
    "\n",
    "from warnings import filterwarnings\n",
    "\n",
    "filterwarnings(\"ignore\", message=\"The input circuit is very short\")"
   ]
  },
  {
   "cell_type": "code",
   "execution_count": 2,
   "id": "78189a86",
   "metadata": {},
   "outputs": [],
   "source": [
    "def execute(circuit, noise_level=0.001):\n",
    "    noisy_circuit = circuit.with_noise(cirq.depolarize(p=noise_level))\n",
    "    return (\n",
    "        cirq.DensityMatrixSimulator()\n",
    "        .simulate(noisy_circuit)\n",
    "        .final_density_matrix[0, 0]\n",
    "        .real\n",
    "    )"
   ]
  },
  {
   "cell_type": "code",
   "execution_count": 3,
   "id": "5a8c5adf",
   "metadata": {},
   "outputs": [
    {
     "data": {
      "text/plain": [
       "{'noisy_executions': 3, 'ideal_executions': 3}"
      ]
     },
     "execution_count": 3,
     "metadata": {},
     "output_type": "execute_result"
    }
   ],
   "source": [
    "cal = Calibration(execute, ZNESettings, partial(execute, noise_level=0.0))\n",
    "cal.get_cost()"
   ]
  },
  {
   "cell_type": "code",
   "execution_count": 4,
   "id": "b54c5af3",
   "metadata": {},
   "outputs": [
    {
     "name": "stdout",
     "output_type": "stream",
     "text": [
      "(2, 2)\n",
      "ghz\n",
      "1\n",
      "0: ───H───@───\n",
      "          │\n",
      "1: ───────X───\n",
      "(2, 39)\n",
      "rb\n",
      "8\n",
      "0: ───Y^0.5────X^0──────@───Y^0.5────X^0.5────Y^-0.5───X^0.5──────────@───Y^0.5────@───Y───────X^0.5───X────────Y^0.5───@───X^0───X^-0.5───Y^0──────────────@───Y^0.5────@───Y^0.5───Y───────X─────────────────────────────────@───Y^0.5────X^0.5────Y^-0.5───X^-0.5───────────────────@───Y^0.5───X^0.5───\n",
      "                        │                                             │            │                                    │                                   │            │                                                     │                                                       │\n",
      "1: ───Y^-0.5───X^-0.5───@───X^-0.5───Y^-0.5───X^0.5────Y^-0.5───X^0───@───X^-0.5───@───X^0.5───X^0.5───Y^-0.5───────────@───Y─────X^0.5────X^-0.5───Y^0.5───@───X^-0.5───@───X^0.5───Y^0.5───X^0.5───Y^-0.5───X^0.5───Y^-0.5───@───X^-0.5───Y^-0.5───X^0.5────Y^-0.5───X^0.5───Y^0.5───@───Y^0.5───────────\n",
      "(2, 25)\n",
      "mirror\n",
      "10\n",
      "0: ───X^-0.5───Y^-0.5───I───@───Z───@───X───@───Z───@───Z───@───Z───@───Z───@───I───@───I───@───Z───@───Y───Y^0.5────X^0.5───\n",
      "                            │       │       │       │       │       │       │       │       │       │\n",
      "1: ───Y────────X^0.5────Z───X───Y───X───Z───X───I───X───Y───X───Y───X───Z───X───X───X───X───X───Z───X───Y───X^-0.5───Y───────\n"
     ]
    }
   ],
   "source": [
    "for c in cal.circuits:\n",
    "    print(c.dimensions)\n",
    "    print(c.type)\n",
    "    print(c.two_qubit_gate_count)\n",
    "    print(c.circuit)"
   ]
  },
  {
   "cell_type": "code",
   "execution_count": 5,
   "id": "7adce2d1",
   "metadata": {},
   "outputs": [],
   "source": [
    "cal.run_circuits()"
   ]
  },
  {
   "cell_type": "code",
   "execution_count": 6,
   "id": "2c819aae",
   "metadata": {},
   "outputs": [
    {
     "data": {
      "text/plain": [
       "[{'unmitigated': 0.49900118,\n",
       "  'mitigated': {'zne': {'results': [{'circuit_type': 'ghz',\n",
       "      'extrapolation_method': 'RichardsonFactory',\n",
       "      'scale_factors': [1.0, 2.0, 3.0],\n",
       "      'scale_noise_method': 'fold_global',\n",
       "      'mitigated_value': 0.5003295540809632}],\n",
       "    'method_improvement_factor': None}},\n",
       "  'ideal': 0.49999997},\n",
       " {'unmitigated': 0.937392,\n",
       "  'mitigated': {'zne': {'results': [{'circuit_type': 'rb',\n",
       "      'extrapolation_method': 'RichardsonFactory',\n",
       "      'scale_factors': [1.0, 2.0, 3.0],\n",
       "      'scale_noise_method': 'fold_global',\n",
       "      'mitigated_value': 1.0229288339614862}],\n",
       "    'method_improvement_factor': None}},\n",
       "  'ideal': 1.0},\n",
       " {'unmitigated': 0.9610512,\n",
       "  'mitigated': {'zne': {'results': [{'circuit_type': 'mirror',\n",
       "      'extrapolation_method': 'RichardsonFactory',\n",
       "      'scale_factors': [1.0, 2.0, 3.0],\n",
       "      'scale_noise_method': 'fold_global',\n",
       "      'mitigated_value': 1.0052748918533319}],\n",
       "    'method_improvement_factor': None}},\n",
       "  'ideal': 1.0}]"
      ]
     },
     "execution_count": 6,
     "metadata": {},
     "output_type": "execute_result"
    }
   ],
   "source": [
    "cal.results # average mitigated value, best mitigated result"
   ]
  },
  {
   "cell_type": "code",
   "execution_count": 7,
   "id": "50f4fdfd",
   "metadata": {},
   "outputs": [],
   "source": [
    "cal.compute_improvements()"
   ]
  },
  {
   "cell_type": "code",
   "execution_count": 10,
   "id": "15361982",
   "metadata": {},
   "outputs": [
    {
     "name": "stdout",
     "output_type": "stream",
     "text": [
      "|ideal - best| / ideal = 0.03967916965484686\n"
     ]
    },
    {
     "data": {
      "text/plain": [
       "'zne'"
      ]
     },
     "execution_count": 10,
     "metadata": {},
     "output_type": "execute_result"
    }
   ],
   "source": [
    "cal.get_optimal_strategy()"
   ]
  },
  {
   "cell_type": "code",
   "execution_count": null,
   "id": "0faeb5a9",
   "metadata": {},
   "outputs": [],
   "source": [
    "from mitiq.benchmarks import generate_ghz_circuit, generate_rb_circuits"
   ]
  },
  {
   "cell_type": "code",
   "execution_count": null,
   "id": "279c49d2",
   "metadata": {},
   "outputs": [],
   "source": [
    "ghz = generate_ghz_circuit(5)\n",
    "rb = generate_rb_circuits(2, 10)[0]"
   ]
  },
  {
   "cell_type": "code",
   "execution_count": null,
   "id": "36a2a736",
   "metadata": {},
   "outputs": [],
   "source": [
    "print(rb)"
   ]
  },
  {
   "cell_type": "code",
   "execution_count": null,
   "id": "910c505e",
   "metadata": {},
   "outputs": [],
   "source": [
    "rb.all_qubits()"
   ]
  },
  {
   "cell_type": "code",
   "execution_count": null,
   "id": "dc8bec07",
   "metadata": {},
   "outputs": [],
   "source": [
    "list(ghz.all_operations())[1].qubits"
   ]
  },
  {
   "cell_type": "code",
   "execution_count": null,
   "id": "8fb5355d",
   "metadata": {},
   "outputs": [],
   "source": [
    "len(list(filter(lambda op: len(op.qubits) > 1, ghz.all_operations())))"
   ]
  },
  {
   "cell_type": "code",
   "execution_count": null,
   "id": "7684436e",
   "metadata": {},
   "outputs": [],
   "source": [
    "sum([len(op.qubits) > 1 for op in ghz.all_operations()])"
   ]
  },
  {
   "cell_type": "code",
   "execution_count": null,
   "id": "8f558a6c",
   "metadata": {},
   "outputs": [],
   "source": []
  }
 ],
 "metadata": {
  "kernelspec": {
   "display_name": "Python 3.10.6 ('docs-upgrade')",
   "language": "python",
   "name": "python3"
  },
  "language_info": {
   "codemirror_mode": {
    "name": "ipython",
    "version": 3
   },
   "file_extension": ".py",
   "mimetype": "text/x-python",
   "name": "python",
   "nbconvert_exporter": "python",
   "pygments_lexer": "ipython3",
   "version": "3.10.6"
  },
  "vscode": {
   "interpreter": {
    "hash": "cca08b934a199cb36efffa0af047cfe41c6db53aba037a42ca55ecdd969e97c1"
   }
  }
 },
 "nbformat": 4,
 "nbformat_minor": 5
}
