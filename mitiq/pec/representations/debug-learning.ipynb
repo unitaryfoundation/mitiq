{
 "cells": [
  {
   "cell_type": "code",
   "execution_count": null,
   "metadata": {},
   "outputs": [],
   "source": [
    "import numpy as np\n",
    "from cirq import (\n",
    "    CNOT,\n",
    "    I,\n",
    "    X,\n",
    "    Y,\n",
    "    Z,\n",
    "    LineQubit,\n",
    "    Circuit,\n",
    "    ops,\n",
    "    unitary,\n",
    ")\n",
    "from mitiq import Executor, Observable, PauliString\n",
    "from mitiq.interface.mitiq_cirq import compute_density_matrix\n",
    "from mitiq.cdr._testing import random_x_z_cnot_circuit\n",
    "from mitiq.pec.representations.learning import learn_biased_noise_parameters"
   ]
  },
  {
   "cell_type": "markdown",
   "metadata": {},
   "source": [
    "Test with randomly generated circuit, compiled into (X, Z, CNOT) for `cdr.generate_training_circuits`"
   ]
  },
  {
   "cell_type": "code",
   "execution_count": null,
   "metadata": {},
   "outputs": [],
   "source": [
    "circuit = random_x_z_cnot_circuit(\n",
    "    LineQubit.range(3), n_moments=5, random_state=1\n",
    ")\n",
    "print(circuit)"
   ]
  },
  {
   "cell_type": "markdown",
   "metadata": {},
   "source": [
    "Test with some example parameters (small offset to avoid long execution time)"
   ]
  },
  {
   "cell_type": "code",
   "execution_count": null,
   "metadata": {},
   "outputs": [],
   "source": [
    "epsilon = 0.7\n",
    "eta = 1000\n",
    "gate = CNOT\n",
    "offset = -0.01\n",
    "observable = Observable(PauliString(\"XZ\"), PauliString(\"YY\"))\n",
    "\n",
    "# Define biased noise channel\n",
    "a = 1 - epsilon\n",
    "b = epsilon * (3 * eta + 1) / (3 * (eta + 1))\n",
    "c = epsilon / (3 * (eta + 1))\n",
    "\n",
    "mix = [\n",
    "    (a, unitary(I)),\n",
    "    (b, unitary(Z)),\n",
    "    (c, unitary(X)),\n",
    "    (c, unitary(Y)),\n",
    "]\n",
    "\n",
    "print(circuit)\n",
    "print(circuit.with_noise(ops.MixedUnitaryChannel(mix)))"
   ]
  },
  {
   "cell_type": "code",
   "execution_count": null,
   "metadata": {},
   "outputs": [],
   "source": [
    "def ideal_executor(circ: Circuit) -> np.ndarray:\n",
    "    return compute_density_matrix(circ, noise_level=(0.0,))\n",
    "\n",
    "def noisy_executor(circ: Circuit) -> np.ndarray:\n",
    "    noisy_circ = circ.with_noise(ops.MixedUnitaryChannel(mix))\n",
    "    return ideal_executor(noisy_circ)"
   ]
  },
  {
   "cell_type": "code",
   "execution_count": null,
   "metadata": {},
   "outputs": [],
   "source": [
    "\n",
    "ideal_executor = Executor(ideal_executor)\n",
    "noisy_executor = Executor(noisy_executor)\n",
    "\n",
    "from mitiq.cdr import generate_training_circuits\n",
    "epsilon0 = (1 + offset) * epsilon\n",
    "eta0 = (1 + offset) * eta\n",
    "num_training_circuits = 10\n",
    "training_circuits = generate_training_circuits(\n",
    "        circuit=circuit,\n",
    "        num_training_circuits=num_training_circuits,\n",
    "        fraction_non_clifford=0,\n",
    "        method_select=\"uniform\",\n",
    "        method_replace=\"closest\",\n",
    "    )\n",
    "\n",
    "ideal_values = np.array(\n",
    "        [ideal_executor.evaluate(t, observable) for t in training_circuits]\n",
    "    )\n",
    "\n",
    "\n",
    "x0 = np.array(\n",
    "        [epsilon0, eta0]\n",
    "    )  # initial parameter values for optimization\n",
    "\n",
    "print(ideal_values)\n",
    "\n",
    "print(x0)\n"
   ]
  },
  {
   "cell_type": "code",
   "execution_count": null,
   "metadata": {},
   "outputs": [],
   "source": [
    "from mitiq.pec import execute_with_pec\n",
    "from mitiq.pec.representations.biased_noise import (\n",
    "    represent_operation_with_local_biased_noise,\n",
    ")\n",
    "epsilon = x0[0]\n",
    "eta = x0[1]\n",
    "operation = gate\n",
    "qreg = LineQubit.range(operation.num_qubits())\n",
    "representations = [\n",
    "        represent_operation_with_local_biased_noise(\n",
    "            Circuit(operation.on(*qreg)),\n",
    "            epsilon,\n",
    "            eta,\n",
    "        )\n",
    "    ]\n",
    "\n",
    "mitigated = execute_with_pec(\n",
    "        circuit=circuit,\n",
    "        observable=observable,\n",
    "        executor=noisy_executor,\n",
    "        representations=representations,\n",
    "    )\n",
    "\n",
    "\n",
    "np.sum((mitigated * np.ones(num_training_circuits) - ideal_values)\n",
    "            ** 2\n",
    "        )/ num_training_circuits"
   ]
  },
  {
   "cell_type": "code",
   "execution_count": null,
   "metadata": {},
   "outputs": [],
   "source": [
    "[epsilon_opt, eta_opt] = learn_biased_noise_parameters(\n",
    "    operation=gate,\n",
    "    circuit=circuit,\n",
    "    ideal_executor=Executor(ideal_executor),\n",
    "    noisy_executor=Executor(noisy_executor),\n",
    "    num_training_circuits=10,\n",
    "    epsilon0=(1 + offset) * epsilon,\n",
    "    eta0=(1 + offset) * eta,\n",
    "    observable=observable\n",
    ")\n",
    "\n",
    "print(epsilon-epsilon_opt)\n",
    "print(eta-eta_opt)"
   ]
  }
 ],
 "metadata": {
  "interpreter": {
   "hash": "0108c9488996b6d6e86eb8108aebbfe616bc93c7664287717acf0cd4e3db3d37"
  },
  "kernelspec": {
   "display_name": "Python 3.9.5 ('mynewenv')",
   "language": "python",
   "name": "python3"
  },
  "language_info": {
   "codemirror_mode": {
    "name": "ipython",
    "version": 3
   },
   "file_extension": ".py",
   "mimetype": "text/x-python",
   "name": "python",
   "nbconvert_exporter": "python",
   "pygments_lexer": "ipython3",
   "version": "3.9.5"
  },
  "orig_nbformat": 4
 },
 "nbformat": 4,
 "nbformat_minor": 2
}
