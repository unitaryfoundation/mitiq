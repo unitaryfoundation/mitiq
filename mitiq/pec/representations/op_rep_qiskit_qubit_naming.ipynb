{
 "cells": [
  {
   "cell_type": "code",
   "execution_count": null,
   "metadata": {},
   "outputs": [],
   "source": [
    "import qiskit \n",
    "from mitiq.pec.representations.depolarizing import represent_operation_with_global_depolarizing_noise\n",
    "\n",
    "qreg = qiskit.QuantumRegister(2, name=\"test_name\")\n",
    "cnot_circuit = qiskit.QuantumCircuit(qreg)\n",
    "cnot_circuit.cnot(0, 1)\n",
    "\n",
    "rep = represent_operation_with_global_depolarizing_noise(cnot_circuit, 0.1)\n",
    "print(rep)"
   ]
  },
  {
   "cell_type": "code",
   "execution_count": null,
   "metadata": {},
   "outputs": [],
   "source": [
    "from mitiq.interface import convert_to_mitiq, convert_from_mitiq\n",
    "converted, in_type = convert_to_mitiq(cnot_circuit)\n",
    "print(converted)"
   ]
  },
  {
   "cell_type": "code",
   "execution_count": null,
   "metadata": {},
   "outputs": [],
   "source": [
    "from typing import List\n",
    "from cirq import Operation, X, Y, Z, Circuit\n",
    "post_ops: List[List[Operation]]\n",
    "qubits = converted.all_qubits()\n",
    "print(qubits)"
   ]
  },
  {
   "cell_type": "code",
   "execution_count": null,
   "metadata": {},
   "outputs": [],
   "source": [
    "from cirq import X, Y, Z, Circuit\n",
    "noise_level = 0.1\n",
    "# The single-qubit case: linear combination of 1Q Paulis\n",
    "if len(qubits) == 1:\n",
    "    q = tuple(qubits)[0]\n",
    "\n",
    "    epsilon = 4 / 3 * noise_level\n",
    "    alpha_pos = 1 + ((3 / 4) * epsilon / (1 - epsilon))\n",
    "    alpha_neg = -(1 / 4) * epsilon / (1 - epsilon)\n",
    "\n",
    "    alphas = [alpha_pos] + 3 * [alpha_neg]\n",
    "    post_ops = [[]]  # for alpha_pos, we do nothing, rather than I\n",
    "    post_ops += [[P(q)] for P in [X, Y, Z]]  # 1Q Paulis\n",
    "\n",
    "# The two-qubit case: linear combination of 2Q Paulis\n",
    "elif len(qubits) == 2:\n",
    "    q0, q1 = qubits\n",
    "\n",
    "    epsilon = 16 / 15 * noise_level\n",
    "    alpha_pos = 1 + ((15 / 16) * epsilon / (1 - epsilon))\n",
    "    alpha_neg = -(1 / 16) * epsilon / (1 - epsilon)\n",
    "\n",
    "    alphas = [alpha_pos] + 15 * [alpha_neg]\n",
    "    post_ops = [[]]  # for alpha_pos, we do nothing, rather than I x I\n",
    "    post_ops += [[P(q0)] for P in [X, Y, Z]]  # 1Q Paulis for q0\n",
    "    post_ops += [[P(q1)] for P in [X, Y, Z]]  # 1Q Paulis for q1\n",
    "    post_ops += [\n",
    "        [Pi(q0), Pj(q1)] for Pi in [X, Y, Z] for Pj in [X, Y, Z]\n",
    "    ]  # 2Q Paulis\n",
    "\n",
    "# Basis of implementable operations as circuits.\n",
    "imp_op_circuits = [converted + Circuit(op) for op in post_ops]\n",
    "print(imp_op_circuits)"
   ]
  },
  {
   "cell_type": "code",
   "execution_count": null,
   "metadata": {},
   "outputs": [],
   "source": [
    "# Convert back to input type.\n",
    "circuits = [convert_from_mitiq(c, in_type) for c in imp_op_circuits]\n",
    "print(circuits)"
   ]
  },
  {
   "cell_type": "code",
   "execution_count": null,
   "metadata": {},
   "outputs": [],
   "source": [
    "# Build basis expansion.\n",
    "from mitiq.pec.types import NoisyOperation\n",
    "expansion = {NoisyOperation(c): a for c, a in zip(circuits, alphas)}\n",
    "print(expansion)"
   ]
  },
  {
   "cell_type": "code",
   "execution_count": null,
   "metadata": {},
   "outputs": [],
   "source": [
    "from mitiq.pec.types import OperationRepresentation\n",
    "representation = OperationRepresentation(cnot_circuit, expansion)\n",
    "print(representation)"
   ]
  }
 ],
 "metadata": {
  "interpreter": {
   "hash": "1c162a4b5e89e650945660990eb02ad7f088449978804c7b4e613dedbb58c705"
  },
  "kernelspec": {
   "display_name": "Python 3.9.5 ('mynewenv')",
   "language": "python",
   "name": "python3"
  },
  "language_info": {
   "codemirror_mode": {
    "name": "ipython",
    "version": 3
   },
   "file_extension": ".py",
   "mimetype": "text/x-python",
   "name": "python",
   "nbconvert_exporter": "python",
   "pygments_lexer": "ipython3",
   "version": "3.8.12"
  },
  "orig_nbformat": 4
 },
 "nbformat": 4,
 "nbformat_minor": 2
}
