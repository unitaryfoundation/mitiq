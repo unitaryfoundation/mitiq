{
 "cells": [
  {
   "cell_type": "code",
   "execution_count": null,
   "metadata": {},
   "outputs": [],
   "source": [
    "import numpy as np\n",
    "from cirq import (\n",
    "    CCNOT,\n",
    "    CNOT,\n",
    "    CZ,\n",
    "    ISWAP,\n",
    "    I,\n",
    "    X,\n",
    "    Y,\n",
    "    Z,\n",
    "    H,\n",
    "    SWAP,\n",
    "    Gate,\n",
    "    LineQubit,\n",
    "    Circuit,\n",
    "    depolarize,\n",
    "    ops,\n",
    "    DepolarizingChannel,\n",
    "    AsymmetricDepolarizingChannel,\n",
    "    unitary,\n",
    ")\n",
    "\n",
    "from mitiq.pec.channels import _operation_to_choi, _circuit_to_choi\n",
    "\n",
    "from mitiq.pec.representations.biased_noise import (\n",
    "    represent_operation_with_biased_noise,\n",
    ")"
   ]
  },
  {
   "cell_type": "markdown",
   "metadata": {},
   "source": [
    "Test defined in `test_biased_noise_representation_with_choi` is failing for non-zero noise strength `epsilon`. I isolated the function here and added an option to select the noise channel, checking whether the `MixedUnitary` channel behaves as expected, i.e. like a `DepolarizingChannel` when noise bias `eta` = 0.\n"
   ]
  },
  {
   "cell_type": "code",
   "execution_count": null,
   "metadata": {},
   "outputs": [],
   "source": [
    "def test_biased_noise_representation_with_choi(\n",
    "    gate: Gate, epsilon: float, eta: float, option\n",
    " ):\n",
    "    \"\"\"Tests the representation by comparing exact Choi matrices.\"\"\"\n",
    "    qreg = LineQubit.range(gate.num_qubits())\n",
    "    ideal_choi = _operation_to_choi(gate.on(*qreg))\n",
    "    op_rep = represent_operation_with_biased_noise(\n",
    "        Circuit(gate.on(*qreg)), epsilon, eta\n",
    "    )\n",
    "    choi_components = []\n",
    "    eta1 = 1 - epsilon\n",
    "    eta2 = epsilon / (3 * (eta + 1))\n",
    "    eta3 = epsilon * (3 * eta + 1) / (3 * (eta + 1))\n",
    "\n",
    "    mix = [\n",
    "        (eta1, unitary(I)),\n",
    "        (eta2, unitary(X)),\n",
    "        (eta2, unitary(Y)),\n",
    "        (eta3, unitary(Z)),\n",
    "    ]\n",
    "\n",
    "    for noisy_op, coeff in op_rep.basis_expansion.items():\n",
    "        implementable_circ = noisy_op.circuit()\n",
    "        # The representation assume local noise on each qubit.\n",
    "        depolarizing_op = DepolarizingChannel(epsilon).on_each(*qreg)\n",
    "        if option == \"mixed\":\n",
    "            biased_op = ops.MixedUnitaryChannel(mix).on_each(*qreg)\n",
    "        elif option == \"local\":\n",
    "            biased_op = DepolarizingChannel(epsilon).on_each(*qreg)\n",
    "        elif option == \"global\":\n",
    "            biased_op = DepolarizingChannel(epsilon, len(qreg))(*qreg)\n",
    "        elif option == \"asymmetric\":\n",
    "            biased_op = AsymmetricDepolarizingChannel(eta2, eta2, eta3).on_each(*qreg)\n",
    "        # Apply noise after each sequence.\n",
    "        # NOTE: noise is not applied after each operation.\n",
    "        implementable_circ.append(biased_op)\n",
    "        sequence_choi = _circuit_to_choi(implementable_circ)\n",
    "        choi_components.append(coeff * sequence_choi)\n",
    "    combination_choi = np.sum(choi_components, axis=0)\n",
    "    return (ideal_choi - combination_choi)"
   ]
  },
  {
   "cell_type": "markdown",
   "metadata": {},
   "source": [
    "All of the entries of the following matrices should be < 10**-6 to pass the test defined in `test_biased_noise_representation_with_choi`"
   ]
  },
  {
   "cell_type": "code",
   "execution_count": null,
   "metadata": {},
   "outputs": [],
   "source": [
    "choi_comparison1 = test_biased_noise_representation_with_choi(gate=CZ, epsilon=0.1, eta=0, option=\"mixed\")\n",
    "print(choi_comparison1)\n",
    "choi_comparison2 = test_biased_noise_representation_with_choi(gate=CZ, epsilon=0.1, eta=0, option=\"local\")\n",
    "print(choi_comparison2)\n",
    "choi_comparison3 = test_biased_noise_representation_with_choi(gate=CZ, epsilon=0.1, eta=0, option=\"global\")\n",
    "print(choi_comparison3)"
   ]
  },
  {
   "cell_type": "markdown",
   "metadata": {},
   "source": [
    "Also compare `MixedUnitary` channel with the `AsymmetricDepolarizing` channel, with `eta` = 1"
   ]
  },
  {
   "cell_type": "code",
   "execution_count": null,
   "metadata": {},
   "outputs": [],
   "source": [
    "choi_comparison4 = test_biased_noise_representation_with_choi(gate=CZ, epsilon=0.1, eta=1, option=\"mixed\")\n",
    "print(choi_comparison4)\n",
    "\n",
    "choi_comparison5 = test_biased_noise_representation_with_choi(gate=CZ, epsilon=0.1, eta=1, option=\"asymmetric\")\n",
    "print(choi_comparison5)"
   ]
  }
 ],
 "metadata": {
  "interpreter": {
   "hash": "31f2aee4e71d21fbe5cf8b01ff0e069b9275f58929596ceb00d14d90e3e16cd6"
  },
  "kernelspec": {
   "display_name": "Python 3.9.2 64-bit",
   "language": "python",
   "name": "python3"
  },
  "language_info": {
   "codemirror_mode": {
    "name": "ipython",
    "version": 3
   },
   "file_extension": ".py",
   "mimetype": "text/x-python",
   "name": "python",
   "nbconvert_exporter": "python",
   "pygments_lexer": "ipython3",
   "version": "3.9.2"
  },
  "orig_nbformat": 4
 },
 "nbformat": 4,
 "nbformat_minor": 2
}
