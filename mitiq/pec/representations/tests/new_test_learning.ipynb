{
 "cells": [
  {
   "cell_type": "code",
   "execution_count": 9,
   "metadata": {},
   "outputs": [],
   "source": [
    "import numpy as np\n",
    "from cirq import (\n",
    "    CXPowGate,\n",
    "    MixedUnitaryChannel,\n",
    "    Rx,\n",
    "    Rz,\n",
    "    I,\n",
    "    X,\n",
    "    Y,\n",
    "    Z,\n",
    "    LineQubit,\n",
    "    Circuit,\n",
    "    ops,\n",
    "    unitary,\n",
    ")\n",
    "from mitiq import Executor, Observable, PauliString\n",
    "from mitiq.interface.mitiq_cirq import compute_density_matrix\n",
    "from mitiq.cdr import generate_training_circuits\n",
    "from mitiq.cdr._testing import random_x_z_cnot_circuit\n",
    "from mitiq.pec.representations.learning import learn_biased_noise_parameters\n",
    "\n",
    "seed = 1\n",
    "rng = np.random.RandomState(seed)\n",
    "circuit = random_x_z_cnot_circuit(\n",
    "    LineQubit.range(2), n_moments=5, random_state=rng\n",
    ")\n",
    "\n",
    "# Set number of samples used to calculate mitigated value in loss function\n",
    "# Suppress warning messages about missing/empty representations\n",
    "pec_kwargs = {\"num_samples\": 100, \"representation_warning\": False}\n",
    "\n",
    "observable = Observable(PauliString(\"XZ\"), PauliString(\"YY\"))\n",
    "\n",
    "CNOT_ops = list(circuit.findall_operations_with_gate_type(CXPowGate))\n",
    "Rx_ops = list(circuit.findall_operations_with_gate_type(Rx))\n",
    "Rz_ops = list(circuit.findall_operations_with_gate_type(Rz))\n",
    "\n",
    "\n",
    "def ideal_execute(circ: Circuit) -> np.ndarray:\n",
    "    return compute_density_matrix(circ, noise_level=(0.0,))\n",
    "\n",
    "\n",
    "ideal_executor = Executor(ideal_execute)\n",
    "\n",
    "epsilon = 0.7\n",
    "eta = 1000\n",
    "\n",
    "def biased_noise_channel(epsilon: float, eta: float) -> MixedUnitaryChannel:\n",
    "    a = 1 - epsilon\n",
    "    b = epsilon * (3 * eta + 1) / (3 * (eta + 1))\n",
    "    c = epsilon / (3 * (eta + 1))\n",
    "\n",
    "    mix = [\n",
    "        (a, unitary(I)),\n",
    "        (b, unitary(Z)),\n",
    "        (c, unitary(X)),\n",
    "        (c, unitary(Y)),\n",
    "    ]\n",
    "    return ops.MixedUnitaryChannel(mix)\n",
    "\n",
    "index = CNOT_ops[0][0]\n",
    "operation = Circuit(CNOT_ops[0][1])\n",
    "operations = [operation]\n",
    "\n",
    "\n",
    "def noisy_execute(circ: Circuit) -> np.ndarray:\n",
    "    noisy_circ = circ.copy()[0:0]\n",
    "\n",
    "    for op in circ.all_operations(): \n",
    "        noisy_circ.append(op)\n",
    "        if isinstance(op.gate, CXPowGate):\n",
    "            qubits = op.qubits\n",
    "            noisy_circ.append(biased_noise_channel(epsilon, eta)(qubits[0]))\n",
    "            noisy_circ.append(biased_noise_channel(epsilon, eta)(qubits[1]))\n",
    "\n",
    "    return ideal_execute(noisy_circ)\n",
    "\n",
    "noisy_executor = Executor(noisy_execute)\n",
    "\n",
    "training_circuits = generate_training_circuits(\n",
    "    circuit=circuit,\n",
    "    num_training_circuits=10,\n",
    "    fraction_non_clifford=0.2,\n",
    "    method_select=\"uniform\",\n",
    "    method_replace=\"closest\",\n",
    ")\n",
    "\n",
    "\n",
    "noisy_val = [noisy_executor.evaluate(training_circuit, observable) for training_circuit in training_circuits]"
   ]
  },
  {
   "cell_type": "code",
   "execution_count": 2,
   "metadata": {},
   "outputs": [
    {
     "name": "stdout",
     "output_type": "stream",
     "text": [
      "[[0.        +0.j]\n",
      " [0.        +0.j]\n",
      " [0.43388373+0.j]\n",
      " [0.        +0.j]\n",
      " [0.43388373+0.j]\n",
      " [0.        +0.j]\n",
      " [0.        +0.j]\n",
      " [0.        +0.j]\n",
      " [0.43388373+0.j]\n",
      " [0.        +0.j]]\n",
      "[[ 0.        +0.j]\n",
      " [ 0.        +0.j]\n",
      " [-0.17318956+0.j]\n",
      " [ 0.        +0.j]\n",
      " [-0.17318956+0.j]\n",
      " [ 0.        +0.j]\n",
      " [ 0.        +0.j]\n",
      " [ 0.        +0.j]\n",
      " [-0.17318956+0.j]\n",
      " [ 0.        +0.j]]\n"
     ]
    }
   ],
   "source": [
    "ideal_values = np.array(\n",
    "    [ideal_executor.evaluate(t, observable) for t in training_circuits]\n",
    ")\n",
    "\n",
    "print(ideal_values)\n",
    "\n",
    "print(np.array(noisy_val))\n"
   ]
  },
  {
   "cell_type": "code",
   "execution_count": 3,
   "metadata": {},
   "outputs": [],
   "source": [
    "epsilons = np.linspace(0, 1, 51)\n",
    "etas = np.linspace(0, 1000, 51)\n",
    "\n",
    "\n",
    "from mitiq.pec.representations.learning import biased_noise_loss_function\n",
    "loss_epsilons = [biased_noise_loss_function([epsilon, 1], operations, training_circuits, ideal_values, noisy_executor, pec_kwargs, observable) for epsilon in epsilons]\n",
    "loss_etas = [biased_noise_loss_function([0.7, eta], operations, training_circuits, ideal_values, noisy_executor, pec_kwargs, observable) for eta in etas]"
   ]
  },
  {
   "cell_type": "code",
   "execution_count": 4,
   "metadata": {},
   "outputs": [
    {
     "data": {
      "image/png": "[encoded data removed]",
      "text/plain": [
       "<Figure size 432x288 with 1 Axes>"
      ]
     },
     "metadata": {
      "needs_background": "light"
     },
     "output_type": "display_data"
    }
   ],
   "source": [
    "from matplotlib import pyplot as plt\n",
    "_ = plt.plot(epsilons, loss_epsilons)"
   ]
  },
  {
   "cell_type": "code",
   "execution_count": 5,
   "metadata": {},
   "outputs": [
    {
     "data": {
      "image/png": "[encoded data removed]",
      "text/plain": [
       "<Figure size 432x288 with 1 Axes>"
      ]
     },
     "metadata": {
      "needs_background": "light"
     },
     "output_type": "display_data"
    }
   ],
   "source": [
    "_ = plt.plot(etas, loss_etas)"
   ]
  },
  {
   "cell_type": "code",
   "execution_count": 6,
   "metadata": {},
   "outputs": [
    {
     "data": {
      "image/png": "[encoded data removed]",
      "text/plain": [
       "<Figure size 432x288 with 1 Axes>"
      ]
     },
     "metadata": {
      "needs_background": "light"
     },
     "output_type": "display_data"
    }
   ],
   "source": [
    "_ = plt.plot(etas[1:], loss_etas[1:])"
   ]
  },
  {
   "cell_type": "code",
   "execution_count": 7,
   "metadata": {},
   "outputs": [
    {
     "name": "stdout",
     "output_type": "stream",
     "text": [
      "[7.06997647e-01 1.00999999e+03]\n",
      "      fun: 0.5868537998082328\n",
      " hess_inv: array([[1.22141804, 0.37676758],\n",
      "       [0.37676758, 0.1162205 ]])\n",
      "      jac: array([4293841.61622319, -928450.54497987])\n",
      "  message: 'Desired error not necessarily achieved due to precision loss.'\n",
      "     nfev: 51\n",
      "      nit: 1\n",
      "     njev: 13\n",
      "   status: 2\n",
      "  success: False\n",
      "        x: array([7.06997647e-01, 1.00999999e+03])\n",
      "0.706997646808481 1009.9999898203075 False\n"
     ]
    }
   ],
   "source": [
    "offset = 0.01\n",
    "epsilon0 = (1 + offset) * epsilon\n",
    "eta0 = (1 + offset) * eta\n",
    "x0 = [epsilon0, eta0]\n",
    "\n",
    "def print_intermediate(xk):\n",
    "    print(xk)\n",
    "\n",
    "from scipy.optimize import minimize\n",
    "from mitiq.pec.representations.learning import biased_noise_loss_function\n",
    "result = minimize(\n",
    "    biased_noise_loss_function,\n",
    "    x0,\n",
    "    args=(\n",
    "        operations,\n",
    "        training_circuits,\n",
    "        ideal_values,\n",
    "        noisy_executor,\n",
    "        pec_kwargs,\n",
    "        observable,\n",
    "    ),\n",
    "    method=\"BFGS\",\n",
    "    callback = print_intermediate,\n",
    ")\n",
    "x_result = result.x\n",
    "epsilon_opt =  x_result[0]\n",
    "eta_opt = x_result[1]\n",
    "success = result.success\n",
    "print(result)\n",
    "\n",
    "\n",
    "\n",
    "print(epsilon_opt, eta_opt, success)"
   ]
  },
  {
   "cell_type": "code",
   "execution_count": null,
   "metadata": {},
   "outputs": [],
   "source": [
    "training_circuits = generate_training_circuits(\n",
    "    circuit=circuit,\n",
    "    num_training_circuits=3,\n",
    "    fraction_non_clifford=0,\n",
    "    method_select=\"uniform\",\n",
    "    method_replace=\"closest\",\n",
    ")\n",
    "\n",
    "\n",
    "\n",
    "def biased_noise_channel(epsilon: float, eta: float) -> MixedUnitaryChannel:\n",
    "    a = 1 - epsilon\n",
    "    b = epsilon * (3 * eta + 1) / (3 * (eta + 1))\n",
    "    c = epsilon / (3 * (eta + 1))\n",
    "\n",
    "    mix = [\n",
    "        (a, unitary(I)),\n",
    "        (b, unitary(Z)),\n",
    "        (c, unitary(X)),\n",
    "        (c, unitary(Y)),\n",
    "    ]\n",
    "    return ops.MixedUnitaryChannel(mix)\n",
    "\n",
    "\n",
    "operations = [Circuit(CNOT_ops[0][1])]\n",
    "\n",
    "def noisy_execute(circ: Circuit) -> np.ndarray:\n",
    "    noisy_circ = circ.with_noise(biased_noise_channel(epsilon, eta))\n",
    "    return ideal_execute(noisy_circ)\n",
    "\n",
    "noisy_executor = Executor(noisy_execute)\n",
    "\n",
    "offset = 0.1\n",
    "epsilon0 = (1 + offset) * epsilon\n",
    "eta0 = (1 + offset) * eta\n",
    "[epsilon_opt, eta_opt, success] = learn_biased_noise_parameters(\n",
    "        operations_to_learn=operations,\n",
    "        circuit=circuit,\n",
    "        ideal_executor=ideal_executor,\n",
    "        noisy_executor=noisy_executor,\n",
    "        pec_kwargs=pec_kwargs,\n",
    "        num_training_circuits=3,\n",
    "        fraction_non_clifford=0.2,\n",
    "        epsilon0=epsilon0,\n",
    "        eta0=eta0,\n",
    "        observable=observable,\n",
    "        options={'gtol': 1e-02, 'maxiter': 100, 'disp': True}\n",
    "    )\n",
    "\n",
    "print(epsilon_opt, eta_opt, success)"
   ]
  },
  {
   "cell_type": "code",
   "execution_count": null,
   "metadata": {},
   "outputs": [],
   "source": [
    "from mitiq.pec.representations.learning import biased_noise_loss_function\n",
    "from scipy.optimize import minimize\n",
    "from typing import cast\n",
    "\n",
    "\n",
    "offset = 0.01\n",
    "epsilon0 = (1 + offset) * epsilon\n",
    "eta0 = (1 + offset) * eta\n",
    "x0 = np.array(\n",
    "    [epsilon0, eta0]\n",
    ")  # initial parameter values for optimization\n",
    "\n",
    "operations_to_learn = [Circuit(Rz_ops[0][1])]\n",
    "\n",
    "result = minimize(\n",
    "    biased_noise_loss_function,\n",
    "    x0,\n",
    "    args=(\n",
    "        operations_to_learn,\n",
    "        training_circuits,\n",
    "        ideal_values,\n",
    "        noisy_executor,\n",
    "        pec_kwargs,\n",
    "        observable,\n",
    "    ),\n",
    "    method=\"Nelder-Mead\",\n",
    "    # **minimize_kwargs,\n",
    ")\n",
    "x_result = result.x\n",
    "epsilon_opt = cast(float, x_result[0])\n",
    "eta_opt = cast(float, x_result[1])\n",
    "success = cast(bool, result.success)\n",
    "print(result)"
   ]
  },
  {
   "cell_type": "code",
   "execution_count": null,
   "metadata": {},
   "outputs": [],
   "source": [
    "print(epsilon0)\n",
    "print(eta0)"
   ]
  },
  {
   "cell_type": "code",
   "execution_count": null,
   "metadata": {},
   "outputs": [],
   "source": [
    "epsilon_opt_test = result.x[0]\n",
    "eta_opt_test = result.x[1]\n",
    "\n",
    "test_loss = biased_noise_loss_function(result.x, operations_to_learn, training_circuits, ideal_values, noisy_executor, pec_kwargs, observable)"
   ]
  },
  {
   "cell_type": "code",
   "execution_count": null,
   "metadata": {},
   "outputs": [],
   "source": [
    "print(test_loss)"
   ]
  },
  {
   "cell_type": "code",
   "execution_count": null,
   "metadata": {},
   "outputs": [],
   "source": [
    "initial_loss = biased_noise_loss_function([epsilon0, eta0], operations_to_learn, training_circuits, ideal_values, noisy_executor, pec_kwargs, observable)\n",
    "print(initial_loss)"
   ]
  },
  {
   "cell_type": "code",
   "execution_count": null,
   "metadata": {},
   "outputs": [],
   "source": [
    "print(epsilon0, eta0)"
   ]
  }
 ],
 "metadata": {
  "interpreter": {
   "hash": "992c44e14009e3623432b51dfa0ccb8179e6507fb1569359de12ac98f26b40e8"
  },
  "kernelspec": {
   "display_name": "Python 3.8.13 64-bit ('venv_mitiq_learnrepspec')",
   "language": "python",
   "name": "python3"
  },
  "language_info": {
   "codemirror_mode": {
    "name": "ipython",
    "version": 3
   },
   "file_extension": ".py",
   "mimetype": "text/x-python",
   "name": "python",
   "nbconvert_exporter": "python",
   "pygments_lexer": "ipython3",
   "version": "3.8.13"
  },
  "orig_nbformat": 4
 },
 "nbformat": 4,
 "nbformat_minor": 2
}
