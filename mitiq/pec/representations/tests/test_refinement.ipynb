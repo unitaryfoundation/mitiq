{
 "cells": [
  {
   "cell_type": "code",
   "execution_count": 8,
   "id": "d8a13356",
   "metadata": {},
   "outputs": [],
   "source": [
    "import warnings\n",
    "warnings.simplefilter(\"ignore\", UserWarning)\n",
    "import numpy as np\n",
    "from matplotlib import pyplot as plt\n",
    "from cirq import (\n",
    "    CXPowGate,\n",
    "    MixedUnitaryChannel,\n",
    "    Rx,\n",
    "    Rz,\n",
    "    I,\n",
    "    X,\n",
    "    Y,\n",
    "    Z,\n",
    "    LineQubit,\n",
    "    Circuit,\n",
    "    ops,\n",
    "    unitary,\n",
    ")\n",
    "import qiskit\n",
    "from mitiq import Executor, Observable, PauliString\n",
    "from mitiq.interface.mitiq_cirq import compute_density_matrix\n",
    "from mitiq.cdr import generate_training_circuits\n",
    "from mitiq.cdr._testing import random_x_z_cnot_circuit\n",
    "from mitiq.pec.representations.learning import (\n",
    "    biased_noise_loss_function,\n",
    "    learn_biased_noise_parameters,\n",
    ")\n",
    "\n",
    "seed = 1\n",
    "rng = np.random.RandomState(seed)\n",
    "circuit = random_x_z_cnot_circuit(\n",
    "    LineQubit.range(2), n_moments=5, random_state=rng\n",
    ")\n",
    "\n",
    "\n",
    "CNOT_ops = list(circuit.findall_operations_with_gate_type(CXPowGate))\n",
    "Rx_ops = list(circuit.findall_operations_with_gate_type(Rx))\n",
    "Rz_ops = list(circuit.findall_operations_with_gate_type(Rz))\n",
    "\n",
    "\n",
    "def ideal_execute(circ: Circuit) -> np.ndarray:\n",
    "    return compute_density_matrix(circ, noise_level=(0.0,))\n",
    "\n",
    "\n",
    "ideal_executor = Executor(ideal_execute)\n",
    "ideal_values = np.array(\n",
    "    [ideal_executor.evaluate(t, observable) for t in training_circuits]\n",
    ")\n",
    "\n",
    "\n",
    "def biased_noise_channel(epsilon: float, eta: float) -> MixedUnitaryChannel:\n",
    "    a = 1 - epsilon\n",
    "    b = epsilon * (3 * eta + 1) / (3 * (eta + 1))\n",
    "    c = epsilon / (3 * (eta + 1))\n",
    "\n",
    "    mix = [\n",
    "        (a, unitary(I)),\n",
    "        (b, unitary(Z)),\n",
    "        (c, unitary(X)),\n",
    "        (c, unitary(Y)),\n",
    "    ]\n",
    "    return ops.MixedUnitaryChannel(mix)"
   ]
  },
  {
   "cell_type": "code",
   "execution_count": 98,
   "id": "742266e9",
   "metadata": {},
   "outputs": [],
   "source": [
    "operations = Rx_ops[0]\n",
    "epsilon = 0.1\n",
    "eta = 0\n",
    "pec_kwargs_learning = {\"num_samples\": 10000, \"random_state\": 1}"
   ]
  },
  {
   "cell_type": "code",
   "execution_count": 99,
   "id": "182820fc",
   "metadata": {},
   "outputs": [],
   "source": [
    "def noisy_execute(circ: Circuit) -> np.ndarray:\n",
    "    noisy_circ = circ.copy()[0:0]\n",
    "\n",
    "    for op in circ.all_operations():\n",
    "        noisy_circ.append(op)\n",
    "        if isinstance(op.gate, type(operations[2])):\n",
    "            qubits = op.qubits\n",
    "            for q in qubits:\n",
    "                noisy_circ.append(biased_noise_channel(epsilon, eta)(q))\n",
    "    return ideal_execute(noisy_circ)\n",
    "\n",
    "noisy_executor = Executor(noisy_execute)\n",
    "    \n",
    "offset = 0.01\n",
    "\n",
    "if epsilon == 0:\n",
    "    epsilon0 = 0.1 * offset\n",
    "else:\n",
    "    epsilon0 = (1 + offset) * epsilon\n",
    "\n",
    "if eta == 0:\n",
    "    eta0 = 0.1 * offset\n",
    "else:\n",
    "    eta0 = (1 + offset) * eta\n",
    "\n",
    "operations_to_learn = [Circuit(operations[1])]"
   ]
  },
  {
   "cell_type": "code",
   "execution_count": 100,
   "id": "0c3cb251",
   "metadata": {},
   "outputs": [
    {
     "name": "stdout",
     "output_type": "stream",
     "text": [
      "0.101\n",
      "0.001\n"
     ]
    }
   ],
   "source": [
    "print(epsilon0)\n",
    "print(eta0)"
   ]
  },
  {
   "cell_type": "code",
   "execution_count": 71,
   "id": "9d8769af",
   "metadata": {},
   "outputs": [
    {
     "name": "stdout",
     "output_type": "stream",
     "text": [
      "790.7324035420024\n",
      "True\n",
      "0.11103330661173043\n",
      "1.0100430722736213\n"
     ]
    }
   ],
   "source": [
    "import timeit\n",
    "\n",
    "start = timeit.default_timer()\n",
    "# pec_kwargs_learning = {\"num_samples\": 5000, \"random_state\": 1}\n",
    "[epsilon_opt, eta_opt, success] = learn_biased_noise_parameters(\n",
    "    operations_to_learn=operations_to_learn,\n",
    "    circuit=circuit,\n",
    "    ideal_executor=ideal_executor,\n",
    "    noisy_executor=noisy_executor,\n",
    "    pec_kwargs=pec_kwargs_learning,\n",
    "    num_training_circuits=5,\n",
    "    fraction_non_clifford=0.2,\n",
    "    epsilon0=epsilon0,\n",
    "    eta0=eta0,\n",
    "    observable=observable,\n",
    ")\n",
    "end = timeit.default_timer()\n",
    "print(end - start)\n",
    "print(success)\n",
    "print(epsilon_opt)\n",
    "print(eta_opt)\n"
   ]
  },
  {
   "cell_type": "code",
   "execution_count": 72,
   "id": "322e4677",
   "metadata": {
    "scrolled": true
   },
   "outputs": [
    {
     "name": "stdout",
     "output_type": "stream",
     "text": [
      "0.061033306611730426\n",
      "0.0005000000000000004\n",
      "0.010043072273621334\n",
      "0.010000000000000009\n"
     ]
    }
   ],
   "source": [
    "print(abs(epsilon_opt-epsilon))\n",
    "print(abs(epsilon0-epsilon))\n",
    "print(abs(eta_opt-eta))\n",
    "print(abs(eta0-eta))"
   ]
  },
  {
   "cell_type": "code",
   "execution_count": 101,
   "id": "24091b06",
   "metadata": {},
   "outputs": [],
   "source": [
    "random_state = np.random.RandomState(1)\n",
    "training_circuits = generate_training_circuits(\n",
    "        circuit=circuit,\n",
    "        num_training_circuits=5,\n",
    "        fraction_non_clifford=0.2,\n",
    "        random_state=random_state,\n",
    "    )\n",
    "ideal_values = np.array([ideal_executor.evaluate(training_circuit, observable) for training_circuit in training_circuits])\n",
    "\n",
    "epsilons = np.linspace(0, 0.1, 51)"
   ]
  },
  {
   "cell_type": "code",
   "execution_count": 102,
   "id": "07184f35",
   "metadata": {},
   "outputs": [
    {
     "name": "stdout",
     "output_type": "stream",
     "text": [
      "[0.000669351470706836, 0.0006349070351833701, 0.0006011950505359586, 0.0005682288397955754, 0.000536021949811986, 0.0005045881553646407, 0.0004739414633581745, 0.00044409611710445466, 0.000415066600693008, 0.0007098889483478147, 0.0006741279445250023, 0.0006391022495093599, 0.0006048256622561331, 0.0005713122197571045, 0.0005385762015259054, 0.0005066321341778669, 0.0004754947961067308, 0.0004451792222605271, 0.0001730099504561185, 0.00015398403229297891, 0.00013596825475286774, 0.00011898067398675653, 0.00010303965865198511, 8.816389588837035e-05, 7.43723974228062e-05, 0.000234130961131648, 0.00021193266835303239, 0.00019072172624103845, 0.00017051633788593695, 0.00015133502889761965, 0.00013319665370882208, 0.00011612040201683472, 0.00010012580536699877, 0.0002867072119078123, 0.00026199322815713476, 0.00023825742031207322, 0.00021551841706730896, 0.0001937951859396607, 0.0001731070400564435, 0.0001534736450966474, 0.0001349150263887142, 0.00011745157616889516, 0.00010110406100426841, 8.589362938460323e-05, 7.184181948737587e-05, 5.897056712034295e-05, 4.7302213846284134e-05, 3.685951529453834e-05, 2.7665649664175253e-05, 1.9744226423793502e-05, 1.3119295212978301e-05]\n",
      "[0.1, 0]\n"
     ]
    },
    {
     "data": {
      "image/png": "[encoded data removed]",
      "text/plain": [
       "<Figure size 432x288 with 1 Axes>"
      ]
     },
     "metadata": {
      "needs_background": "light"
     },
     "output_type": "display_data"
    }
   ],
   "source": [
    "loss_epsilons = [biased_noise_loss_function(\n",
    "        params=[eps, eta],\n",
    "        operations_to_mitigate=operations_to_learn,\n",
    "        training_circuits=training_circuits,\n",
    "        ideal_values=ideal_values,\n",
    "        noisy_executor=noisy_executor,\n",
    "        pec_kwargs=pec_kwargs,\n",
    "        observable=observable,\n",
    "    ) for eps in epsilons]\n",
    "plt.plot(epsilons, loss_epsilons)\n",
    "print(loss_epsilons)\n",
    "print([epsilon, eta])"
   ]
  },
  {
   "cell_type": "code",
   "execution_count": 104,
   "id": "224a82e1",
   "metadata": {},
   "outputs": [
    {
     "name": "stdout",
     "output_type": "stream",
     "text": [
      "[1.3119295212978301e-05, 2.1940499582639773e-05, 0.00016979162907597764, 0.00017203622689064313, 0.00017453864044819625, 0.00017714392670380462, 0.00017976034648814904, 0.0001823336135857847, 0.00018483219522450825, 0.00018723862787813016, 0.00018954424247709712, 0.00019174588823315974, 0.000193843861588338, 0.00019584057926904508, 0.00019773972003759343, 0.00019954566662668902, 0.00020126314259005123, 0.00020289697712247523, 0.00020445195460834146, 0.00020593272059452175, 0.00020734372544970792, 0.00020868919318682398, 0.00020997310701462596, 0.00021119920590506703, 0.00021237098829108444, 0.00021349172024764753, 0.00021456444635385572, 0.00021559200201340492, 0.00021657702641040964, 0.00021752197555343185, 0.0002184291350516698, 0.00021930063239941297, 0.00022013844863568292, 0.00022094442930861027, 0.00022172029471628367, 4.2996706896370364e-05, 4.3301011962111895e-05, 4.359504568024176e-05, 4.387930091889923e-05, 4.4154241146285236e-05, 4.4420302406771037e-05, 4.467789516536702e-05, 4.4927406026217536e-05, 4.516919933150632e-05, 4.5403618647632375e-05, 4.5630988145566526e-05, 4.5851613882312915e-05, 4.606578499021888e-05, 4.627377478059315e-05, 4.647584176779749e-05, 4.66722306196448e-05]\n"
     ]
    },
    {
     "data": {
      "image/png": "[encoded data removed]",
      "text/plain": [
       "<Figure size 432x288 with 1 Axes>"
      ]
     },
     "metadata": {
      "needs_background": "light"
     },
     "output_type": "display_data"
    }
   ],
   "source": [
    "etas = np.linspace(0, 5, 51)\n",
    "loss_etas = [biased_noise_loss_function(\n",
    "        params=[epsilon, et],\n",
    "        operations_to_mitigate=operations_to_learn,\n",
    "        training_circuits=training_circuits,\n",
    "        ideal_values=ideal_values,\n",
    "        noisy_executor=noisy_executor,\n",
    "        pec_kwargs=pec_kwargs,\n",
    "        observable=observable,\n",
    "    ) for et in etas]\n",
    "plt.plot(etas, loss_etas)\n",
    "print(loss_etas)\n"
   ]
  },
  {
   "cell_type": "code",
   "execution_count": null,
   "id": "a5548a4a",
   "metadata": {},
   "outputs": [],
   "source": []
  }
 ],
 "metadata": {
  "kernelspec": {
   "display_name": "Python 3.8.13 64-bit ('venv_mitiq_learnrepspec')",
   "language": "python",
   "name": "python3813jvsc74a57bd0992c44e14009e3623432b51dfa0ccb8179e6507fb1569359de12ac98f26b40e8"
  },
  "language_info": {
   "codemirror_mode": {
    "name": "ipython",
    "version": 3
   },
   "file_extension": ".py",
   "mimetype": "text/x-python",
   "name": "python",
   "nbconvert_exporter": "python",
   "pygments_lexer": "ipython3",
   "version": "3.8.13"
  }
 },
 "nbformat": 4,
 "nbformat_minor": 5
}
