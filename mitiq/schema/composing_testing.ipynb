{
 "cells": [
  {
   "cell_type": "code",
   "execution_count": 23,
   "metadata": {},
   "outputs": [],
   "source": [
    "import json\n",
    "from mitiq.benchmarks import generate_rb_circuits\n",
    "from mitiq import zne, ddd, pec, rem\n",
    "\n",
    "from qiskit_ibm_runtime.fake_provider import FakeJakartaV2 \n",
    "from functions_to_use import load, validate_experiment, validate_composed_experiment, execute_0s_ideal\n",
    "from arg_function_maps import schema_to_params, run_composed_experiment"
   ]
  },
  {
   "cell_type": "markdown",
   "metadata": {},
   "source": [
    "### So let's imagine someone wants to use both DDD and ZNE on their cirucit"
   ]
  },
  {
   "cell_type": "code",
   "execution_count": 24,
   "metadata": {},
   "outputs": [
    {
     "name": "stdout",
     "output_type": "stream",
     "text": [
      "zne_experiment: \n",
      " {\n",
      "    \"technique\": \"zne\",\n",
      "    \"noise_scaling_factors\": [\n",
      "        2,\n",
      "        4,\n",
      "        6,\n",
      "        8\n",
      "    ],\n",
      "    \"noise_scaling_method\": \"global\",\n",
      "    \"extrapolation\": \"richardson\",\n",
      "    \"scale_factor\": 2\n",
      "} \n",
      "\n",
      "ddd_experiment: \n",
      " {\n",
      "    \"technique\": \"ddd\",\n",
      "    \"rule\": \"xx\"\n",
      "}\n"
     ]
    }
   ],
   "source": [
    "zne_experiment = load('./experiments/zne_experiments/zne_experiment_with_technique.json')\n",
    "ddd_experiment = load('./experiments/ddd_experiments/ddd_experiment_with_technique.json')\n",
    "print(\"zne_experiment: \\n\", json.dumps(zne_experiment, indent=4), \"\\n\")\n",
    "print(\"ddd_experiment: \\n\", json.dumps(ddd_experiment, indent=4))"
   ]
  },
  {
   "cell_type": "code",
   "execution_count": 42,
   "metadata": {},
   "outputs": [],
   "source": [
    "zne_params = schema_to_params(zne_experiment)\n",
    "ddd_params = schema_to_params(ddd_experiment)"
   ]
  },
  {
   "cell_type": "code",
   "execution_count": 26,
   "metadata": {},
   "outputs": [],
   "source": [
    "composed_experiment = {\"experiments\": [ddd_experiment, zne_experiment]}\n",
    "composition_schema = load('./schema/composition_schema.json')"
   ]
  },
  {
   "cell_type": "markdown",
   "metadata": {},
   "source": [
    "*** something to think about: right now the $id for the composition_schema is the complete filepath. This is necessary because we are referncing other schema in it (the technique-specific schema)"
   ]
  },
  {
   "cell_type": "code",
   "execution_count": 27,
   "metadata": {},
   "outputs": [
    {
     "name": "stdout",
     "output_type": "stream",
     "text": [
      "individual experiment validation passed\n"
     ]
    }
   ],
   "source": [
    "validate_composed_experiment(composed_experiment, composition_schema)"
   ]
  },
  {
   "cell_type": "code",
   "execution_count": 37,
   "metadata": {},
   "outputs": [],
   "source": [
    "n_qubits = 2\n",
    "depth_circuit = 2\n",
    "shots = 10 ** 4\n",
    "\n",
    "circuit = generate_rb_circuits(n_qubits, depth_circuit, trials=1, return_type=\"qiskit\")[0]\n",
    "execute = execute_0s_ideal"
   ]
  },
  {
   "cell_type": "code",
   "execution_count": 38,
   "metadata": {},
   "outputs": [
    {
     "name": "stdout",
     "output_type": "stream",
     "text": [
      "0.9169999999999968\n"
     ]
    }
   ],
   "source": [
    "composed_result = run_composed_experiment(composed_experiment, circuit, execute)\n",
    "print(composed_result)"
   ]
  },
  {
   "cell_type": "code",
   "execution_count": 47,
   "metadata": {},
   "outputs": [
    {
     "name": "stdout",
     "output_type": "stream",
     "text": [
      "ideal = \t \t 1\n",
      "unmitigated = \t \t 0.90900\n",
      "zne mitigated = \t 1.21000\n",
      "ddd mitigated = \t 0.92500\n",
      "composed result = \t 0.91700\n"
     ]
    }
   ],
   "source": [
    "zne_mitigated = zne.execute_with_zne(circuit, execute, **zne_params)\n",
    "ddd_mitigated = ddd.execute_with_ddd(circuit, execute, **ddd_params)\n",
    "unmitigated = execute_0s_ideal(circuit)\n",
    "ideal = 1 #property of RB circuits\n",
    "\n",
    "print(\"ideal = \\t \\t\",ideal)\n",
    "print(\"unmitigated = \\t \\t\", \"{:.5f}\".format(unmitigated))\n",
    "print(\"zne mitigated = \\t\", \"{:.5f}\".format(zne_mitigated))\n",
    "print(\"ddd mitigated = \\t\", \"{:.5f}\".format(ddd_mitigated))\n",
    "print(\"composed result = \\t\", \"{:.5f}\".format(composed_result))"
   ]
  },
  {
   "cell_type": "markdown",
   "metadata": {},
   "source": [
    "<br>\n",
    "<br>\n",
    "<br>\n",
    "<br>\n",
    "<br>\n",
    "<br>"
   ]
  },
  {
   "cell_type": "code",
   "execution_count": 22,
   "metadata": {},
   "outputs": [],
   "source": [
    "# ddd_executor = ddd.mitigate_executor(executor=execute, rule=ddd_params['rule'])\n",
    "# combined_executor_ddd1st = zne.mitigate_executor(executor=ddd_executor, factory=zne_params['factory'], scale_noise=zne_params['scale_noise'])\n",
    "# combined_result_ddd1st = combined_executor_ddd1st(circuit)\n",
    "\n",
    "# zne_executor = zne.mitigate_executor(executor=execute, factory=zne_params['factory'], scale_noise=zne_params['scale_noise'])\n",
    "# combined_executor_zne1st = ddd.mitigate_executor(executor=zne_executor, rule=ddd_params['rule'])\n",
    "# combined_result_zne1st = combined_executor_zne1st(circuit)\n",
    "\n",
    "# print(\"Mitigated value obtained with DDD then ZNE:\", \"{:.5f}\".format(combined_result_ddd1st.real))\n",
    "# print(\"Mitigated value obtained with ZNE then DDD:\", \"{:.5f}\".format(combined_result_zne1st.real))"
   ]
  },
  {
   "cell_type": "code",
   "execution_count": null,
   "metadata": {},
   "outputs": [],
   "source": []
  }
 ],
 "metadata": {
  "kernelspec": {
   "display_name": "mitiq_env",
   "language": "python",
   "name": "python3"
  },
  "language_info": {
   "codemirror_mode": {
    "name": "ipython",
    "version": 3
   },
   "file_extension": ".py",
   "mimetype": "text/x-python",
   "name": "python",
   "nbconvert_exporter": "python",
   "pygments_lexer": "ipython3",
   "version": "3.12.0"
  }
 },
 "nbformat": 4,
 "nbformat_minor": 2
}
