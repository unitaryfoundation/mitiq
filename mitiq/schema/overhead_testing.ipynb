{
 "cells": [
  {
   "cell_type": "code",
   "execution_count": 1,
   "metadata": {},
   "outputs": [],
   "source": [
    "import json\n",
    "import jsonschema\n",
    "import random\n",
    "import itertools\n",
    "import numpy as np\n",
    "from jsonschema import validate\n",
    "from qiskit import transpile\n",
    "from qiskit_aer import AerSimulator\n",
    "from qiskit_aer.noise import NoiseModel, ReadoutError, depolarizing_error\n",
    "from qiskit.circuit.random import random_circuit\n",
    "from mitiq import zne, ddd\n",
    "from mitiq.zne.scaling.folding import fold_global, fold_gates_at_random, fold_all\n",
    "from mitiq.zne.scaling.layer_scaling import get_layer_folding\n",
    "from mitiq.zne.scaling.identity_insertion import insert_id_layers\n",
    "from mitiq.benchmarks.ghz_circuits import generate_ghz_circuit\n",
    "from qiskit.circuit import Gate\n",
    "from collections import defaultdict\n",
    "import functools\n",
    "import tomlkit\n",
    "import toml"
   ]
  },
  {
   "cell_type": "markdown",
   "metadata": {},
   "source": [
    "# ZNE:"
   ]
  },
  {
   "cell_type": "code",
   "execution_count": 2,
   "metadata": {},
   "outputs": [],
   "source": [
    "# Load Schema:\n",
    "\n",
    "def load(schema_path):\n",
    "    with open(schema_path, 'r') as file:\n",
    "        return json.load(file)\n",
    "    \n",
    "zne_schema =load('./schema/zne_schema.json')"
   ]
  },
  {
   "cell_type": "code",
   "execution_count": 3,
   "metadata": {},
   "outputs": [],
   "source": [
    "# Create a test \"batch\" experiment:\n",
    "\n",
    "zne_batch_test = {\"noise_scaling_factors\": [[1, 1.25, 1.5], [1,2,3], [2,4,6]],        # Noise scaling values\n",
    "    \"noise_scaling_method\": [\"global\"],                                               # Folding method\n",
    "    \"extrapolation\": [\"polynomial\", \"linear\"],                                        # Extrapolation method\n",
    "    }"
   ]
  },
  {
   "cell_type": "markdown",
   "metadata": {},
   "source": [
    "## Deconstructing a Batch Dictionary:"
   ]
  },
  {
   "cell_type": "code",
   "execution_count": 4,
   "metadata": {},
   "outputs": [],
   "source": [
    "# Create single experiments from batch object:\n",
    "\n",
    "# Define a function to make all combinations of experiments from a \"batch dictionary\" which should be formatted like the test case above\n",
    "def make_experiment_list(batch_dict):\n",
    "\n",
    "    # Initialize empty list where we will append each new experiment\n",
    "    exp_list = []\n",
    "\n",
    "    # Make list with all combinations of key values from our \"batch dictionary\"\n",
    "    combo_list = list(itertools.product(batch_dict['noise_scaling_factors'], \n",
    "                                        batch_dict['noise_scaling_method'], \n",
    "                                        batch_dict['extrapolation']))\n",
    "    # Iterate over the list\n",
    "    for k in range(len(combo_list)):\n",
    "\n",
    "        # Initialize single experiment dictionary with keys\n",
    "        exp = {x: set() for x in ['noise_scaling_factors', 'noise_scaling_method', 'extrapolation']}\n",
    "\n",
    "        # Map each key to its unique value from our list of combinations\n",
    "        exp['noise_scaling_factors'] = combo_list[k][0]\n",
    "        exp['noise_scaling_method'] = combo_list[k][1]\n",
    "        exp['extrapolation'] = combo_list[k][2]\n",
    "\n",
    "        # Pull out each experiment\n",
    "        exp_list.append(exp)\n",
    "\n",
    "    # Returns a list of experiments\n",
    "    return exp_list"
   ]
  },
  {
   "cell_type": "code",
   "execution_count": 5,
   "metadata": {},
   "outputs": [
    {
     "data": {
      "text/plain": [
       "[{'noise_scaling_factors': [1, 1.25, 1.5],\n",
       "  'noise_scaling_method': 'global',\n",
       "  'extrapolation': 'polynomial'},\n",
       " {'noise_scaling_factors': [1, 1.25, 1.5],\n",
       "  'noise_scaling_method': 'global',\n",
       "  'extrapolation': 'linear'},\n",
       " {'noise_scaling_factors': [1, 2, 3],\n",
       "  'noise_scaling_method': 'global',\n",
       "  'extrapolation': 'polynomial'},\n",
       " {'noise_scaling_factors': [1, 2, 3],\n",
       "  'noise_scaling_method': 'global',\n",
       "  'extrapolation': 'linear'},\n",
       " {'noise_scaling_factors': [2, 4, 6],\n",
       "  'noise_scaling_method': 'global',\n",
       "  'extrapolation': 'polynomial'},\n",
       " {'noise_scaling_factors': [2, 4, 6],\n",
       "  'noise_scaling_method': 'global',\n",
       "  'extrapolation': 'linear'}]"
      ]
     },
     "execution_count": 5,
     "metadata": {},
     "output_type": "execute_result"
    }
   ],
   "source": [
    "# Implementing our function using the test case defined above:\n",
    "\n",
    "make_experiment_list(zne_batch_test)"
   ]
  },
  {
   "cell_type": "markdown",
   "metadata": {},
   "source": [
    "## Validating a batch of experiments:"
   ]
  },
  {
   "cell_type": "code",
   "execution_count": 6,
   "metadata": {},
   "outputs": [],
   "source": [
    "# Validate each experiment in our batch object:\n",
    "\n",
    "# Create function that takes in a batch dictionary and schema to validate against\n",
    "def batch_validate(batch_dict, schema):\n",
    "\n",
    "    # Initialize empty list for validation results\n",
    "    validation_results = []\n",
    "\n",
    "    # Create list of experiments\n",
    "    formatted_batch = make_experiment_list(batch_dict)\n",
    "\n",
    "    # Iterate over list of experiments and individually validate\n",
    "    for k in formatted_batch:\n",
    "        try:\n",
    "            validate(instance=k, schema=schema)\n",
    "            result = \"validation passed\"\n",
    "        except jsonschema.exceptions.ValidationError as e:\n",
    "            result = \"validation failed\"\n",
    "\n",
    "        # Pull out validation results\n",
    "        validation_results.append(result)\n",
    "        \n",
    "    return validation_results"
   ]
  },
  {
   "cell_type": "code",
   "execution_count": 7,
   "metadata": {},
   "outputs": [
    {
     "data": {
      "text/plain": [
       "['validation passed',\n",
       " 'validation passed',\n",
       " 'validation passed',\n",
       " 'validation passed',\n",
       " 'validation passed',\n",
       " 'validation passed']"
      ]
     },
     "execution_count": 7,
     "metadata": {},
     "output_type": "execute_result"
    }
   ],
   "source": [
    "# Implementing our batch validate function using the same test case:\n",
    "\n",
    "batch_validate(zne_batch_test, zne_schema)"
   ]
  },
  {
   "cell_type": "code",
   "execution_count": 8,
   "metadata": {},
   "outputs": [],
   "source": [
    "# Ella's basic noise model:\n",
    "\n",
    "def basic_noise(n_qubits, prob=0.005):\n",
    "\n",
    "    noise_model = NoiseModel()\n",
    "\n",
    "    for i in range(n_qubits):\n",
    "        readout_err = ReadoutError([[0.99, 0.01], [0.2, 0.8]])\n",
    "        noise_model.add_readout_error(readout_err, [i])\n",
    "        \n",
    "    depolarizing_err1 = depolarizing_error(prob, num_qubits=1)\n",
    "    depolarizing_err2 = depolarizing_error(prob, num_qubits=2)\n",
    "    noise_model.add_all_qubit_quantum_error(depolarizing_err1, ['h', 'x', 'y', 'z'])\n",
    "    noise_model.add_all_qubit_quantum_error(depolarizing_err2, ['cx'])\n",
    "\n",
    "    return noise_model"
   ]
  },
  {
   "cell_type": "markdown",
   "metadata": {},
   "source": [
    "## Overhead Related Functions:"
   ]
  },
  {
   "cell_type": "code",
   "execution_count": 9,
   "metadata": {},
   "outputs": [],
   "source": [
    "# Single experiment executor (very slightly modified from Ella's):\n",
    "# Likely to be unused, but just in case:\n",
    "\n",
    "def execute_no_overhead(circuit, backend, shots):       # Set noise_model to thermal, basic, noiseless\n",
    "    circ = circuit.copy()\n",
    "    circ.measure_all()\n",
    "    num_qubits = circ.num_qubits\n",
    "    \n",
    "    transpiled_circuit = transpile(circ, optimization_level=0, backend=backend)\n",
    "\n",
    "    results = backend.run(transpiled_circuit, optimization_level=0, shots=shots).result()\n",
    "    counts = results.get_counts(transpiled_circuit)\n",
    "\n",
    "    total_shots = sum(counts.values())\n",
    "    probabilities = {state: count / total_shots for state, count in counts.items()}\n",
    "\n",
    "    expectation_value = probabilities['0'*num_qubits]+probabilities['1'*num_qubits]\n",
    "    return expectation_value"
   ]
  },
  {
   "cell_type": "code",
   "execution_count": 10,
   "metadata": {},
   "outputs": [],
   "source": [
    "def get_original_circ_counts(circuit, backend, shots):\n",
    "\n",
    "    circ = circuit.copy()\n",
    "    circ.measure_all()\n",
    "    num_qubits = circ.num_qubits\n",
    "\n",
    "    og_params = {x: set() for x in ['depth', '1qbit_gates', '2qbit_gates', 'exp_val']}\n",
    "\n",
    "    transpiled_circuit = transpile(circ, optimization_level=0, backend=backend)\n",
    "\n",
    "    og_params[\"depth\"] = transpiled_circuit.depth()\n",
    "    counts = defaultdict(int)\n",
    "\n",
    "    for inst in transpiled_circuit.data:\n",
    "        if isinstance(inst.operation, Gate):\n",
    "            counts[len(inst.qubits)] += 1\n",
    "                \n",
    "        o = {k: v for k, v in counts.items()}\n",
    "                        \n",
    "        single_qubit_gates = (o.get(1)) if o.get(1) is not None else 0\n",
    "        two_qubit_gates = (o.get(2)) if o.get(2) is not None else 0\n",
    "                \n",
    "        og_params[\"1qbit_gates\"] = single_qubit_gates\n",
    "        og_params[\"2qbit_gates\"] = two_qubit_gates \n",
    "\n",
    "    results = backend.run(transpiled_circuit, optimization_level=0, shots=shots).result()\n",
    "    counts = results.get_counts(transpiled_circuit)\n",
    "\n",
    "    total_shots = sum(counts.values())\n",
    "    probabilities = {state: count / total_shots for state, count in counts.items()}\n",
    "\n",
    "    expectation_value = probabilities['0'*num_qubits]+probabilities['1'*num_qubits]\n",
    "    og_params[\"exp_val\"] = expectation_value\n",
    "    \n",
    "    return og_params"
   ]
  },
  {
   "cell_type": "code",
   "execution_count": 11,
   "metadata": {},
   "outputs": [],
   "source": [
    "def scaled_overhead(circuit, backend, shots):\n",
    "\n",
    "    og_params = get_original_circ_counts(circuit, backend, shots)\n",
    "\n",
    "    inst = schema_executors.overhead_executors()\n",
    "    \n",
    "    mit_params = inst.write_metadata(circuit=circuit, shots=shots, backend=backend)\n",
    "\n",
    "    scaled_params = {x: set() for x in ['add_circs', 'add_depth', 'add_1qbit_gates', 'add_2qbit_gates', 'exp_val_improvement']}\n",
    "\n",
    "    scaled_params[\"add_circs\"] = mit_params[\"mit_circs\"]\n",
    "    scaled_params[\"add_depth\"] = mit_params[\"mit_depth\"] - og_params[\"depth\"]\n",
    "    scaled_params[\"add_1qbit_gates\"] = mit_params[\"mit_1qbit_gates\"] - og_params[\"1qbit_gates\"]\n",
    "    scaled_params[\"add_2qbit_gates\"] = mit_params[\"mit_2qbit_gates\"] - og_params[\"2qbit_gates\"]\n",
    "    scaled_params[\"add_1qbit_gates\"] = mit_params[\"mit_1qbit_gates\"] - og_params[\"1qbit_gates\"]\n",
    "    scaled_params[\"exp_val_improvement\"] = og_params[\"exp_val\"]/mit_params[\"mit_exp_val\"]\n",
    "\n",
    "    return scaled_params"
   ]
  },
  {
   "cell_type": "markdown",
   "metadata": {},
   "source": [
    "# Testing:"
   ]
  },
  {
   "cell_type": "code",
   "execution_count": 12,
   "metadata": {},
   "outputs": [
    {
     "name": "stdout",
     "output_type": "stream",
     "text": [
      "     ┌───┐     ┌───┐┌───┐               \n",
      "q_0: ┤ H ├──■──┤ X ├┤ X ├───────────────\n",
      "     └───┘┌─┴─┐└───┘├───┤┌───┐┌───┐┌───┐\n",
      "q_1: ─────┤ X ├──■──┤ X ├┤ X ├┤ Y ├┤ Y ├\n",
      "          └───┘┌─┴─┐├───┤├───┤└───┘└───┘\n",
      "q_2: ──────────┤ X ├┤ Y ├┤ Y ├──────────\n",
      "               └───┘└───┘└───┘          \n"
     ]
    }
   ],
   "source": [
    "# Making a 3-qubit test GHZ circuit:\n",
    "\n",
    "n = 3\n",
    "ghz_circ = generate_ghz_circuit(n, return_type='qiskit')\n",
    "\n",
    "ghz_circ.x([0,1])\n",
    "ghz_circ.x([0,1])\n",
    "ghz_circ.y([1,2])\n",
    "ghz_circ.y([1,2])\n",
    "\n",
    "print(ghz_circ)"
   ]
  },
  {
   "cell_type": "code",
   "execution_count": 14,
   "metadata": {},
   "outputs": [
    {
     "name": "stdout",
     "output_type": "stream",
     "text": [
      "{'mit_circs': 3, 'mit_1qbit_gates': 53, 'mit_2qbit_gates': 12, 'mit_depth': 44, 'mit_exp_val': 0.5899999999999986}\n"
     ]
    }
   ],
   "source": [
    "# import schema_executors\n",
    "from schema_executors import OverheadExecutors\n",
    "\n",
    "inst = OverheadExecutors()\n",
    "\n",
    "test_backend = AerSimulator(noise_model=basic_noise(ghz_circ.num_qubits))\n",
    "\n",
    "get_original_circ_counts(ghz_circ, test_backend, 1000)\n",
    "\n",
    "test_path = '.test.toml'\n",
    "\n",
    "metadata = inst.write_metadata(circuit=ghz_circ, shots=1000, backend=test_backend)\n",
    "print(metadata)"
   ]
  }
 ],
 "metadata": {
  "kernelspec": {
   "display_name": "Python 3",
   "language": "python",
   "name": "python3"
  },
  "language_info": {
   "codemirror_mode": {
    "name": "ipython",
    "version": 3
   },
   "file_extension": ".py",
   "mimetype": "text/x-python",
   "name": "python",
   "nbconvert_exporter": "python",
   "pygments_lexer": "ipython3",
   "version": "3.12.0"
  }
 },
 "nbformat": 4,
 "nbformat_minor": 2
}
