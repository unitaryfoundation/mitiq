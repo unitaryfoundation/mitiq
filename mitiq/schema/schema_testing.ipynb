{
 "cells": [
  {
   "cell_type": "code",
   "execution_count": 1,
   "metadata": {},
   "outputs": [],
   "source": [
    "import json\n",
    "import jsonschema\n",
    "import numpy as np\n",
    "from jsonschema import validate\n",
    "from qiskit import transpile\n",
    "from qiskit_aer import AerSimulator\n",
    "from mitiq import zne, ddd, pec\n",
    "from mitiq.zne.scaling.folding import fold_global, fold_gates_at_random, fold_all\n",
    "from mitiq.zne.scaling.layer_scaling import get_layer_folding\n",
    "from mitiq.zne.scaling.identity_insertion import insert_id_layers\n",
    "from mitiq.benchmarks import generate_rb_circuits\n",
    "from arg_function_maps import schema_to_params\n",
    "from functions_to_use import basic_noise, execute_0s_ideal"
   ]
  },
  {
   "cell_type": "markdown",
   "metadata": {},
   "source": [
    "# ZNE"
   ]
  },
  {
   "cell_type": "markdown",
   "metadata": {},
   "source": [
    "<p>\n",
    "Load the defined ZNE schema and an example of a ZNE experiment (<i>experiment</i>) using the schema-defined structure <br>\n",
    "  <span style=\"font-family: monospace;\">&nbsp;&nbsp;&nbsp;&nbspzne_schema</span>: defines the shape and requirements of JSON data, in our case the parameters of a zne experiment <br>\n",
    "  <span style=\"font-family: monospace;\">&nbsp;&nbsp;&nbsp;&nbspzne_experiment</span>: an example of the type of input data we will use the schema to validate, defines a zne experiment\n",
    "</p>"
   ]
  },
  {
   "cell_type": "code",
   "execution_count": 2,
   "metadata": {},
   "outputs": [],
   "source": [
    "def load(schema_path):\n",
    "    with open(schema_path, 'r') as file:\n",
    "        return json.load(file)"
   ]
  },
  {
   "cell_type": "code",
   "execution_count": 3,
   "metadata": {},
   "outputs": [],
   "source": [
    "zne_schema =load('./schema/zne_schema.json')\n",
    "zne_experiment = load('./experiments/zne_experiments/zne_experiment.json')"
   ]
  },
  {
   "cell_type": "markdown",
   "metadata": {},
   "source": [
    "Both of these objects behave a lot like python dictionaries with several nested dictionaries, and we can examine their contents as such:"
   ]
  },
  {
   "cell_type": "code",
   "execution_count": 4,
   "metadata": {},
   "outputs": [
    {
     "name": "stdout",
     "output_type": "stream",
     "text": [
      "top-level keys: dict_keys(['$schema', 'title', 'description', 'type', 'properties', 'additionalProperties']) \n",
      " properties keys: dict_keys(['technique', 'noise_scaling_factors', 'noise_scaling_method', 'scale_factor', 'extrapolation']) \n",
      " \n",
      " noise_scaling_factors keys and values: \n",
      " {\n",
      "    \"description\": \"Real scale factors used in the Factory for extrapolating to zero noise case, one for each point that is to be extrapolated\",\n",
      "    \"type\": \"array\",\n",
      "    \"items\": {\n",
      "        \"type\": \"number\"\n",
      "    }\n",
      "} \n",
      " extrapolation keys and values: \n",
      " {\n",
      "    \"description\": \"Method used to extrapolate the noise scaling factors to points not in the original set\",\n",
      "    \"type\": \"string\",\n",
      "    \"enum\": [\n",
      "        \"linear\",\n",
      "        \"richardson\",\n",
      "        \"polynomial\",\n",
      "        \"exponential\",\n",
      "        \"poly-exp\",\n",
      "        \"adaptive-exp\"\n",
      "    ]\n",
      "}\n"
     ]
    }
   ],
   "source": [
    "print(\"top-level keys:\", zne_schema.keys(), '\\n properties keys:',\n",
    "      zne_schema['properties'].keys(), '\\n \\n noise_scaling_factors keys and values: \\n',\n",
    "      json.dumps(zne_schema['properties']['noise_scaling_factors'], indent=4), '\\n extrapolation keys and values: \\n',\n",
    "      json.dumps(zne_schema['properties']['extrapolation'], indent=4)\n",
    ")\n"
   ]
  },
  {
   "cell_type": "markdown",
   "metadata": {},
   "source": [
    "top-level keys: <br>\n",
    "<ul>\n",
    "  <li><span style=\"font-family: monospace;\">$schema</span>: reference to the version of JSON Schema standard being used</li>\n",
    "  <li><span style=\"font-family: monospace;\">title</span>: readable title for the schema, often for documentation purposes</li>\n",
    "  <li><span style=\"font-family: monospace;\">description</span>: explanation of the schema's purpose and structure, providing context for users</li>\n",
    "  <li><span style=\"font-family: monospace;\">type</span>: specifies the data type (object, array, string, etc) of the input data being validated</li>\n",
    "  <li><span style=\"font-family: monospace;\">properties</span>: defines object that the input data may be expected to have, along with their structure and validation criteria. </li>\n",
    "    <ul>\n",
    "      <li>So looking at the at the properties defined in <span style=\"font-family: monospace;\">zne_schema</span>, we see the familiar options that are avaialable when experimentning zne </li>\n",
    "      <li>Specifically looking at the <i>noise_scaling_factors</i> and <i>extrapolation</i> properties, we can see how different properties can have different expected data types and the 'enum' key can be used to specify a fixed list of options</li>\n",
    "    </ul>\n",
    "</ul>\n",
    "\n",
    "<br>\n",
    "<br>\n",
    "\n",
    "The contents of <span style=\"font-family: monospace;\">zne_experiment</span> show an example of what properties may be specified and how:"
   ]
  },
  {
   "cell_type": "code",
   "execution_count": 5,
   "metadata": {},
   "outputs": [
    {
     "name": "stdout",
     "output_type": "stream",
     "text": [
      "{\n",
      "    \"noise_scaling_factors\": [\n",
      "        2,\n",
      "        4,\n",
      "        6,\n",
      "        8\n",
      "    ],\n",
      "    \"noise_scaling_method\": \"global\",\n",
      "    \"extrapolation\": \"richardson\",\n",
      "    \"scale_factor\": 2\n",
      "}\n"
     ]
    }
   ],
   "source": [
    "print(json.dumps(zne_experiment, indent=4))"
   ]
  },
  {
   "cell_type": "markdown",
   "metadata": {},
   "source": [
    "now let's use the schema to validate this experiment (check that it has the necessary structure and parameters defined)"
   ]
  },
  {
   "cell_type": "code",
   "execution_count": 6,
   "metadata": {},
   "outputs": [],
   "source": [
    "def validate_experiment(experiment, schema):\n",
    "    try:\n",
    "        validate(instance=experiment, schema=schema)\n",
    "        print(\"validation passed\")\n",
    "    except jsonschema.exceptions.ValidationError as e:\n",
    "        print(\"validation failed\")\n",
    "    return None"
   ]
  },
  {
   "cell_type": "code",
   "execution_count": 7,
   "metadata": {},
   "outputs": [
    {
     "name": "stdout",
     "output_type": "stream",
     "text": [
      "validation passed\n"
     ]
    }
   ],
   "source": [
    "validate_experiment(zne_experiment, zne_schema)"
   ]
  },
  {
   "cell_type": "markdown",
   "metadata": {},
   "source": [
    "now that the validation has passed, we can extract the implementation parameters from <span style=\"font-family: monospace;\">zne_experiment</span> to actually perform the mitigation"
   ]
  },
  {
   "cell_type": "code",
   "execution_count": 8,
   "metadata": {},
   "outputs": [],
   "source": [
    "experiment = zne_experiment"
   ]
  },
  {
   "cell_type": "code",
   "execution_count": 9,
   "metadata": {},
   "outputs": [
    {
     "name": "stdout",
     "output_type": "stream",
     "text": [
      "     ┌──────────┐   ┌────┐   ┌──────────┐   ┌─────────┐┌────┐┌──────────┐»\n",
      "q_0: ┤ Ry(-π/2) ├───┤ √X ├───┤ Ry(-π/2) ├─■─┤ Ry(π/2) ├┤ √X ├┤ Ry(-π/2) ├»\n",
      "     └──┬───┬───┘┌──┴────┴──┐└──────────┘ │ ├─────────┤├───┬┘└┬───────┬─┘»\n",
      "q_1: ───┤ X ├────┤ Ry(-π/2) ├─────────────■─┤ Ry(π/2) ├┤ Y ├──┤ Rx(0) ├──»\n",
      "        └───┘    └──────────┘               └─────────┘└───┘  └───────┘  »\n",
      "«     ┌───────┐   ┌─────────┐     ┌──────┐  ┌──────────┐   ┌────┐  ┌──────────┐»\n",
      "«q_0: ┤ Rx(0) ├─■─┤ Ry(π/2) ├─■───┤ √Xdg ├──┤ Ry(-π/2) ├───┤ √X ├──┤ Ry(-π/2) ├»\n",
      "«     └───────┘ │ └─┬──────┬┘ │ ┌─┴──────┴─┐└──┬────┬──┘┌──┴────┴─┐└──────────┘»\n",
      "«q_1: ──────────■───┤ √Xdg ├──■─┤ Ry(-π/2) ├───┤ √X ├───┤ Ry(π/2) ├────────────»\n",
      "«                   └──────┘    └──────────┘   └────┘   └─────────┘            »\n",
      "«     ┌───────┐   ┌─────────┐┌────┐\n",
      "«q_0: ┤ Rx(0) ├─■─┤ Ry(π/2) ├┤ √X ├\n",
      "«     └───────┘ │ └──┬───┬──┘├────┤\n",
      "«q_1: ──────────■────┤ Y ├───┤ √X ├\n",
      "«                    └───┘   └────┘\n"
     ]
    }
   ],
   "source": [
    "# for the sake of this example, we will use an n-qubit randomized benchmarking circuit, which we can generate using mitiq's generate_rb_circuits function\n",
    "n_qubits = 2\n",
    "n_cliffords = 2\n",
    "trials = 1\n",
    "seed = 22\n",
    "\n",
    "rb_circ = generate_rb_circuits(n_qubits=n_qubits, num_cliffords=n_cliffords, trials=trials, return_type='qiskit', seed=seed)[0]\n",
    "\n",
    "print(rb_circ)"
   ]
  },
  {
   "cell_type": "code",
   "execution_count": 10,
   "metadata": {},
   "outputs": [
    {
     "name": "stdout",
     "output_type": "stream",
     "text": [
      "Counts: {'00': 1000}\n",
      "Probabilities: {'00': 1.0}\n",
      "|00...0> probability: 1.0 , error: 0.0\n"
     ]
    }
   ],
   "source": [
    "# let's calculate the noisless case of executing the circuit. A randomized benchmarking circuit should be equivalent to the identity operation, so we should expect the ideal output to be the all-zero state\n",
    "\n",
    "ideal_circ = rb_circ.copy()\n",
    "ideal_circ.measure_all()\n",
    "\n",
    "ideal_backend = AerSimulator()\n",
    "ideal_transpiled = transpile(ideal_circ, optimization_level=0, backend=ideal_backend)\n",
    "result = ideal_backend.run(ideal_transpiled, optimization_level=0, shots=1000).result()\n",
    "\n",
    "counts = result.get_counts(ideal_transpiled)\n",
    "print(\"Counts:\", counts)\n",
    "\n",
    "total_shots = sum(counts.values())\n",
    "probabilities = {state: count / total_shots for state, count in counts.items()}\n",
    "print(\"Probabilities:\", probabilities)\n",
    "\n",
    "print('|00...0> probability:', probabilities['0'*n_qubits], ', error:', np.abs(1.0-probabilities['0'*n_qubits]))\n"
   ]
  },
  {
   "cell_type": "code",
   "execution_count": 11,
   "metadata": {},
   "outputs": [
    {
     "name": "stdout",
     "output_type": "stream",
     "text": [
      "Counts: {'01': 20, '11': 7, '10': 51, '00': 922}\n",
      "Probabilities: {'01': 0.02, '11': 0.007, '10': 0.051, '00': 0.922}\n",
      "|00...0> probability: 0.922 , error: 0.07799999999999996\n"
     ]
    }
   ],
   "source": [
    "circ_noisy = rb_circ.copy()\n",
    "circ_noisy.measure_all()\n",
    "\n",
    "noise_model = basic_noise(n_qubits=n_qubits)\n",
    "noisy_backend = AerSimulator(noise_model=noise_model)\n",
    "transpiled_noisy = transpile(circ_noisy, optimization_level=0, backend=noisy_backend)\n",
    "\n",
    "result = noisy_backend.run(transpiled_noisy, optimization_level=0, shots=1000).result()\n",
    "counts = result.get_counts()\n",
    "print(\"Counts:\", counts)\n",
    "\n",
    "total_shots = sum(counts.values())\n",
    "probabilities = {state: count / total_shots for state, count in counts.items()}\n",
    "\n",
    "print(\"Probabilities:\", probabilities)\n",
    "print('|00...0> probability:', probabilities['0'*n_qubits], ', error:', np.abs(1.0-probabilities['0'*n_qubits]))\n"
   ]
  },
  {
   "cell_type": "code",
   "execution_count": 14,
   "metadata": {},
   "outputs": [
    {
     "name": "stdout",
     "output_type": "stream",
     "text": [
      "ideal EV:  1.0\n",
      "unmitigated noisy EV:  0.937\n"
     ]
    }
   ],
   "source": [
    "# simple exector that returns the probability of measuring either |00...0>\n",
    "execute = execute_0s_ideal\n",
    "\n",
    "# we can also just use this executor to get the ideal and unmitigated expectation values:\n",
    "\n",
    "print('ideal EV: ', execute(rb_circ, noise_model=False))\n",
    "print('unmitigated noisy EV: ', execute(rb_circ))"
   ]
  },
  {
   "cell_type": "code",
   "execution_count": 15,
   "metadata": {},
   "outputs": [],
   "source": [
    "# this is sort of a band-aid solution to the problem of mapping strings to functions, need to think about how to do this better\n",
    "\n",
    "extrapolation_map = {\n",
    "    \"linear\": zne.inference.LinearFactory(scale_factors=experiment['noise_scaling_factors']),\n",
    "    \"richardson\": zne.inference.RichardsonFactory(scale_factors=experiment['noise_scaling_factors']),\n",
    "    \"polynomial\": zne.inference.PolyFactory(scale_factors=experiment['noise_scaling_factors'], order=0), # need to add order as an option in the metashcema here ...\n",
    "    \"exponential\": zne.inference.ExpFactory(scale_factors=experiment['noise_scaling_factors']),\n",
    "    \"poly-exp\": zne.inference.PolyExpFactory(scale_factors=experiment['noise_scaling_factors'], order=0), # .. and here\n",
    "    \"adaptive-exp\": zne.inference.AdaExpFactory(scale_factor=experiment['noise_scaling_factors'][0], steps=4, asymptote=None), # need to adjust metaschema here for steps\n",
    "}\n",
    "\n",
    "noise_scaling_map = {\n",
    "    \"global\": fold_global,\n",
    "    \"local_random\": fold_gates_at_random,\n",
    "    \"local_all\": fold_all,\n",
    "    \"layer\": get_layer_folding,\n",
    "    \"identity_scaling\": insert_id_layers\n",
    "}"
   ]
  },
  {
   "cell_type": "code",
   "execution_count": 16,
   "metadata": {},
   "outputs": [],
   "source": [
    "mitigated_result = zne.execute_with_zne(circuit=rb_circ, executor=execute, factory=extrapolation_map[zne_experiment['extrapolation']], scale_noise=noise_scaling_map[zne_experiment['noise_scaling_method']])"
   ]
  },
  {
   "cell_type": "code",
   "execution_count": 17,
   "metadata": {},
   "outputs": [
    {
     "data": {
      "text/plain": [
       "1.0719999999999994"
      ]
     },
     "execution_count": 17,
     "metadata": {},
     "output_type": "execute_result"
    }
   ],
   "source": [
    "mitigated_result"
   ]
  },
  {
   "cell_type": "markdown",
   "metadata": {},
   "source": [
    "now we can look at experiments that use different extrapolation methods to see how thier mitigated results compare"
   ]
  },
  {
   "cell_type": "code",
   "execution_count": 19,
   "metadata": {},
   "outputs": [
    {
     "name": "stdout",
     "output_type": "stream",
     "text": [
      "validation passed\n",
      "validation passed\n",
      "validation passed\n"
     ]
    }
   ],
   "source": [
    "linear_experiment = load('./experiments/zne_experiments/zne_experiment_lin.json')\n",
    "polynomial_experiment = load('./experiments/zne_experiments/zne_experiment_poly.json')\n",
    "exponential_experiment = load('./experiments/zne_experiments/zne_experiment_exp.json')\n",
    "\n",
    "validate_experiment(linear_experiment, zne_schema)\n",
    "validate_experiment(polynomial_experiment, zne_schema)\n",
    "validate_experiment(exponential_experiment, zne_schema)"
   ]
  },
  {
   "cell_type": "code",
   "execution_count": 22,
   "metadata": {},
   "outputs": [
    {
     "name": "stdout",
     "output_type": "stream",
     "text": [
      "Linear result: 0.9664999999999999\n",
      "Polynomial result: 0.79775\n",
      "Exponential result: 1.0184815115946293\n",
      "Richardson result: 1.0719999999999994\n"
     ]
    }
   ],
   "source": [
    "linear_result = zne.execute_with_zne(circuit=rb_circ, executor=execute, factory=extrapolation_map[linear_experiment['extrapolation']], scale_noise=noise_scaling_map[linear_experiment['noise_scaling_method']])\n",
    "polynomial_result = zne.execute_with_zne(circuit=rb_circ, executor=execute, factory=extrapolation_map[polynomial_experiment['extrapolation']], scale_noise=noise_scaling_map[polynomial_experiment['noise_scaling_method']])\n",
    "exponential_result = zne.execute_with_zne(circuit=rb_circ, executor=execute, factory=extrapolation_map[exponential_experiment['extrapolation']], scale_noise=noise_scaling_map[exponential_experiment['noise_scaling_method']])\n",
    "\n",
    "print(\"Linear result:\", linear_result)\n",
    "print(\"Polynomial result:\", polynomial_result)\n",
    "print(\"Exponential result:\", exponential_result)\n",
    "print(\"Richardson result:\", mitigated_result)"
   ]
  },
  {
   "cell_type": "markdown",
   "metadata": {},
   "source": [
    "# DDD"
   ]
  },
  {
   "cell_type": "code",
   "execution_count": 24,
   "metadata": {},
   "outputs": [
    {
     "name": "stdout",
     "output_type": "stream",
     "text": [
      "validation passed\n"
     ]
    }
   ],
   "source": [
    "ddd_schema =load('./schema/ddd_schema.json')\n",
    "ddd_experiment = load('./experiments/ddd_experiments/ddd_experiment.json')\n",
    "\n",
    "validate_experiment(ddd_experiment, ddd_schema)"
   ]
  },
  {
   "cell_type": "code",
   "execution_count": 25,
   "metadata": {},
   "outputs": [],
   "source": [
    "rule_map = {\n",
    "    \"xx\": ddd.rules.xx,\n",
    "    \"yy\": ddd.rules.yy,\n",
    "    \"xyxy\": ddd.rules.xyxy, \n",
    "    \"general\": ddd.rules.general_rule, # need to adjust ddd_schema here to better allow for this \n",
    "    \"repeated\": ddd.rules.repeated_rule, # .. and this\n",
    "    \"custom\": None, # ... and this\n",
    "}"
   ]
  },
  {
   "cell_type": "code",
   "execution_count": 26,
   "metadata": {},
   "outputs": [],
   "source": [
    "mitigated_result = ddd.execute_with_ddd(circuit=rb_circ, executor=execute, rule=rule_map[ddd_experiment['rule']])"
   ]
  },
  {
   "cell_type": "code",
   "execution_count": 27,
   "metadata": {},
   "outputs": [
    {
     "name": "stdout",
     "output_type": "stream",
     "text": [
      "experiment rule:  xx\n"
     ]
    }
   ],
   "source": [
    "print(\"experiment rule: \", ddd_experiment['rule'])"
   ]
  },
  {
   "cell_type": "code",
   "execution_count": 30,
   "metadata": {},
   "outputs": [
    {
     "name": "stdout",
     "output_type": "stream",
     "text": [
      "validation passed\n",
      "validation passed\n"
     ]
    }
   ],
   "source": [
    "yy_experiment = load('./experiments/ddd_experiments/ddd_experiment_yy.json')\n",
    "xyxy_experiment = load('./experiments/ddd_experiments/ddd_experiment_xyxy.json')\n",
    "\n",
    "validate_experiment(yy_experiment, ddd_schema)\n",
    "validate_experiment(xyxy_experiment, ddd_schema)"
   ]
  },
  {
   "cell_type": "code",
   "execution_count": 31,
   "metadata": {},
   "outputs": [],
   "source": [
    "yy_result = ddd.execute_with_ddd(circuit=rb_circ, executor=execute, rule=rule_map[yy_experiment['rule']])\n",
    "xyxy_result = ddd.execute_with_ddd(circuit=rb_circ, executor=execute, rule=rule_map[xyxy_experiment['rule']])"
   ]
  },
  {
   "cell_type": "code",
   "execution_count": 32,
   "metadata": {},
   "outputs": [
    {
     "name": "stdout",
     "output_type": "stream",
     "text": [
      "xx result: 0.945\n",
      "yy result: 0.948\n",
      "xyxy result: 0.947\n"
     ]
    }
   ],
   "source": [
    "print(\"xx result:\", mitigated_result)\n",
    "print(\"yy result:\", yy_result)\n",
    "print(\"xyxy result:\", xyxy_result)"
   ]
  },
  {
   "cell_type": "markdown",
   "metadata": {},
   "source": [
    "# PEC"
   ]
  },
  {
   "cell_type": "code",
   "execution_count": 33,
   "metadata": {},
   "outputs": [],
   "source": [
    "from mitiq.benchmarks import generate_rb_circuits\n",
    "from qiskit_ibm_runtime.fake_provider import FakeJakartaV2 \n",
    "from mitiq.pec.representations.depolarizing import represent_operations_in_circuit_with_local_depolarizing_noise\n",
    "\n",
    "n_qubits = 2\n",
    "depth_circuit = 100\n",
    "shots = 10 ** 4\n",
    "\n",
    "circuit = generate_rb_circuits(n_qubits, depth_circuit,return_type=\"qiskit\")[0]\n",
    "circuit.measure_all()\n",
    "\n",
    "def execute_circuit(circuit):\n",
    "    \"\"\"Execute the input circuit and return the expectation value of |00..0><00..0|, which ideally should be 1 for randomized benchmarking circuits.\"\"\"\n",
    "    noisy_backend = FakeJakartaV2()\n",
    "    noisy_result = noisy_backend.run(circuit, shots=shots).result()\n",
    "    noisy_counts = noisy_result.get_counts(circuit)\n",
    "    noisy_expectation_value = noisy_counts[n_qubits * \"0\"] / shots\n",
    "    return noisy_expectation_value"
   ]
  },
  {
   "cell_type": "code",
   "execution_count": 34,
   "metadata": {},
   "outputs": [
    {
     "name": "stdout",
     "output_type": "stream",
     "text": [
      "13\n"
     ]
    }
   ],
   "source": [
    "noise_level = 0.01\n",
    "reps = represent_operations_in_circuit_with_local_depolarizing_noise(rb_circ, noise_level)\n",
    "print(len(reps))"
   ]
  },
  {
   "cell_type": "code",
   "execution_count": 35,
   "metadata": {},
   "outputs": [],
   "source": [
    "pec_schema = load('./schema/pec_schema.json')\n",
    "# print(json.dumps(pec_schema['properties'], indent=4))"
   ]
  },
  {
   "cell_type": "code",
   "execution_count": 36,
   "metadata": {},
   "outputs": [
    {
     "name": "stdout",
     "output_type": "stream",
     "text": [
      "validation passed\n"
     ]
    }
   ],
   "source": [
    "pec_experiment = {\n",
    "    \"technique\": \"pec\",\n",
    "    \"operation_representations\": reps,\n",
    "    \"num_samples\": 100\n",
    "}\n",
    "\n",
    "validate_experiment(pec_experiment, pec_schema)"
   ]
  },
  {
   "cell_type": "code",
   "execution_count": 40,
   "metadata": {},
   "outputs": [
    {
     "name": "stdout",
     "output_type": "stream",
     "text": [
      "PEC result: 0.9512032176170859\n"
     ]
    }
   ],
   "source": [
    "params = schema_to_params(pec_experiment)\n",
    "result = pec.execute_with_pec(rb_circ, execute, **params)\n",
    "print(\"PEC result:\", result)"
   ]
  }
 ],
 "metadata": {
  "kernelspec": {
   "display_name": "Python 3",
   "language": "python",
   "name": "python3"
  },
  "language_info": {
   "codemirror_mode": {
    "name": "ipython",
    "version": 3
   },
   "file_extension": ".py",
   "mimetype": "text/x-python",
   "name": "python",
   "nbconvert_exporter": "python",
   "pygments_lexer": "ipython3",
   "version": "3.12.0"
  }
 },
 "nbformat": 4,
 "nbformat_minor": 2
}
