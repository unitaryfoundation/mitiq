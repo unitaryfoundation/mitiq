{
 "cells": [
  {
   "cell_type": "code",
   "execution_count": 6,
   "metadata": {},
   "outputs": [],
   "source": [
    "import json\n",
    "import jsonschema\n",
    "import random\n",
    "import itertools\n",
    "import numpy as np\n",
    "from jsonschema import validate\n",
    "from qiskit import transpile\n",
    "from qiskit_aer import AerSimulator\n",
    "from qiskit_aer.noise import NoiseModel, ReadoutError, depolarizing_error\n",
    "from qiskit.circuit.random import random_circuit\n",
    "from mitiq import zne, ddd\n",
    "from mitiq.zne.scaling.folding import fold_global, fold_gates_at_random, fold_all\n",
    "from mitiq.zne.scaling.layer_scaling import get_layer_folding\n",
    "from mitiq.zne.scaling.identity_insertion import insert_id_layers\n",
    "from mitiq.benchmarks.ghz_circuits import generate_ghz_circuit"
   ]
  },
  {
   "cell_type": "markdown",
   "metadata": {},
   "source": [
    "# ZNE:"
   ]
  },
  {
   "cell_type": "code",
   "execution_count": 7,
   "metadata": {},
   "outputs": [],
   "source": [
    "# Load Schema:\n",
    "\n",
    "def load(schema_path):\n",
    "    with open(schema_path, 'r') as file:\n",
    "        return json.load(file)\n",
    "    \n",
    "zne_schema =load('./schema/zne_schema.json')"
   ]
  },
  {
   "cell_type": "code",
   "execution_count": 34,
   "metadata": {},
   "outputs": [],
   "source": [
    "# Create a test \"batch\" experiment:\n",
    "\n",
    "zne_batch_test = {\"noise_scaling_factors\": [[1, 1.25, 1.5], [1,2,3], [2,4,6]],        # Noise scaling values\n",
    "    \"noise_scaling_method\": [\"global\"],                                               # Folding method\n",
    "    \"extrapolation\": [\"polynomial\", \"linear\"],                                        # Extrapolation method\n",
    "    }"
   ]
  },
  {
   "cell_type": "markdown",
   "metadata": {},
   "source": [
    "## Deconstructing a Batch Dictionary:"
   ]
  },
  {
   "cell_type": "code",
   "execution_count": 35,
   "metadata": {},
   "outputs": [],
   "source": [
    "# Create single experiments from batch object:\n",
    "\n",
    "# Define a function to make all combinations of experiments from a \"batch dictionary\" which should be formatted like the test case above\n",
    "def make_experiment_list(batch_dict):\n",
    "\n",
    "    # Initialize empty list where we will append each new experiment\n",
    "    exp_list = []\n",
    "\n",
    "    # Make list with all combinations of key values from our \"batch dictionary\"\n",
    "    combo_list = list(itertools.product(batch_dict['noise_scaling_factors'], \n",
    "                                        batch_dict['noise_scaling_method'], \n",
    "                                        batch_dict['extrapolation']))\n",
    "    # Iterate over the list\n",
    "    for k in range(len(combo_list)):\n",
    "\n",
    "        # Initialize single experiment dictionary with keys\n",
    "        exp = {x: set() for x in ['noise_scaling_factors', 'noise_scaling_method', 'extrapolation']}\n",
    "\n",
    "        # Map each key to its unique value from our list of combinations\n",
    "        exp['noise_scaling_factors'] = combo_list[k][0]\n",
    "        exp['noise_scaling_method'] = combo_list[k][1]\n",
    "        exp['extrapolation'] = combo_list[k][2]\n",
    "\n",
    "        # Pull out each experiment\n",
    "        exp_list.append(exp)\n",
    "\n",
    "    # Returns a list of experiments\n",
    "    return exp_list"
   ]
  },
  {
   "cell_type": "code",
   "execution_count": 36,
   "metadata": {},
   "outputs": [
    {
     "data": {
      "text/plain": [
       "[{'noise_scaling_factors': [1, 1.25, 1.5],\n",
       "  'noise_scaling_method': 'global',\n",
       "  'extrapolation': 'polynomial'},\n",
       " {'noise_scaling_factors': [1, 1.25, 1.5],\n",
       "  'noise_scaling_method': 'global',\n",
       "  'extrapolation': 'linear'},\n",
       " {'noise_scaling_factors': [1, 2, 3],\n",
       "  'noise_scaling_method': 'global',\n",
       "  'extrapolation': 'polynomial'},\n",
       " {'noise_scaling_factors': [1, 2, 3],\n",
       "  'noise_scaling_method': 'global',\n",
       "  'extrapolation': 'linear'},\n",
       " {'noise_scaling_factors': [2, 4, 6],\n",
       "  'noise_scaling_method': 'global',\n",
       "  'extrapolation': 'polynomial'},\n",
       " {'noise_scaling_factors': [2, 4, 6],\n",
       "  'noise_scaling_method': 'global',\n",
       "  'extrapolation': 'linear'}]"
      ]
     },
     "execution_count": 36,
     "metadata": {},
     "output_type": "execute_result"
    }
   ],
   "source": [
    "# Implementing our function using the test case defined above:\n",
    "\n",
    "make_experiment_list(zne_batch_test)"
   ]
  },
  {
   "cell_type": "markdown",
   "metadata": {},
   "source": [
    "## Validating a batch of experiments:"
   ]
  },
  {
   "cell_type": "code",
   "execution_count": 37,
   "metadata": {},
   "outputs": [],
   "source": [
    "# Validate each experiment in our batch object:\n",
    "\n",
    "# Create function that takes in a batch dictionary and schema to validate against\n",
    "def batch_validate(batch_dict, schema):\n",
    "\n",
    "    # Initialize empty list for validation results\n",
    "    validation_results = []\n",
    "\n",
    "    # Create list of experiments\n",
    "    formatted_batch = make_experiment_list(batch_dict)\n",
    "\n",
    "    # Iterate over list of experiments and individually validate\n",
    "    for k in formatted_batch:\n",
    "        try:\n",
    "            validate(instance=k, schema=schema)\n",
    "            result = \"validation passed\"\n",
    "        except jsonschema.exceptions.ValidationError as e:\n",
    "            result = \"validation failed\"\n",
    "\n",
    "        # Pull out validation results\n",
    "        validation_results.append(result)\n",
    "        \n",
    "    return validation_results"
   ]
  },
  {
   "cell_type": "code",
   "execution_count": 38,
   "metadata": {},
   "outputs": [
    {
     "data": {
      "text/plain": [
       "['validation passed',\n",
       " 'validation passed',\n",
       " 'validation passed',\n",
       " 'validation passed',\n",
       " 'validation passed',\n",
       " 'validation passed']"
      ]
     },
     "execution_count": 38,
     "metadata": {},
     "output_type": "execute_result"
    }
   ],
   "source": [
    "# Implementing our batch validate function using the same test case:\n",
    "\n",
    "batch_validate(zne_batch_test, zne_schema)"
   ]
  },
  {
   "cell_type": "markdown",
   "metadata": {},
   "source": [
    "## Creating Noise Models:"
   ]
  },
  {
   "cell_type": "code",
   "execution_count": 39,
   "metadata": {},
   "outputs": [],
   "source": [
    "# Making a thermal noise model using IonQ T1, T2 parameters:\n",
    "\n",
    "from qiskit_aer.noise import (NoiseModel, thermal_relaxation_error)\n",
    "\n",
    "def thermal_relaxation_noise_ionq(N):                                     \n",
    "    \n",
    "    # T1 and T2 values for qubits 0-N\n",
    "    T1s = np.random.normal(1.1e10, 0.2e10, N)  # Sampled N values from normal dist, w/ mean = 1.1e10, std = 2e9 us, (converted to ns)\n",
    "    T2s = np.random.normal(2e8, 0.2e8, N)      # Sampled N values from normal dist, w/ mean = 2e5, std = 2e4 us (converted to ns)\n",
    "\n",
    "    # Instruction times (in nanoseconds)\n",
    "    time_ones = 1000   \n",
    "\n",
    "    noise_thermal = NoiseModel(basis_gates=['h', 'x', 'y', 'z', 'cx'])               # Initialize noise model w ansatz gates\n",
    "\n",
    "    # QuantumError objects\n",
    "    errors_ones  = [thermal_relaxation_error(t1, t2, time_ones)            # Make tuples of errors for rx, rz gates \n",
    "                for t1, t2 in zip(T1s, T2s)]\n",
    "    \n",
    "    # Apply error to all qubits in circuit from randomly sampled parameters\n",
    "    for j in range(N):\n",
    "        noise_thermal.add_quantum_error(errors_ones[j], \"h\", [j])\n",
    "        noise_thermal.add_quantum_error(errors_ones[j], \"x\", [j])\n",
    "        noise_thermal.add_quantum_error(errors_ones[j], \"y\", [j])\n",
    "        noise_thermal.add_quantum_error(errors_ones[j], \"z\", [j])\n",
    "                \n",
    "    sim_noise = AerSimulator(noise_model=noise_thermal)\n",
    "    return sim_noise, noise_thermal"
   ]
  },
  {
   "cell_type": "code",
   "execution_count": 40,
   "metadata": {},
   "outputs": [],
   "source": [
    "# Ella's basic noise model:\n",
    "\n",
    "def basic_noise(n_qubits, prob=0.005):\n",
    "\n",
    "    noise_model = NoiseModel()\n",
    "\n",
    "    for i in range(n_qubits):\n",
    "        readout_err = ReadoutError([[0.99, 0.01], [0.2, 0.8]])\n",
    "        noise_model.add_readout_error(readout_err, [i])\n",
    "        \n",
    "    depolarizing_err1 = depolarizing_error(prob, num_qubits=1)\n",
    "    depolarizing_err2 = depolarizing_error(prob, num_qubits=2)\n",
    "    noise_model.add_all_qubit_quantum_error(depolarizing_err1, ['h', 'x', 'y', 'z'])\n",
    "    noise_model.add_all_qubit_quantum_error(depolarizing_err2, ['cx'])\n",
    "\n",
    "    return noise_model"
   ]
  },
  {
   "cell_type": "markdown",
   "metadata": {},
   "source": [
    "## Defining the Executor & Batch Executor:"
   ]
  },
  {
   "cell_type": "code",
   "execution_count": 41,
   "metadata": {},
   "outputs": [],
   "source": [
    "# Single experiment executor (very slightly modified from Ella's):\n",
    "\n",
    "def execute(circuit, noise_model='basic'):       # Set noise_model to thermal, basic, noiseless\n",
    "    circ = circuit.copy()\n",
    "    circ.measure_all()\n",
    "    num_qubits = circ.num_qubits\n",
    "\n",
    "    if noise_model == 'thermal':\n",
    "        backend = thermal_relaxation_noise_ionq(num_qubits)[0]\n",
    "    elif noise_model == 'basic':\n",
    "        backend = AerSimulator(noise_model=basic_noise(num_qubits))\n",
    "    elif noise_model == 'noiseless':\n",
    "        backend = AerSimulator()\n",
    "    \n",
    "    #backend = AerSimulator(noise_model=noise_model)\n",
    "    transpiled_circuit = transpile(circ, optimization_level=0, backend=backend)\n",
    "\n",
    "    results = backend.run(transpiled_circuit, optimization_level=0, shots=1000).result()\n",
    "    counts = results.get_counts(transpiled_circuit)\n",
    "\n",
    "    total_shots = sum(counts.values())\n",
    "    probabilities = {state: count / total_shots for state, count in counts.items()}\n",
    "\n",
    "    expectation_value = probabilities['0'*num_qubits]+probabilities['1'*num_qubits]\n",
    "    return expectation_value"
   ]
  },
  {
   "cell_type": "code",
   "execution_count": 42,
   "metadata": {},
   "outputs": [],
   "source": [
    "# Adjusting Ella's mapping functionality:\n",
    "\n",
    "noise_scaling_map = {\n",
    "    \"global\": fold_global,\n",
    "    \"local_random\": fold_gates_at_random,\n",
    "    \"local_all\": fold_all,\n",
    "    \"layer\": get_layer_folding,\n",
    "    \"identity_scaling\": insert_id_layers\n",
    "}\n",
    "\n",
    "def extrapolation_map(single_exp):\n",
    "    ex_map = {\n",
    "        \"linear\": zne.inference.LinearFactory(scale_factors=single_exp['noise_scaling_factors']),\n",
    "        \"richardson\": zne.inference.RichardsonFactory(scale_factors=single_exp['noise_scaling_factors']),\n",
    "        \"polynomial\": zne.inference.PolyFactory(scale_factors=single_exp['noise_scaling_factors'], order=2),\n",
    "        \"exponential\": zne.inference.ExpFactory(scale_factors=single_exp['noise_scaling_factors']),\n",
    "        \"poly-exp\": zne.inference.PolyExpFactory(scale_factors=single_exp['noise_scaling_factors'], order=1),\n",
    "        \"adaptive-exp\": zne.inference.AdaExpFactory(scale_factor=single_exp['noise_scaling_factors'][1], steps=4, asymptote=None), \n",
    "    }\n",
    "    return ex_map[single_exp['extrapolation']]"
   ]
  },
  {
   "cell_type": "code",
   "execution_count": 43,
   "metadata": {},
   "outputs": [],
   "source": [
    "# Batch execute function to return list of expectation values:\n",
    "\n",
    "def batch_execute(batch_dict, circuit, executor):\n",
    "\n",
    "    # Define list of experiments\n",
    "    formatted_batch = make_experiment_list(batch_dict)\n",
    "\n",
    "    # Initialize list to append expectation values into\n",
    "    exp_val_list = []\n",
    "\n",
    "    # Iterate over each experiment\n",
    "    for k in formatted_batch:\n",
    "        exp_val = zne.execute_with_zne(circuit=circuit, executor=executor, factory=extrapolation_map(k), \n",
    "                                       scale_noise=noise_scaling_map[k['noise_scaling_method']])\n",
    "        \n",
    "        # Pull out expectation values\n",
    "        exp_val_list.append(exp_val)\n",
    "    \n",
    "    return exp_val_list"
   ]
  },
  {
   "cell_type": "markdown",
   "metadata": {},
   "source": [
    "## Testing:"
   ]
  },
  {
   "cell_type": "code",
   "execution_count": 44,
   "metadata": {},
   "outputs": [
    {
     "name": "stdout",
     "output_type": "stream",
     "text": [
      "     ┌───┐     ┌───┐┌───┐               \n",
      "q_0: ┤ H ├──■──┤ X ├┤ X ├───────────────\n",
      "     └───┘┌─┴─┐└───┘├───┤┌───┐┌───┐┌───┐\n",
      "q_1: ─────┤ X ├──■──┤ X ├┤ X ├┤ Y ├┤ Y ├\n",
      "          └───┘┌─┴─┐├───┤├───┤└───┘└───┘\n",
      "q_2: ──────────┤ X ├┤ Y ├┤ Y ├──────────\n",
      "               └───┘└───┘└───┘          \n"
     ]
    }
   ],
   "source": [
    "# Making a 3-qubit test GHZ circuit:\n",
    "\n",
    "n = 3\n",
    "ghz_circ = generate_ghz_circuit(n, return_type='qiskit')\n",
    "\n",
    "ghz_circ.x([0,1])\n",
    "ghz_circ.x([0,1])\n",
    "ghz_circ.y([1,2])\n",
    "ghz_circ.y([1,2])\n",
    "\n",
    "print(ghz_circ)"
   ]
  },
  {
   "cell_type": "code",
   "execution_count": 45,
   "metadata": {},
   "outputs": [
    {
     "name": "stdout",
     "output_type": "stream",
     "text": [
      "ideal EV:  1.0\n",
      "unmitigated noisy EV:  0.721\n"
     ]
    }
   ],
   "source": [
    "print('ideal EV: ', execute(ghz_circ, noise_model='noiseless'))\n",
    "print('unmitigated noisy EV: ', execute(ghz_circ, noise_model='basic'))"
   ]
  },
  {
   "cell_type": "code",
   "execution_count": 46,
   "metadata": {},
   "outputs": [
    {
     "name": "stdout",
     "output_type": "stream",
     "text": [
      "Experiment 1 Mitigated Expectation Value: 0.7759999999999967\n",
      "Experiment 2 Mitigated Expectation Value: 0.7123333333333339\n",
      "Experiment 3 Mitigated Expectation Value: 0.790999999999999\n",
      "Experiment 4 Mitigated Expectation Value: 0.7943333333333336\n",
      "Experiment 5 Mitigated Expectation Value: 0.663999999999999\n",
      "Experiment 6 Mitigated Expectation Value: 0.7863333333333338\n"
     ]
    }
   ],
   "source": [
    "exp_results = batch_execute(zne_batch_test, ghz_circ, execute)\n",
    "\n",
    "for k in np.arange(1,7):\n",
    "    print(\"Experiment\", k, \"Mitigated Expectation Value:\", exp_results[k-1])"
   ]
  },
  {
   "cell_type": "code",
   "execution_count": null,
   "metadata": {},
   "outputs": [],
   "source": []
  }
 ],
 "metadata": {
  "kernelspec": {
   "display_name": "Python 3",
   "language": "python",
   "name": "python3"
  },
  "language_info": {
   "codemirror_mode": {
    "name": "ipython",
    "version": 3
   },
   "file_extension": ".py",
   "mimetype": "text/x-python",
   "name": "python",
   "nbconvert_exporter": "python",
   "pygments_lexer": "ipython3",
   "version": "3.11.0"
  }
 },
 "nbformat": 4,
 "nbformat_minor": 2
}
